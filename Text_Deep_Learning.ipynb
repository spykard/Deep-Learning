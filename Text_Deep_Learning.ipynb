{
  "nbformat": 4,
  "nbformat_minor": 0,
  "metadata": {
    "colab": {
      "name": "Text_Deep_Learning.ipynb",
      "provenance": [],
      "collapsed_sections": [
        "U0A5sddZXEJ4",
        "alnczQ9if68e"
      ],
      "toc_visible": true
    },
    "kernelspec": {
      "name": "python3",
      "display_name": "Python 3"
    },
    "accelerator": "GPU"
  },
  "cells": [
    {
      "cell_type": "markdown",
      "metadata": {
        "id": "zNONFRCwckat"
      },
      "source": [
        "## Base Code"
      ]
    },
    {
      "cell_type": "markdown",
      "metadata": {
        "id": "a4SV90uyrkVM"
      },
      "source": [
        "### Prerequisites\n",
        "\n",
        "Python 3.6+ is required because of certain performance optimization steps, such as the use of f-strings.  \n",
        "GPU usage is required, e.g. the LSTM layers are specific CuDNN ones."
      ]
    },
    {
      "cell_type": "code",
      "metadata": {
        "id": "zG_VtnVo7wgr",
        "colab": {
          "base_uri": "https://localhost:8080/"
        },
        "outputId": "953957b8-6c69-406a-c181-7f756b46a96a"
      },
      "source": [
        "### Parameters ###\n",
        "%tensorflow_version 1.x  # Set the tensorflow version\n",
        "use_google_drive = True #@param {type:\"boolean\"}\n",
        "gpu_fraction_usage = 0.9 #@param {type:\"slider\", min:0, max:1, step:0.1}\n",
        "###            ###\n",
        "\n",
        "# Upgrade gensim package\n",
        "!pip install gensim --upgrade --quiet\n",
        "\n",
        "# Connect to Google Drive via the bundled client which is the simplest out of many approaches\n",
        "if use_google_drive == True:\n",
        "    from google.colab import drive\n",
        "    drive.mount('/content/gdrive')\n",
        "\n",
        "# GPU usage settings for Tensorflow backend\n",
        "from tensorflow import ConfigProto, Session\n",
        "from keras import backend as K\n",
        "if K.backend() == \"tensorflow\":\n",
        "    from keras.backend.tensorflow_backend import set_session\n",
        "    config = ConfigProto()\n",
        "    config.gpu_options.allow_growth = True\n",
        "    config.gpu_options.per_process_gpu_memory_fraction = gpu_fraction_usage\n",
        "    set_session(Session(config=config))\n",
        "else:\n",
        "    raise ValueError(\"Keras is not using the 'tensorflow' backend\")"
      ],
      "execution_count": 1,
      "outputs": [
        {
          "output_type": "stream",
          "text": [
            "`%tensorflow_version` only switches the major version: 1.x or 2.x.\n",
            "You set: `1.x  # Set the tensorflow version`. This will be interpreted as: `1.x`.\n",
            "\n",
            "\n",
            "TensorFlow 1.x selected.\n",
            "\u001b[K     |████████████████████████████████| 24.2MB 136kB/s \n",
            "\u001b[?25hMounted at /content/gdrive\n"
          ],
          "name": "stdout"
        },
        {
          "output_type": "stream",
          "text": [
            "Using TensorFlow backend.\n"
          ],
          "name": "stderr"
        }
      ]
    },
    {
      "cell_type": "markdown",
      "metadata": {
        "id": "D4gscjCDrsK_"
      },
      "source": [
        "### Preprocessing"
      ]
    },
    {
      "cell_type": "code",
      "metadata": {
        "id": "2Ih7BEO27wgz"
      },
      "source": [
        "from keras.datasets import imdb\n",
        "from keras.preprocessing.sequence import pad_sequences\n",
        "from keras.preprocessing.text import Tokenizer\n",
        "from keras.models import Sequential, load_model\n",
        "from keras.layers import Dense, Embedding, LSTM, CuDNNLSTM, Bidirectional, Dropout \n",
        "from keras.layers import SimpleRNN, GRU, GlobalAveragePooling1D, Conv1D, Flatten\n",
        "from keras.layers import BatchNormalization\n",
        "from keras.optimizers import Adam, SGD, Adagrad\n",
        "from keras.callbacks import Callback, EarlyStopping, ModelCheckpoint\n",
        "from keras.utils import plot_model, np_utils\n",
        "from gensim.models import Word2Vec, KeyedVectors\n",
        "from sklearn.preprocessing import LabelEncoder\n",
        "from sklearn.model_selection import train_test_split\n",
        "from sklearn.metrics import confusion_matrix\n",
        "from seaborn import heatmap\n",
        "###            ###\n",
        "import numpy as np\n",
        "import pandas as pd\n",
        "import time\n",
        "import math\n",
        "import os\n",
        "import matplotlib.pyplot as plt\n",
        "###            ###\n",
        "import random\n",
        "from tensorflow import set_random_seed\n",
        "\n",
        "### Parameters ###\n",
        "random_state = 22 #@param {type:\"slider\", min:0, max:100, step:1}\n",
        "dataset_name = \"SemEval-2017 Task 4\" #@param [\"IMDb Large Movie Review Dataset\", \"Movie Review Subjectivity Dataset\", \"Movie Review Polarity Dataset\", \"SCH Dataset\", \"Finegrained Sentiment Dataset\", \"SemEval-2017 Task 4\"]\n",
        "feature_count = 15000 #@param {type:\"slider\", min:0, max:140000, step:5000}\n",
        "###            ###\n",
        "\n",
        "# Reproducibility\n",
        "random.seed(random_state)  # Python's seed\n",
        "np.random.seed(random_state)  # Numpy's seed\n",
        "set_random_seed(random_state)  # Tensorflow's seed\n",
        "\n",
        "def load_dataset():\n",
        "    ''' Dataset Loading '''\n",
        "    if dataset_name == \"IMDb Large Movie Review Dataset\":\n",
        "        (train_data, train_labels), (test_data, test_labels) = imdb.load_data(seed=random_state, num_words=feature_count)\n",
        "\n",
        "    elif dataset_name == \"Movie Review Subjectivity Dataset\":\n",
        "        data = [\"\" for i in range(10000)]\n",
        "        labels = [\"\" for i in range(10000)]\n",
        "        count = 0\n",
        "        with open('./gdrive/My Drive/Colab Datasets/Movie Review Subjectivity Dataset/plot.tok.gt9.5000', 'r', encoding='iso-8859-15') as file:\n",
        "            for line in file:\n",
        "                data[count] = line.rstrip('\\n')\n",
        "                labels[count] = 0\n",
        "                count += 1\n",
        "        with open('./gdrive/My Drive/Colab Datasets/Movie Review Subjectivity Dataset/quote.tok.gt9.5000', 'r', encoding='iso-8859-15') as file:\n",
        "            for line in file:\n",
        "                data[count] = line.rstrip('\\n')\n",
        "                labels[count] = 1\n",
        "                count += 1   \n",
        "        train_data, test_data, train_labels, test_labels = train_test_split(data, labels, test_size=0.1, random_state=random_state, shuffle=True)   \n",
        "        del data, labels\n",
        "\n",
        "    elif dataset_name == \"Movie Review Polarity Dataset\":\n",
        "        data = [\"\" for i in range(10662)]\n",
        "        labels = [\"\" for i in range(10662)]\n",
        "        count = 0\n",
        "        with open('./gdrive/My Drive/Colab Datasets/Movie Review Polarity Dataset/rt-polarity.neg', 'r', encoding='iso-8859-15') as file:\n",
        "            for line in file:\n",
        "                data[count] = line.rstrip('\\n')\n",
        "                labels[count] = 0\n",
        "                count += 1\n",
        "        with open('./gdrive/My Drive/Colab Datasets/Movie Review Polarity Dataset/rt-polarity.pos', 'r', encoding='iso-8859-15') as file:\n",
        "            for line in file:\n",
        "                data[count] = line.rstrip('\\n')\n",
        "                labels[count] = 1\n",
        "                count += 1    \n",
        "        train_data, test_data, train_labels, test_labels = train_test_split(data, labels, test_size=0.1, random_state=random_state, shuffle=True)  \n",
        "\n",
        "    elif dataset_name == \"SCH Dataset\":\n",
        "        df1 = pd.read_csv('./gdrive/My Drive/Colab Datasets/SCH Dataset/final_data_q13.csv', delimiter=\"|\", header=None)\n",
        "        df2 = pd.read_csv('./gdrive/My Drive/Colab Datasets/SCH Dataset/final_data_q14.csv', delimiter=\"|\", header=None)\n",
        "        df3 = pd.read_csv('./gdrive/My Drive/Colab Datasets/SCH Dataset/final_data_q15.csv', delimiter=\"|\", header=None)\n",
        "        df4 = pd.read_csv('./gdrive/My Drive/Colab Datasets/SCH Dataset/final_data_q16.csv', delimiter=\"|\", header=None)\n",
        "\n",
        "        df =  df1.append([df2, df3, df4], ignore_index=True)\n",
        "        df.rename(columns={0: \"Labels\", 1: \"Data_GR\", 2: \"Data_ENG\"}, inplace=True)\n",
        "        df.dropna(0, inplace=True)    \n",
        "        df[\"Labels\"] = df.apply(lambda row: row['Labels'] if isinstance(row['Labels'], str)==True else str(int(row['Labels'])), axis=1)\n",
        "        df = df.sample(frac=1., random_state=random_state).reset_index(drop=True)\n",
        "\n",
        "        print(f\"--Dataset Info:\\n{df.describe(include='all')}\\n\\n{df.head(4)}\\n\\n{df.iloc[:,0].value_counts()}\\n--\\n\")                  \n",
        "        \n",
        "        train_data, test_data, train_labels, test_labels = train_test_split(df.loc[:,\"Data_ENG\"].values, df.loc[:,\"Labels\"].values, test_size=0.1, random_state=random_state, shuffle=True)\n",
        "\n",
        "    elif dataset_name == \"Finegrained Sentiment Dataset\":\n",
        "        data = [[] for i in range(294)]\n",
        "        labels = [\"\" for i in range(294)]\n",
        "        count = 0\n",
        "        with open('./gdrive/My Drive/Colab Datasets/Finegrained Sentiment Dataset/finegrained.txt', 'r', encoding='iso-8859-15') as file:\n",
        "            for line in file:\n",
        "                if len(line.split(\"_\")) == 3:\n",
        "                    labels[count] = line.split(\"_\")[1]                  \n",
        "                elif len(line.strip()) == 0:\n",
        "                    data[count] = ' '.join(data[count])\n",
        "                    count += 1\n",
        "                else:\n",
        "                    temp = [x.strip() for x in line.split(\"\\t\")]\n",
        "                    if len(temp[1]) > 1:\n",
        "                        # \"nr\" label is ignored\n",
        "                        if temp[0] in [\"neg\", \"neu\", \"pos\", \"mix\"]:\n",
        "                            data[count].append(temp[0])              \n",
        "        \n",
        "        encoder = LabelEncoder()\n",
        "        encoder.fit(labels)\n",
        "        labels = encoder.transform(labels)\n",
        "\n",
        "        train_data, test_data, train_labels, test_labels = train_test_split(data, labels, test_size=0.1, random_state=random_state, shuffle=True)   \n",
        "        del data, labels \n",
        "\n",
        "    elif dataset_name == \"SemEval-2017 Task 4\": \n",
        "        data = [\"\" for i in range(53570)]\n",
        "        labels = [\"\" for i in range(53570)]\n",
        "        count = 0\n",
        "\n",
        "        data_path = \"./gdrive/My Drive/Colab Datasets/SemEval-2017 Task 4/GOLD/Subtask_A\"    \n",
        "        data_dir_list = os.listdir(data_path)\n",
        "        for data_file in data_dir_list:\n",
        "            if data_file.endswith(\".tsv\"):\n",
        "                print(f\"Loaded Subset {data_file}\")\n",
        "                with open(data_path + '/' + data_file, 'r', encoding='utf-8') as file:\n",
        "                    for line in file:\n",
        "                        line_split = line.rstrip('\\n').split('\\t')\n",
        "                        if len(line_split) >= 4:\n",
        "                            data[count] = line_split[3]\n",
        "                            labels[count] = line_split[2]\n",
        "                            count += 1                                       \n",
        "            elif data_file.endswith(\".txt\"):\n",
        "                print(f\"Loaded Subset {data_file}\")\n",
        "                with open(data_path + '/' + data_file, 'r', encoding='utf-8') as file:\n",
        "                    for line in file:\n",
        "                        line_split = line.rstrip('\\n').split('\\t')\n",
        "                        if len(line_split) >= 3:\n",
        "                            data[count] = line_split[2]\n",
        "                            labels[count] = line_split[1]\n",
        "                            count += 1               \n",
        "\n",
        "        encoder = LabelEncoder()\n",
        "        encoder.fit(labels)\n",
        "        labels = encoder.transform(labels)\n",
        "\n",
        "        train_data, test_data, train_labels, test_labels = train_test_split(data, labels, test_size=0.1, random_state=random_state, shuffle=True)  \n",
        "        del data, labels\n",
        "\n",
        "    else:\n",
        "        raise ValueError(f\"Dataset is not implemented yet\")\n",
        "\n",
        "    # Print Dataset Information\n",
        "    print(f\"{dataset_name} Loaded. Training entries: {len(train_data)}, labels: {len(train_labels)}\")\n",
        "    for i in range(4): print(train_data[i], train_labels[i])\n",
        "    print()\n",
        "\n",
        "    return train_data, test_data, train_labels, test_labels"
      ],
      "execution_count": 33,
      "outputs": []
    },
    {
      "cell_type": "code",
      "metadata": {
        "id": "gwo6jCo37wg6"
      },
      "source": [
        "# NLP Functions\n",
        "def imdb_specific_word_index():\n",
        "    ''' A dictionary mapping words to an integer index '''\n",
        "    word_index = imdb.get_word_index()\n",
        "\n",
        "    # The first indices are reserved\n",
        "    word_index = {k:(v+3) for k,v in word_index.items()}\n",
        "    #word_index[\"<PAD>\"] = 0  # not inserting this key makes the word_index have the same length as in non-IMDb datasets, i.e. for 20000 features we end up with a length of 19999\n",
        "    word_index[\"<START>\"] = 1\n",
        "    word_index[\"<UNK>\"] = 2  # unknown/OOV word\n",
        "    word_index[\"<UNUSED>\"] = 3\n",
        "\n",
        "    reverse_word_index = dict([(value, key) for (key, value) in word_index.items()])\n",
        "    \n",
        "    return word_index, reverse_word_index\n",
        "    \n",
        "def other_datasets_word_index(tokenizer):\n",
        "    ''' A dictionary mapping words to an integer index '''\n",
        "    word_index = tokenizer.word_index\n",
        "    \n",
        "    reverse_word_index = dict([(value, key) for (key, value) in word_index.items()])\n",
        "    \n",
        "    return word_index, reverse_word_index\n",
        "\n",
        "def reduce_word_index_features(word_index, reverse_word_index, train_data):\n",
        "    ''' Update the word index from its generic version to one that matches the number of features we selected '''\n",
        "    word_index = {k: v for k, v in word_index.items() if v < feature_count} \n",
        "    reverse_word_index = {k: v for k, v in reverse_word_index.items() if k < feature_count} \n",
        "\n",
        "    print(\"\\n\".join([decode_review(instance, reverse_word_index, mode=\"join\") for instance in train_data[0:4]]))\n",
        "\n",
        "    return word_index, reverse_word_index\n",
        "\n",
        "def sequence_padding(train_data, test_data, embeddings_sequence_length):\n",
        "    train_data = pad_sequences(train_data,\n",
        "                               padding='pre',  # Using 'pre' instead of 'post' on truncating leads to higher accuracy\n",
        "                               truncating='pre',\n",
        "                               maxlen=embeddings_sequence_length)\n",
        "\n",
        "    test_data = pad_sequences(test_data,\n",
        "                              padding='pre',\n",
        "                              truncating='pre',\n",
        "                              maxlen=embeddings_sequence_length)\n",
        "    \n",
        "    return train_data, test_data   \n",
        "\n",
        "def print_dataset_length_stats(train_data):        \n",
        "    maxim = 0\n",
        "    total = 0\n",
        "    count = 0\n",
        "    for i in train_data:\n",
        "        length = len(i)\n",
        "        if length > maxim:\n",
        "            maxim = length\n",
        "        count += 1\n",
        "        total += length\n",
        "    print(f\"General stats regarding the length of instances of the dataset (to help choose embeddings_sequence_length) - avg:{total/count:.2f} max:{maxim}\\n\")   \n",
        "\n",
        "def decode_review(text, reverse_word_index, mode):\n",
        "    if mode == \"join\":\n",
        "        return ' '.join([reverse_word_index.get(i, '?') for i in text])\n",
        "    else:\n",
        "        return [reverse_word_index.get(i, '?') for i in text]\n",
        "\n",
        "def encode_review(text, word_index):\n",
        "    text = text.split()\n",
        "    return [word_index.get(i, 2) for i in text]  # \"2\" refers to unknown/OOV word        "
      ],
      "execution_count": 3,
      "outputs": []
    },
    {
      "cell_type": "markdown",
      "metadata": {
        "id": "HCFF9vWhvURq"
      },
      "source": [
        "**Regarding Word2Vec, Embeddings and Google Drive**\n",
        "\n",
        "Converting the Word2Vec bin file to a text file of bigger size is even worse since we are using Google Drive.  \n",
        "Ideally the Google Drive file must be as small as possible because the bottleneck is caused by Download Speed not by the loading process itself.\n",
        "\n",
        "Location: USA  \n",
        "Download: 134.43 Mbit/s  \n",
        "Upload: 178.00 Mbit/s\n",
        "\n",
        "Load time for the zipped file is 170 to 293 seconds.\n",
        "\n",
        "---\n",
        "\n",
        "So here is a great idea: download the file from Drive to Colab [[1](https://stackoverflow.com/questions/48735600/file-download-from-google-drive-to-colaboratory)] [[2](https://medium.freecodecamp.org/how-to-transfer-large-files-to-google-colab-and-remote-jupyter-notebooks-26ca252892fa)] at the very start so that we can maintain access for the entire Runtime.\n",
        "\n",
        "Download time is 73 to 80 seconds.\n",
        "\n",
        "---\n",
        "\n",
        "**Regarding alternatives of Word2Vec**\n",
        "\n",
        "FastText is simply Word2Vec with subword n-grams but requires more RAM and training time\n",
        "\n",
        "---\n",
        "\n",
        "**Regarding simple Word2Vec similarity examples (line 25)**\n",
        "\n",
        "Other than the 3.6GB of RAM that we are using to load the Word2Vec embeddings, we can use simple similarity examples on the model to ensure its working will lead to an extra 3.6GB being used [[1](https://stackoverflow.com/questions/50478046/memory-error-when-using-gensim-for-loading-word2vec)] [[2](https://github.com/RaRe-Technologies/gensim/issues/293#issuecomment-175026483)].  \n",
        "\"I can load the model fine, and can retrieve the word vectors of words fine, but it seems to explode just when I try to access similarity-related functions (including 'doesn't match') etc.\"  \n",
        "\n",
        "If you want to enable the similarity examples, change line 25."
      ]
    },
    {
      "cell_type": "code",
      "metadata": {
        "id": "kl5HwN6M7wg_"
      },
      "source": [
        "# Word Embeddings Functions\n",
        "def load_word2vec_pretrained():  \n",
        "    ''' Loads word2vec files from Google Drive, which are used later on '''\n",
        "    time_counter = time.time()\n",
        "    print(f\"Downloading data from Google Drive to Colab hard drive...\")\n",
        "    !mkdir my_data\n",
        "    !cp -i '/content/gdrive/My Drive/Colab Datasets/GoogleNews-vectors-negative300.bin.gz' '/content/my_data/GoogleNews-vectors-negative300.bin.gz'\n",
        "    print(f\"Download completed in {time.time()-time_counter:.2f}sec, displaying information\")\n",
        "    !ls '/content/my_data' -l --block-size=MB\n",
        "\n",
        "    time_counter = time.time()\n",
        "    print(f\"Loading file...\")\n",
        "    word2vec = KeyedVectors.load_word2vec_format('/content/my_data/GoogleNews-vectors-negative300.bin.gz', binary=True, unicode_errors='strict')    \n",
        "    print(f\"Loading completed in {time.time()-time_counter:.2f}sec\")\n",
        "    \n",
        "    # Download, Unzip, Convert from bin to text file, Upload\n",
        "    # word2vec = gzip.open('/content/gdrive/My Drive/Colab Datasets/GoogleNews-vectors-negative300.bin.gz', 'rb')\n",
        "    # word2vec.save_word2vec_format('/content/gdrive/My Drive/Colab Datasets/GoogleNews-vectors-negative300.txt', binary=False)\n",
        "    # word2vec_text_mode = KeyedVectors.load_word2vec_format('/content/gdrive/My Drive/Colab Datasets/GoogleNews-vectors-negative300.txt')    \n",
        "    \n",
        "    dog = word2vec['dog']\n",
        "    print(f\"\\nWord2Vec Embeddings Dimension: {dog.shape}\")\n",
        "    print(f\"Example Values: {dog[:10]}\")\n",
        "    \n",
        "    if False:\n",
        "        # Some predefined functions that show content related information for given words\n",
        "        print(f\"Test 1: {word2vec.most_similar(positive=['woman', 'king'], negative=['man'])}\")\n",
        "        print(f\"Test 2: {word2vec.most_similar('hyundai', topn=10)}\")\n",
        "        print(f\"Test 3: {word2vec.doesnt_match('breakfast cereal dinner lunch'.split())}\")  # Raises Warning\n",
        "        print(f\"Test 4: {word2vec.similarity('woman', 'man')}\")\n",
        "    else:\n",
        "        print(f\"Examples of Word2Vec and similarity function usage won't be run in order to preserve RAM.\\n\")\n",
        "        \n",
        "    return word2vec\n",
        "\n",
        "def find_common_words(embeddings_vocab, original_vocab):\n",
        "    ''' Find words in common between two vocabularies '''\n",
        "    return set(filter(lambda x: x in embeddings_vocab, original_vocab))  # filter is not a good format, if the variable is used once it becomes empty (i.e. a generator), use set instead\n",
        "\n",
        "def find_oov_words(embeddings_vocab, original_vocab):\n",
        "    ''' Find words not in common between two vocabularies (OOV words) '''\n",
        "    return set(filter(lambda x: x not in embeddings_vocab, original_vocab))  # filter is not a good format, if the variable is used once it becomes empty (i.e. a generator), use set instead\n",
        "\n",
        "def manage_oov_words(embeddings, vocab):\n",
        "    ''' Find words in common, meaning the remaining words are out-of-vocabulary (OOV) ones '''\n",
        "    words_oov = find_oov_words(embeddings.vocab, vocab)  # Find words in common, meaning the remaining words are out-of-vocabulary (OOV) ones\n",
        "    print(f\"Impossible to remove all occurances of {len(words_oov)} words since time complexity would be too high. Out-of-vocabulary words will be kept and will be assigned vectors...\")\n",
        "    if len(words_oov) >= 3:\n",
        "        to_print = iter(words_oov)\n",
        "        print(f\"Some examples: {next(to_print)}, {next(to_print)}, {next(to_print)}\")\n",
        "    \n",
        "    #encoding_oov = [vocab[word] for word in words_oov]\n",
        "    #for instance in data_container:\n",
        "        #[word for word in instance if word not in encoding_oov]  # looking up a set is the absolute fastest in python\n",
        "\n",
        "def assign_embeddings(embeddings, embeddings_dimension, vocab, mode):\n",
        "    ''' Create an embeddings (weight) matrix for the Embedding layer from a loaded embedding ''' \n",
        "    words_in_common = find_common_words(embeddings.vocab, vocab)\n",
        "    words_oov = find_oov_words(embeddings.vocab, vocab)  # Find words in common, meaning the remaining words are out-of-vocabulary (OOV) ones\n",
        "    print(f\"Number of vocabulary words that cannot be found in the Word2Vec embeddings: {len(words_oov)}\")  \n",
        "    \n",
        "    # \"Total vocabulary size plus 0 for unknown words 'len(vocab) + 1\" is not entirely true, the index of 0 is simply not used leading to, for example a length of 19999 for 20000 features:\n",
        "    vocab_size = len(vocab) + 1\n",
        "    # Initialize the weight matrix with 0s\n",
        "    embed_final_matrix = np.zeros((vocab_size, embeddings_dimension))\n",
        "    # Store vectors using an integer mapping, for example from the Tokenizer\n",
        "    \n",
        "    if mode == \"zeros\":\n",
        "        for word in words_in_common:\n",
        "            embed_final_matrix[vocab[word]] = embeddings[word]\n",
        "    elif mode == \"random\":\n",
        "        np.random.seed(random_state)\n",
        "        for word, i in vocab.items():\n",
        "            if word in words_oov:\n",
        "                embed_final_matrix[i] = np.random.uniform(low=-0.5, high=0.5, size=embeddings_dimension)\n",
        "            else:\n",
        "                embed_final_matrix[i] = embeddings[word]\n",
        "    else:\n",
        "        raise ValueError(f\"{mode} is not a valid mode parameter.\")\n",
        "    \n",
        "    print(f\"Embeddings assignment completed.\\n\")      \n",
        "    return embed_final_matrix"
      ],
      "execution_count": 4,
      "outputs": []
    },
    {
      "cell_type": "markdown",
      "metadata": {
        "id": "cyPF2xpUK-C9"
      },
      "source": [
        "### Preprocessing Run"
      ]
    },
    {
      "cell_type": "code",
      "metadata": {
        "id": "NeUcmuIq7whK",
        "colab": {
          "base_uri": "https://localhost:8080/"
        },
        "outputId": "2e861999-6165-47a0-d8d3-6c6d22afbfe3"
      },
      "source": [
        "### Parameters ###\n",
        "remove_first = False #@param {type:\"boolean\"}\n",
        "embeddings_mode = \"One-hot Encoding\" #@param [\"One-hot Encoding\", \"Tokenizing\", \"Word2Vec Pretrained\", \"Word2Vec Training\"]\n",
        "embeddings_sequence_length = 50 #@param {type:\"integer\"}\n",
        "trainable = False #@param {type:\"boolean\"}\n",
        "outofvocab_mode = \"random\" #@param [\"zeros\", \"random\"]\n",
        "###            ###\n",
        "\n",
        "# Load Dataset\n",
        "train_data, test_data, train_labels, test_labels = load_dataset()\n",
        "print_dataset_length_stats(train_data)\n",
        "\n",
        "# Remove the <START> symbol from all instances\n",
        "if remove_first == True:\n",
        "    if train_data[0][0] == 1:  # word_index[\"<START>\"] = 1\n",
        "        for i in range(len(train_data)):\n",
        "            train_data[i] = train_data[i][1:]\n",
        "        for i in range(len(test_data)):\n",
        "            test_data[i] = test_data[i][1:]\n",
        "\n",
        "# Create the Embeddings            \n",
        "if embeddings_mode == \"One-hot Encoding\":  \n",
        "    ''' \n",
        "        ONE-HOT ENCODING\n",
        "        Description: Not traditional One-hot, but instead [3, 62, 5, 90, ...] \n",
        "        Embedding_Layer: Yes\n",
        "    '''   \n",
        "    if dataset_name != \"IMDb Large Movie Review Dataset\":  # keras.imdb is already One-hot Encoded\n",
        "        tokenizer = Tokenizer(num_words=feature_count, \n",
        "                              lower=True, \n",
        "                              split=' ', \n",
        "                              oov_token=\"<UNK>\")\n",
        "        tokenizer.fit_on_texts(train_data)\n",
        "        # 'texts_to_sequences' list of strings as input and sequence of integers as output, 'texts_to_matrix' is meant to return a matrix of counts/tf-idfs\n",
        "        train_data = tokenizer.texts_to_sequences(train_data)\n",
        "        test_data = tokenizer.texts_to_sequences(test_data)   \n",
        "    \n",
        "    # Word_Index Stuff\n",
        "    if dataset_name == \"IMDb Large Movie Review Dataset\":  # keras.imdb is already One-hot Encoded\n",
        "        word_index, reverse_word_index = imdb_specific_word_index()\n",
        "    else:\n",
        "        word_index, reverse_word_index = other_datasets_word_index(tokenizer)\n",
        "\n",
        "    word_index, reverse_word_index = reduce_word_index_features(word_index, reverse_word_index, train_data)  # Update the word index to match the number of features we selected       \n",
        "  \n",
        "    # Peform Sequence Padding\n",
        "    train_data, test_data = sequence_padding(train_data, test_data, embeddings_sequence_length)\n",
        "\n",
        "elif embeddings_mode == \"Tokenizing\":  \n",
        "    ''' \n",
        "        TOKENIZING\n",
        "        Description: Unlike other modes this isn't exactly an embedding, leads to a collection of floats [0.00, 0.02, 0.12, 0.04, ...] based on tf-idf \n",
        "        Embedding_Layer: No\n",
        "    '''    \n",
        "    if dataset_name == \"IMDb Large Movie Review Dataset\":  # keras.imdb is already One-hot Encoded so let's transform it back to text\n",
        "        word_index, reverse_word_index = imdb_specific_word_index()\n",
        "        train_data = [decode_review(instance, reverse_word_index, mode=\"join\") for instance in train_data]\n",
        "        test_data = [decode_review(instance, reverse_word_index, mode=\"join\") for instance in test_data]\n",
        "    \n",
        "    tokenizer = Tokenizer(num_words=feature_count, \n",
        "                          lower=True, \n",
        "                          split=' ', \n",
        "                          )\n",
        "    tokenizer.fit_on_texts(train_data)\n",
        "    # 'texts_to_matrix' list of strings as input, 'sequences_to_matrix' list of integer word indices as input \n",
        "    train_data = tokenizer.texts_to_matrix(train_data, mode='tfidf')\n",
        "    test_data = tokenizer.texts_to_matrix(test_data, mode='tfidf')\n",
        "\n",
        "elif embeddings_mode == \"Word2Vec Pretrained\":\n",
        "    ''' \n",
        "        WORD2VEC PRETRAINED\n",
        "        Description: A much more advanced form of embeddings that is created through training a model unlike previous modes. Implements the CBOW and the Skip-gram models in order to learn word embeddings.\n",
        "        Embedding_Layer: Yes\n",
        "    '''\n",
        "    word2vec = load_word2vec_pretrained()  # This line can be commented out, if it was already loaded in the current session\n",
        "    embeddings_dimension = word2vec.vector_size\n",
        "    \n",
        "    if dataset_name != \"IMDb Large Movie Review Dataset\":  # keras.imdb is already One-hot Encoded\n",
        "        tokenizer = Tokenizer(num_words=feature_count, \n",
        "                              lower=True, \n",
        "                              split=' ', \n",
        "                              oov_token=\"<UNK>\")\n",
        "        tokenizer.fit_on_texts(train_data)\n",
        "        # 'texts_to_sequences' list of strings as input and sequence of integers as output, 'texts_to_matrix' is meant to return a matrix of counts/tf-idfs\n",
        "        train_data = tokenizer.texts_to_sequences(train_data)\n",
        "        test_data = tokenizer.texts_to_sequences(test_data)   \n",
        "    \n",
        "    # Word_Index Stuff\n",
        "    if dataset_name == \"IMDb Large Movie Review Dataset\":  # keras.imdb is already One-hot Encoded\n",
        "        word_index, reverse_word_index = imdb_specific_word_index()\n",
        "    else:\n",
        "        word_index, reverse_word_index = other_datasets_word_index(tokenizer)\n",
        "\n",
        "    word_index, reverse_word_index = reduce_word_index_features(word_index, reverse_word_index, train_data)  # Update the word index to match the number of features we selected       \n",
        "\n",
        "    # Peform Sequence Padding  \n",
        "    train_data, test_data = sequence_padding(train_data, test_data, embeddings_sequence_length)\n",
        "   \n",
        "    manage_oov_words(word2vec, word_index)\n",
        "    embedding_vectors = assign_embeddings(word2vec, embeddings_dimension, word_index, mode=outofvocab_mode)\n",
        "\n",
        "elif embeddings_mode == \"Word2Vec Training\":\n",
        "    ''' \n",
        "        Description: A much more advanced form of embeddings that is created through training a model unlike previous modes. Implements the CBOW and the Skip-gram models in order to learn word embeddings.\n",
        "        Embedding_Layer: Yes\n",
        "    '''\n",
        "    if dataset_name != \"IMDb Large Movie Review Dataset\":  # keras.imdb is already One-hot Encoded so let's transform it back to text\n",
        "        tokenizer = Tokenizer(num_words=feature_count, \n",
        "                              lower=True, \n",
        "                              split=' ', \n",
        "                              oov_token=\"<UNK>\")\n",
        "        tokenizer.fit_on_texts(train_data)\n",
        "        # 'texts_to_sequences' list of strings as input and sequence of integers as output, 'texts_to_matrix' is meant to return a matrix of counts/tf-idfs\n",
        "        train_data = tokenizer.texts_to_sequences(train_data)\n",
        "        test_data = tokenizer.texts_to_sequences(test_data)  \n",
        "        \n",
        "    # Word_Index Stuff\n",
        "    if dataset_name == \"IMDb Large Movie Review Dataset\":  # keras.imdb is already One-hot Encoded so let's transform it back to text\n",
        "        word_index, reverse_word_index = imdb_specific_word_index()\n",
        "    else:\n",
        "        word_index, reverse_word_index = other_datasets_word_index(tokenizer)\n",
        "\n",
        "    word_index, reverse_word_index = reduce_word_index_features(word_index, reverse_word_index, train_data)  # Update the word index to match the number of features we selected       \n",
        "      \n",
        "    # Train a Model\n",
        "    time_counter = time.time()    \n",
        "    print(f\"\\nTraining a new custom Word2Vec model on the dataset...\")\n",
        "    word2vec = Word2Vec([decode_review(instance, reverse_word_index, mode=\"don't join\") for instance in train_data],  # Default is 5 epochs \n",
        "                         size=300, sg=0, window=5, min_count=1, iter=5,\n",
        "                         seed=random_state, alpha=0.025, workers=4)\n",
        "    embeddings_dimension = word2vec.wv.vector_size\n",
        "    print(f\"Training completed in {time.time()-time_counter:.2f}sec. Vocabulary size: {len(word2vec.wv.vocab)}\\n\")  \n",
        "\n",
        "    # Peform Sequence Padding  \n",
        "    train_data, test_data = sequence_padding(train_data, test_data, embeddings_sequence_length)\n",
        "    \n",
        "    manage_oov_words(word2vec.wv, word_index)   \n",
        "    embedding_vectors = assign_embeddings(word2vec.wv, embeddings_dimension, word_index, mode=outofvocab_mode)    \n",
        "    \n",
        "    # If we want to store the model\n",
        "    #if False:\n",
        "    #    model.wv.save_word2vec_format(\"My_Word2Vec.txt\", binary=False)    \n",
        "\n",
        "# Print the resulting instances       \n",
        "for i in range(4): print(type(train_data[i]), list(train_data[i]))"
      ],
      "execution_count": 5,
      "outputs": [
        {
          "output_type": "stream",
          "text": [
            "Loaded Subset sms-2013test-A.tsv\n",
            "Loaded Subset livejournal-2014test-A.tsv\n",
            "Loaded Subset twitter-2016devtest-A.txt\n",
            "Loaded Subset twitter-2016dev-A.txt\n",
            "Loaded Subset twitter-2016train-A.txt\n",
            "Loaded Subset twitter-2013dev-A.txt\n",
            "Loaded Subset twitter-2013test-A.txt\n",
            "Loaded Subset twitter-2013train-A.txt\n",
            "Loaded Subset twitter-2014test-A.txt\n",
            "Loaded Subset twitter-2015test-A.txt\n",
            "Loaded Subset twitter-2015train-A.txt\n",
            "Loaded Subset twitter-2014sarcasm-A.txt\n",
            "Loaded Subset twitter-2016test-A.txt\n",
            "SemEval-2017 Task 4 Loaded. Training entries: 48213, labels: 48213\n",
            "cant wait to see the iPad HD .. 2\n",
            "@DebsODo: @lex_looper might want to double check your Saudi Arabia info on this one. 1. https://t.co/sToO95DdWt 2. https://t.co/T9j1IOsD3X 1\n",
            "@Pixe1ina getting more people who never would have touched a Dark SOuls in the 1st place 1\n",
            "@curtismufc10 Well Curtis... you also NEED a night out in Thompsons .... need a Sunday night session again soon bro!!!!! 2\n",
            "\n",
            "General stats regarding the length of instances of the dataset (to help choose embeddings_sequence_length) - avg:113.49 max:338\n",
            "\n",
            "cant wait to see the ipad hd\n",
            "<UNK> <UNK> looper might want to double check your saudi arabia info on this one 1 https t co <UNK> 2 https t co <UNK>\n",
            "<UNK> getting more people who never would have touched a dark souls in the 1st place\n",
            "<UNK> well curtis you also need a night out in <UNK> need a sunday night session again soon bro\n",
            "<class 'numpy.ndarray'> [0, 0, 0, 0, 0, 0, 0, 0, 0, 0, 0, 0, 0, 0, 0, 0, 0, 0, 0, 0, 0, 0, 0, 0, 0, 0, 0, 0, 0, 0, 0, 0, 0, 0, 0, 0, 0, 0, 0, 0, 0, 0, 0, 745, 140, 3, 42, 2, 768, 2288]\n",
            "<class 'numpy.ndarray'> [0, 0, 0, 0, 0, 0, 0, 0, 0, 0, 0, 0, 0, 0, 0, 0, 0, 0, 0, 0, 0, 0, 0, 0, 0, 1, 1, 9451, 267, 85, 3, 1045, 275, 71, 635, 769, 1167, 9, 26, 58, 92, 37, 6, 8, 1, 61, 37, 6, 8, 1]\n",
            "<class 'numpy.ndarray'> [0, 0, 0, 0, 0, 0, 0, 0, 0, 0, 0, 0, 0, 0, 0, 0, 0, 0, 0, 0, 0, 0, 0, 0, 0, 0, 0, 0, 0, 0, 0, 0, 0, 0, 1, 244, 110, 158, 98, 197, 115, 25, 5124, 7, 577, 697, 5, 2, 47, 225]\n",
            "<class 'numpy.ndarray'> [0, 0, 0, 0, 0, 0, 0, 0, 0, 0, 0, 0, 0, 0, 0, 0, 0, 0, 0, 0, 0, 0, 0, 0, 0, 0, 0, 0, 0, 0, 0, 1, 139, 508, 15, 195, 163, 7, 41, 38, 5, 1, 163, 7, 51, 41, 1677, 171, 466, 1337]\n"
          ],
          "name": "stdout"
        }
      ]
    },
    {
      "cell_type": "code",
      "metadata": {
        "id": "yxp-o330wt9U",
        "colab": {
          "base_uri": "https://localhost:8080/"
        },
        "outputId": "0e7ebff4-f323-4b66-e19a-dc47717b5889"
      },
      "source": [
        "# In case of Multi-Class Classification, labels must be One-hot Encoded\n",
        "if len(set(train_labels)) > 2:\n",
        "    train_labels = np_utils.to_categorical(train_labels)\n",
        "    test_labels = np_utils.to_categorical(test_labels)\n",
        "    multiclass = True\n",
        "    print(f\"The current task is: Multi-clas Classification. Labels converted to One-hot Encoding.\")  \n",
        "else:\n",
        "    multiclass = False    \n",
        "    print(f\"The current task is: Binary Classification\")    "
      ],
      "execution_count": 7,
      "outputs": [
        {
          "output_type": "stream",
          "text": [
            "The current task is: Multi-clas Classification. Labels converted to One-hot Encoding.\n"
          ],
          "name": "stdout"
        }
      ]
    },
    {
      "cell_type": "markdown",
      "metadata": {
        "id": "xHf4bh6UIT8a"
      },
      "source": [
        "### Training"
      ]
    },
    {
      "cell_type": "code",
      "metadata": {
        "id": "oo08HBNi7whY",
        "colab": {
          "base_uri": "https://localhost:8080/"
        },
        "outputId": "e542c2ef-8982-456d-e3a8-9cf54fac139a"
      },
      "source": [
        "# For Multi-class tasks in particular, the following changes need to be performed\n",
        "# 1. Dense(1), the value of 1 on the final layer refers to the number of categories\n",
        "# 2. activation = \"softmax\"\n",
        "# 3. loss = \"categorical_crossentropy\" https://stackoverflow.com/a/46038271\n",
        "\n",
        "if embeddings_mode == \"Tokenizing\":\n",
        "    model = Sequential()\n",
        "    model.add(Dense(units=16, input_shape=(feature_count,)))  # when Embedding layer is not used, the first layer must include the input_shape parameter which refers to the vocabulary/feature size\n",
        "    model.add(Dense(units=16, activation='relu', use_bias=True))\n",
        "    model.add(Dense(units=16, activation='relu', use_bias=True))\n",
        "    model.add(Dense(1, activation='sigmoid'))\n",
        "\n",
        "elif embeddings_mode == \"One-hot Encoding\":\n",
        "    model = Sequential()\n",
        "    model.add(Embedding(input_dim=feature_count, output_dim=16, input_length=embeddings_sequence_length))    \n",
        "    model.add(GlobalAveragePooling1D()) \n",
        "    model.add(Dense(units=16, activation='relu', use_bias=True))\n",
        "    model.add(Dense(units=16, activation='relu', use_bias=True))\n",
        "    model.add(Dense(1, activation='sigmoid'))\n",
        "\n",
        "elif embeddings_mode == \"Word2Vec Pretrained\" or embeddings_mode == \"Word2Vec Training\":  # Word2Vec Embeddings\n",
        "    model = Sequential()\n",
        "    model.add(Embedding(input_dim=feature_count, output_dim=embeddings_dimension, weights=[embedding_vectors], input_length=embeddings_sequence_length, trainable=trainable))\n",
        "    model.add(GlobalAveragePooling1D())\n",
        "    model.add(Dense(units=32, activation='relu', use_bias=True))\n",
        "    model.add(Dense(units=32, activation='relu', use_bias=True))\n",
        "    model.add(Dense(1, activation='sigmoid'))\n",
        "\n",
        "model.summary()\n",
        "\n",
        "model.compile(optimizer=Adam(lr=0.0005),\n",
        "              loss='binary_crossentropy',\n",
        "              metrics=['accuracy'])"
      ],
      "execution_count": null,
      "outputs": [
        {
          "output_type": "stream",
          "text": [
            "WARNING:tensorflow:From /tensorflow-1.15.2/python3.6/tensorflow_core/python/ops/resource_variable_ops.py:1630: calling BaseResourceVariable.__init__ (from tensorflow.python.ops.resource_variable_ops) with constraint is deprecated and will be removed in a future version.\n",
            "Instructions for updating:\n",
            "If using Keras pass *_constraint arguments to layers.\n",
            "Model: \"sequential_1\"\n",
            "_________________________________________________________________\n",
            "Layer (type)                 Output Shape              Param #   \n",
            "=================================================================\n",
            "embedding_1 (Embedding)      (None, 50, 16)            240000    \n",
            "_________________________________________________________________\n",
            "global_average_pooling1d_1 ( (None, 16)                0         \n",
            "_________________________________________________________________\n",
            "dense_1 (Dense)              (None, 16)                272       \n",
            "_________________________________________________________________\n",
            "dense_2 (Dense)              (None, 16)                272       \n",
            "_________________________________________________________________\n",
            "dense_3 (Dense)              (None, 1)                 17        \n",
            "=================================================================\n",
            "Total params: 240,561\n",
            "Trainable params: 240,561\n",
            "Non-trainable params: 0\n",
            "_________________________________________________________________\n",
            "WARNING:tensorflow:From /tensorflow-1.15.2/python3.6/tensorflow_core/python/ops/nn_impl.py:183: where (from tensorflow.python.ops.array_ops) is deprecated and will be removed in a future version.\n",
            "Instructions for updating:\n",
            "Use tf.where in 2.0, which has the same broadcast rule as np.where\n"
          ],
          "name": "stdout"
        }
      ]
    },
    {
      "cell_type": "code",
      "metadata": {
        "id": "ItAKl8fSqIhu",
        "colab": {
          "base_uri": "https://localhost:8080/",
          "height": 487
        },
        "outputId": "d65e5649-5bb0-4f46-a9b0-7014c2e72675"
      },
      "source": [
        "plot_model(model, show_shapes=True, show_layer_names=True, dpi=72)"
      ],
      "execution_count": null,
      "outputs": [
        {
          "output_type": "execute_result",
          "data": {
            "image/png": "[encoded data removed]",
            "text/plain": [
              "<IPython.core.display.Image object>"
            ]
          },
          "metadata": {
            "tags": []
          },
          "execution_count": 8
        }
      ]
    },
    {
      "cell_type": "markdown",
      "metadata": {
        "id": "qorXCi0nLKFx"
      },
      "source": [
        "### Training Run"
      ]
    },
    {
      "cell_type": "code",
      "metadata": {
        "id": "HScBiexx7whg",
        "colab": {
          "base_uri": "https://localhost:8080/"
        },
        "outputId": "08a5986d-fbbb-49c4-bf1b-5d53c7cb2b04"
      },
      "source": [
        "### Parameters ###\n",
        "batch_size = 256 #@param {type:\"integer\"}\n",
        "epochs = 4 #@param {type:\"slider\", min:0, max:100, step:1}\n",
        "validation_split = 0.2 #@param {type:\"slider\", min:0, max:1, step:0.1}\n",
        "###            ###\n",
        "\n",
        "history = model.fit(x=train_data,\n",
        "                    y=train_labels,\n",
        "                    batch_size=batch_size,\n",
        "                    epochs=epochs,\n",
        "                    validation_split=validation_split,\n",
        "                    verbose=1)"
      ],
      "execution_count": null,
      "outputs": [
        {
          "output_type": "stream",
          "text": [
            "WARNING:tensorflow:From /tensorflow-1.15.2/python3.6/keras/backend/tensorflow_backend.py:422: The name tf.global_variables is deprecated. Please use tf.compat.v1.global_variables instead.\n",
            "\n",
            "Train on 20000 samples, validate on 5000 samples\n",
            "Epoch 1/4\n",
            "20000/20000 [==============================] - 2s 106us/step - loss: 0.6916 - accuracy: 0.5582 - val_loss: 0.6870 - val_accuracy: 0.7078\n",
            "Epoch 2/4\n",
            "20000/20000 [==============================] - 0s 15us/step - loss: 0.6722 - accuracy: 0.7556 - val_loss: 0.6513 - val_accuracy: 0.7664\n",
            "Epoch 3/4\n",
            "20000/20000 [==============================] - 0s 15us/step - loss: 0.6061 - accuracy: 0.8011 - val_loss: 0.5666 - val_accuracy: 0.7844\n",
            "Epoch 4/4\n",
            "20000/20000 [==============================] - 0s 16us/step - loss: 0.4984 - accuracy: 0.8269 - val_loss: 0.4764 - val_accuracy: 0.7984\n"
          ],
          "name": "stdout"
        }
      ]
    },
    {
      "cell_type": "code",
      "metadata": {
        "id": "TlcbXYIs4T1l",
        "colab": {
          "base_uri": "https://localhost:8080/",
          "height": 430
        },
        "outputId": "35eab6e4-b2fd-4ddf-e86b-d43d4e494069"
      },
      "source": [
        "# Evaluation Phase\n",
        "results = model.evaluate(test_data, test_labels)\n",
        "print()\n",
        "\n",
        "for i in range(len(model.metrics_names)):\n",
        "    if model.metrics_names[i] == \"acc\":\n",
        "        print(f\"Metric - {model.metrics_names[i]}: {results[i]*100:.3f}\")\n",
        "    else:\n",
        "        print(f\"Metric - {model.metrics_names[i]}: {results[i]}\")  \n",
        "\n",
        "if multiclass == False: \n",
        "    predictions = [1 * (x[0]>=0.5) for x in model.predict(test_data)]\n",
        "    cm = confusion_matrix(test_labels, predictions)\n",
        "else:    \n",
        "    predictions = np.argmax(model.predict(test_data), axis=1)\n",
        "    cm = confusion_matrix(test_labels.argmax(axis=1), predictions)\n",
        "print()\n",
        "print(cm)\n",
        "\n",
        "heatmap(cm, fmt=\"g\", annot=True, square=True, cmap=plt.cm.Blues)\n",
        "plt.tight_layout()\n",
        "plt.ylabel('True label')\n",
        "plt.xlabel('Predicted label')\n",
        "plt.show()"
      ],
      "execution_count": null,
      "outputs": [
        {
          "output_type": "stream",
          "text": [
            "25000/25000 [==============================] - 1s 39us/step\n",
            "\n",
            "Metric - loss: 0.4777265968418121\n",
            "Metric - accuracy: 0.8029199838638306\n",
            "\n",
            "[[ 9707  2793]\n",
            " [ 2134 10366]]\n"
          ],
          "name": "stdout"
        },
        {
          "output_type": "display_data",
          "data": {
            "image/png": "[encoded data removed]",
            "text/plain": [
              "<Figure size 432x288 with 2 Axes>"
            ]
          },
          "metadata": {
            "tags": [],
            "needs_background": "light"
          }
        }
      ]
    },
    {
      "cell_type": "markdown",
      "metadata": {
        "id": "tAGmRQq3ukdo"
      },
      "source": [
        "## Model Analysis"
      ]
    },
    {
      "cell_type": "markdown",
      "metadata": {
        "id": "U0A5sddZXEJ4"
      },
      "source": [
        "### Model Analysis: Out-of-Vocabulary (OOV) words in Embeddings\n",
        "\n",
        "Obviously, assigning all OOV words the same \"UNK\" vector will decrease performance [[1](https://stackoverflow.com/questions/45495190/initializing-out-of-vocabulary-oov-tokens)].\n",
        "\n",
        "Other ideas:\n",
        "- Simply remove all OOV words; too high time complexity.\n",
        "- Assign the average of its surrounding words [[2](https://stackoverflow.com/questions/41517969/how-to-get-random-word2vec-vector-for-unknow-word)], but that would require running through the entire dataset and performing calculations, thus too high time complexity.\n",
        "- Assign a unique random vector (uniform -0.5 to 0.5) to each word  [[1](https://stackoverflow.com/questions/45495190/initializing-out-of-vocabulary-oov-tokens)].\n",
        "\n",
        "| Approach (Using LSTM, 10 epochs) | Trainable On/Off | Performance |\n",
        "| - | - | - | \n",
        "| Pretrained, All OOV words set to a vector of zeros | False | 85.420 |\n",
        "| Pretrained, All OOV words set to a vector of zeros | True | 87.500 |\n",
        "| Pretrained, Each OOV word set to a unique random vector | False | 84.608 |\n",
        "| Pretrained, Each OOV word set to a unique random vector | True | 87.568 |\n",
        "| My own custom Word2Vec and use random vectors for OOV | False | 86.004 |\n",
        "| My own custom Word2Vec and use random vectors for OOV | True | 87.612 |"
      ]
    },
    {
      "cell_type": "markdown",
      "metadata": {
        "id": "alnczQ9if68e"
      },
      "source": [
        "### Model Analysis: **Overfitting**"
      ]
    },
    {
      "cell_type": "code",
      "metadata": {
        "id": "DwOsGSNJ7whz",
        "colab": {
          "base_uri": "https://localhost:8080/"
        },
        "outputId": "6b61ecf6-4151-4d2f-c5b7-8d2f887674b3"
      },
      "source": [
        "def plot_model_history():\n",
        "    plt.clf()  # clear figure\n",
        "\n",
        "    plt.style.use('ggplot')\n",
        "\n",
        "    acc = history.history['accuracy']\n",
        "    val_acc = history.history['val_accuracy']\n",
        "    loss = history.history['loss']\n",
        "    val_loss = history.history['val_loss']\n",
        "    epochs = range(1, len(acc) + 1)\n",
        "\n",
        "    plt.figure(figsize=(14, 4))\n",
        "    plt.subplot(1, 2, 1)\n",
        "    plt.plot(epochs, acc, 'b', label='Training acc')\n",
        "    plt.plot(epochs, val_acc, 'g', label='Validation acc')\n",
        "    plt.title('Training and validation accuracy')\n",
        "    plt.legend()\n",
        "    plt.subplot(1, 2, 2)\n",
        "    plt.plot(epochs, loss, 'bo', label='Training loss')\n",
        "    plt.plot(epochs, val_loss, 'g', label='Validation loss')\n",
        "    plt.title('Training and validation loss')\n",
        "    plt.legend()\n",
        "    plt.show()\n",
        "\n",
        "print(history.history.keys())    \n",
        "plot_model_history()"
      ],
      "execution_count": null,
      "outputs": [
        {
          "output_type": "stream",
          "text": [
            "dict_keys(['val_loss', 'val_accuracy', 'loss', 'accuracy'])\n"
          ],
          "name": "stdout"
        },
        {
          "output_type": "display_data",
          "data": {
            "text/plain": [
              "<Figure size 432x288 with 0 Axes>"
            ]
          },
          "metadata": {
            "tags": []
          }
        },
        {
          "output_type": "display_data",
          "data": {
            "image/png": "[encoded data removed]",
            "text/plain": [
              "<Figure size 1008x288 with 2 Axes>"
            ]
          },
          "metadata": {
            "tags": []
          }
        }
      ]
    },
    {
      "cell_type": "markdown",
      "metadata": {
        "id": "wTyPYITNYDw0"
      },
      "source": [
        "After a certain number of Epochs the line continues to improve for the training data but does not for the validation data. This is a result of **overfiting**. After that point, the model over-optimizes and learns representations specific to the training data.\n",
        "\n",
        "We should simply stop training after a certain epoch. To prevent overfitting, the best solution is to use more training data or reduce the number of parameters (capacity). A model trained on more data will naturally generalize better. When that is no longer possible, the next best solution is to use techniques like regularization - two common such techniques are weight regularization and dropout. Concluding, the most common way to prevent overfitting are:\n",
        "- Get more training data.\n",
        "- Reduce the capacity of the network.\n",
        "- Add weight regularization.\n",
        "- Add dropout."
      ]
    },
    {
      "cell_type": "markdown",
      "metadata": {
        "id": "beQ4rpC0codS"
      },
      "source": [
        "## Comparative Analysis of Parameters"
      ]
    },
    {
      "cell_type": "markdown",
      "metadata": {
        "id": "K-zfSDox4_U8"
      },
      "source": [
        "### Preprocessing Parameters\n",
        "\n",
        "Manually change the parameter at hand and note down the resulting accuracy. \n",
        "Remember that we can't use the test set since it is considered cheating (data leak). However, the parameters tested here are of very general scope so we will use the test set anyway. The following neural network structure was used:\n",
        "\n",
        "```\n",
        "elif embeddings_mode == \"One-hot Encoding\":\n",
        "    model = keras.Sequential()\n",
        "    model.add(Embedding(input_dim=feature_count, output_dim=16, input_length=embeddings_sequence_length))  \n",
        "    model.add(CuDNNLSTM(units=neurons))\n",
        "    model.add(Dropout(0.1, seed=random_state)) \n",
        "    ...\n",
        "    \n",
        "validation_split = 0.1\n",
        "```\n",
        "\n",
        "| Feature Count | Performance |\n",
        "| - | - |\n",
        "| 5000 | 86.456 |\n",
        "| 10000 | 87.048 |\n",
        "| 20000 | 86.868 |\n",
        "| 30000 | 86.504 |\n",
        "\n",
        "| Feature Count (Big Seq Length) | Performance |\n",
        "| - | - |\n",
        "| 10000 | 86.708 |\n",
        "| 20000 | 87.004 |\n",
        "| 30000 | 86.812 |\n",
        "\n",
        "| Embeddings Sequence Length | Performance |\n",
        "| - | - |\n",
        "| 64 | 81.88 |\n",
        "| 128 | 85.28 |\n",
        "| 256 | 87.388 |\n",
        "| 512 | 85.896 |\n",
        "\n",
        "| Remove First | Performance |\n",
        "| - | - |\n",
        "| True | 0.8664 |\n",
        "| False | 0.8691 |"
      ]
    },
    {
      "cell_type": "markdown",
      "metadata": {
        "id": "cy74T7xPgvou"
      },
      "source": [
        "### **Model** Parameters (Grid Search) \n",
        "\n",
        "Use GridSearchCV to automatically try all possible parameters combinations. Remember that we can't use the test set since it is considered cheating (data leak).\n",
        "\n",
        "| Parameter | Values | Best Performing |\n",
        "| - | - | - |\n",
        "| Batch Size | batch_size = [32, 64, 128, 256, 512, 1024] | (useless benchmark) curve with 128 being the peak, high deviation, big drop off at large values |\n",
        "| Epochs | epochs = [1, 2, 3, 5, 10] | (useless benchmark) curve with 3 being the peak |\n",
        "| Validation Set Split | validation_split = [0.0, 0.1, 0.25, 0.5] | the lower the better, 0.1 performs best |\n",
        "| Neurons | neurons = [8, 16, 32, 64] | the higher the better |\n",
        "| Embeddings Initializer | init_mode = ['uniform', 'lecun_uniform', 'normal', 'zero', 'glorot_normal', 'glorot_uniform', 'he_normal', 'he_uniform'] | 'uniform' 'normal' 'glorot_normal' 'he_normal' 'he_uniform' |\n",
        "| Activation Function | activation = ['softmax', 'softplus', 'softsign', 'relu', 'tanh', 'sigmoid', 'hard_sigmoid', 'linear'] | 'linear' 'relu' 'tanh' 'softsign'|\n",
        "| Optimizer | optimizer = ['Adam', 'SGD', 'RMSprop', 'Adagrad', 'Adadelta', 'Adamax', 'Nadam'] | 'Adam' 'Adagrad' 'Adamax' |\n",
        "\n",
        "Some General Information [[1](https://www.dlology.com/blog/how-to-choose-last-layer-activation-and-loss-function/)]:\n",
        "\n",
        "| Problem type | Last-layer activation | Loss function | Example |\n",
        "| - | - | - | - |\n",
        "| Binary classification | sigmoid | binary_crossentropy | Dog vs. cat, Sentiment analysis |\n",
        "| Multi-class, single-label classification | softmax | categorical_crossentropy | MNIST |\n",
        "| Multi-class, multi-label classification | sigmoid | binary_crossentropy | News tags classification, one blog can have multiple tags |\n",
        "| Regression to arbitrary values | None | mse | Predict house price (an integer/float) |\n",
        "| Regression to values between 0 and 1 | sigmoid | mse or binary_crossentropy | Engine health assessment where 0 is broken, 1 is new |"
      ]
    },
    {
      "cell_type": "code",
      "metadata": {
        "id": "GLK_rNemh0wb"
      },
      "source": [
        "### Parameters ###\n",
        "run_this_section = False #@param {type:\"boolean\"}\n",
        "###            ###\n",
        "\n",
        "if run_this_section == True:\n",
        "    from keras.wrappers.scikit_learn import KerasClassifier\n",
        "    from sklearn.model_selection import GridSearchCV\n",
        "\n",
        "    def create_model(neurons=16, init_mode='uniform', activation='relu', optimizer='Adam'):\n",
        "        model = Sequential()\n",
        "        model.add(Embedding(input_dim=feature_count, output_dim=16, input_length=embeddings_sequence_length))  \n",
        "        model.add(CuDNNLSTM(units=neurons))  # CuDNNLSTM: Tensorflow's default LSTM is awful at utilizing GPU/parallelization, [1] https://stackoverflow.com/a/47610747, [2] https://news.ycombinator.com/item?id=14538086\n",
        "        model.add(Dropout(0.1, seed=random_state))\n",
        "        model.add(Dense(units=neurons, activation=activation, use_bias=True))\n",
        "        model.add(Dense(1, activation='sigmoid'))  # the value of 1 doesn't refer to the neuron count, e.g. for multi-class it refers to the number of categories\n",
        "\n",
        "        model.compile(optimizer='Adam',\n",
        "                      #optimizer=keras.optimizers.Adam(lr=lr),\n",
        "                      loss='binary_crossentropy',\n",
        "                      metrics=['accuracy'])   \n",
        "        return model\n",
        "\n",
        "    param_grid = dict(batch_size = [128],\n",
        "                      epochs = [10],\n",
        "                      validation_split = [0.0],\n",
        "                      #neurons = [8, 16, 32, 64],\n",
        "                      #init_mode = ['uniform', 'lecun_uniform', 'normal', 'zero', 'glorot_normal', 'glorot_uniform', 'he_normal', 'he_uniform'],\n",
        "                      #activation = ['softmax', 'softplus', 'softsign', 'relu', 'tanh', 'sigmoid', 'hard_sigmoid', 'linear'],\n",
        "                      #kernel_constraint = [1, 2, 3, 4, 5],\n",
        "                      #optimizer = ['Adam', 'SGD', 'RMSprop', 'Adagrad', 'Adadelta', 'Adamax', 'Nadam'],\n",
        "                      #lr = [0.01, 0.001, 0.0005]\n",
        "                     )\n",
        "\n",
        "    # Make use of Keras' scikit-learn API, also supports the parameters of the 'fit', 'predict', 'predict_proba', and 'score' methods\n",
        "    model = KerasClassifier(build_fn=create_model, verbose=0)\n",
        "\n",
        "    grid = GridSearchCV(estimator=model, param_grid=param_grid, cv=4, verbose=1, n_jobs=-1)  # Where 'cv' is the number of cross-validation folds\n",
        "\n",
        "    grid_result = grid.fit(train_data, train_labels)\n",
        "\n",
        "    print(f\"\\n- - - - - BEST PARAMETERS - - - - -\")\n",
        "    print(f\"{grid_result.best_score_:.8f} using {grid_result.best_params_}\")\n",
        "\n",
        "    print(f\"\\n- - - - - DETAILS - - - - -\")\n",
        "    for i in range(len(grid_result.cv_results_['params'])):         \n",
        "        print(f\"mean - {grid_result.cv_results_['mean_test_score'][i]:.10f}; std - {grid_result.cv_results_['std_test_score'][i]:.10f} - {grid_result.cv_results_['params'][i]}\")"
      ],
      "execution_count": null,
      "outputs": []
    },
    {
      "cell_type": "markdown",
      "metadata": {
        "id": "KRVyRrAuCWrv"
      },
      "source": [
        "## Advanced Code\n"
      ]
    },
    {
      "cell_type": "markdown",
      "metadata": {
        "id": "43Gurxa0JZcC"
      },
      "source": [
        "### Code"
      ]
    },
    {
      "cell_type": "code",
      "metadata": {
        "id": "CEERonQcDfYS",
        "colab": {
          "base_uri": "https://localhost:8080/"
        },
        "outputId": "df1d752a-9348-4096-b548-b77d95b50715"
      },
      "source": [
        "# Adam print the weights when using decay\n",
        "def adam_weights_calculator(epochs=5):\n",
        "    '''\n",
        "        Prints the learning rate per epoch when using decay\n",
        "    '''\n",
        "    for i in range(epochs):\n",
        "        beta_1 = 0.9 \n",
        "        beta_2 = 0.999\n",
        "        lr = 0.001\n",
        "        decay = 0.01\n",
        "\n",
        "        lr = lr * (1. / (1. + decay * i))\n",
        "        t = i + 1\n",
        "        lr_t = lr * math.sqrt(1. - math.pow(beta_2, t)) / (1. - math.pow(beta_1, t))\n",
        "        print(f\"Adam LR on epoch {i+1}: {lr_t:.6f}\")\n",
        "\n",
        "adam_weights_calculator(5)"
      ],
      "execution_count": 6,
      "outputs": [
        {
          "output_type": "stream",
          "text": [
            "Adam LR on epoch 1: 0.000316\n",
            "Adam LR on epoch 2: 0.000233\n",
            "Adam LR on epoch 3: 0.000198\n",
            "Adam LR on epoch 4: 0.000178\n",
            "Adam LR on epoch 5: 0.000166\n"
          ],
          "name": "stdout"
        }
      ]
    },
    {
      "cell_type": "code",
      "metadata": {
        "id": "ABwHfx9ij2hy",
        "colab": {
          "base_uri": "https://localhost:8080/"
        },
        "outputId": "89d70743-193c-4ae5-e6c1-965d3c08e7eb"
      },
      "source": [
        "# For Multi-class tasks in particular, the following changes need to be performed\n",
        "# 1. Dense(1), the value of 1 on the final layer refers to the number of categories\n",
        "# 2. activation = \"softmax\"\n",
        "# 3. loss = \"categorical_crossentropy\" https://stackoverflow.com/a/46038271\n",
        "\n",
        "#model.add(CuDNNLSTM(units=128))  # CuDNNLSTM: Tensorflow's default LSTM is awful at utilizing GPU/parallelization, [1] https://stackoverflow.com/a/47610747, [2] https://news.ycombinator.com/item?id=14538086\n",
        "\n",
        "model = Sequential()\n",
        "model.add(Embedding(input_dim=feature_count, output_dim=100, input_length=embeddings_sequence_length))  \n",
        "#model.add(Embedding(input_dim=feature_count, output_dim=embeddings_dimension, weights=[embedding_vectors], input_length=embeddings_sequence_length, trainable=trainable))\n",
        "#model.add(Dropout(0.2, seed=random_state))  # Maybe remove the seed since it makes it biased\n",
        "#model.add(Conv1D(filters=250, kernel_size=3, padding='valid', activation='relu', strides=1))\n",
        "#model.add(GlobalAveragePooling1D())\n",
        "#model.add(Flatten())\n",
        "model.add(CuDNNLSTM(units=128, return_sequences=True))\n",
        "model.add(CuDNNLSTM(units=128, return_sequences=True))\n",
        "#model.add(MultiplicativeLSTM(units=128))\n",
        "model.add(CuDNNLSTM(units=128))\n",
        "#model.add(Flatten())\n",
        "#model.add(BatchNormalization())\n",
        "#model.add(CuDNNLSTM(units=60, kernel_regularizer=keras.regularizers.l2(0.00001)))\n",
        "model.add(Dropout(0.5, seed=random_state))  \n",
        "#model.add(Dense(units=128, activation='relu', use_bias=True))\n",
        "#model.add(Dense(units=128, activation='relu', use_bias=True))\n",
        "#model.add(Flatten())\n",
        "model.add(Dense(3, activation='softmax'))\n",
        "\n",
        "model.summary()\n",
        "\n",
        "model.compile(#optimizer=Adagrad(lr=0.005),\n",
        "              optimizer=Adam(lr=0.00005),  # 0.0005 or even better 0.00005\n",
        "              loss='categorical_crossentropy',\n",
        "              metrics=['accuracy'])\n",
        "\n",
        "early_stop = EarlyStopping(monitor='val_loss', mode='min', baseline=0.70, patience=3, verbose=1)\n",
        "model_save = ModelCheckpoint('./gdrive/My Drive/Colab Saved Models/best_model_text.h5', monitor='val_loss', mode='min', save_best_only=True)"
      ],
      "execution_count": 10,
      "outputs": [
        {
          "output_type": "stream",
          "text": [
            "Model: \"sequential_2\"\n",
            "_________________________________________________________________\n",
            "Layer (type)                 Output Shape              Param #   \n",
            "=================================================================\n",
            "embedding_2 (Embedding)      (None, 50, 100)           1500000   \n",
            "_________________________________________________________________\n",
            "cu_dnnlstm_4 (CuDNNLSTM)     (None, 50, 128)           117760    \n",
            "_________________________________________________________________\n",
            "cu_dnnlstm_5 (CuDNNLSTM)     (None, 50, 128)           132096    \n",
            "_________________________________________________________________\n",
            "cu_dnnlstm_6 (CuDNNLSTM)     (None, 128)               132096    \n",
            "_________________________________________________________________\n",
            "dropout_2 (Dropout)          (None, 128)               0         \n",
            "_________________________________________________________________\n",
            "dense_2 (Dense)              (None, 3)                 387       \n",
            "=================================================================\n",
            "Total params: 1,882,339\n",
            "Trainable params: 1,882,339\n",
            "Non-trainable params: 0\n",
            "_________________________________________________________________\n"
          ],
          "name": "stdout"
        }
      ]
    },
    {
      "cell_type": "code",
      "metadata": {
        "id": "1N4bJDWmj7z_",
        "colab": {
          "base_uri": "https://localhost:8080/",
          "height": 570
        },
        "outputId": "f66ff686-a7f4-4ca3-83df-c64dd57b0a61"
      },
      "source": [
        "plot_model(model, show_shapes=True, show_layer_names=True, dpi=72)"
      ],
      "execution_count": null,
      "outputs": [
        {
          "output_type": "execute_result",
          "data": {
            "image/png": "[encoded data removed]",
            "text/plain": [
              "<IPython.core.display.Image object>"
            ]
          },
          "metadata": {
            "tags": []
          },
          "execution_count": 15
        }
      ]
    },
    {
      "cell_type": "code",
      "metadata": {
        "id": "4Bczh_cgQ622",
        "colab": {
          "base_uri": "https://localhost:8080/"
        },
        "outputId": "7a159916-489c-48b2-9376-24a9daf67734"
      },
      "source": [
        "# Training Phase\n",
        "history = model.fit(x=train_data,\n",
        "                    y=train_labels,\n",
        "                    batch_size=128,\n",
        "                    epochs=20,\n",
        "                    validation_data=(test_data, test_labels),  \n",
        "                    # The above isn't really \"cheating\", it's the equivalent of trying different parameters manually till we find the best for the specific  \n",
        "                    # model we are building like research papers do.\n",
        "                    #validation_split=0.1,\n",
        "                    callbacks=[early_stop, model_save],\n",
        "                    verbose=1)\n",
        "\n",
        "model = load_model('./gdrive/My Drive/Colab Saved Models/best_model_text.h5')\n",
        "#model = load_model('best_model_text.h5', custom_objects={'MultiplicativeLSTM': MultiplicativeLSTM})  # Handling saved models changes if we are using custom (3rd-party) layers"
      ],
      "execution_count": 13,
      "outputs": [
        {
          "output_type": "stream",
          "text": [
            "Train on 48213 samples, validate on 5357 samples\n",
            "Epoch 1/20\n",
            "48213/48213 [==============================] - 6s 132us/step - loss: 0.6459 - accuracy: 0.7169 - val_loss: 0.8113 - val_accuracy: 0.6296\n",
            "Epoch 2/20\n",
            "48213/48213 [==============================] - 6s 120us/step - loss: 0.6136 - accuracy: 0.7355 - val_loss: 0.8367 - val_accuracy: 0.6338\n",
            "Epoch 3/20\n",
            "48213/48213 [==============================] - 6s 121us/step - loss: 0.5863 - accuracy: 0.7480 - val_loss: 0.8487 - val_accuracy: 0.6291\n",
            "Epoch 00003: early stopping\n"
          ],
          "name": "stdout"
        }
      ]
    },
    {
      "cell_type": "code",
      "metadata": {
        "id": "NZUXZS5IkBOj",
        "colab": {
          "base_uri": "https://localhost:8080/",
          "height": 447
        },
        "outputId": "8d86246b-465a-4918-a2cc-2cb45371d3fc"
      },
      "source": [
        "# Evaluation Phase\n",
        "results = model.evaluate(test_data, test_labels)\n",
        "print()\n",
        "\n",
        "for i in range(len(model.metrics_names)):\n",
        "    if model.metrics_names[i] == \"acc\":\n",
        "        print(f\"Metric of the best model - {model.metrics_names[i]}: {results[i]*100:.3f}\")\n",
        "    else:\n",
        "        print(f\"Metric of the best model - {model.metrics_names[i]}: {results[i]}\")  \n",
        "\n",
        "if multiclass == False: \n",
        "    predictions = [1 * (x[0]>=0.5) for x in model.predict(test_data)]\n",
        "    cm = confusion_matrix(test_labels, predictions)\n",
        "else:    \n",
        "    predictions = np.argmax(model.predict(test_data), axis=1)\n",
        "    cm = confusion_matrix(test_labels.argmax(axis=1), predictions)\n",
        "print()\n",
        "print(cm)\n",
        "\n",
        "heatmap(cm, fmt=\"g\", annot=True, square=True, cmap=plt.cm.Blues)\n",
        "plt.tight_layout()\n",
        "plt.ylabel('True label')\n",
        "plt.xlabel('Predicted label')\n",
        "plt.show() "
      ],
      "execution_count": 14,
      "outputs": [
        {
          "output_type": "stream",
          "text": [
            "5357/5357 [==============================] - 1s 203us/step\n",
            "\n",
            "Metric of the best model - loss: 0.7963269075751861\n",
            "Metric of the best model - accuracy: 0.6344969272613525\n",
            "\n",
            "[[ 306  350  135]\n",
            " [ 201 1756  534]\n",
            " [  83  655 1337]]\n"
          ],
          "name": "stdout"
        },
        {
          "output_type": "display_data",
          "data": {
            "image/png": "[encoded data removed]",
            "text/plain": [
              "<Figure size 432x288 with 2 Axes>"
            ]
          },
          "metadata": {
            "tags": [],
            "needs_background": "light"
          }
        }
      ]
    },
    {
      "cell_type": "markdown",
      "metadata": {
        "id": "lbJo7jLmrZ5h"
      },
      "source": [
        "### Comparative Analysis of different Neural Networks\n",
        "\n",
        "General Good Settings: feature_count=15000, embeddings_sequence_length=50, batch_size=256, epochs=5.\n",
        "\n",
        "* My Parameters for IMDb Dataset (average length of instance is 238, max is 2494): random_state=22, feature_count=20000, remove_first=False, embeddings_mode=Word2Vec Pretrained, embeddings_sequence_length=256, Each OOV word set to a unique random vector, trainable=True, batch_size=256, epochs=EarlyStopping, activation=sigmoid, optimizer='adam', learning_rate=0.00005, validation_split=0.0, neurons=128.\n",
        "\n",
        "* My Parameters For Subjectivity Dataset (average length of instance is 21.5, max is 111): Obviously we want a significantly shorter sequence length, a bit smaller batch size and a higher learning rate since the nature of the dataset is very different the the IMDb one. embeddings_sequence_length=32, batch_size=128, learning_rate=0.0001.\n",
        "\n",
        "* My Parameters For Polarity Dataset (average length of instance is 18.8, max is 51): Obviously we want a significantly shorter sequence length, a bit smaller batch size and a higher learning rate since the nature of the dataset is very different the the IMDb one. embeddings_sequence_length=32, batch_size=128, learning_rate=0.00005.\n",
        "\n",
        "It is worth noting that the results are kind of random/useless because of the small size of the dataset as well as the fast convergence. Obviously, here we train different models on different number of epochs instead of comparing a set of models on the same number of epochs.\n",
        "\n",
        "| Model | Author | Performance (loss /acc) | Epochs | Embeddings Dimension | Note |\n",
        "| - | - | - | - | - | - |\n",
        "| Single LSTM | Me | 0.341 / 86.052 | 11 | 100 | This is run with One-hot Encoding - It reaches convergence too fast for Dropout or Deep to matter |\n",
        "| Single LSTM with Dropout | Me | 0.339 / 86.556 | 8 | 100 | This is run with One-hot Encoding |\n",
        "| Deep Stacked LSTMs with Dropout | Me | 0.346 / 85.188 | 4 | 100 | This is run with One-hot Encoding |\n",
        "| Multilayer Perceptron | Me | 0.294 / 87.708 | 17 | 300 | Now we move to Word2Vec Pretrained |\n",
        "| Multilayer Perceptron with Average Pooling | Me | 0.287 / 88.404 | 29 | 300 | - |\n",
        "| Single LSTM | Me | 0.303 / 87.240 | 9 | 300 | - |\n",
        "| Single LSTM with Dropout | Me | 0.307 / 87.048 | 12 | 300 | - |\n",
        "| Bidirectional LSTM | Me | 0.297 / 87.456 | 10 | 300 | - |\n",
        "| Bidirectional LSTM with Dropout | Me | 0.312 / 86.828 | 9 | 300 | - |\n",
        "| Deep Stacked LSTMs  | Me | 0.326 / 86.396 | 8 | 300 | - |\n",
        "| Deep Stacked LSTMs with Dropout | Me | 0.327 / 86.938 | 11 | 300 | - |\n",
        "| Simple RNN | Me | 0.342 / 85.844 | 12 | 300 | - |\n",
        "| Bidirectional Simple RNN | Me | 0.344 / 85.640 | 14 | 300 | - |\n",
        "| GRU | Me | 0.298 / 87.776 | 7 | 300 | - |\n",
        "| GRU with Dropout | Me | 0.298 / 87.572 | 11 | 300 | - |\n",
        "| CNN with Average Pooling | Me | 0.286 / 88.424 | 4 | 300 | lr=0.0005 |\n",
        "| LSTM inspired from Paper | [Liu et al.](https://aclweb.org/anthology/D15-1280) | 0.281 / 88.544 | 1 | 300 | We use the exact parameters from the paper with batch_size=128 and lr=0.05. Paper's accuracy: 88.50 |\n",
        "| mLSTM inspired from Paper | [Krause et al.](https://arxiv.org/pdf/1609.07959.pdf) | 0.356 / 87.84 | 4 | 300 | (Useless since we lack processing power)) We use similar parameters to those from the paper but no dropout, units=128, batch_size=512. [Code](https://github.com/titu1994/Keras-Multiplicative-LSTM). Paper's accuracy: - |\n",
        "| mLSTM inspired from Paper | [Krause et al.](https://arxiv.org/pdf/1609.07959.pdf) | 0.320 / 85.95 | 4 | 300 | (Useless since we lack processing power) We don't perform all the extra things the paper does, units=1000, batch_size=512. Paper's accuracy: - |\n",
        "\n",
        "| Model (on just 1 fold of cross_val) | Author | Performance | Epochs | Embeddings Dimension | Note |\n",
        "| - | - | - | - | - | - |\n",
        "| Single LSTM | Me | 90.400 | 7 | 100 | This is run with One-hot Encoding - It reaches convergence too fast for Dropout or Deep to matter |\n",
        "| Single LSTM with Dropout | Me | 90.400 | 9 | 100 | This is run with One-hot Encoding |\n",
        "| Deep Stacked LSTMs with Dropout | Me | 89.500 | 6 | 100 | This is run with One-hot Encoding |\n",
        "| Multilayer Perceptron | Me | 91.400 | 8 | 300 | Now we move to Word2Vec Pretrained |\n",
        "| Multilayer Perceptron with Average Pooling | Me | 92.300 | 10 | 300 | - |\n",
        "| Single LSTM | Me | 90.400 | 6 | 300 | - |\n",
        "| Single LSTM with Dropout | Me | 90.900 | 6 | 300 | - |\n",
        "| Bidirectional LSTM | Me | 90.500 | 5 | 300 | - |\n",
        "| Bidirectional LSTM with Dropout | Me | 90.200 | 5 | 300 | - |\n",
        "| Deep Stacked LSTMs  | Me | 90.400 | 4 | 300 | - |\n",
        "| Deep Stacked LSTMs with Dropout | Me | 90.700 | 6 | 300 | - |\n",
        "| Simple RNN | Me | 89.200 | 7 | 300 | - |\n",
        "| Bidirectional Simple RNN | Me | 90.300 | 7 | 300 | - |\n",
        "| GRU | Me | 90.800 | 7 | 300 | - |\n",
        "| GRU with Dropout | Me | 91.200 | 7 | 300 | - |\n",
        "| CNN with Average Pooling | Me | 91.700 | 14 | 300 | lr=0.0005 |\n",
        "| LSTM inspired from Paper | [Liu et al.](https://aclweb.org/anthology/D15-1280) | 91.100 | 1 | 300 | We use the exact parameters from the paper with units=60, batch_size=128 and lr=0.05. Paper's accuracy: - |\n",
        "| mLSTM inspired from Paper | [Krause et al.](https://arxiv.org/pdf/1609.07959.pdf) | 91.900 | 3 | 300 | (Useless since we lack processing power)) We use similar parameters to those from the paper but no dropout, units=128, batch_size=512. [Code](https://github.com/titu1994/Keras-Multiplicative-LSTM). Paper's accuracy: - |\n",
        "| mLSTM inspired from Paper | [Krause et al.](https://arxiv.org/pdf/1609.07959.pdf) | 90.000 | 4 | 300 | (Useless since we lack processing power) We don't perform all the extra things the paper does, units=1000, batch_size=128. Paper's accuracy: - |\n",
        "\n",
        "| Model (on just 1 fold of cross_val) | Author | Performance | Epochs | Embeddings Dimension | Note |\n",
        "| - | - | - | - | - | - |\n",
        "| Single LSTM | Me | 72.352 | 8 | 100 | This is run with One-hot Encoding - It reaches convergence too fast for Dropout or Deep to matter |\n",
        "| Single LSTM with Dropout | Me | 72.638 | 10 | 100 | This is run with One-hot Encoding |\n",
        "| Deep Stacked LSTMs with Dropout | Me | 71.516 | 7 | 100 | This is run with One-hot Encoding |\n",
        "| Multilayer Perceptron | Me | 77.226 | 14 | 300 | Now we move to Word2Vec Pretrained |\n",
        "| Multilayer Perceptron with Average Pooling | Me | 78.257 | 13 | 300 | - |\n",
        "| Single LSTM | Me | 77.130 | 8 | 300 | - |\n",
        "| Single LSTM with Dropout | Me | 75.351 | 6 | 300 | - |\n",
        "| Bidirectional LSTM | Me | 78.913 | 5 | 300 | - |\n",
        "| Bidirectional LSTM with Dropout | Me | 76.859 | 7 | 300 | - |\n",
        "| Deep Stacked LSTMs  | Me | 72.541 | 1 | 300 | - |\n",
        "| Deep Stacked LSTMs with Dropout | Me | 72.259 | 4 | 300 | - |\n",
        "| Simple RNN | Me | 75.914 | 11 | 300 | - |\n",
        "| Bidirectional Simple RNN | Me | 73.482 | 8 | 300 | - |\n",
        "| GRU | Me | 78.163 | 8 | 300 | - |\n",
        "| GRU with Dropout | Me | 78.738 | 12 | 300 | - |\n",
        "| CNN with Average Pooling | Me | 79.007 | 17 | 300 | lr=0.0005 |\n",
        "| LSTM inspired from Paper | [Liu et al.](https://aclweb.org/anthology/D15-1280) | 79.663 | 2 | 300 | We use the exact parameters from the paper with units=60, batch_size=128 and lr=0.005. Paper's accuracy: - |\n",
        "| mLSTM inspired from Paper | [Krause et al.](https://arxiv.org/pdf/1609.07959.pdf) | 80.506 | 2 | 300 | (Useless since we lack processing power)) We use similar parameters to those from the paper but no dropout, units=128, batch_size=512. [Code](https://github.com/titu1994/Keras-Multiplicative-LSTM). Paper's accuracy: - |\n",
        "| mLSTM inspired from Paper | [Krause et al.](https://arxiv.org/pdf/1609.07959.pdf) | 78.164 | 7 | 300 | (Useless since we lack processing power) We don't perform all the extra things the paper does, units=1000, batch_size=128. Paper's accuracy: - |"
      ]
    },
    {
      "cell_type": "markdown",
      "metadata": {
        "id": "KFeiK5pBQc3x"
      },
      "source": [
        "## Evaluate on External Data"
      ]
    },
    {
      "cell_type": "markdown",
      "metadata": {
        "id": "trwlJUSBXskX"
      },
      "source": [
        "### Preprocessing Run\n",
        "\n",
        "FIRST, execute the entire preprocessing phase again (there are more efficient ways, but this works universally)."
      ]
    },
    {
      "cell_type": "code",
      "metadata": {
        "id": "WcULC7A4XrGJ",
        "colab": {
          "base_uri": "https://localhost:8080/"
        },
        "outputId": "b5cd2f72-d1e4-4042-8462-39377d39a273"
      },
      "source": [
        "###   INPUT    ###\n",
        "test_sentence = [\"very bad movie, wow awful such a bad performance from the actors.\"]\n",
        "###            ###\n",
        "\n",
        "### Parameters ###\n",
        "remove_first = False #@param {type:\"boolean\"}\n",
        "embeddings_mode = \"One-hot Encoding\" #@param [\"One-hot Encoding\", \"Tokenizing\", \"Word2Vec Pretrained\", \"Word2Vec Training\"]\n",
        "embeddings_sequence_length = 50 #@param {type:\"integer\"}\n",
        "trainable = False #@param {type:\"boolean\"}\n",
        "outofvocab_mode = \"random\" #@param [\"zeros\", \"random\"]\n",
        "###            ###\n",
        "\n",
        "# Load Dataset\n",
        "train_data, test_data, train_labels, test_labels = load_dataset()\n",
        "print_dataset_length_stats(train_data)\n",
        "\n",
        "# Remove the <START> symbol from all instances\n",
        "if remove_first == True:\n",
        "    if train_data[0][0] == word_index[\"<START>\"]:\n",
        "        for i in range(len(train_data)):\n",
        "            train_data[i] = train_data[i][1:]\n",
        "        for i in range(len(test_data)):\n",
        "            test_data[i] = test_data[i][1:]\n",
        "\n",
        "# Create the Embeddings            \n",
        "if embeddings_mode == \"One-hot Encoding\":  \n",
        "    ''' \n",
        "        ONE-HOT ENCODING\n",
        "        Description: Not traditional One-hot, but instead [3, 62, 5, 90, ...] \n",
        "        Embedding_Layer: Yes\n",
        "    '''   \n",
        "    if dataset_name != \"IMDb Large Movie Review Dataset\":  # keras.imdb is already One-hot Encoded\n",
        "        tokenizer = Tokenizer(num_words=feature_count, \n",
        "                              lower=True, \n",
        "                              split=' ', \n",
        "                              oov_token=\"<UNK>\")\n",
        "        tokenizer.fit_on_texts(train_data)\n",
        "        # 'texts_to_sequences' list of strings as input and sequence of integers as output, 'texts_to_matrix' is meant to return a matrix of counts/tf-idfs\n",
        "        train_data = tokenizer.texts_to_sequences(train_data)\n",
        "        test_data = tokenizer.texts_to_sequences(test_data)  \n",
        "    \n",
        "    # Word_Index Stuff\n",
        "    if dataset_name == \"IMDb Large Movie Review Dataset\":  # keras.imdb is already One-hot Encoded\n",
        "        word_index, reverse_word_index = imdb_specific_word_index()\n",
        "    else:\n",
        "        word_index, reverse_word_index = other_datasets_word_index(tokenizer)\n",
        "\n",
        "    word_index, reverse_word_index = reduce_word_index_features(word_index, reverse_word_index, train_data)  # Update the word index to match the number of features we selected       \n",
        "\n",
        "    # NEW\n",
        "    test_sentence = encode_review(test_sentence[0], word_index)\n",
        "    test_sentence = np.array([test_sentence])  # Convert back to 2D array even if there is no use yet\n",
        "\n",
        "    # Peform Sequence Padding\n",
        "    train_data, test_data = sequence_padding(train_data, test_data, embeddings_sequence_length)\n",
        "    # NEW\n",
        "    test_sentence, _ = sequence_padding(test_sentence, test_sentence, embeddings_sequence_length) \n",
        "\n",
        "elif embeddings_mode == \"Tokenizing\":  \n",
        "    ''' \n",
        "        TOKENIZING\n",
        "        Description: Unlike other modes this isn't exactly an embedding, leads to a collection of floats [0.00, 0.02, 0.12, 0.04, ...] based on tf-idf \n",
        "        Embedding_Layer: No\n",
        "    '''    \n",
        "    if dataset_name == \"IMDb Large Movie Review Dataset\":  # keras.imdb is already One-hot Encoded so let's transform it back to text\n",
        "        word_index, reverse_word_index = imdb_specific_word_index()\n",
        "        train_data = [decode_review(instance, reverse_word_index, mode=\"join\") for instance in train_data]\n",
        "        test_data = [decode_review(instance, reverse_word_index, mode=\"join\") for instance in test_data]\n",
        "    \n",
        "    tokenizer = Tokenizer(num_words=feature_count, \n",
        "                          lower=True, \n",
        "                          split=' ', \n",
        "                          )\n",
        "    tokenizer.fit_on_texts(train_data)\n",
        "    # 'texts_to_matrix' list of strings as input, 'sequences_to_matrix' list of integer word indices as input \n",
        "    train_data = tokenizer.texts_to_matrix(train_data, mode='tfidf')\n",
        "    test_data = tokenizer.texts_to_matrix(test_data, mode='tfidf')\n",
        "\n",
        "     # NEW\n",
        "    test_sentence = tokenizer.texts_to_matrix(test_sentence, mode='tfidf')\n",
        "  \n",
        "elif embeddings_mode == \"Word2Vec Pretrained\":\n",
        "    ''' \n",
        "        WORD2VEC PRETRAINED\n",
        "        Description: A much more advanced form of embeddings that is created through training a model unlike previous modes. Implements the CBOW and the Skip-gram models in order to learn word embeddings.\n",
        "        Embedding_Layer: Yes\n",
        "    '''\n",
        "    word2vec = load_word2vec_pretrained()  # This line can be commented out, if it was already loaded in the current session\n",
        "    embeddings_dimension = word2vec.vector_size\n",
        "    \n",
        "    if dataset_name != \"IMDb Large Movie Review Dataset\":  # keras.imdb is already One-hot Encoded\n",
        "        tokenizer = Tokenizer(num_words=feature_count, \n",
        "                              lower=True, \n",
        "                              split=' ', \n",
        "                              oov_token=\"<UNK>\")\n",
        "        tokenizer.fit_on_texts(train_data)\n",
        "        # 'texts_to_sequences' list of strings as input and sequence of integers as output, 'texts_to_matrix' is meant to return a matrix of counts/tf-idfs\n",
        "        train_data = tokenizer.texts_to_sequences(train_data)\n",
        "        test_data = tokenizer.texts_to_sequences(test_data)   \n",
        "    \n",
        "    # Word_Index Stuff\n",
        "    if dataset_name == \"IMDb Large Movie Review Dataset\":  # keras.imdb is already One-hot Encoded\n",
        "        word_index, reverse_word_index = imdb_specific_word_index()\n",
        "    else:\n",
        "        word_index, reverse_word_index = other_datasets_word_index(tokenizer)\n",
        "\n",
        "    word_index, reverse_word_index = reduce_word_index_features(word_index, reverse_word_index, train_data)  # Update the word index to match the number of features we selected       \n",
        "\n",
        "    # NEW\n",
        "    test_sentence = encode_review(test_sentence[0], word_index)\n",
        "    test_sentence = np.array([test_sentence])  # Convert back to 2D array even if there is no use yet\n",
        "\n",
        "    # Peform Sequence Padding  \n",
        "    train_data, test_data = sequence_padding(train_data, test_data, embeddings_sequence_length)\n",
        "    # NEW\n",
        "    test_sentence, _ = sequence_padding(test_sentence, test_sentence, embeddings_sequence_length)  \n",
        "\n",
        "    manage_oov_words(word2vec, word_index)\n",
        "    embedding_vectors = assign_embeddings(word2vec, embeddings_dimension, word_index, mode=outofvocab_mode)\n",
        "\n",
        "elif embeddings_mode == \"Word2Vec Training\":\n",
        "    ''' \n",
        "        Description: A much more advanced form of embeddings that is created through training a model unlike previous modes. Implements the CBOW and the Skip-gram models in order to learn word embeddings.\n",
        "        Embedding_Layer: Yes\n",
        "    '''\n",
        "    if dataset_name != \"IMDb Large Movie Review Dataset\":  # keras.imdb is already One-hot Encoded so let's transform it back to text\n",
        "        tokenizer = Tokenizer(num_words=feature_count, \n",
        "                              lower=True, \n",
        "                              split=' ', \n",
        "                              oov_token=\"<UNK>\")\n",
        "        tokenizer.fit_on_texts(train_data)\n",
        "        # 'texts_to_sequences' list of strings as input and sequence of integers as output, 'texts_to_matrix' is meant to return a matrix of counts/tf-idfs\n",
        "        train_data = tokenizer.texts_to_sequences(train_data)\n",
        "        test_data = tokenizer.texts_to_sequences(test_data)  \n",
        "        \n",
        "    # Word_Index Stuff\n",
        "    if dataset_name == \"IMDb Large Movie Review Dataset\":  # keras.imdb is already One-hot Encoded so let's transform it back to text\n",
        "        word_index, reverse_word_index = imdb_specific_word_index()\n",
        "    else:\n",
        "        word_index, reverse_word_index = other_datasets_word_index(tokenizer)\n",
        "\n",
        "    word_index, reverse_word_index = reduce_word_index_features(word_index, reverse_word_index, train_data)  # Update the word index to match the number of features we selected       \n",
        "      \n",
        "    # Train a Model\n",
        "    time_counter = time.time()    \n",
        "    print(f\"\\nTraining a new custom Word2Vec model on the dataset...\")\n",
        "    word2vec = Word2Vec([decode_review(instance, reverse_word_index, mode=\"don't join\") for instance in train_data],  # Default is 5 epochs \n",
        "                         size=300, sg=0, window=5, min_count=1, iter=5,\n",
        "                         seed=random_state, alpha=0.025, workers=4)\n",
        "    embeddings_dimension = word2vec.wv.vector_size\n",
        "    print(f\"Training completed in {time.time()-time_counter:.2f}sec. Vocabulary size: {len(word2vec.wv.vocab)}\\n\")  \n",
        "\n",
        "    # Peform Sequence Padding  \n",
        "    train_data, test_data = sequence_padding(train_data, test_data, embeddings_sequence_length) \n",
        "    \n",
        "    manage_oov_words(word2vec.wv, word_index)   \n",
        "    embedding_vectors = assign_embeddings(word2vec.wv, embeddings_dimension, word_index, mode=outofvocab_mode)    \n",
        "    \n",
        "    # If we want to store the model\n",
        "    if False:\n",
        "        model.wv.save_word2vec_format(\"My_Word2Vec.txt\", binary=False)    \n",
        "\n",
        "# Print the resulting instances       \n",
        "for i in range(4): print(type(train_data[i]), list(train_data[i]))"
      ],
      "execution_count": 45,
      "outputs": [
        {
          "output_type": "stream",
          "text": [
            "Loaded Subset sms-2013test-A.tsv\n",
            "Loaded Subset livejournal-2014test-A.tsv\n",
            "Loaded Subset twitter-2016devtest-A.txt\n",
            "Loaded Subset twitter-2016dev-A.txt\n",
            "Loaded Subset twitter-2016train-A.txt\n",
            "Loaded Subset twitter-2013dev-A.txt\n",
            "Loaded Subset twitter-2013test-A.txt\n",
            "Loaded Subset twitter-2013train-A.txt\n",
            "Loaded Subset twitter-2014test-A.txt\n",
            "Loaded Subset twitter-2015test-A.txt\n",
            "Loaded Subset twitter-2015train-A.txt\n",
            "Loaded Subset twitter-2014sarcasm-A.txt\n",
            "Loaded Subset twitter-2016test-A.txt\n",
            "['neutral', 'neutral', 'neutral', 'negative']\n",
            "[1 1 1 0]\n",
            "SemEval-2017 Task 4 Loaded. Training entries: 48213, labels: 48213\n",
            "cant wait to see the iPad HD .. 2\n",
            "@DebsODo: @lex_looper might want to double check your Saudi Arabia info on this one. 1. https://t.co/sToO95DdWt 2. https://t.co/T9j1IOsD3X 1\n",
            "@Pixe1ina getting more people who never would have touched a Dark SOuls in the 1st place 1\n",
            "@curtismufc10 Well Curtis... you also NEED a night out in Thompsons .... need a Sunday night session again soon bro!!!!! 2\n",
            "\n",
            "General stats regarding the length of instances of the dataset (to help choose embeddings_sequence_length) - avg:113.49 max:338\n",
            "\n",
            "cant wait to see the ipad hd\n",
            "<UNK> <UNK> looper might want to double check your saudi arabia info on this one 1 https t co <UNK> 2 https t co <UNK>\n",
            "<UNK> getting more people who never would have touched a dark souls in the 1st place\n",
            "<UNK> well curtis you also need a night out in <UNK> need a sunday night session again soon bro\n",
            "<class 'numpy.ndarray'> [0, 0, 0, 0, 0, 0, 0, 0, 0, 0, 0, 0, 0, 0, 0, 0, 0, 0, 0, 0, 0, 0, 0, 0, 0, 0, 0, 0, 0, 0, 0, 0, 0, 0, 0, 0, 0, 0, 0, 0, 0, 0, 0, 745, 140, 3, 42, 2, 768, 2288]\n",
            "<class 'numpy.ndarray'> [0, 0, 0, 0, 0, 0, 0, 0, 0, 0, 0, 0, 0, 0, 0, 0, 0, 0, 0, 0, 0, 0, 0, 0, 0, 1, 1, 9451, 267, 85, 3, 1045, 275, 71, 635, 769, 1167, 9, 26, 58, 92, 37, 6, 8, 1, 61, 37, 6, 8, 1]\n",
            "<class 'numpy.ndarray'> [0, 0, 0, 0, 0, 0, 0, 0, 0, 0, 0, 0, 0, 0, 0, 0, 0, 0, 0, 0, 0, 0, 0, 0, 0, 0, 0, 0, 0, 0, 0, 0, 0, 0, 1, 244, 110, 158, 98, 197, 115, 25, 5124, 7, 577, 697, 5, 2, 47, 225]\n",
            "<class 'numpy.ndarray'> [0, 0, 0, 0, 0, 0, 0, 0, 0, 0, 0, 0, 0, 0, 0, 0, 0, 0, 0, 0, 0, 0, 0, 0, 0, 0, 0, 0, 0, 0, 0, 1, 139, 508, 15, 195, 163, 7, 41, 38, 5, 1, 163, 7, 51, 41, 1677, 171, 466, 1337]\n"
          ],
          "name": "stdout"
        }
      ]
    },
    {
      "cell_type": "markdown",
      "metadata": {
        "id": "ss1DzWYyra82"
      },
      "source": [
        "Decide on a final embeddings mode out of the 4. Then the above code can be run once at the start, and a different code can be run each time for a prediction."
      ]
    },
    {
      "cell_type": "markdown",
      "metadata": {
        "id": "stFluykKQtWH"
      },
      "source": [
        "### Code"
      ]
    },
    {
      "cell_type": "code",
      "metadata": {
        "id": "15cSyU7LSj39"
      },
      "source": [
        "# Load Model\n",
        "model = load_model('./gdrive/My Drive/Colab Saved Models/best_model_text.h5')\n",
        "#model = load_model('best_model_text.h5', custom_objects={'MultiplicativeLSTM': MultiplicativeLSTM})  # Handling saved models changes if we are using custom (3rd-party) layers"
      ],
      "execution_count": 43,
      "outputs": []
    },
    {
      "cell_type": "code",
      "metadata": {
        "id": "RNO6Gw-0Qwf-",
        "colab": {
          "base_uri": "https://localhost:8080/"
        },
        "outputId": "f457ade5-e8b9-403e-9a21-5de54eb1d04c"
      },
      "source": [
        "# Evaluation Phase\n",
        "def evaluate_single_sentence(model, test_sentence, multiclass):\n",
        "    if multiclass == False: \n",
        "        probability = model.predict(test_sentence)\n",
        "        predictions = [1 * (x[0]>=0.5) for x in probability]  \n",
        "\n",
        "        # 0 stands for negative, 1 stands for positive\n",
        "        if predictions[0] == 1:\n",
        "            return (\"positive\", probability) \n",
        "        elif predictions[0] == 0:\n",
        "            return (\"negative\", probability)\n",
        "        else:\n",
        "            return (\"no prediction\", None)\n",
        "\n",
        "    else:    \n",
        "        probability = model.predict(test_sentence)\n",
        "        predictions = np.argmax(probability, axis=1)\n",
        "    \n",
        "        # 0 stands for negative, 1 stands for neutral, 2 stands for positive\n",
        "        if predictions[0] == 2:\n",
        "            return (\"positive\", probability) \n",
        "        elif predictions[0] == 1:\n",
        "            return (\"neutral\", probability)\n",
        "        elif predictions[0] == 0:\n",
        "            return (\"negative\", probability)            \n",
        "        else:\n",
        "            return (\"no prediction\", None)        \n",
        "\n",
        "print(evaluate_single_sentence(model, test_sentence, multiclass))"
      ],
      "execution_count": 46,
      "outputs": [
        {
          "output_type": "stream",
          "text": [
            "('neutral', array([[0.05737048, 0.90875417, 0.03387544]], dtype=float32))\n"
          ],
          "name": "stdout"
        }
      ]
    }
  ]
}