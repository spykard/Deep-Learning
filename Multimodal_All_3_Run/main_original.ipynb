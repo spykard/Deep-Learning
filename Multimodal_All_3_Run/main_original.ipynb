{
 "cells": [
  {
   "cell_type": "markdown",
   "metadata": {},
   "source": [
    "# Tutorial on CMU-Multimodal SDK\n",
    "\n",
    "This is a tutorial on using ***CMU-Multimodal SDK*** to load and process multimodal time-series datasets and training a simple late-fusion LSTM model on the processed data. \n",
    "\n",
    "For this tutorial, we specify some constants in `./constans/paths.py`. Please first take a look and modify the paths to point to the correct folders.\n",
    "\n",
    "## Downloading the data\n",
    "\n",
    "We start off by (down)loading the datasets. In the SDK each dataset has three sets of content: `highlevel`, `raw` and `labels`. `highlevel` contains the extracted features for each modality (e.g OpenFace facial landmarks, openSMILE acoustic features) while `raw` contains the raw transctripts, phonemes. `labels` are self-explanatory. Note that some datasets have more than just one set of annotations so `labels` could also give you multiple files.\n",
    "\n",
    "Currently there's a caveat that the SDK will not automatically detect if you have downloaded the data already. In event of that it will throw a `RuntimeError`. We work around that by `try/except`. This is not ideal but it will work for now."
   ]
  },
  {
   "cell_type": "code",
   "execution_count": 1,
   "metadata": {},
   "outputs": [
    {
     "name": "stdout",
     "output_type": "stream",
     "text": [
      "High-level features have been downloaded previously.\n",
      "Raw data have been downloaded previously.\n",
      "Labels have been downloaded previously.\n"
     ]
    }
   ],
   "source": [
    "from constants import SDK_PATH, DATA_PATH, WORD_EMB_PATH, CACHE_PATH\n",
    "import sys\n",
    "\n",
    "if SDK_PATH is None:\n",
    "    print(\"SDK path is not specified! Please specify first in constants/paths.py\")\n",
    "    exit(0)\n",
    "else:\n",
    "    sys.path.append(SDK_PATH)\n",
    "\n",
    "import mmsdk\n",
    "import os\n",
    "import re\n",
    "import numpy as np\n",
    "from mmsdk import mmdatasdk as md\n",
    "from subprocess import check_call, CalledProcessError\n",
    "\n",
    "# create folders for storing the data\n",
    "if not os.path.exists(DATA_PATH):\n",
    "    check_call(' '.join(['mkdir', '-p', DATA_PATH]), shell=True)\n",
    "\n",
    "# download highlevel features, low-level (raw) data and labels for the dataset MOSI\n",
    "# if the files are already present, instead of downloading it you just load it yourself.\n",
    "# here we use CMU_MOSI dataset as example.\n",
    "\n",
    "DATASET = md.cmu_mosi\n",
    "\n",
    "try:\n",
    "    md.mmdataset(DATASET.highlevel, DATA_PATH)\n",
    "except RuntimeError:\n",
    "    print(\"High-level features have been downloaded previously.\")\n",
    "\n",
    "try:\n",
    "    md.mmdataset(DATASET.raw, DATA_PATH)\n",
    "except RuntimeError:\n",
    "    print(\"Raw data have been downloaded previously.\")\n",
    "    \n",
    "try:\n",
    "    md.mmdataset(DATASET.labels, DATA_PATH)\n",
    "except RuntimeError:\n",
    "    print(\"Labels have been downloaded previously.\")"
   ]
  },
  {
   "cell_type": "markdown",
   "metadata": {},
   "source": [
    "## Inspecting the downloaded files\n",
    "\n",
    "We can print the files in the target data folder to see what files are there.\n",
    "\n",
    "We can observe a bunch of files ending with `.csd` extension. This stands for ***computational sequences***, which is the underlying data structure for all features in the SDK. We will come back to that later when we load the data. For now we just print out what computational sequences we have downloaded."
   ]
  },
  {
   "cell_type": "code",
   "execution_count": 2,
   "metadata": {
    "scrolled": true
   },
   "outputs": [
    {
     "name": "stdout",
     "output_type": "stream",
     "text": [
      "CMU_MOSI_TimestampedBERT.csd\n",
      "CMU_MOSI_COVAREP.csd\n",
      "CMU_MOSI_TimestampedPhones.csd\n",
      "CMU_MOSI_Opinion_Labels.csd\n",
      "CMU_MOSI_VisualFacet_4.1.csd\n",
      "CMU_MOSI_OpenSmile.csd\n",
      "CMU_MOSI_TimestampedWordVectors.csd\n",
      "CMU_MOSI_TimestampedWords.csd\n",
      "CMU_MOSI_ModifiedTimestampedWords.csd\n"
     ]
    }
   ],
   "source": [
    "# list the directory contents... let's see what features there are\n",
    "data_files = os.listdir(DATA_PATH)\n",
    "print('\\n'.join(data_files))"
   ]
  },
  {
   "cell_type": "markdown",
   "metadata": {},
   "source": [
    "## Loading a multimodal dataset\n",
    "\n",
    "Loading the dataset is as simple as telling the SDK what are the features you need and where are their computational sequences. You can construct a dictionary with format `{feature_name: csd_path}` and feed it to `mmdataset` object in the SDK."
   ]
  },
  {
   "cell_type": "code",
   "execution_count": 3,
   "metadata": {
    "scrolled": true
   },
   "outputs": [
    {
     "name": "stderr",
     "output_type": "stream",
     "text": [
      "  0%|          | 0/93 [00:00<?, ? Computational Sequence Entries/s]"
     ]
    },
    {
     "name": "stdout",
     "output_type": "stream",
     "text": [
      "\u001b[92m\u001b[1m<Success>: \u001b[0mComputational sequence read from file ./data/CMU_MOSI_ModifiedTimestampedWords.csd ...\n",
      "\u001b[94m\u001b[1m<Status>: \u001b[0mChecking the integrity of the data in <CMU_MOSI_ModifiedTimestampedWords> computational sequence ...\n",
      "\u001b[92m\u001b[1m<Success>: \u001b[0m<CMU_MOSI_ModifiedTimestampedWords> computational sequence data in correct format.\n",
      "\u001b[94m\u001b[1m<Status>: \u001b[0mChecking the integrity of the metadata in <CMU_MOSI_ModifiedTimestampedWords> computational sequence ...\n",
      "\u001b[92m\u001b[1m<Success>: \u001b[0m<CMU_MOSI_ModifiedTimestampedWords> computational sequence metadata in correct format\n",
      "\u001b[92m\u001b[1m<Success>: \u001b[0mComputational sequence read from file ./data/CMU_MOSI_VisualFacet_4.1.csd ...\n",
      "\u001b[94m\u001b[1m<Status>: \u001b[0mChecking the integrity of the data in <FACET 4.1> computational sequence ...\n",
      "\u001b[92m\u001b[1m<Success>: \u001b[0m<FACET 4.1> computational sequence data in correct format.\n",
      "\u001b[94m\u001b[1m<Status>: \u001b[0mChecking the integrity of the metadata in <FACET 4.1> computational sequence ...\n",
      "\u001b[92m\u001b[1m<Success>: \u001b[0m<FACET 4.1> computational sequence metadata in correct format\n",
      "\u001b[92m\u001b[1m<Success>: \u001b[0mComputational sequence read from file ./data/CMU_MOSI_COVAREP.csd ...\n",
      "\u001b[94m\u001b[1m<Status>: \u001b[0mChecking the integrity of the data in <COAVAREP> computational sequence ...\n"
     ]
    },
    {
     "name": "stderr",
     "output_type": "stream",
     "text": [
      "\r",
      "                                                                   "
     ]
    },
    {
     "name": "stdout",
     "output_type": "stream",
     "text": [
      "\u001b[92m\u001b[1m<Success>: \u001b[0m<COAVAREP> computational sequence data in correct format.\n",
      "\u001b[94m\u001b[1m<Status>: \u001b[0mChecking the integrity of the metadata in <COAVAREP> computational sequence ...\n",
      "\u001b[92m\u001b[1m<Success>: \u001b[0m<COAVAREP> computational sequence metadata in correct format\n",
      "\u001b[92m\u001b[1m<Success>: \u001b[0mDataset initialized successfully ... \n"
     ]
    },
    {
     "name": "stderr",
     "output_type": "stream",
     "text": [
      "\r"
     ]
    }
   ],
   "source": [
    "# define your different modalities - refer to the filenames of the CSD files\n",
    "visual_field = 'CMU_MOSI_VisualFacet_4.1'\n",
    "acoustic_field = 'CMU_MOSI_COVAREP'\n",
    "text_field = 'CMU_MOSI_ModifiedTimestampedWords'\n",
    "\n",
    "\n",
    "features = [\n",
    "    text_field, \n",
    "    visual_field, \n",
    "    acoustic_field\n",
    "]\n",
    "\n",
    "recipe = {feat: os.path.join(DATA_PATH, feat) + '.csd' for feat in features}\n",
    "dataset = md.mmdataset(recipe)"
   ]
  },
  {
   "cell_type": "markdown",
   "metadata": {},
   "source": [
    "## A peek into the dataset\n",
    "\n",
    "The multimodal dataset, after loaded, has the following hierarchy:\n",
    "\n",
    "\n",
    "```\n",
    "            computational_sequence_1 ---...\n",
    "           /                                   ...\n",
    "          /                                    /\n",
    "         /                          first_video     features -- T X N array\n",
    "        /                          /               /\n",
    "dataset ---computational_sequence_2 -- second_video\n",
    "        \\                          \\               \\\n",
    "         \\                          third_video     intervals -- T X 2 array\n",
    "          \\                                    \\...\n",
    "           \\\n",
    "            computational_sequence_3 ---...\n",
    "```\n",
    "\n",
    "It looks like a nested dictionary and can be indexed as if it is a nested dictionary. A dataset contains multiple computational sequences whose key is the `text_field`, `visual_field`, `acoustic_field` as defined above. Each computational sequence, however, has multiple video IDs in it, and different computational sequences are supposed to have the same set of video IDs. Within each video, there are two arrays: `features` and `intervals`, denoting the feature values at each time step and the start and end timestamp for each step. We can take a look at its content."
   ]
  },
  {
   "cell_type": "code",
   "execution_count": 4,
   "metadata": {},
   "outputs": [
    {
     "name": "stdout",
     "output_type": "stream",
     "text": [
      "['CMU_MOSI_ModifiedTimestampedWords', 'CMU_MOSI_VisualFacet_4.1', 'CMU_MOSI_COVAREP']\n",
      "================================================================================\n",
      "['03bSnISJMiM', '0h-zjBukYpk', '1DmNV9C1hbY', '1iG0909rllw', '2WGyTLYerpo', '2iD-tVS8NPw', '5W7Z1C_fDaE', '6Egk_28TtTM', '6_0THN4chvY', '73jzhE8R1TQ']\n",
      "================================================================================\n",
      "['features', 'intervals']\n",
      "================================================================================\n",
      "[5404, 2]\n",
      "================================================================================\n",
      "[5404, 47]\n",
      "[658, 1]\n",
      "[18009, 74]\n",
      "Different modalities have different number of time steps!\n"
     ]
    }
   ],
   "source": [
    "print(list(dataset.keys()))\n",
    "print(\"=\" * 80)\n",
    "\n",
    "print(list(dataset[visual_field].keys())[:10])\n",
    "print(\"=\" * 80)\n",
    "\n",
    "some_id = list(dataset[visual_field].keys())[15]\n",
    "print(list(dataset[visual_field][some_id].keys()))\n",
    "print(\"=\" * 80)\n",
    "\n",
    "print(list(dataset[visual_field][some_id]['intervals'].shape))\n",
    "print(\"=\" * 80)\n",
    "\n",
    "print(list(dataset[visual_field][some_id]['features'].shape))\n",
    "print(list(dataset[text_field][some_id]['features'].shape))\n",
    "print(list(dataset[acoustic_field][some_id]['features'].shape))\n",
    "print(\"Different modalities have different number of time steps!\")"
   ]
  },
  {
   "cell_type": "markdown",
   "metadata": {},
   "source": [
    "## Alignment of multimodal time series\n",
    "\n",
    "To work with multimodal time series that contains multiple views of data with different frequencies, we have to first align them to a ***pivot*** modality. The convention is to align to ***words***. Alignment groups feature vectors from other modalities into bins denoted by the timestamps of the pivot modality, and apply a certain processing function to each bin. We call this function ***collapse function***, because usually it is a pooling function that collapses multiple feature vectors from another modality into one single vector. This will give you sequences of same lengths in each modality (as the length of the pivot modality) for all videos.\n",
    "\n",
    "Here we define our collapse funtion as simple averaging. We feed the function to the SDK when we invoke `align` method. Note that the SDK always expect collapse functions with two arguments: `intervals` and `features`. Even if you don't use intervals (as is in the case below) you still need to define your function in the following way.\n",
    "\n",
    "***Note: Currently the SDK applies the collapse function to all modalities including the pivot, and obviously text modality cannot be \"averaged\", causing some errors. My solution is to define the avg function such that it averages the features when it can, and return the content as is when it cannot average.***"
   ]
  },
  {
   "cell_type": "code",
   "execution_count": 5,
   "metadata": {
    "scrolled": true
   },
   "outputs": [
    {
     "name": "stdout",
     "output_type": "stream",
     "text": [
      "\u001b[94m\u001b[1m<Status>: \u001b[0mUnify was called ...\n",
      "\u001b[92m\u001b[1m<Success>: \u001b[0mUnify finished, dataset is compatible for alignment ...\n",
      "\u001b[94m\u001b[1m<Status>: \u001b[0mAlignment based on <CMU_MOSI_ModifiedTimestampedWords> computational sequence will start shortly ...\n"
     ]
    },
    {
     "name": "stderr",
     "output_type": "stream",
     "text": [
      "Overall Progress:   0%|          | 0/93 [00:00<?, ? Computational Sequence Entries/s]\n",
      "  0%|          | 0/480 [00:00<?, ? Segments/s]\u001b[A\n",
      "Aligning 03bSnISJMiM:   0%|          | 0/480 [00:00<?, ? Segments/s]\u001b[A\n",
      "Aligning 03bSnISJMiM:   3%|▎         | 16/480 [00:00<00:03, 148.61 Segments/s]\u001b[A\n",
      "Aligning 03bSnISJMiM:  10%|▉         | 46/480 [00:00<00:02, 173.76 Segments/s]\u001b[A\n",
      "Aligning 03bSnISJMiM:  16%|█▌        | 76/480 [00:00<00:02, 198.73 Segments/s]\u001b[A\n",
      "Aligning 03bSnISJMiM:  24%|██▎       | 113/480 [00:00<00:01, 229.91 Segments/s]\u001b[A\n",
      "Aligning 03bSnISJMiM:  31%|███       | 149/480 [00:00<00:01, 256.68 Segments/s]\u001b[A\n",
      "Aligning 03bSnISJMiM:  41%|████▏     | 198/480 [00:00<00:00, 298.62 Segments/s]\u001b[A\n",
      "Aligning 03bSnISJMiM:  52%|█████▏    | 248/480 [00:00<00:00, 338.38 Segments/s]\u001b[A\n",
      "Aligning 03bSnISJMiM:  61%|██████    | 293/480 [00:00<00:00, 363.80 Segments/s]\u001b[A\n",
      "Aligning 03bSnISJMiM:  71%|███████   | 339/480 [00:00<00:00, 386.62 Segments/s]\u001b[A\n",
      "Aligning 03bSnISJMiM:  80%|████████  | 385/480 [00:01<00:00, 401.98 Segments/s]\u001b[A\n",
      "Aligning 03bSnISJMiM:  89%|████████▉ | 429/480 [00:01<00:00, 412.00 Segments/s]\u001b[A\n",
      "Aligning 03bSnISJMiM:  99%|█████████▉| 476/480 [00:01<00:00, 426.28 Segments/s]\u001b[A\n",
      "Overall Progress:   1%|          | 1/93 [00:01<01:55,  1.26s/ Computational Sequence Entries]\n",
      "  0%|          | 0/502 [00:00<?, ? Segments/s]\u001b[A\n",
      "Aligning 0h-zjBukYpk:   0%|          | 0/502 [00:00<?, ? Segments/s]\u001b[A\n",
      "Aligning 0h-zjBukYpk:   9%|▉         | 47/502 [00:00<00:00, 466.51 Segments/s]\u001b[A\n",
      "Aligning 0h-zjBukYpk:  19%|█▉        | 97/502 [00:00<00:00, 475.36 Segments/s]\u001b[A\n",
      "Aligning 0h-zjBukYpk:  29%|██▉       | 147/502 [00:00<00:00, 474.64 Segments/s]\u001b[A\n",
      "Aligning 0h-zjBukYpk:  38%|███▊      | 191/502 [00:00<00:00, 462.85 Segments/s]\u001b[A\n",
      "Aligning 0h-zjBukYpk:  47%|████▋     | 236/502 [00:00<00:00, 456.05 Segments/s]\u001b[A\n",
      "Aligning 0h-zjBukYpk:  56%|█████▌    | 282/502 [00:00<00:00, 449.87 Segments/s]\u001b[A\n",
      "Aligning 0h-zjBukYpk:  66%|██████▌   | 329/502 [00:00<00:00, 445.12 Segments/s]\u001b[A\n",
      "Aligning 0h-zjBukYpk:  74%|███████▎  | 370/502 [00:00<00:00, 430.45 Segments/s]\u001b[A\n",
      "Aligning 0h-zjBukYpk:  82%|████████▏ | 412/502 [00:00<00:00, 415.36 Segments/s]\u001b[A\n",
      "Aligning 0h-zjBukYpk:  91%|█████████ | 455/502 [00:01<00:00, 417.79 Segments/s]\u001b[A\n",
      "Aligning 0h-zjBukYpk: 100%|█████████▉| 500/502 [00:01<00:00, 425.81 Segments/s]\u001b[A\n",
      "Overall Progress:   2%|▏         | 2/93 [00:02<01:51,  1.23s/ Computational Sequence Entries]\n",
      "  0%|          | 0/243 [00:00<?, ? Segments/s]\u001b[A\n",
      "Aligning 1DmNV9C1hbY:   0%|          | 0/243 [00:00<?, ? Segments/s]\u001b[A\n",
      "Aligning 1DmNV9C1hbY:  16%|█▋        | 40/243 [00:00<00:00, 395.32 Segments/s]\u001b[A\n",
      "Aligning 1DmNV9C1hbY:  35%|███▍      | 84/243 [00:00<00:00, 406.94 Segments/s]\u001b[A\n",
      "Aligning 1DmNV9C1hbY:  54%|█████▍    | 132/243 [00:00<00:00, 418.05 Segments/s]\u001b[A\n",
      "Aligning 1DmNV9C1hbY:  78%|███████▊  | 189/243 [00:00<00:00, 454.32 Segments/s]\u001b[A\n",
      "Overall Progress:   3%|▎         | 3/93 [00:02<01:31,  1.01s/ Computational Sequence Entries]\n",
      "  0%|          | 0/584 [00:00<?, ? Segments/s]\u001b[A\n",
      "Aligning 1iG0909rllw:   0%|          | 0/584 [00:00<?, ? Segments/s]\u001b[A\n",
      "Aligning 1iG0909rllw:   9%|▊         | 50/584 [00:00<00:01, 497.53 Segments/s]\u001b[A\n",
      "Aligning 1iG0909rllw:  16%|█▋        | 96/584 [00:00<00:01, 484.68 Segments/s]\u001b[A\n",
      "Aligning 1iG0909rllw:  25%|██▍       | 144/584 [00:00<00:00, 482.94 Segments/s]\u001b[A\n",
      "Aligning 1iG0909rllw:  32%|███▏      | 188/584 [00:00<00:00, 468.08 Segments/s]\u001b[A\n",
      "Aligning 1iG0909rllw:  40%|████      | 235/584 [00:00<00:00, 457.80 Segments/s]\u001b[A\n",
      "Aligning 1iG0909rllw:  48%|████▊     | 280/584 [00:00<00:00, 452.98 Segments/s]\u001b[A\n",
      "Aligning 1iG0909rllw:  57%|█████▋    | 331/584 [00:00<00:00, 460.77 Segments/s]\u001b[A\n",
      "Aligning 1iG0909rllw:  65%|██████▍   | 379/584 [00:00<00:00, 461.25 Segments/s]\u001b[A\n",
      "Aligning 1iG0909rllw:  74%|███████▍  | 431/584 [00:00<00:00, 467.14 Segments/s]\u001b[A\n",
      "Aligning 1iG0909rllw:  82%|████████▏ | 476/584 [00:01<00:00, 459.38 Segments/s]\u001b[A\n",
      "Aligning 1iG0909rllw:  89%|████████▉ | 521/584 [00:01<00:00, 447.86 Segments/s]\u001b[A\n",
      "Aligning 1iG0909rllw:  97%|█████████▋| 567/584 [00:01<00:00, 451.40 Segments/s]\u001b[A\n",
      "Overall Progress:   4%|▍         | 4/93 [00:04<01:37,  1.10s/ Computational Sequence Entries]\n",
      "  0%|          | 0/660 [00:00<?, ? Segments/s]\u001b[A\n",
      "Aligning 2WGyTLYerpo:   0%|          | 0/660 [00:00<?, ? Segments/s]\u001b[A\n",
      "Aligning 2WGyTLYerpo:   6%|▌         | 39/660 [00:00<00:01, 384.72 Segments/s]\u001b[A\n",
      "Aligning 2WGyTLYerpo:  12%|█▏        | 80/660 [00:00<00:01, 390.19 Segments/s]\u001b[A\n",
      "Aligning 2WGyTLYerpo:  19%|█▉        | 126/660 [00:00<00:01, 408.71 Segments/s]\u001b[A\n",
      "Aligning 2WGyTLYerpo:  25%|██▌       | 167/660 [00:00<00:01, 407.86 Segments/s]\u001b[A\n",
      "Aligning 2WGyTLYerpo:  32%|███▏      | 213/660 [00:00<00:01, 420.16 Segments/s]\u001b[A\n",
      "Aligning 2WGyTLYerpo:  39%|███▊      | 255/660 [00:00<00:00, 411.76 Segments/s]\u001b[A\n",
      "Aligning 2WGyTLYerpo:  45%|████▌     | 298/660 [00:00<00:00, 414.22 Segments/s]\u001b[A\n",
      "Aligning 2WGyTLYerpo:  52%|█████▏    | 344/660 [00:00<00:00, 426.87 Segments/s]\u001b[A\n",
      "Aligning 2WGyTLYerpo:  60%|█████▉    | 393/660 [00:00<00:00, 437.89 Segments/s]\u001b[A\n",
      "Aligning 2WGyTLYerpo:  67%|██████▋   | 439/660 [00:01<00:00, 433.63 Segments/s]\u001b[A\n",
      "Aligning 2WGyTLYerpo:  73%|███████▎  | 482/660 [00:01<00:00, 365.73 Segments/s]\u001b[A\n",
      "Aligning 2WGyTLYerpo:  79%|███████▉  | 520/660 [00:01<00:00, 362.91 Segments/s]\u001b[A\n",
      "Aligning 2WGyTLYerpo:  85%|████████▍ | 559/660 [00:01<00:00, 370.02 Segments/s]\u001b[A\n",
      "Aligning 2WGyTLYerpo:  92%|█████████▏| 606/660 [00:01<00:00, 394.67 Segments/s]\u001b[A\n",
      "Aligning 2WGyTLYerpo:  98%|█████████▊| 647/660 [00:01<00:00, 373.69 Segments/s]\u001b[A\n",
      "Overall Progress:   5%|▌         | 5/93 [00:05<01:51,  1.27s/ Computational Sequence Entries]\n",
      "  0%|          | 0/709 [00:00<?, ? Segments/s]\u001b[A\n",
      "Aligning 2iD-tVS8NPw:   0%|          | 0/709 [00:00<?, ? Segments/s]\u001b[A\n",
      "Aligning 2iD-tVS8NPw:   6%|▌         | 43/709 [00:00<00:01, 423.45 Segments/s]\u001b[A\n",
      "Aligning 2iD-tVS8NPw:  12%|█▏        | 88/709 [00:00<00:01, 429.45 Segments/s]\u001b[A\n",
      "Aligning 2iD-tVS8NPw:  18%|█▊        | 129/709 [00:00<00:01, 421.78 Segments/s]\u001b[A\n",
      "Aligning 2iD-tVS8NPw:  24%|██▍       | 170/709 [00:00<00:01, 418.11 Segments/s]\u001b[A\n",
      "Aligning 2iD-tVS8NPw:  30%|███       | 216/709 [00:00<00:01, 429.72 Segments/s]\u001b[A\n",
      "Aligning 2iD-tVS8NPw:  37%|███▋      | 262/709 [00:00<00:01, 437.39 Segments/s]\u001b[A\n",
      "Aligning 2iD-tVS8NPw:  43%|████▎     | 303/709 [00:00<00:00, 426.57 Segments/s]\u001b[A\n",
      "Aligning 2iD-tVS8NPw:  49%|████▊     | 345/709 [00:00<00:00, 424.34 Segments/s]\u001b[A\n",
      "Aligning 2iD-tVS8NPw:  55%|█████▍    | 389/709 [00:00<00:00, 428.71 Segments/s]\u001b[A\n",
      "Aligning 2iD-tVS8NPw:  61%|██████▏   | 436/709 [00:01<00:00, 438.98 Segments/s]\u001b[A\n",
      "Aligning 2iD-tVS8NPw:  68%|██████▊   | 480/709 [00:01<00:00, 434.26 Segments/s]\u001b[A\n",
      "Aligning 2iD-tVS8NPw:  75%|███████▍  | 529/709 [00:01<00:00, 447.70 Segments/s]\u001b[A\n",
      "Aligning 2iD-tVS8NPw:  82%|████████▏ | 579/709 [00:01<00:00, 462.03 Segments/s]\u001b[A\n",
      "Aligning 2iD-tVS8NPw:  88%|████████▊ | 626/709 [00:01<00:00, 440.37 Segments/s]\u001b[A\n",
      "Aligning 2iD-tVS8NPw:  95%|█████████▍| 671/709 [00:01<00:00, 431.69 Segments/s]\u001b[A\n",
      "Overall Progress:   6%|▋         | 6/93 [00:07<01:59,  1.38s/ Computational Sequence Entries]\n",
      "  0%|          | 0/274 [00:00<?, ? Segments/s]\u001b[A\n",
      "Aligning 5W7Z1C_fDaE:   0%|          | 0/274 [00:00<?, ? Segments/s]\u001b[A\n",
      "Aligning 5W7Z1C_fDaE:  22%|██▏       | 59/274 [00:00<00:00, 589.93 Segments/s]\u001b[A\n",
      "Aligning 5W7Z1C_fDaE:  45%|████▍     | 122/274 [00:00<00:00, 598.76 Segments/s]\u001b[A\n",
      "Aligning 5W7Z1C_fDaE:  68%|██████▊   | 185/274 [00:00<00:00, 599.48 Segments/s]\u001b[A\n",
      "Aligning 5W7Z1C_fDaE:  86%|████████▋ | 237/274 [00:00<00:00, 570.55 Segments/s]\u001b[A\n",
      "Overall Progress:   8%|▊         | 7/93 [00:08<01:35,  1.11s/ Computational Sequence Entries]\n",
      "  0%|          | 0/420 [00:00<?, ? Segments/s]\u001b[A\n",
      "Aligning 6Egk_28TtTM:   0%|          | 0/420 [00:00<?, ? Segments/s]\u001b[A\n",
      "Aligning 6Egk_28TtTM:  12%|█▏        | 50/420 [00:00<00:00, 497.08 Segments/s]\u001b[A\n",
      "Aligning 6Egk_28TtTM:  22%|██▏       | 91/420 [00:00<00:00, 466.79 Segments/s]\u001b[A\n",
      "Aligning 6Egk_28TtTM:  29%|██▉       | 123/420 [00:00<00:00, 407.57 Segments/s]\u001b[A\n",
      "Aligning 6Egk_28TtTM:  41%|████      | 172/420 [00:00<00:00, 427.65 Segments/s]\u001b[A\n",
      "Aligning 6Egk_28TtTM:  52%|█████▏    | 220/420 [00:00<00:00, 440.03 Segments/s]\u001b[A\n"
     ]
    },
    {
     "name": "stderr",
     "output_type": "stream",
     "text": [
      "Aligning 6Egk_28TtTM:  62%|██████▏   | 259/420 [00:00<00:00, 413.30 Segments/s]\u001b[A\n",
      "Aligning 6Egk_28TtTM:  72%|███████▏  | 301/420 [00:00<00:00, 414.80 Segments/s]\u001b[A\n",
      "Aligning 6Egk_28TtTM:  82%|████████▏ | 346/420 [00:00<00:00, 423.83 Segments/s]\u001b[A\n",
      "Aligning 6Egk_28TtTM:  94%|█████████▎| 393/420 [00:00<00:00, 436.46 Segments/s]\u001b[A\n",
      "Overall Progress:   9%|▊         | 8/93 [00:09<01:31,  1.08s/ Computational Sequence Entries]\n",
      "  0%|          | 0/386 [00:00<?, ? Segments/s]\u001b[A\n",
      "Aligning 6_0THN4chvY:   0%|          | 0/386 [00:00<?, ? Segments/s]\u001b[A\n",
      "Aligning 6_0THN4chvY:  13%|█▎        | 50/386 [00:00<00:00, 497.16 Segments/s]\u001b[A\n",
      "Aligning 6_0THN4chvY:  23%|██▎       | 88/386 [00:00<00:00, 453.80 Segments/s]\u001b[A\n",
      "Aligning 6_0THN4chvY:  36%|███▌      | 138/386 [00:00<00:00, 466.65 Segments/s]\u001b[A\n",
      "Aligning 6_0THN4chvY:  47%|████▋     | 183/386 [00:00<00:00, 459.25 Segments/s]\u001b[A\n",
      "Aligning 6_0THN4chvY:  61%|██████    | 236/386 [00:00<00:00, 467.70 Segments/s]\u001b[A\n",
      "Aligning 6_0THN4chvY:  73%|███████▎  | 283/386 [00:00<00:00, 466.30 Segments/s]\u001b[A\n",
      "Aligning 6_0THN4chvY:  84%|████████▍ | 326/386 [00:00<00:00, 445.63 Segments/s]\u001b[A\n",
      "Aligning 6_0THN4chvY:  96%|█████████▌| 371/386 [00:00<00:00, 445.12 Segments/s]\u001b[A\n",
      "Overall Progress:  10%|▉         | 9/93 [00:09<01:25,  1.02s/ Computational Sequence Entries]\n",
      "  0%|          | 0/619 [00:00<?, ? Segments/s]\u001b[A\n",
      "Aligning 73jzhE8R1TQ:   0%|          | 0/619 [00:00<?, ? Segments/s]\u001b[A\n",
      "Aligning 73jzhE8R1TQ:   4%|▍         | 27/619 [00:00<00:02, 269.54 Segments/s]\u001b[A\n",
      "Aligning 73jzhE8R1TQ:  10%|█         | 63/619 [00:00<00:01, 289.95 Segments/s]\u001b[A\n",
      "Aligning 73jzhE8R1TQ:  16%|█▋        | 101/619 [00:00<00:01, 304.68 Segments/s]\u001b[A\n",
      "Aligning 73jzhE8R1TQ:  22%|██▏       | 137/619 [00:00<00:01, 315.45 Segments/s]\u001b[A\n",
      "Aligning 73jzhE8R1TQ:  29%|██▊       | 177/619 [00:00<00:01, 335.46 Segments/s]\u001b[A\n",
      "Aligning 73jzhE8R1TQ:  34%|███▎      | 208/619 [00:00<00:01, 321.61 Segments/s]\u001b[A\n",
      "Aligning 73jzhE8R1TQ:  39%|███▉      | 242/619 [00:00<00:01, 326.80 Segments/s]\u001b[A\n",
      "Aligning 73jzhE8R1TQ:  46%|████▌     | 285/619 [00:00<00:00, 351.58 Segments/s]\u001b[A\n",
      "Aligning 73jzhE8R1TQ:  54%|█████▎    | 332/619 [00:00<00:00, 378.84 Segments/s]\u001b[A\n",
      "Aligning 73jzhE8R1TQ:  61%|██████    | 376/619 [00:01<00:00, 394.84 Segments/s]\u001b[A\n",
      "Aligning 73jzhE8R1TQ:  68%|██████▊   | 420/619 [00:01<00:00, 404.86 Segments/s]\u001b[A\n",
      "Aligning 73jzhE8R1TQ:  74%|███████▍  | 461/619 [00:01<00:00, 402.99 Segments/s]\u001b[A\n",
      "Aligning 73jzhE8R1TQ:  81%|████████  | 502/619 [00:01<00:00, 404.14 Segments/s]\u001b[A\n",
      "Aligning 73jzhE8R1TQ:  88%|████████▊ | 545/619 [00:01<00:00, 409.30 Segments/s]\u001b[A\n",
      "Aligning 73jzhE8R1TQ:  95%|█████████▍| 588/619 [00:01<00:00, 412.56 Segments/s]\u001b[A\n",
      "Overall Progress:  11%|█         | 10/93 [00:11<01:39,  1.20s/ Computational Sequence Entries]\n",
      "  0%|          | 0/643 [00:00<?, ? Segments/s]\u001b[A\n",
      "Aligning 7JsX8y1ysxY:   0%|          | 0/643 [00:00<?, ? Segments/s]\u001b[A\n",
      "Aligning 7JsX8y1ysxY:   8%|▊         | 50/643 [00:00<00:01, 495.48 Segments/s]\u001b[A\n",
      "Aligning 7JsX8y1ysxY:  16%|█▌        | 100/643 [00:00<00:01, 494.08 Segments/s]\u001b[A\n",
      "Aligning 7JsX8y1ysxY:  21%|██        | 134/643 [00:00<00:01, 430.51 Segments/s]\u001b[A\n",
      "Aligning 7JsX8y1ysxY:  28%|██▊       | 179/643 [00:00<00:01, 432.07 Segments/s]\u001b[A\n",
      "Aligning 7JsX8y1ysxY:  34%|███▍      | 221/643 [00:00<00:00, 423.41 Segments/s]\u001b[A\n",
      "Aligning 7JsX8y1ysxY:  41%|████      | 262/643 [00:00<00:00, 414.08 Segments/s]\u001b[A\n",
      "Aligning 7JsX8y1ysxY:  47%|████▋     | 299/643 [00:00<00:00, 397.00 Segments/s]\u001b[A\n",
      "Aligning 7JsX8y1ysxY:  53%|█████▎    | 343/643 [00:00<00:00, 407.54 Segments/s]\u001b[A\n",
      "Aligning 7JsX8y1ysxY:  60%|██████    | 387/643 [00:00<00:00, 416.42 Segments/s]\u001b[A\n",
      "Aligning 7JsX8y1ysxY:  67%|██████▋   | 428/643 [00:01<00:00, 400.48 Segments/s]\u001b[A\n",
      "Aligning 7JsX8y1ysxY:  73%|███████▎  | 468/643 [00:01<00:00, 389.50 Segments/s]\u001b[A\n",
      "Aligning 7JsX8y1ysxY:  79%|███████▉  | 507/643 [00:01<00:00, 387.98 Segments/s]\u001b[A\n",
      "Aligning 7JsX8y1ysxY:  85%|████████▍ | 546/643 [00:01<00:00, 365.22 Segments/s]\u001b[A\n",
      "Aligning 7JsX8y1ysxY:  91%|█████████▏| 588/643 [00:01<00:00, 379.42 Segments/s]\u001b[A\n",
      "Aligning 7JsX8y1ysxY:  98%|█████████▊| 631/643 [00:01<00:00, 384.97 Segments/s]\u001b[A\n",
      "Overall Progress:  12%|█▏        | 11/93 [00:13<01:48,  1.32s/ Computational Sequence Entries]\n",
      "  0%|          | 0/663 [00:00<?, ? Segments/s]\u001b[A\n",
      "Aligning 8OtFthrtaJM:   0%|          | 0/663 [00:00<?, ? Segments/s]\u001b[A\n",
      "Aligning 8OtFthrtaJM:   5%|▌         | 36/663 [00:00<00:01, 350.01 Segments/s]\u001b[A\n",
      "Aligning 8OtFthrtaJM:  11%|█         | 70/663 [00:00<00:01, 338.41 Segments/s]\u001b[A\n",
      "Aligning 8OtFthrtaJM:  17%|█▋        | 115/663 [00:00<00:01, 364.59 Segments/s]\u001b[A\n",
      "Aligning 8OtFthrtaJM:  24%|██▎       | 157/663 [00:00<00:01, 372.50 Segments/s]\u001b[A\n",
      "Aligning 8OtFthrtaJM:  30%|██▉       | 198/663 [00:00<00:01, 380.32 Segments/s]\u001b[A\n",
      "Aligning 8OtFthrtaJM:  36%|███▌      | 239/663 [00:00<00:01, 383.19 Segments/s]\u001b[A\n",
      "Aligning 8OtFthrtaJM:  42%|████▏     | 279/663 [00:00<00:00, 387.73 Segments/s]\u001b[A\n",
      "Aligning 8OtFthrtaJM:  49%|████▊     | 322/663 [00:00<00:00, 397.77 Segments/s]\u001b[A\n",
      "Aligning 8OtFthrtaJM:  54%|█████▍    | 360/663 [00:00<00:00, 368.90 Segments/s]\u001b[A\n",
      "Aligning 8OtFthrtaJM:  61%|██████    | 402/663 [00:01<00:00, 382.87 Segments/s]\u001b[A\n",
      "Aligning 8OtFthrtaJM:  67%|██████▋   | 444/663 [00:01<00:00, 392.93 Segments/s]\u001b[A\n",
      "Aligning 8OtFthrtaJM:  74%|███████▍  | 490/663 [00:01<00:00, 410.46 Segments/s]\u001b[A\n",
      "Aligning 8OtFthrtaJM:  81%|████████  | 537/663 [00:01<00:00, 425.88 Segments/s]\u001b[A\n",
      "Aligning 8OtFthrtaJM:  88%|████████▊ | 584/663 [00:01<00:00, 436.76 Segments/s]\u001b[A\n",
      "Aligning 8OtFthrtaJM:  95%|█████████▍| 628/663 [00:01<00:00, 417.47 Segments/s]\u001b[A\n",
      "Overall Progress:  13%|█▎        | 12/93 [00:14<01:55,  1.42s/ Computational Sequence Entries]\n",
      "  0%|          | 0/597 [00:00<?, ? Segments/s]\u001b[A\n",
      "Aligning 8d-gEyoeBzc:   0%|          | 0/597 [00:00<?, ? Segments/s]\u001b[A\n",
      "Aligning 8d-gEyoeBzc:   7%|▋         | 42/597 [00:00<00:01, 417.62 Segments/s]\u001b[A\n",
      "Aligning 8d-gEyoeBzc:  14%|█▍        | 84/597 [00:00<00:01, 416.21 Segments/s]\u001b[A\n",
      "Aligning 8d-gEyoeBzc:  21%|██▏       | 128/597 [00:00<00:01, 411.78 Segments/s]\u001b[A\n",
      "Aligning 8d-gEyoeBzc:  27%|██▋       | 160/597 [00:00<00:01, 374.98 Segments/s]\u001b[A\n",
      "Aligning 8d-gEyoeBzc:  34%|███▍      | 204/597 [00:00<00:01, 390.84 Segments/s]\u001b[A\n",
      "Aligning 8d-gEyoeBzc:  41%|████      | 244/597 [00:00<00:00, 387.22 Segments/s]\u001b[A\n",
      "Aligning 8d-gEyoeBzc:  49%|████▉     | 295/597 [00:00<00:00, 415.88 Segments/s]\u001b[A\n",
      "Aligning 8d-gEyoeBzc:  58%|█████▊    | 344/597 [00:00<00:00, 435.07 Segments/s]\u001b[A\n",
      "Aligning 8d-gEyoeBzc:  65%|██████▍   | 386/597 [00:00<00:00, 403.65 Segments/s]\u001b[A\n",
      "Aligning 8d-gEyoeBzc:  72%|███████▏  | 431/597 [00:01<00:00, 416.24 Segments/s]\u001b[A\n",
      "Aligning 8d-gEyoeBzc:  80%|████████  | 479/597 [00:01<00:00, 433.03 Segments/s]\u001b[A\n",
      "Aligning 8d-gEyoeBzc:  88%|████████▊ | 524/597 [00:01<00:00, 437.58 Segments/s]\u001b[A\n",
      "Aligning 8d-gEyoeBzc:  95%|█████████▌| 569/597 [00:01<00:00, 439.52 Segments/s]\u001b[A\n",
      "Overall Progress:  14%|█▍        | 13/93 [00:16<01:54,  1.43s/ Computational Sequence Entries]\n",
      "  0%|          | 0/531 [00:00<?, ? Segments/s]\u001b[A\n",
      "Aligning 8qrpnFRGt2A:   0%|          | 0/531 [00:00<?, ? Segments/s]\u001b[A\n",
      "Aligning 8qrpnFRGt2A:   7%|▋         | 36/531 [00:00<00:01, 358.89 Segments/s]\u001b[A\n",
      "Aligning 8qrpnFRGt2A:  14%|█▍        | 76/531 [00:00<00:01, 363.53 Segments/s]\u001b[A\n",
      "Aligning 8qrpnFRGt2A:  22%|██▏       | 115/531 [00:00<00:01, 369.00 Segments/s]\u001b[A\n",
      "Aligning 8qrpnFRGt2A:  30%|██▉       | 157/531 [00:00<00:00, 377.27 Segments/s]\u001b[A\n",
      "Aligning 8qrpnFRGt2A:  37%|███▋      | 196/531 [00:00<00:00, 376.13 Segments/s]\u001b[A\n",
      "Aligning 8qrpnFRGt2A:  45%|████▌     | 239/531 [00:00<00:00, 382.42 Segments/s]\u001b[A\n",
      "Aligning 8qrpnFRGt2A:  53%|█████▎    | 279/531 [00:00<00:00, 385.72 Segments/s]\u001b[A\n",
      "Aligning 8qrpnFRGt2A:  61%|██████    | 322/531 [00:00<00:00, 386.84 Segments/s]\u001b[A\n",
      "Aligning 8qrpnFRGt2A:  70%|██████▉   | 370/531 [00:00<00:00, 409.74 Segments/s]\u001b[A\n",
      "Aligning 8qrpnFRGt2A:  79%|███████▉  | 419/531 [00:01<00:00, 428.66 Segments/s]\u001b[A\n",
      "Aligning 8qrpnFRGt2A:  87%|████████▋ | 462/531 [00:01<00:00, 428.26 Segments/s]\u001b[A\n",
      "Aligning 8qrpnFRGt2A:  95%|█████████▌| 505/531 [00:01<00:00, 427.30 Segments/s]\u001b[A\n",
      "Overall Progress:  15%|█▌        | 14/93 [00:17<01:50,  1.40s/ Computational Sequence Entries]\n"
     ]
    },
    {
     "name": "stderr",
     "output_type": "stream",
     "text": [
      "  0%|          | 0/574 [00:00<?, ? Segments/s]\u001b[A\n",
      "Aligning 9J25DZhivz8:   0%|          | 0/574 [00:00<?, ? Segments/s]\u001b[A\n",
      "Aligning 9J25DZhivz8:   7%|▋         | 42/574 [00:00<00:01, 417.97 Segments/s]\u001b[A\n",
      "Aligning 9J25DZhivz8:  13%|█▎        | 74/574 [00:00<00:01, 376.01 Segments/s]\u001b[A\n",
      "Aligning 9J25DZhivz8:  20%|█▉        | 114/574 [00:00<00:01, 382.83 Segments/s]\u001b[A\n",
      "Aligning 9J25DZhivz8:  27%|██▋       | 156/574 [00:00<00:01, 391.19 Segments/s]\u001b[A\n",
      "Aligning 9J25DZhivz8:  33%|███▎      | 192/574 [00:00<00:01, 380.29 Segments/s]\u001b[A\n",
      "Aligning 9J25DZhivz8:  41%|████      | 233/574 [00:00<00:00, 388.18 Segments/s]\u001b[A\n",
      "Aligning 9J25DZhivz8:  49%|████▊     | 279/574 [00:00<00:00, 406.73 Segments/s]\u001b[A\n",
      "Aligning 9J25DZhivz8:  56%|█████▌    | 321/574 [00:00<00:00, 406.08 Segments/s]\u001b[A\n",
      "Aligning 9J25DZhivz8:  64%|██████▍   | 367/574 [00:00<00:00, 415.90 Segments/s]\u001b[A\n",
      "Aligning 9J25DZhivz8:  71%|███████   | 408/574 [00:01<00:00, 409.41 Segments/s]\u001b[A\n",
      "Aligning 9J25DZhivz8:  79%|███████▉  | 453/574 [00:01<00:00, 419.00 Segments/s]\u001b[A\n",
      "Aligning 9J25DZhivz8:  87%|████████▋ | 498/574 [00:01<00:00, 419.64 Segments/s]\u001b[A\n",
      "Aligning 9J25DZhivz8:  95%|█████████▍| 543/574 [00:01<00:00, 427.86 Segments/s]\u001b[A\n",
      "Overall Progress:  16%|█▌        | 15/93 [00:18<01:49,  1.40s/ Computational Sequence Entries]\n",
      "  0%|          | 0/658 [00:00<?, ? Segments/s]\u001b[A\n",
      "Aligning 9T9Hf74oK10:   0%|          | 0/658 [00:00<?, ? Segments/s]\u001b[A\n",
      "Aligning 9T9Hf74oK10:   6%|▌         | 41/658 [00:00<00:01, 405.78 Segments/s]\u001b[A\n",
      "Aligning 9T9Hf74oK10:  12%|█▏        | 77/658 [00:00<00:01, 387.26 Segments/s]\u001b[A\n",
      "Aligning 9T9Hf74oK10:  18%|█▊        | 121/658 [00:00<00:01, 397.45 Segments/s]\u001b[A\n",
      "Aligning 9T9Hf74oK10:  25%|██▌       | 165/658 [00:00<00:01, 404.66 Segments/s]\u001b[A\n",
      "Aligning 9T9Hf74oK10:  31%|███▏      | 206/658 [00:00<00:01, 401.91 Segments/s]\u001b[A\n",
      "Aligning 9T9Hf74oK10:  38%|███▊      | 252/658 [00:00<00:00, 408.30 Segments/s]\u001b[A\n",
      "Aligning 9T9Hf74oK10:  44%|████▍     | 289/658 [00:00<00:00, 382.66 Segments/s]\u001b[A\n",
      "Aligning 9T9Hf74oK10:  49%|████▉     | 325/658 [00:00<00:00, 362.11 Segments/s]\u001b[A\n",
      "Aligning 9T9Hf74oK10:  55%|█████▌    | 363/658 [00:00<00:00, 365.32 Segments/s]\u001b[A\n",
      "Aligning 9T9Hf74oK10:  62%|██████▏   | 410/658 [00:01<00:00, 390.04 Segments/s]\u001b[A\n",
      "Aligning 9T9Hf74oK10:  70%|███████   | 462/658 [00:01<00:00, 419.81 Segments/s]\u001b[A\n",
      "Aligning 9T9Hf74oK10:  78%|███████▊  | 512/658 [00:01<00:00, 439.16 Segments/s]\u001b[A\n",
      "Aligning 9T9Hf74oK10:  86%|████████▌ | 564/658 [00:01<00:00, 459.45 Segments/s]\u001b[A\n",
      "Aligning 9T9Hf74oK10:  93%|█████████▎| 611/658 [00:01<00:00, 460.64 Segments/s]\u001b[A\n",
      "Aligning 9T9Hf74oK10: 100%|██████████| 658/658 [00:01<00:00, 424.85 Segments/s]\u001b[A\n",
      "Overall Progress:  17%|█▋        | 16/93 [00:20<01:52,  1.47s/ Computational Sequence Entries]\n",
      "  0%|          | 0/305 [00:00<?, ? Segments/s]\u001b[A\n",
      "Aligning 9c67fiY0wGQ:   0%|          | 0/305 [00:00<?, ? Segments/s]\u001b[A\n",
      "Aligning 9c67fiY0wGQ:  14%|█▍        | 43/305 [00:00<00:00, 423.85 Segments/s]\u001b[A\n",
      "Aligning 9c67fiY0wGQ:  28%|██▊       | 84/305 [00:00<00:00, 416.15 Segments/s]\u001b[A\n",
      "Aligning 9c67fiY0wGQ:  44%|████▎     | 133/305 [00:00<00:00, 435.10 Segments/s]\u001b[A\n",
      "Aligning 9c67fiY0wGQ:  60%|██████    | 183/305 [00:00<00:00, 452.35 Segments/s]\u001b[A\n",
      "Aligning 9c67fiY0wGQ:  74%|███████▍  | 226/305 [00:00<00:00, 439.31 Segments/s]\u001b[A\n",
      "Aligning 9c67fiY0wGQ:  91%|█████████ | 277/305 [00:00<00:00, 448.08 Segments/s]\u001b[A\n",
      "Overall Progress:  18%|█▊        | 17/93 [00:21<01:33,  1.23s/ Computational Sequence Entries]\n",
      "  0%|          | 0/762 [00:00<?, ? Segments/s]\u001b[A\n",
      "Aligning 9qR7uwkblbs:   0%|          | 0/762 [00:00<?, ? Segments/s]\u001b[A\n",
      "Aligning 9qR7uwkblbs:   4%|▍         | 34/762 [00:00<00:02, 338.69 Segments/s]\u001b[A\n",
      "Aligning 9qR7uwkblbs:  10%|█         | 77/762 [00:00<00:01, 360.01 Segments/s]\u001b[A\n",
      "Aligning 9qR7uwkblbs:  16%|█▌        | 121/762 [00:00<00:01, 367.64 Segments/s]\u001b[A\n",
      "Aligning 9qR7uwkblbs:  20%|█▉        | 150/762 [00:00<00:01, 340.03 Segments/s]\u001b[A\n",
      "Aligning 9qR7uwkblbs:  25%|██▍       | 187/762 [00:00<00:01, 346.93 Segments/s]\u001b[A\n",
      "Aligning 9qR7uwkblbs:  29%|██▉       | 223/762 [00:00<00:01, 350.14 Segments/s]\u001b[A\n",
      "Aligning 9qR7uwkblbs:  35%|███▍      | 264/762 [00:00<00:01, 364.55 Segments/s]\u001b[A\n",
      "Aligning 9qR7uwkblbs:  40%|████      | 308/762 [00:00<00:01, 383.25 Segments/s]\u001b[A\n",
      "Aligning 9qR7uwkblbs:  46%|████▌     | 352/762 [00:00<00:01, 397.29 Segments/s]\u001b[A\n",
      "Aligning 9qR7uwkblbs:  52%|█████▏    | 396/762 [00:01<00:00, 408.03 Segments/s]\u001b[A\n",
      "Aligning 9qR7uwkblbs:  58%|█████▊    | 442/762 [00:01<00:00, 421.84 Segments/s]\u001b[A\n",
      "Aligning 9qR7uwkblbs:  64%|██████▍   | 487/762 [00:01<00:00, 428.87 Segments/s]\u001b[A\n",
      "Aligning 9qR7uwkblbs:  70%|██████▉   | 531/762 [00:01<00:00, 428.27 Segments/s]\u001b[A\n",
      "Aligning 9qR7uwkblbs:  76%|███████▌  | 581/762 [00:01<00:00, 446.41 Segments/s]\u001b[A\n",
      "Aligning 9qR7uwkblbs:  83%|████████▎ | 630/762 [00:01<00:00, 458.63 Segments/s]\u001b[A\n",
      "Aligning 9qR7uwkblbs:  90%|████████▉ | 682/762 [00:01<00:00, 472.98 Segments/s]\u001b[A\n",
      "Aligning 9qR7uwkblbs:  96%|█████████▌| 733/762 [00:01<00:00, 482.20 Segments/s]\u001b[A\n",
      "Overall Progress:  19%|█▉        | 18/93 [00:23<01:45,  1.41s/ Computational Sequence Entries]\n",
      "  0%|          | 0/677 [00:00<?, ? Segments/s]\u001b[A\n",
      "Aligning Af8D0E4ZXaw:   0%|          | 0/677 [00:00<?, ? Segments/s]\u001b[A\n",
      "Aligning Af8D0E4ZXaw:   7%|▋         | 48/677 [00:00<00:01, 479.03 Segments/s]\u001b[A\n",
      "Aligning Af8D0E4ZXaw:  14%|█▎        | 92/677 [00:00<00:01, 465.57 Segments/s]\u001b[A\n",
      "Aligning Af8D0E4ZXaw:  20%|█▉        | 135/677 [00:00<00:01, 453.47 Segments/s]\u001b[A\n",
      "Aligning Af8D0E4ZXaw:  25%|██▌       | 172/677 [00:00<00:01, 414.69 Segments/s]\u001b[A\n",
      "Aligning Af8D0E4ZXaw:  32%|███▏      | 215/677 [00:00<00:01, 418.15 Segments/s]\u001b[A\n",
      "Aligning Af8D0E4ZXaw:  39%|███▉      | 266/677 [00:00<00:00, 433.61 Segments/s]\u001b[A\n",
      "Aligning Af8D0E4ZXaw:  47%|████▋     | 316/677 [00:00<00:00, 450.92 Segments/s]\u001b[A\n",
      "Aligning Af8D0E4ZXaw:  53%|█████▎    | 358/677 [00:00<00:00, 419.54 Segments/s]\u001b[A\n",
      "Aligning Af8D0E4ZXaw:  59%|█████▉    | 399/677 [00:00<00:00, 413.58 Segments/s]\u001b[A\n",
      "Aligning Af8D0E4ZXaw:  65%|██████▍   | 440/677 [00:01<00:00, 394.58 Segments/s]\u001b[A\n",
      "Aligning Af8D0E4ZXaw:  71%|███████   | 479/677 [00:01<00:00, 386.86 Segments/s]\u001b[A\n",
      "Aligning Af8D0E4ZXaw:  77%|███████▋  | 519/677 [00:01<00:00, 389.98 Segments/s]\u001b[A\n",
      "Aligning Af8D0E4ZXaw:  84%|████████▍ | 568/677 [00:01<00:00, 414.09 Segments/s]\u001b[A\n",
      "Aligning Af8D0E4ZXaw:  90%|█████████ | 612/677 [00:01<00:00, 409.20 Segments/s]\u001b[A\n",
      "Aligning Af8D0E4ZXaw:  97%|█████████▋| 660/677 [00:01<00:00, 428.03 Segments/s]\u001b[A\n",
      "Overall Progress:  20%|██        | 19/93 [00:24<01:49,  1.47s/ Computational Sequence Entries]\n",
      "  0%|          | 0/411 [00:00<?, ? Segments/s]\u001b[A\n",
      "Aligning BI97DNYfe5I:   0%|          | 0/411 [00:00<?, ? Segments/s]\u001b[A\n",
      "Aligning BI97DNYfe5I:  12%|█▏        | 48/411 [00:00<00:00, 474.32 Segments/s]\u001b[A\n",
      "Aligning BI97DNYfe5I:  22%|██▏       | 89/411 [00:00<00:00, 450.96 Segments/s]\u001b[A\n",
      "Aligning BI97DNYfe5I:  34%|███▎      | 138/411 [00:00<00:00, 453.12 Segments/s]\u001b[A\n",
      "Aligning BI97DNYfe5I:  45%|████▌     | 187/411 [00:00<00:00, 458.32 Segments/s]\u001b[A\n",
      "Aligning BI97DNYfe5I:  58%|█████▊    | 240/411 [00:00<00:00, 472.61 Segments/s]\u001b[A\n",
      "Aligning BI97DNYfe5I:  72%|███████▏  | 296/411 [00:00<00:00, 495.82 Segments/s]\u001b[A\n",
      "Aligning BI97DNYfe5I:  86%|████████▌ | 352/411 [00:00<00:00, 512.87 Segments/s]\u001b[A\n",
      "Aligning BI97DNYfe5I:  99%|█████████▉| 407/411 [00:00<00:00, 522.99 Segments/s]\u001b[A\n",
      "Overall Progress:  22%|██▏       | 20/93 [00:25<01:33,  1.29s/ Computational Sequence Entries]\n",
      "  0%|          | 0/583 [00:00<?, ? Segments/s]\u001b[A\n",
      "Aligning BXuRRbG0Ugk:   0%|          | 0/583 [00:00<?, ? Segments/s]\u001b[A\n",
      "Aligning BXuRRbG0Ugk:   8%|▊         | 44/583 [00:00<00:01, 437.89 Segments/s]\u001b[A\n",
      "Aligning BXuRRbG0Ugk:  16%|█▌        | 92/583 [00:00<00:01, 448.98 Segments/s]\u001b[A\n",
      "Aligning BXuRRbG0Ugk:  24%|██▍       | 141/583 [00:00<00:00, 459.92 Segments/s]\u001b[A\n",
      "Aligning BXuRRbG0Ugk:  31%|███       | 180/583 [00:00<00:00, 433.63 Segments/s]\u001b[A\n",
      "Aligning BXuRRbG0Ugk:  39%|███▊      | 225/583 [00:00<00:00, 437.77 Segments/s]\u001b[A\n",
      "Aligning BXuRRbG0Ugk:  45%|████▍     | 262/583 [00:00<00:00, 407.10 Segments/s]\u001b[A\n",
      "Aligning BXuRRbG0Ugk:  52%|█████▏    | 304/583 [00:00<00:00, 410.87 Segments/s]\u001b[A\n"
     ]
    },
    {
     "name": "stderr",
     "output_type": "stream",
     "text": [
      "Aligning BXuRRbG0Ugk:  60%|██████    | 352/583 [00:00<00:00, 428.93 Segments/s]\u001b[A\n",
      "Aligning BXuRRbG0Ugk:  69%|██████▊   | 400/583 [00:00<00:00, 440.99 Segments/s]\u001b[A\n",
      "Aligning BXuRRbG0Ugk:  77%|███████▋  | 448/583 [00:01<00:00, 449.61 Segments/s]\u001b[A\n",
      "Aligning BXuRRbG0Ugk:  85%|████████▍ | 493/583 [00:01<00:00, 407.46 Segments/s]\u001b[A\n",
      "Aligning BXuRRbG0Ugk:  92%|█████████▏| 534/583 [00:01<00:00, 361.54 Segments/s]\u001b[A\n",
      "Aligning BXuRRbG0Ugk:  98%|█████████▊| 572/583 [00:01<00:00, 366.60 Segments/s]\u001b[A\n",
      "Overall Progress:  23%|██▎       | 21/93 [00:27<01:35,  1.33s/ Computational Sequence Entries]\n",
      "  0%|          | 0/289 [00:00<?, ? Segments/s]\u001b[A\n",
      "Aligning Bfr499ggo-0:   0%|          | 0/289 [00:00<?, ? Segments/s]\u001b[A\n",
      "Aligning Bfr499ggo-0:  15%|█▍        | 43/289 [00:00<00:00, 382.42 Segments/s]\u001b[A\n",
      "Aligning Bfr499ggo-0:  29%|██▉       | 84/289 [00:00<00:00, 390.12 Segments/s]\u001b[A\n",
      "Aligning Bfr499ggo-0:  43%|████▎     | 124/289 [00:00<00:00, 391.69 Segments/s]\u001b[A\n",
      "Aligning Bfr499ggo-0:  60%|█████▉    | 173/289 [00:00<00:00, 409.70 Segments/s]\u001b[A\n",
      "Aligning Bfr499ggo-0:  74%|███████▍  | 214/289 [00:00<00:00, 409.68 Segments/s]\u001b[A\n",
      "Aligning Bfr499ggo-0:  92%|█████████▏| 265/289 [00:00<00:00, 434.94 Segments/s]\u001b[A\n",
      "Overall Progress:  24%|██▎       | 22/93 [00:27<01:21,  1.14s/ Computational Sequence Entries]\n",
      "  0%|          | 0/667 [00:00<?, ? Segments/s]\u001b[A\n",
      "Aligning BioHAh1qJAQ:   0%|          | 0/667 [00:00<?, ? Segments/s]\u001b[A\n",
      "Aligning BioHAh1qJAQ:   7%|▋         | 46/667 [00:00<00:01, 434.32 Segments/s]\u001b[A\n",
      "Aligning BioHAh1qJAQ:  12%|█▏        | 82/667 [00:00<00:01, 404.31 Segments/s]\u001b[A\n",
      "Aligning BioHAh1qJAQ:  16%|█▌        | 106/667 [00:00<00:01, 328.47 Segments/s]\u001b[A\n",
      "Aligning BioHAh1qJAQ:  19%|█▉        | 128/667 [00:00<00:01, 282.88 Segments/s]\u001b[A\n",
      "Aligning BioHAh1qJAQ:  25%|██▍       | 166/667 [00:00<00:01, 300.53 Segments/s]\u001b[A\n",
      "Aligning BioHAh1qJAQ:  30%|██▉       | 197/667 [00:00<00:01, 303.25 Segments/s]\u001b[A\n",
      "Aligning BioHAh1qJAQ:  35%|███▌      | 234/667 [00:00<00:01, 308.57 Segments/s]\u001b[A\n",
      "Aligning BioHAh1qJAQ:  39%|███▉      | 263/667 [00:00<00:01, 294.22 Segments/s]\u001b[A\n",
      "Aligning BioHAh1qJAQ:  45%|████▌     | 301/667 [00:00<00:01, 314.38 Segments/s]\u001b[A\n",
      "Aligning BioHAh1qJAQ:  52%|█████▏    | 348/667 [00:01<00:00, 344.55 Segments/s]\u001b[A\n",
      "Aligning BioHAh1qJAQ:  58%|█████▊    | 390/667 [00:01<00:00, 360.27 Segments/s]\u001b[A\n",
      "Aligning BioHAh1qJAQ:  65%|██████▍   | 432/667 [00:01<00:00, 372.30 Segments/s]\u001b[A\n",
      "Aligning BioHAh1qJAQ:  71%|███████   | 473/667 [00:01<00:00, 382.13 Segments/s]\u001b[A\n",
      "Aligning BioHAh1qJAQ:  77%|███████▋  | 512/667 [00:01<00:00, 372.58 Segments/s]\u001b[A\n",
      "Aligning BioHAh1qJAQ:  82%|████████▏ | 550/667 [00:01<00:00, 367.81 Segments/s]\u001b[A\n",
      "Aligning BioHAh1qJAQ:  88%|████████▊ | 588/667 [00:01<00:00, 356.26 Segments/s]\u001b[A\n",
      "Aligning BioHAh1qJAQ:  94%|█████████▎| 624/667 [00:01<00:00, 337.68 Segments/s]\u001b[A\n",
      "Overall Progress:  25%|██▍       | 23/93 [00:29<01:36,  1.38s/ Computational Sequence Entries]\n",
      "  0%|          | 0/715 [00:00<?, ? Segments/s]\u001b[A\n",
      "Aligning BvYR0L6f2Ig:   0%|          | 0/715 [00:00<?, ? Segments/s]\u001b[A\n",
      "Aligning BvYR0L6f2Ig:   6%|▋         | 46/715 [00:00<00:01, 452.01 Segments/s]\u001b[A\n",
      "Aligning BvYR0L6f2Ig:  12%|█▏        | 89/715 [00:00<00:01, 444.09 Segments/s]\u001b[A\n",
      "Aligning BvYR0L6f2Ig:  19%|█▊        | 134/715 [00:00<00:01, 431.05 Segments/s]\u001b[A\n",
      "Aligning BvYR0L6f2Ig:  24%|██▎       | 169/715 [00:00<00:01, 401.01 Segments/s]\u001b[A\n",
      "Aligning BvYR0L6f2Ig:  30%|██▉       | 212/715 [00:00<00:01, 406.62 Segments/s]\u001b[A\n",
      "Aligning BvYR0L6f2Ig:  36%|███▌      | 257/715 [00:00<00:01, 414.93 Segments/s]\u001b[A\n",
      "Aligning BvYR0L6f2Ig:  41%|████▏     | 296/715 [00:00<00:01, 405.29 Segments/s]\u001b[A\n",
      "Aligning BvYR0L6f2Ig:  47%|████▋     | 337/715 [00:00<00:00, 406.37 Segments/s]\u001b[A\n",
      "Aligning BvYR0L6f2Ig:  53%|█████▎    | 380/715 [00:00<00:00, 411.45 Segments/s]\u001b[A\n",
      "Aligning BvYR0L6f2Ig:  59%|█████▊    | 420/715 [00:01<00:00, 380.66 Segments/s]\u001b[A\n",
      "Aligning BvYR0L6f2Ig:  64%|██████▍   | 458/715 [00:01<00:00, 368.37 Segments/s]\u001b[A\n",
      "Aligning BvYR0L6f2Ig:  69%|██████▉   | 496/715 [00:01<00:00, 371.78 Segments/s]\u001b[A\n",
      "Aligning BvYR0L6f2Ig:  75%|███████▍  | 535/715 [00:01<00:00, 376.07 Segments/s]\u001b[A\n",
      "Aligning BvYR0L6f2Ig:  80%|████████  | 573/715 [00:01<00:00, 369.28 Segments/s]\u001b[A\n",
      "Aligning BvYR0L6f2Ig:  87%|████████▋ | 620/715 [00:01<00:00, 391.27 Segments/s]\u001b[A\n",
      "Aligning BvYR0L6f2Ig:  92%|█████████▏| 661/715 [00:01<00:00, 394.07 Segments/s]\u001b[A\n",
      "Aligning BvYR0L6f2Ig:  98%|█████████▊| 704/715 [00:01<00:00, 402.36 Segments/s]\u001b[A\n",
      "Overall Progress:  26%|██▌       | 24/93 [00:31<01:43,  1.51s/ Computational Sequence Entries]\n",
      "  0%|          | 0/807 [00:00<?, ? Segments/s]\u001b[A\n",
      "Aligning Ci-AH39fi3Y:   0%|          | 0/807 [00:00<?, ? Segments/s]\u001b[A\n",
      "Aligning Ci-AH39fi3Y:   5%|▌         | 44/807 [00:00<00:01, 434.29 Segments/s]\u001b[A\n",
      "Aligning Ci-AH39fi3Y:  11%|█         | 87/807 [00:00<00:01, 432.60 Segments/s]\u001b[A\n",
      "Aligning Ci-AH39fi3Y:  16%|█▋        | 133/807 [00:00<00:01, 438.53 Segments/s]\u001b[A\n",
      "Aligning Ci-AH39fi3Y:  22%|██▏       | 179/807 [00:00<00:01, 443.03 Segments/s]\u001b[A\n",
      "Aligning Ci-AH39fi3Y:  28%|██▊       | 224/807 [00:00<00:01, 445.02 Segments/s]\u001b[A\n",
      "Aligning Ci-AH39fi3Y:  33%|███▎      | 266/807 [00:00<00:01, 430.39 Segments/s]\u001b[A\n",
      "Aligning Ci-AH39fi3Y:  38%|███▊      | 309/807 [00:00<00:01, 429.91 Segments/s]\u001b[A\n",
      "Aligning Ci-AH39fi3Y:  44%|████▎     | 352/807 [00:00<00:01, 419.48 Segments/s]\u001b[A\n",
      "Aligning Ci-AH39fi3Y:  49%|████▊     | 392/807 [00:00<00:01, 400.92 Segments/s]\u001b[A\n",
      "Aligning Ci-AH39fi3Y:  53%|█████▎    | 431/807 [00:01<00:01, 364.93 Segments/s]\u001b[A\n",
      "Aligning Ci-AH39fi3Y:  58%|█████▊    | 471/807 [00:01<00:00, 373.26 Segments/s]\u001b[A\n",
      "Aligning Ci-AH39fi3Y:  64%|██████▎   | 513/807 [00:01<00:00, 378.93 Segments/s]\u001b[A\n",
      "Aligning Ci-AH39fi3Y:  69%|██████▊   | 554/807 [00:01<00:00, 378.92 Segments/s]\u001b[A\n",
      "Aligning Ci-AH39fi3Y:  74%|███████▎  | 595/807 [00:01<00:00, 379.41 Segments/s]\u001b[A\n",
      "Aligning Ci-AH39fi3Y:  78%|███████▊  | 633/807 [00:01<00:00, 377.81 Segments/s]\u001b[A\n",
      "Aligning Ci-AH39fi3Y:  84%|████████▍ | 677/807 [00:01<00:00, 387.72 Segments/s]\u001b[A\n",
      "Aligning Ci-AH39fi3Y:  89%|████████▉ | 717/807 [00:01<00:00, 389.45 Segments/s]\u001b[A\n",
      "Aligning Ci-AH39fi3Y:  94%|█████████▎| 756/807 [00:01<00:00, 382.49 Segments/s]\u001b[A\n",
      "Aligning Ci-AH39fi3Y:  99%|█████████▊| 795/807 [00:02<00:00, 380.20 Segments/s]\u001b[A\n",
      "Overall Progress:  27%|██▋       | 25/93 [00:33<01:53,  1.67s/ Computational Sequence Entries]\n",
      "  0%|          | 0/601 [00:00<?, ? Segments/s]\u001b[A\n",
      "Aligning Clx4VXItLTE:   0%|          | 0/601 [00:00<?, ? Segments/s]\u001b[A\n",
      "Aligning Clx4VXItLTE:   6%|▋         | 39/601 [00:00<00:01, 388.47 Segments/s]\u001b[A\n",
      "Aligning Clx4VXItLTE:  11%|█         | 67/601 [00:00<00:01, 346.09 Segments/s]\u001b[A\n",
      "Aligning Clx4VXItLTE:  19%|█▉        | 115/601 [00:00<00:01, 376.46 Segments/s]\u001b[A\n",
      "Aligning Clx4VXItLTE:  27%|██▋       | 161/601 [00:00<00:01, 397.83 Segments/s]\u001b[A\n",
      "Aligning Clx4VXItLTE:  33%|███▎      | 198/601 [00:00<00:01, 382.94 Segments/s]\u001b[A\n",
      "Aligning Clx4VXItLTE:  41%|████      | 244/601 [00:00<00:00, 401.65 Segments/s]\u001b[A\n",
      "Aligning Clx4VXItLTE:  49%|████▉     | 293/601 [00:00<00:00, 418.05 Segments/s]\u001b[A\n",
      "Aligning Clx4VXItLTE:  55%|█████▌    | 333/601 [00:00<00:00, 392.69 Segments/s]\u001b[A\n",
      "Aligning Clx4VXItLTE:  62%|██████▏   | 371/601 [00:00<00:00, 386.42 Segments/s]\u001b[A\n",
      "Aligning Clx4VXItLTE:  68%|██████▊   | 409/601 [00:01<00:00, 372.98 Segments/s]\u001b[A\n",
      "Aligning Clx4VXItLTE:  74%|███████▍  | 446/601 [00:01<00:00, 366.09 Segments/s]\u001b[A\n",
      "Aligning Clx4VXItLTE:  81%|████████  | 488/601 [00:01<00:00, 378.42 Segments/s]\u001b[A\n",
      "Aligning Clx4VXItLTE:  88%|████████▊ | 529/601 [00:01<00:00, 386.68 Segments/s]\u001b[A\n",
      "Aligning Clx4VXItLTE:  95%|█████████▌| 572/601 [00:01<00:00, 398.56 Segments/s]\u001b[A\n",
      "Overall Progress:  28%|██▊       | 26/93 [00:35<01:49,  1.63s/ Computational Sequence Entries]\n",
      "  0%|          | 0/418 [00:00<?, ? Segments/s]\u001b[A\n",
      "Aligning Dg_0XKD0Mf4:   0%|          | 0/418 [00:00<?, ? Segments/s]\u001b[A\n",
      "Aligning Dg_0XKD0Mf4:  10%|▉         | 41/418 [00:00<00:00, 404.22 Segments/s]\u001b[A\n",
      "Aligning Dg_0XKD0Mf4:  20%|█▉        | 82/418 [00:00<00:00, 405.48 Segments/s]\u001b[A\n",
      "Aligning Dg_0XKD0Mf4:  31%|███       | 128/418 [00:00<00:00, 418.29 Segments/s]\u001b[A\n",
      "Aligning Dg_0XKD0Mf4:  40%|████      | 169/418 [00:00<00:00, 407.67 Segments/s]\u001b[A\n"
     ]
    },
    {
     "name": "stderr",
     "output_type": "stream",
     "text": [
      "Aligning Dg_0XKD0Mf4:  50%|████▉     | 208/418 [00:00<00:00, 400.46 Segments/s]\u001b[A\n",
      "Aligning Dg_0XKD0Mf4:  61%|██████    | 253/418 [00:00<00:00, 412.35 Segments/s]\u001b[A\n",
      "Aligning Dg_0XKD0Mf4:  72%|███████▏  | 300/418 [00:00<00:00, 427.05 Segments/s]\u001b[A\n",
      "Aligning Dg_0XKD0Mf4:  83%|████████▎ | 347/418 [00:00<00:00, 437.76 Segments/s]\u001b[A\n",
      "Aligning Dg_0XKD0Mf4:  95%|█████████▌| 398/418 [00:00<00:00, 449.08 Segments/s]\u001b[A\n",
      "Overall Progress:  29%|██▉       | 27/93 [00:35<01:34,  1.43s/ Computational Sequence Entries]\n",
      "  0%|          | 0/567 [00:00<?, ? Segments/s]\u001b[A\n",
      "Aligning G-xst2euQUc:   0%|          | 0/567 [00:00<?, ? Segments/s]\u001b[A\n",
      "Aligning G-xst2euQUc:   7%|▋         | 42/567 [00:00<00:01, 414.74 Segments/s]\u001b[A\n",
      "Aligning G-xst2euQUc:  14%|█▍        | 82/567 [00:00<00:01, 408.27 Segments/s]\u001b[A\n",
      "Aligning G-xst2euQUc:  23%|██▎       | 128/567 [00:00<00:01, 413.29 Segments/s]\u001b[A\n",
      "Aligning G-xst2euQUc:  30%|███       | 172/567 [00:00<00:00, 416.32 Segments/s]\u001b[A\n",
      "Aligning G-xst2euQUc:  39%|███▊      | 219/567 [00:00<00:00, 426.27 Segments/s]\u001b[A\n",
      "Aligning G-xst2euQUc:  48%|████▊     | 272/567 [00:00<00:00, 451.36 Segments/s]\u001b[A\n",
      "Aligning G-xst2euQUc:  56%|█████▌    | 318/567 [00:00<00:00, 451.84 Segments/s]\u001b[A\n",
      "Aligning G-xst2euQUc:  65%|██████▌   | 369/567 [00:00<00:00, 466.23 Segments/s]\u001b[A\n",
      "Aligning G-xst2euQUc:  74%|███████▍  | 420/567 [00:00<00:00, 478.26 Segments/s]\u001b[A\n",
      "Aligning G-xst2euQUc:  82%|████████▏ | 467/567 [00:01<00:00, 431.98 Segments/s]\u001b[A\n",
      "Aligning G-xst2euQUc:  90%|█████████ | 511/567 [00:01<00:00, 412.88 Segments/s]\u001b[A\n",
      "Aligning G-xst2euQUc:  98%|█████████▊| 557/567 [00:01<00:00, 414.44 Segments/s]\u001b[A\n",
      "Overall Progress:  30%|███       | 28/93 [00:37<01:31,  1.40s/ Computational Sequence Entries]\n",
      "  0%|          | 0/782 [00:00<?, ? Segments/s]\u001b[A\n",
      "Aligning G6GlGvlkxAQ:   0%|          | 0/782 [00:00<?, ? Segments/s]\u001b[A\n",
      "Aligning G6GlGvlkxAQ:   6%|▌         | 45/782 [00:00<00:01, 440.24 Segments/s]\u001b[A\n",
      "Aligning G6GlGvlkxAQ:  11%|█         | 87/782 [00:00<00:01, 431.63 Segments/s]\u001b[A\n",
      "Aligning G6GlGvlkxAQ:  16%|█▋        | 128/782 [00:00<00:01, 422.27 Segments/s]\u001b[A\n",
      "Aligning G6GlGvlkxAQ:  21%|██        | 165/782 [00:00<00:01, 403.38 Segments/s]\u001b[A\n",
      "Aligning G6GlGvlkxAQ:  26%|██▌       | 201/782 [00:00<00:01, 383.62 Segments/s]\u001b[A\n",
      "Aligning G6GlGvlkxAQ:  30%|██▉       | 233/782 [00:00<00:01, 347.66 Segments/s]\u001b[A\n",
      "Aligning G6GlGvlkxAQ:  35%|███▍      | 273/782 [00:00<00:01, 360.43 Segments/s]\u001b[A\n",
      "Aligning G6GlGvlkxAQ:  40%|███▉      | 311/782 [00:00<00:01, 364.54 Segments/s]\u001b[A\n",
      "Aligning G6GlGvlkxAQ:  46%|████▌     | 356/782 [00:00<00:01, 385.80 Segments/s]\u001b[A\n",
      "Aligning G6GlGvlkxAQ:  51%|█████▏    | 401/782 [00:01<00:00, 402.90 Segments/s]\u001b[A\n",
      "Aligning G6GlGvlkxAQ:  57%|█████▋    | 444/782 [00:01<00:00, 410.38 Segments/s]\u001b[A\n",
      "Aligning G6GlGvlkxAQ:  62%|██████▏   | 485/782 [00:01<00:00, 396.71 Segments/s]\u001b[A\n",
      "Aligning G6GlGvlkxAQ:  67%|██████▋   | 526/782 [00:01<00:00, 399.65 Segments/s]\u001b[A\n",
      "Aligning G6GlGvlkxAQ:  73%|███████▎  | 567/782 [00:01<00:00, 399.13 Segments/s]\u001b[A\n",
      "Aligning G6GlGvlkxAQ:  78%|███████▊  | 607/782 [00:01<00:00, 365.52 Segments/s]\u001b[A\n",
      "Aligning G6GlGvlkxAQ:  82%|████████▏ | 645/782 [00:01<00:00, 368.64 Segments/s]\u001b[A\n",
      "Aligning G6GlGvlkxAQ:  88%|████████▊ | 688/782 [00:01<00:00, 383.07 Segments/s]\u001b[A\n",
      "Aligning G6GlGvlkxAQ:  93%|█████████▎| 731/782 [00:01<00:00, 394.87 Segments/s]\u001b[A\n",
      "Aligning G6GlGvlkxAQ:  99%|█████████▊| 771/782 [00:01<00:00, 384.10 Segments/s]\u001b[A\n",
      "Overall Progress:  31%|███       | 29/93 [00:39<01:41,  1.59s/ Computational Sequence Entries]\n",
      "  0%|          | 0/433 [00:00<?, ? Segments/s]\u001b[A\n",
      "Aligning GWuJjcEuzt8:   0%|          | 0/433 [00:00<?, ? Segments/s]\u001b[A\n",
      "Aligning GWuJjcEuzt8:  11%|█         | 46/433 [00:00<00:00, 458.33 Segments/s]\u001b[A\n",
      "Aligning GWuJjcEuzt8:  22%|██▏       | 96/433 [00:00<00:00, 467.89 Segments/s]\u001b[A\n",
      "Aligning GWuJjcEuzt8:  34%|███▍      | 147/433 [00:00<00:00, 477.78 Segments/s]\u001b[A\n",
      "Aligning GWuJjcEuzt8:  45%|████▌     | 197/433 [00:00<00:00, 478.52 Segments/s]\u001b[A\n",
      "Aligning GWuJjcEuzt8:  56%|█████▋    | 244/433 [00:00<00:00, 475.05 Segments/s]\u001b[A\n",
      "Aligning GWuJjcEuzt8:  66%|██████▌   | 284/433 [00:00<00:00, 443.44 Segments/s]\u001b[A\n",
      "Aligning GWuJjcEuzt8:  75%|███████▌  | 325/433 [00:00<00:00, 431.59 Segments/s]\u001b[A\n",
      "Aligning GWuJjcEuzt8:  86%|████████▌ | 372/433 [00:00<00:00, 442.09 Segments/s]\u001b[A\n",
      "Aligning GWuJjcEuzt8:  97%|█████████▋| 422/433 [00:00<00:00, 457.55 Segments/s]\u001b[A\n",
      "Overall Progress:  32%|███▏      | 30/93 [00:40<01:28,  1.40s/ Computational Sequence Entries]\n",
      "  0%|          | 0/635 [00:00<?, ? Segments/s]\u001b[A\n",
      "Aligning HEsqda8_d0Q:   0%|          | 0/635 [00:00<?, ? Segments/s]\u001b[A\n",
      "Aligning HEsqda8_d0Q:   7%|▋         | 43/635 [00:00<00:01, 424.94 Segments/s]\u001b[A\n",
      "Aligning HEsqda8_d0Q:  14%|█▎        | 86/635 [00:00<00:01, 425.24 Segments/s]\u001b[A\n",
      "Aligning HEsqda8_d0Q:  20%|██        | 128/635 [00:00<00:01, 423.52 Segments/s]\u001b[A\n",
      "Aligning HEsqda8_d0Q:  25%|██▍       | 156/635 [00:00<00:01, 361.96 Segments/s]\u001b[A\n",
      "Aligning HEsqda8_d0Q:  30%|██▉       | 189/635 [00:00<00:01, 350.92 Segments/s]\u001b[A\n",
      "Aligning HEsqda8_d0Q:  35%|███▌      | 225/635 [00:00<00:01, 350.28 Segments/s]\u001b[A\n",
      "Aligning HEsqda8_d0Q:  41%|████      | 261/635 [00:00<00:01, 352.52 Segments/s]\u001b[A\n",
      "Aligning HEsqda8_d0Q:  46%|████▋     | 294/635 [00:00<00:01, 312.04 Segments/s]\u001b[A\n",
      "Aligning HEsqda8_d0Q:  54%|█████▍    | 344/635 [00:00<00:00, 350.28 Segments/s]\u001b[A\n",
      "Aligning HEsqda8_d0Q:  61%|██████    | 385/635 [00:01<00:00, 358.38 Segments/s]\u001b[A\n",
      "Aligning HEsqda8_d0Q:  68%|██████▊   | 434/635 [00:01<00:00, 379.01 Segments/s]\u001b[A\n",
      "Aligning HEsqda8_d0Q:  75%|███████▍  | 474/635 [00:01<00:00, 384.60 Segments/s]\u001b[A\n",
      "Aligning HEsqda8_d0Q:  81%|████████▏ | 516/635 [00:01<00:00, 394.18 Segments/s]\u001b[A\n",
      "Aligning HEsqda8_d0Q:  88%|████████▊ | 558/635 [00:01<00:00, 393.35 Segments/s]\u001b[A\n",
      "Aligning HEsqda8_d0Q:  94%|█████████▍| 598/635 [00:01<00:00, 393.79 Segments/s]\u001b[A\n",
      "Overall Progress:  33%|███▎      | 31/93 [00:41<01:31,  1.48s/ Computational Sequence Entries]\n",
      "  0%|          | 0/654 [00:00<?, ? Segments/s]\u001b[A\n",
      "Aligning I5y0__X72p0:   0%|          | 0/654 [00:00<?, ? Segments/s]\u001b[A\n",
      "Aligning I5y0__X72p0:   7%|▋         | 46/654 [00:00<00:01, 457.14 Segments/s]\u001b[A\n",
      "Aligning I5y0__X72p0:  14%|█▍        | 94/654 [00:00<00:01, 463.31 Segments/s]\u001b[A\n",
      "Aligning I5y0__X72p0:  21%|██        | 135/654 [00:00<00:01, 443.20 Segments/s]\u001b[A\n",
      "Aligning I5y0__X72p0:  28%|██▊       | 185/654 [00:00<00:01, 458.04 Segments/s]\u001b[A\n",
      "Aligning I5y0__X72p0:  36%|███▌      | 237/654 [00:00<00:00, 474.33 Segments/s]\u001b[A\n",
      "Aligning I5y0__X72p0:  44%|████▍     | 287/654 [00:00<00:00, 476.67 Segments/s]\u001b[A\n",
      "Aligning I5y0__X72p0:  51%|█████     | 331/654 [00:00<00:00, 465.04 Segments/s]\u001b[A\n",
      "Aligning I5y0__X72p0:  58%|█████▊    | 378/654 [00:00<00:00, 464.27 Segments/s]\u001b[A\n",
      "Aligning I5y0__X72p0:  66%|██████▌   | 429/654 [00:00<00:00, 475.87 Segments/s]\u001b[A\n",
      "Aligning I5y0__X72p0:  73%|███████▎  | 477/654 [00:01<00:00, 469.69 Segments/s]\u001b[A\n",
      "Aligning I5y0__X72p0:  80%|███████▉  | 523/654 [00:01<00:00, 461.00 Segments/s]\u001b[A\n",
      "Aligning I5y0__X72p0:  87%|████████▋ | 569/654 [00:01<00:00, 454.01 Segments/s]\u001b[A\n",
      "Aligning I5y0__X72p0:  94%|█████████▍| 618/654 [00:01<00:00, 462.74 Segments/s]\u001b[A\n",
      "Overall Progress:  34%|███▍      | 32/93 [00:43<01:29,  1.46s/ Computational Sequence Entries]\n",
      "  0%|          | 0/328 [00:00<?, ? Segments/s]\u001b[A\n",
      "Aligning Iu2PFX3z_1s:   0%|          | 0/328 [00:00<?, ? Segments/s]\u001b[A\n",
      "Aligning Iu2PFX3z_1s:  18%|█▊        | 59/328 [00:00<00:00, 584.71 Segments/s]\u001b[A\n",
      "Aligning Iu2PFX3z_1s:  31%|███       | 101/328 [00:00<00:00, 517.30 Segments/s]\u001b[A\n",
      "Aligning Iu2PFX3z_1s:  47%|████▋     | 153/328 [00:00<00:00, 512.27 Segments/s]\u001b[A\n",
      "Aligning Iu2PFX3z_1s:  61%|██████▏   | 201/328 [00:00<00:00, 495.74 Segments/s]\u001b[A\n",
      "Aligning Iu2PFX3z_1s:  76%|███████▌  | 250/328 [00:00<00:00, 483.06 Segments/s]\u001b[A\n",
      "Aligning Iu2PFX3z_1s:  92%|█████████▏| 302/328 [00:00<00:00, 491.19 Segments/s]\u001b[A\n",
      "Overall Progress:  35%|███▌      | 33/93 [00:44<01:13,  1.23s/ Computational Sequence Entries]\n",
      "  0%|          | 0/456 [00:00<?, ? Segments/s]\u001b[A\n",
      "Aligning IumbAb8q2dM:   0%|          | 0/456 [00:00<?, ? Segments/s]\u001b[A\n",
      "Aligning IumbAb8q2dM:   9%|▉         | 42/456 [00:00<00:01, 411.65 Segments/s]\u001b[A\n"
     ]
    },
    {
     "name": "stderr",
     "output_type": "stream",
     "text": [
      "Aligning IumbAb8q2dM:  17%|█▋        | 76/456 [00:00<00:00, 384.42 Segments/s]\u001b[A\n",
      "Aligning IumbAb8q2dM:  28%|██▊       | 127/456 [00:00<00:00, 414.20 Segments/s]\u001b[A\n",
      "Aligning IumbAb8q2dM:  38%|███▊      | 171/456 [00:00<00:00, 421.56 Segments/s]\u001b[A\n",
      "Aligning IumbAb8q2dM:  47%|████▋     | 215/456 [00:00<00:00, 416.05 Segments/s]\u001b[A\n",
      "Aligning IumbAb8q2dM:  58%|█████▊    | 266/456 [00:00<00:00, 438.48 Segments/s]\u001b[A\n",
      "Aligning IumbAb8q2dM:  68%|██████▊   | 312/456 [00:00<00:00, 436.64 Segments/s]\u001b[A\n",
      "Aligning IumbAb8q2dM:  79%|███████▉  | 361/456 [00:00<00:00, 451.18 Segments/s]\u001b[A\n",
      "Aligning IumbAb8q2dM:  91%|█████████ | 414/456 [00:00<00:00, 462.65 Segments/s]\u001b[A\n",
      "Overall Progress:  37%|███▋      | 34/93 [00:45<01:09,  1.17s/ Computational Sequence Entries]\n",
      "  0%|          | 0/226 [00:00<?, ? Segments/s]\u001b[A\n",
      "Aligning Jkswaaud0hk:   0%|          | 0/226 [00:00<?, ? Segments/s]\u001b[A\n",
      "Aligning Jkswaaud0hk:  23%|██▎       | 51/226 [00:00<00:00, 502.87 Segments/s]\u001b[A\n",
      "Aligning Jkswaaud0hk:  37%|███▋      | 84/226 [00:00<00:00, 422.70 Segments/s]\u001b[A\n",
      "Aligning Jkswaaud0hk:  52%|█████▏    | 118/226 [00:00<00:00, 388.59 Segments/s]\u001b[A\n",
      "Aligning Jkswaaud0hk:  76%|███████▌  | 171/226 [00:00<00:00, 421.03 Segments/s]\u001b[A\n",
      "Aligning Jkswaaud0hk:  98%|█████████▊| 221/226 [00:00<00:00, 441.17 Segments/s]\u001b[A\n",
      "Overall Progress:  38%|███▊      | 35/93 [00:45<00:56,  1.02 Computational Sequence Entries/s]\n",
      "  0%|          | 0/759 [00:00<?, ? Segments/s]\u001b[A\n",
      "Aligning LSi-o-IrDMs:   0%|          | 0/759 [00:00<?, ? Segments/s]\u001b[A\n",
      "Aligning LSi-o-IrDMs:   6%|▌         | 44/759 [00:00<00:01, 434.45 Segments/s]\u001b[A\n",
      "Aligning LSi-o-IrDMs:  11%|█▏        | 86/759 [00:00<00:01, 426.16 Segments/s]\u001b[A\n",
      "Aligning LSi-o-IrDMs:  17%|█▋        | 126/759 [00:00<00:01, 415.96 Segments/s]\u001b[A\n",
      "Aligning LSi-o-IrDMs:  23%|██▎       | 172/759 [00:00<00:01, 425.73 Segments/s]\u001b[A\n",
      "Aligning LSi-o-IrDMs:  29%|██▉       | 221/759 [00:00<00:01, 441.60 Segments/s]\u001b[A\n",
      "Aligning LSi-o-IrDMs:  35%|███▌      | 269/759 [00:00<00:01, 443.15 Segments/s]\u001b[A\n",
      "Aligning LSi-o-IrDMs:  41%|████      | 309/759 [00:00<00:01, 419.62 Segments/s]\u001b[A\n",
      "Aligning LSi-o-IrDMs:  46%|████▌     | 348/759 [00:00<00:01, 398.70 Segments/s]\u001b[A\n",
      "Aligning LSi-o-IrDMs:  51%|█████     | 386/759 [00:00<00:00, 379.25 Segments/s]\u001b[A\n",
      "Aligning LSi-o-IrDMs:  57%|█████▋    | 431/759 [00:01<00:00, 397.37 Segments/s]\u001b[A\n",
      "Aligning LSi-o-IrDMs:  62%|██████▏   | 471/759 [00:01<00:00, 374.99 Segments/s]\u001b[A\n",
      "Aligning LSi-o-IrDMs:  67%|██████▋   | 509/759 [00:01<00:00, 366.05 Segments/s]\u001b[A\n",
      "Aligning LSi-o-IrDMs:  72%|███████▏  | 546/759 [00:01<00:00, 351.46 Segments/s]\u001b[A\n",
      "Aligning LSi-o-IrDMs:  77%|███████▋  | 584/759 [00:01<00:00, 358.56 Segments/s]\u001b[A\n",
      "Aligning LSi-o-IrDMs:  82%|████████▏ | 624/759 [00:01<00:00, 367.89 Segments/s]\u001b[A\n",
      "Aligning LSi-o-IrDMs:  87%|████████▋ | 661/759 [00:01<00:00, 342.46 Segments/s]\u001b[A\n",
      "Aligning LSi-o-IrDMs:  92%|█████████▏| 696/759 [00:01<00:00, 317.64 Segments/s]\u001b[A\n",
      "Aligning LSi-o-IrDMs:  97%|█████████▋| 737/759 [00:01<00:00, 339.13 Segments/s]\u001b[A\n",
      "Overall Progress:  39%|███▊      | 36/93 [00:47<01:13,  1.30s/ Computational Sequence Entries]\n",
      "  0%|          | 0/394 [00:00<?, ? Segments/s]\u001b[A\n",
      "Aligning MLal-t_vJPM:   0%|          | 0/394 [00:00<?, ? Segments/s]\u001b[A\n",
      "Aligning MLal-t_vJPM:  12%|█▏        | 46/394 [00:00<00:00, 453.90 Segments/s]\u001b[A\n",
      "Aligning MLal-t_vJPM:  22%|██▏       | 88/394 [00:00<00:00, 442.18 Segments/s]\u001b[A\n",
      "Aligning MLal-t_vJPM:  35%|███▌      | 138/394 [00:00<00:00, 457.70 Segments/s]\u001b[A\n",
      "Aligning MLal-t_vJPM:  47%|████▋     | 185/394 [00:00<00:00, 452.38 Segments/s]\u001b[A\n",
      "Aligning MLal-t_vJPM:  59%|█████▉    | 233/394 [00:00<00:00, 460.27 Segments/s]\u001b[A\n",
      "Aligning MLal-t_vJPM:  73%|███████▎  | 286/394 [00:00<00:00, 478.33 Segments/s]\u001b[A\n",
      "Aligning MLal-t_vJPM:  85%|████████▌ | 336/394 [00:00<00:00, 484.40 Segments/s]\u001b[A\n",
      "Aligning MLal-t_vJPM:  98%|█████████▊| 386/394 [00:00<00:00, 488.97 Segments/s]\u001b[A\n",
      "Overall Progress:  40%|███▉      | 37/93 [00:48<01:05,  1.16s/ Computational Sequence Entries]\n",
      "  0%|          | 0/268 [00:00<?, ? Segments/s]\u001b[A\n",
      "Aligning Njd1F0vZSm4:   0%|          | 0/268 [00:00<?, ? Segments/s]\u001b[A\n",
      "Aligning Njd1F0vZSm4:  22%|██▏       | 59/268 [00:00<00:00, 585.39 Segments/s]\u001b[A\n",
      "Aligning Njd1F0vZSm4:  36%|███▌      | 97/268 [00:00<00:00, 503.67 Segments/s]\u001b[A\n",
      "Aligning Njd1F0vZSm4:  56%|█████▌    | 149/268 [00:00<00:00, 507.23 Segments/s]\u001b[A\n",
      "Aligning Njd1F0vZSm4:  71%|███████▏  | 191/268 [00:00<00:00, 475.15 Segments/s]\u001b[A\n",
      "Aligning Njd1F0vZSm4:  84%|████████▍ | 226/268 [00:00<00:00, 415.17 Segments/s]\u001b[A\n",
      "Overall Progress:  41%|████      | 38/93 [00:49<00:54,  1.00 Computational Sequence Entries/s]\n",
      "  0%|          | 0/634 [00:00<?, ? Segments/s]\u001b[A\n",
      "Aligning Nzq88NnDkEk:   0%|          | 0/634 [00:00<?, ? Segments/s]\u001b[A\n",
      "Aligning Nzq88NnDkEk:   6%|▌         | 35/634 [00:00<00:01, 346.31 Segments/s]\u001b[A\n",
      "Aligning Nzq88NnDkEk:  12%|█▏        | 78/634 [00:00<00:01, 365.98 Segments/s]\u001b[A\n",
      "Aligning Nzq88NnDkEk:  20%|█▉        | 125/634 [00:00<00:01, 390.61 Segments/s]\u001b[A\n",
      "Aligning Nzq88NnDkEk:  26%|██▌       | 166/634 [00:00<00:01, 394.46 Segments/s]\u001b[A\n",
      "Aligning Nzq88NnDkEk:  33%|███▎      | 207/634 [00:00<00:01, 396.90 Segments/s]\u001b[A\n",
      "Aligning Nzq88NnDkEk:  39%|███▉      | 248/634 [00:00<00:00, 399.35 Segments/s]\u001b[A\n",
      "Aligning Nzq88NnDkEk:  46%|████▌     | 289/634 [00:00<00:00, 400.32 Segments/s]\u001b[A\n",
      "Aligning Nzq88NnDkEk:  52%|█████▏    | 329/634 [00:00<00:00, 400.18 Segments/s]\u001b[A\n",
      "Aligning Nzq88NnDkEk:  59%|█████▊    | 372/634 [00:00<00:00, 406.48 Segments/s]\u001b[A\n",
      "Aligning Nzq88NnDkEk:  66%|██████▌   | 420/634 [00:01<00:00, 425.48 Segments/s]\u001b[A\n",
      "Aligning Nzq88NnDkEk:  74%|███████▍  | 468/634 [00:01<00:00, 436.06 Segments/s]\u001b[A\n",
      "Aligning Nzq88NnDkEk:  81%|████████  | 512/634 [00:01<00:00, 424.41 Segments/s]\u001b[A\n",
      "Aligning Nzq88NnDkEk:  88%|████████▊ | 559/634 [00:01<00:00, 434.89 Segments/s]\u001b[A\n",
      "Aligning Nzq88NnDkEk:  95%|█████████▌| 603/634 [00:01<00:00, 430.93 Segments/s]\u001b[A\n",
      "Overall Progress:  42%|████▏     | 39/93 [00:50<01:02,  1.16s/ Computational Sequence Entries]\n",
      "  0%|          | 0/323 [00:00<?, ? Segments/s]\u001b[A\n",
      "Aligning OQvJTdtJ2H4:   0%|          | 0/323 [00:00<?, ? Segments/s]\u001b[A\n",
      "Aligning OQvJTdtJ2H4:  14%|█▍        | 45/323 [00:00<00:00, 444.51 Segments/s]\u001b[A\n",
      "Aligning OQvJTdtJ2H4:  27%|██▋       | 87/323 [00:00<00:00, 429.32 Segments/s]\u001b[A\n",
      "Aligning OQvJTdtJ2H4:  40%|███▉      | 129/323 [00:00<00:00, 424.45 Segments/s]\u001b[A\n",
      "Aligning OQvJTdtJ2H4:  55%|█████▌    | 179/323 [00:00<00:00, 437.31 Segments/s]\u001b[A\n",
      "Aligning OQvJTdtJ2H4:  71%|███████   | 230/323 [00:00<00:00, 455.52 Segments/s]\u001b[A\n",
      "Aligning OQvJTdtJ2H4:  89%|████████▊ | 286/323 [00:00<00:00, 481.08 Segments/s]\u001b[A\n",
      "Overall Progress:  43%|████▎     | 40/93 [00:51<00:54,  1.02s/ Computational Sequence Entries]\n",
      "  0%|          | 0/602 [00:00<?, ? Segments/s]\u001b[A\n",
      "Aligning OtBXNcAL_lE:   0%|          | 0/602 [00:00<?, ? Segments/s]\u001b[A\n",
      "Aligning OtBXNcAL_lE:   6%|▌         | 35/602 [00:00<00:01, 345.80 Segments/s]\u001b[A\n",
      "Aligning OtBXNcAL_lE:  12%|█▏        | 70/602 [00:00<00:01, 345.52 Segments/s]\u001b[A\n",
      "Aligning OtBXNcAL_lE:  19%|█▉        | 117/602 [00:00<00:01, 368.19 Segments/s]\u001b[A\n",
      "Aligning OtBXNcAL_lE:  27%|██▋       | 160/602 [00:00<00:01, 383.91 Segments/s]\u001b[A\n",
      "Aligning OtBXNcAL_lE:  34%|███▎      | 203/602 [00:00<00:01, 394.68 Segments/s]\u001b[A\n",
      "Aligning OtBXNcAL_lE:  41%|████      | 244/602 [00:00<00:00, 392.94 Segments/s]\u001b[A\n",
      "Aligning OtBXNcAL_lE:  48%|████▊     | 289/602 [00:00<00:00, 404.10 Segments/s]\u001b[A\n",
      "Aligning OtBXNcAL_lE:  55%|█████▌    | 332/602 [00:00<00:00, 403.21 Segments/s]\u001b[A\n",
      "Aligning OtBXNcAL_lE:  62%|██████▏   | 371/602 [00:00<00:00, 383.48 Segments/s]\u001b[A\n",
      "Aligning OtBXNcAL_lE:  69%|██████▉   | 417/602 [00:01<00:00, 401.92 Segments/s]\u001b[A\n",
      "Aligning OtBXNcAL_lE:  77%|███████▋  | 465/602 [00:01<00:00, 420.34 Segments/s]\u001b[A\n",
      "Aligning OtBXNcAL_lE:  84%|████████▍ | 507/602 [00:01<00:00, 381.99 Segments/s]\u001b[A\n",
      "Aligning OtBXNcAL_lE:  92%|█████████▏| 555/602 [00:01<00:00, 406.69 Segments/s]\u001b[A\n",
      "Overall Progress:  44%|████▍     | 41/93 [00:52<01:00,  1.16s/ Computational Sequence Entries]\n",
      "  0%|          | 0/746 [00:00<?, ? Segments/s]\u001b[A\n",
      "Aligning Oz06ZWiO20M:   0%|          | 0/746 [00:00<?, ? Segments/s]\u001b[A\n"
     ]
    },
    {
     "name": "stderr",
     "output_type": "stream",
     "text": [
      "Aligning Oz06ZWiO20M:   6%|▋         | 48/746 [00:00<00:01, 471.70 Segments/s]\u001b[A\n",
      "Aligning Oz06ZWiO20M:  12%|█▏        | 90/746 [00:00<00:01, 452.69 Segments/s]\u001b[A\n",
      "Aligning Oz06ZWiO20M:  18%|█▊        | 131/746 [00:00<00:01, 433.90 Segments/s]\u001b[A\n",
      "Aligning Oz06ZWiO20M:  24%|██▍       | 178/746 [00:00<00:01, 438.35 Segments/s]\u001b[A\n",
      "Aligning Oz06ZWiO20M:  30%|██▉       | 222/746 [00:00<00:01, 428.42 Segments/s]\u001b[A\n",
      "Aligning Oz06ZWiO20M:  35%|███▍      | 258/746 [00:00<00:01, 395.83 Segments/s]\u001b[A\n",
      "Aligning Oz06ZWiO20M:  39%|███▉      | 293/746 [00:00<00:01, 374.03 Segments/s]\u001b[A\n",
      "Aligning Oz06ZWiO20M:  44%|████▍     | 328/746 [00:00<00:01, 360.46 Segments/s]\u001b[A\n",
      "Aligning Oz06ZWiO20M:  49%|████▊     | 362/746 [00:00<00:01, 349.41 Segments/s]\u001b[A\n",
      "Aligning Oz06ZWiO20M:  53%|█████▎    | 399/746 [00:01<00:00, 353.96 Segments/s]\u001b[A\n",
      "Aligning Oz06ZWiO20M:  60%|█████▉    | 444/746 [00:01<00:00, 370.52 Segments/s]\u001b[A\n",
      "Aligning Oz06ZWiO20M:  65%|██████▌   | 487/746 [00:01<00:00, 386.24 Segments/s]\u001b[A\n",
      "Aligning Oz06ZWiO20M:  71%|███████   | 528/746 [00:01<00:00, 391.16 Segments/s]\u001b[A\n",
      "Aligning Oz06ZWiO20M:  76%|███████▌  | 568/746 [00:01<00:00, 376.84 Segments/s]\u001b[A\n",
      "Aligning Oz06ZWiO20M:  82%|████████▏ | 614/746 [00:01<00:00, 395.49 Segments/s]\u001b[A\n",
      "Aligning Oz06ZWiO20M:  88%|████████▊ | 658/746 [00:01<00:00, 394.59 Segments/s]\u001b[A\n",
      "Aligning Oz06ZWiO20M:  94%|█████████▎| 698/746 [00:01<00:00, 386.42 Segments/s]\u001b[A\n",
      "Aligning Oz06ZWiO20M: 100%|█████████▉| 744/746 [00:01<00:00, 404.16 Segments/s]\u001b[A\n",
      "Overall Progress:  45%|████▌     | 42/93 [00:54<01:10,  1.39s/ Computational Sequence Entries]\n",
      "  0%|          | 0/399 [00:00<?, ? Segments/s]\u001b[A\n",
      "Aligning POKffnXeBds:   0%|          | 0/399 [00:00<?, ? Segments/s]\u001b[A\n",
      "Aligning POKffnXeBds:  12%|█▏        | 49/399 [00:00<00:00, 482.50 Segments/s]\u001b[A\n",
      "Aligning POKffnXeBds:  24%|██▍       | 97/399 [00:00<00:00, 474.91 Segments/s]\u001b[A\n",
      "Aligning POKffnXeBds:  38%|███▊      | 152/399 [00:00<00:00, 493.81 Segments/s]\u001b[A\n",
      "Aligning POKffnXeBds:  52%|█████▏    | 208/399 [00:00<00:00, 511.56 Segments/s]\u001b[A\n",
      "Aligning POKffnXeBds:  62%|██████▏   | 248/399 [00:00<00:00, 444.19 Segments/s]\u001b[A\n",
      "Aligning POKffnXeBds:  74%|███████▍  | 297/399 [00:00<00:00, 456.78 Segments/s]\u001b[A\n",
      "Aligning POKffnXeBds:  87%|████████▋ | 347/399 [00:00<00:00, 462.85 Segments/s]\u001b[A\n",
      "Aligning POKffnXeBds:  99%|█████████▉| 395/399 [00:00<00:00, 467.40 Segments/s]\u001b[A\n",
      "Overall Progress:  46%|████▌     | 43/93 [00:55<01:01,  1.23s/ Computational Sequence Entries]\n",
      "  0%|          | 0/392 [00:00<?, ? Segments/s]\u001b[A\n",
      "Aligning PZ-lDQFboO8:   0%|          | 0/392 [00:00<?, ? Segments/s]\u001b[A\n",
      "Aligning PZ-lDQFboO8:  12%|█▏        | 46/392 [00:00<00:00, 454.61 Segments/s]\u001b[A\n",
      "Aligning PZ-lDQFboO8:  24%|██▍       | 95/392 [00:00<00:00, 462.77 Segments/s]\u001b[A\n",
      "Aligning PZ-lDQFboO8:  39%|███▉      | 154/392 [00:00<00:00, 492.81 Segments/s]\u001b[A\n",
      "Aligning PZ-lDQFboO8:  52%|█████▏    | 202/392 [00:00<00:00, 486.38 Segments/s]\u001b[A\n",
      "Aligning PZ-lDQFboO8:  63%|██████▎   | 248/392 [00:00<00:00, 466.94 Segments/s]\u001b[A\n",
      "Aligning PZ-lDQFboO8:  77%|███████▋  | 303/392 [00:00<00:00, 479.32 Segments/s]\u001b[A\n",
      "Aligning PZ-lDQFboO8:  91%|█████████ | 356/392 [00:00<00:00, 492.74 Segments/s]\u001b[A\n",
      "Overall Progress:  47%|████▋     | 44/93 [00:56<00:53,  1.10s/ Computational Sequence Entries]\n",
      "  0%|          | 0/676 [00:00<?, ? Segments/s]\u001b[A\n",
      "Aligning QN9ZIUWUXsY:   0%|          | 0/676 [00:00<?, ? Segments/s]\u001b[A\n",
      "Aligning QN9ZIUWUXsY:   7%|▋         | 47/676 [00:00<00:01, 462.43 Segments/s]\u001b[A\n",
      "Aligning QN9ZIUWUXsY:  12%|█▏        | 81/676 [00:00<00:01, 416.20 Segments/s]\u001b[A\n",
      "Aligning QN9ZIUWUXsY:  18%|█▊        | 119/676 [00:00<00:01, 403.25 Segments/s]\u001b[A\n",
      "Aligning QN9ZIUWUXsY:  24%|██▎       | 160/676 [00:00<00:01, 403.70 Segments/s]\u001b[A\n",
      "Aligning QN9ZIUWUXsY:  30%|███       | 203/676 [00:00<00:01, 401.96 Segments/s]\u001b[A\n",
      "Aligning QN9ZIUWUXsY:  37%|███▋      | 250/676 [00:00<00:01, 418.75 Segments/s]\u001b[A\n",
      "Aligning QN9ZIUWUXsY:  43%|████▎     | 289/676 [00:00<00:00, 406.45 Segments/s]\u001b[A\n",
      "Aligning QN9ZIUWUXsY:  48%|████▊     | 327/676 [00:00<00:00, 387.42 Segments/s]\u001b[A\n",
      "Aligning QN9ZIUWUXsY:  54%|█████▍    | 364/676 [00:00<00:00, 375.50 Segments/s]\u001b[A\n",
      "Aligning QN9ZIUWUXsY:  59%|█████▉    | 401/676 [00:01<00:00, 365.71 Segments/s]\u001b[A\n",
      "Aligning QN9ZIUWUXsY:  65%|██████▌   | 442/676 [00:01<00:00, 376.71 Segments/s]\u001b[A\n",
      "Aligning QN9ZIUWUXsY:  73%|███████▎  | 492/676 [00:01<00:00, 401.72 Segments/s]\u001b[A\n",
      "Aligning QN9ZIUWUXsY:  79%|███████▉  | 536/676 [00:01<00:00, 410.11 Segments/s]\u001b[A\n",
      "Aligning QN9ZIUWUXsY:  86%|████████▌ | 578/676 [00:01<00:00, 407.93 Segments/s]\u001b[A\n",
      "Aligning QN9ZIUWUXsY:  92%|█████████▏| 621/676 [00:01<00:00, 411.82 Segments/s]\u001b[A\n",
      "Aligning QN9ZIUWUXsY:  98%|█████████▊| 664/676 [00:01<00:00, 412.71 Segments/s]\u001b[A\n",
      "Overall Progress:  48%|████▊     | 45/93 [00:58<01:01,  1.28s/ Computational Sequence Entries]\n",
      "  0%|          | 0/493 [00:00<?, ? Segments/s]\u001b[A\n",
      "Aligning Qr1Ca94K55A:   0%|          | 0/493 [00:00<?, ? Segments/s]\u001b[A\n",
      "Aligning Qr1Ca94K55A:   9%|▊         | 42/493 [00:00<00:01, 416.86 Segments/s]\u001b[A\n",
      "Aligning Qr1Ca94K55A:  15%|█▌        | 75/493 [00:00<00:01, 384.99 Segments/s]\u001b[A\n",
      "Aligning Qr1Ca94K55A:  23%|██▎       | 114/493 [00:00<00:00, 384.17 Segments/s]\u001b[A\n",
      "Aligning Qr1Ca94K55A:  31%|███       | 153/493 [00:00<00:00, 385.17 Segments/s]\u001b[A\n",
      "Aligning Qr1Ca94K55A:  37%|███▋      | 184/493 [00:00<00:00, 356.06 Segments/s]\u001b[A\n",
      "Aligning Qr1Ca94K55A:  47%|████▋     | 230/493 [00:00<00:00, 368.09 Segments/s]\u001b[A\n",
      "Aligning Qr1Ca94K55A:  53%|█████▎    | 263/493 [00:00<00:00, 327.24 Segments/s]\u001b[A\n",
      "Aligning Qr1Ca94K55A:  61%|██████    | 301/493 [00:00<00:00, 340.59 Segments/s]\u001b[A\n",
      "Aligning Qr1Ca94K55A:  70%|██████▉   | 343/493 [00:00<00:00, 350.09 Segments/s]\u001b[A\n",
      "Aligning Qr1Ca94K55A:  77%|███████▋  | 378/493 [00:01<00:00, 339.02 Segments/s]\u001b[A\n",
      "Aligning Qr1Ca94K55A:  85%|████████▍ | 417/493 [00:01<00:00, 351.15 Segments/s]\u001b[A\n",
      "Aligning Qr1Ca94K55A:  92%|█████████▏| 454/493 [00:01<00:00, 356.37 Segments/s]\u001b[A\n",
      "Aligning Qr1Ca94K55A:  99%|█████████▉| 490/493 [00:01<00:00, 348.32 Segments/s]\u001b[A\n",
      "Overall Progress:  49%|████▉     | 46/93 [00:59<01:01,  1.32s/ Computational Sequence Entries]\n",
      "  0%|          | 0/712 [00:00<?, ? Segments/s]\u001b[A\n",
      "Aligning Sqr0AcuoNnk:   0%|          | 0/712 [00:00<?, ? Segments/s]\u001b[A\n",
      "Aligning Sqr0AcuoNnk:   5%|▍         | 33/712 [00:00<00:02, 329.14 Segments/s]\u001b[A\n",
      "Aligning Sqr0AcuoNnk:  10%|▉         | 71/712 [00:00<00:01, 341.09 Segments/s]\u001b[A\n",
      "Aligning Sqr0AcuoNnk:  15%|█▍        | 106/712 [00:00<00:01, 338.35 Segments/s]\u001b[A\n",
      "Aligning Sqr0AcuoNnk:  20%|██        | 144/712 [00:00<00:01, 345.63 Segments/s]\u001b[A\n",
      "Aligning Sqr0AcuoNnk:  25%|██▌       | 179/712 [00:00<00:01, 343.46 Segments/s]\u001b[A\n",
      "Aligning Sqr0AcuoNnk:  31%|███       | 220/712 [00:00<00:01, 357.18 Segments/s]\u001b[A\n",
      "Aligning Sqr0AcuoNnk:  36%|███▌      | 255/712 [00:00<00:01, 350.69 Segments/s]\u001b[A\n",
      "Aligning Sqr0AcuoNnk:  41%|████      | 290/712 [00:00<00:01, 349.37 Segments/s]\u001b[A\n",
      "Aligning Sqr0AcuoNnk:  46%|████▌     | 327/712 [00:00<00:01, 353.67 Segments/s]\u001b[A\n",
      "Aligning Sqr0AcuoNnk:  51%|█████     | 364/712 [00:01<00:00, 353.90 Segments/s]\u001b[A\n",
      "Aligning Sqr0AcuoNnk:  57%|█████▋    | 404/712 [00:01<00:00, 366.40 Segments/s]\u001b[A\n",
      "Aligning Sqr0AcuoNnk:  62%|██████▏   | 441/712 [00:01<00:00, 349.94 Segments/s]\u001b[A\n",
      "Aligning Sqr0AcuoNnk:  67%|██████▋   | 476/712 [00:01<00:00, 339.82 Segments/s]\u001b[A\n",
      "Aligning Sqr0AcuoNnk:  72%|███████▏  | 516/712 [00:01<00:00, 355.15 Segments/s]\u001b[A\n",
      "Aligning Sqr0AcuoNnk:  78%|███████▊  | 552/712 [00:01<00:00, 339.71 Segments/s]\u001b[A\n",
      "Aligning Sqr0AcuoNnk:  83%|████████▎ | 592/712 [00:01<00:00, 355.00 Segments/s]\u001b[A\n",
      "Aligning Sqr0AcuoNnk:  89%|████████▉ | 632/712 [00:01<00:00, 366.26 Segments/s]\u001b[A\n",
      "Aligning Sqr0AcuoNnk:  95%|█████████▌| 678/712 [00:01<00:00, 388.34 Segments/s]\u001b[A\n",
      "Overall Progress:  51%|█████     | 47/93 [01:01<01:09,  1.52s/ Computational Sequence Entries]\n",
      "  0%|          | 0/318 [00:00<?, ? Segments/s]\u001b[A\n",
      "Aligning TvyZBvOMOTc:   0%|          | 0/318 [00:00<?, ? Segments/s]\u001b[A\n",
      "Aligning TvyZBvOMOTc:  14%|█▎        | 43/318 [00:00<00:00, 425.00 Segments/s]\u001b[A\n",
      "Aligning TvyZBvOMOTc:  28%|██▊       | 90/318 [00:00<00:00, 427.94 Segments/s]\u001b[A\n",
      "Aligning TvyZBvOMOTc:  44%|████▎     | 139/318 [00:00<00:00, 440.43 Segments/s]\u001b[A\n"
     ]
    },
    {
     "name": "stderr",
     "output_type": "stream",
     "text": [
      "Aligning TvyZBvOMOTc:  60%|█████▉    | 190/318 [00:00<00:00, 456.40 Segments/s]\u001b[A\n",
      "Aligning TvyZBvOMOTc:  76%|███████▌  | 241/318 [00:00<00:00, 469.52 Segments/s]\u001b[A\n",
      "Aligning TvyZBvOMOTc:  92%|█████████▏| 293/318 [00:00<00:00, 482.16 Segments/s]\u001b[A\n",
      "Overall Progress:  52%|█████▏    | 48/93 [01:02<00:56,  1.27s/ Computational Sequence Entries]\n",
      "  0%|          | 0/626 [00:00<?, ? Segments/s]\u001b[A\n",
      "Aligning VCslbP0mgZI:   0%|          | 0/626 [00:00<?, ? Segments/s]\u001b[A\n",
      "Aligning VCslbP0mgZI:   7%|▋         | 42/626 [00:00<00:01, 417.99 Segments/s]\u001b[A\n",
      "Aligning VCslbP0mgZI:  13%|█▎        | 84/626 [00:00<00:01, 418.50 Segments/s]\u001b[A\n",
      "Aligning VCslbP0mgZI:  20%|██        | 126/626 [00:00<00:01, 417.90 Segments/s]\u001b[A\n",
      "Aligning VCslbP0mgZI:  27%|██▋       | 169/626 [00:00<00:01, 421.29 Segments/s]\u001b[A\n",
      "Aligning VCslbP0mgZI:  35%|███▍      | 218/626 [00:00<00:00, 437.67 Segments/s]\u001b[A\n",
      "Aligning VCslbP0mgZI:  43%|████▎     | 268/626 [00:00<00:00, 443.86 Segments/s]\u001b[A\n",
      "Aligning VCslbP0mgZI:  50%|████▉     | 310/626 [00:00<00:00, 431.14 Segments/s]\u001b[A\n",
      "Aligning VCslbP0mgZI:  56%|█████▌    | 350/626 [00:00<00:00, 405.82 Segments/s]\u001b[A\n",
      "Aligning VCslbP0mgZI:  62%|██████▏   | 389/626 [00:00<00:00, 358.10 Segments/s]\u001b[A\n",
      "Aligning VCslbP0mgZI:  68%|██████▊   | 428/626 [00:01<00:00, 365.18 Segments/s]\u001b[A\n",
      "Aligning VCslbP0mgZI:  75%|███████▍  | 468/626 [00:01<00:00, 374.05 Segments/s]\u001b[A\n",
      "Aligning VCslbP0mgZI:  81%|████████▏ | 509/626 [00:01<00:00, 382.39 Segments/s]\u001b[A\n",
      "Aligning VCslbP0mgZI:  88%|████████▊ | 550/626 [00:01<00:00, 389.32 Segments/s]\u001b[A\n",
      "Aligning VCslbP0mgZI:  95%|█████████▍| 592/626 [00:01<00:00, 397.59 Segments/s]\u001b[A\n",
      "Overall Progress:  53%|█████▎    | 49/93 [01:03<00:59,  1.35s/ Computational Sequence Entries]\n",
      "  0%|          | 0/775 [00:00<?, ? Segments/s]\u001b[A\n",
      "Aligning VbQk4H8hgr0:   0%|          | 0/775 [00:00<?, ? Segments/s]\u001b[A\n",
      "Aligning VbQk4H8hgr0:   5%|▌         | 42/775 [00:00<00:01, 416.40 Segments/s]\u001b[A\n",
      "Aligning VbQk4H8hgr0:  11%|█         | 84/775 [00:00<00:01, 416.23 Segments/s]\u001b[A\n",
      "Aligning VbQk4H8hgr0:  16%|█▋        | 126/775 [00:00<00:01, 416.59 Segments/s]\u001b[A\n",
      "Aligning VbQk4H8hgr0:  22%|██▏       | 168/775 [00:00<00:01, 416.74 Segments/s]\u001b[A\n",
      "Aligning VbQk4H8hgr0:  27%|██▋       | 210/775 [00:00<00:01, 416.44 Segments/s]\u001b[A\n",
      "Aligning VbQk4H8hgr0:  32%|███▏      | 245/775 [00:00<00:01, 380.37 Segments/s]\u001b[A\n",
      "Aligning VbQk4H8hgr0:  38%|███▊      | 294/775 [00:00<00:01, 406.81 Segments/s]\u001b[A\n",
      "Aligning VbQk4H8hgr0:  44%|████▍     | 343/775 [00:00<00:01, 428.48 Segments/s]\u001b[A\n",
      "Aligning VbQk4H8hgr0:  51%|█████     | 393/775 [00:00<00:00, 445.79 Segments/s]\u001b[A\n",
      "Aligning VbQk4H8hgr0:  57%|█████▋    | 441/775 [00:01<00:00, 454.76 Segments/s]\u001b[A\n",
      "Aligning VbQk4H8hgr0:  63%|██████▎   | 489/775 [00:01<00:00, 461.75 Segments/s]\u001b[A\n",
      "Aligning VbQk4H8hgr0:  69%|██████▉   | 535/775 [00:01<00:00, 461.16 Segments/s]\u001b[A\n",
      "Aligning VbQk4H8hgr0:  75%|███████▍  | 581/775 [00:01<00:00, 441.53 Segments/s]\u001b[A\n",
      "Aligning VbQk4H8hgr0:  81%|████████  | 626/775 [00:01<00:00, 428.99 Segments/s]\u001b[A\n",
      "Aligning VbQk4H8hgr0:  86%|████████▋ | 669/775 [00:01<00:00, 418.44 Segments/s]\u001b[A\n",
      "Aligning VbQk4H8hgr0:  92%|█████████▏| 716/775 [00:01<00:00, 432.13 Segments/s]\u001b[A\n",
      "Aligning VbQk4H8hgr0:  98%|█████████▊| 760/775 [00:01<00:00, 434.07 Segments/s]\u001b[A\n",
      "Overall Progress:  54%|█████▍    | 50/93 [01:05<01:03,  1.49s/ Computational Sequence Entries]\n",
      "  0%|          | 0/630 [00:00<?, ? Segments/s]\u001b[A\n",
      "Aligning Vj1wYRQjB-o:   0%|          | 0/630 [00:00<?, ? Segments/s]\u001b[A\n",
      "Aligning Vj1wYRQjB-o:   7%|▋         | 47/630 [00:00<00:01, 461.89 Segments/s]\u001b[A\n",
      "Aligning Vj1wYRQjB-o:  14%|█▍        | 90/630 [00:00<00:01, 451.71 Segments/s]\u001b[A\n",
      "Aligning Vj1wYRQjB-o:  22%|██▏       | 138/630 [00:00<00:01, 458.49 Segments/s]\u001b[A\n",
      "Aligning Vj1wYRQjB-o:  29%|██▉       | 185/630 [00:00<00:00, 461.61 Segments/s]\u001b[A\n",
      "Aligning Vj1wYRQjB-o:  36%|███▌      | 227/630 [00:00<00:00, 447.66 Segments/s]\u001b[A\n",
      "Aligning Vj1wYRQjB-o:  43%|████▎     | 269/630 [00:00<00:00, 431.30 Segments/s]\u001b[A\n",
      "Aligning Vj1wYRQjB-o:  49%|████▉     | 308/630 [00:00<00:00, 416.89 Segments/s]\u001b[A\n",
      "Aligning Vj1wYRQjB-o:  56%|█████▌    | 354/630 [00:00<00:00, 428.62 Segments/s]\u001b[A\n",
      "Aligning Vj1wYRQjB-o:  63%|██████▎   | 395/630 [00:00<00:00, 408.16 Segments/s]\u001b[A\n",
      "Aligning Vj1wYRQjB-o:  69%|██████▉   | 435/630 [00:01<00:00, 402.40 Segments/s]\u001b[A\n",
      "Aligning Vj1wYRQjB-o:  75%|███████▌  | 475/630 [00:01<00:00, 388.88 Segments/s]\u001b[A\n",
      "Aligning Vj1wYRQjB-o:  82%|████████▏ | 514/630 [00:01<00:00, 368.88 Segments/s]\u001b[A\n",
      "Aligning Vj1wYRQjB-o:  87%|████████▋ | 551/630 [00:01<00:00, 341.39 Segments/s]\u001b[A\n",
      "Aligning Vj1wYRQjB-o:  93%|█████████▎| 586/630 [00:01<00:00, 342.45 Segments/s]\u001b[A\n",
      "Aligning Vj1wYRQjB-o:  99%|█████████▉| 625/630 [00:01<00:00, 349.05 Segments/s]\u001b[A\n",
      "Overall Progress:  55%|█████▍    | 51/93 [01:07<01:04,  1.53s/ Computational Sequence Entries]\n",
      "  0%|          | 0/621 [00:00<?, ? Segments/s]\u001b[A\n",
      "Aligning W8NXH0Djyww:   0%|          | 0/621 [00:00<?, ? Segments/s]\u001b[A\n",
      "Aligning W8NXH0Djyww:   6%|▌         | 35/621 [00:00<00:01, 344.79 Segments/s]\u001b[A\n",
      "Aligning W8NXH0Djyww:  11%|█▏        | 70/621 [00:00<00:01, 344.64 Segments/s]\u001b[A\n",
      "Aligning W8NXH0Djyww:  19%|█▊        | 115/621 [00:00<00:01, 365.20 Segments/s]\u001b[A\n",
      "Aligning W8NXH0Djyww:  26%|██▌       | 162/621 [00:00<00:01, 391.23 Segments/s]\u001b[A\n",
      "Aligning W8NXH0Djyww:  34%|███▎      | 209/621 [00:00<00:01, 410.77 Segments/s]\u001b[A\n",
      "Aligning W8NXH0Djyww:  40%|███▉      | 246/621 [00:00<00:00, 380.24 Segments/s]\u001b[A\n",
      "Aligning W8NXH0Djyww:  45%|████▌     | 281/621 [00:00<00:00, 349.37 Segments/s]\u001b[A\n",
      "Aligning W8NXH0Djyww:  51%|█████     | 318/621 [00:00<00:00, 354.20 Segments/s]\u001b[A\n",
      "Aligning W8NXH0Djyww:  57%|█████▋    | 353/621 [00:00<00:00, 342.54 Segments/s]\u001b[A\n",
      "Aligning W8NXH0Djyww:  62%|██████▏   | 388/621 [00:01<00:00, 344.65 Segments/s]\u001b[A\n",
      "Aligning W8NXH0Djyww:  68%|██████▊   | 422/621 [00:01<00:00, 331.22 Segments/s]\u001b[A\n",
      "Aligning W8NXH0Djyww:  73%|███████▎  | 455/621 [00:01<00:00, 326.28 Segments/s]\u001b[A\n",
      "Aligning W8NXH0Djyww:  79%|███████▉  | 493/621 [00:01<00:00, 332.04 Segments/s]\u001b[A\n",
      "Aligning W8NXH0Djyww:  86%|████████▌ | 535/621 [00:01<00:00, 352.40 Segments/s]\u001b[A\n",
      "Aligning W8NXH0Djyww:  93%|█████████▎| 578/621 [00:01<00:00, 370.91 Segments/s]\u001b[A\n",
      "Aligning W8NXH0Djyww: 100%|█████████▉| 619/621 [00:01<00:00, 377.47 Segments/s]\u001b[A\n",
      "Overall Progress:  56%|█████▌    | 52/93 [01:08<01:04,  1.58s/ Computational Sequence Entries]\n",
      "  0%|          | 0/628 [00:00<?, ? Segments/s]\u001b[A\n",
      "Aligning WKA5OygbEKI:   0%|          | 0/628 [00:00<?, ? Segments/s]\u001b[A\n",
      "Aligning WKA5OygbEKI:   6%|▌         | 38/628 [00:00<00:01, 375.41 Segments/s]\u001b[A\n",
      "Aligning WKA5OygbEKI:  12%|█▏        | 75/628 [00:00<00:01, 368.46 Segments/s]\u001b[A\n",
      "Aligning WKA5OygbEKI:  19%|█▉        | 121/628 [00:00<00:01, 388.68 Segments/s]\u001b[A\n",
      "Aligning WKA5OygbEKI:  26%|██▌       | 163/628 [00:00<00:01, 392.18 Segments/s]\u001b[A\n",
      "Aligning WKA5OygbEKI:  33%|███▎      | 210/628 [00:00<00:01, 408.59 Segments/s]\u001b[A\n",
      "Aligning WKA5OygbEKI:  41%|████      | 255/628 [00:00<00:00, 420.00 Segments/s]\u001b[A\n",
      "Aligning WKA5OygbEKI:  48%|████▊     | 304/628 [00:00<00:00, 425.23 Segments/s]\u001b[A\n",
      "Aligning WKA5OygbEKI:  55%|█████▍    | 344/628 [00:00<00:00, 409.22 Segments/s]\u001b[A\n",
      "Aligning WKA5OygbEKI:  61%|██████    | 384/628 [00:00<00:00, 399.17 Segments/s]\u001b[A\n",
      "Aligning WKA5OygbEKI:  68%|██████▊   | 430/628 [00:01<00:00, 406.99 Segments/s]\u001b[A\n",
      "Aligning WKA5OygbEKI:  75%|███████▍  | 470/628 [00:01<00:00, 400.11 Segments/s]\u001b[A\n",
      "Aligning WKA5OygbEKI:  82%|████████▏ | 514/628 [00:01<00:00, 406.83 Segments/s]\u001b[A\n",
      "Aligning WKA5OygbEKI:  89%|████████▉ | 559/628 [00:01<00:00, 413.99 Segments/s]\u001b[A\n",
      "Aligning WKA5OygbEKI:  96%|█████████▌| 601/628 [00:01<00:00, 411.00 Segments/s]\u001b[A\n",
      "Overall Progress:  57%|█████▋    | 53/93 [01:10<01:02,  1.57s/ Computational Sequence Entries]\n",
      "  0%|          | 0/256 [00:00<?, ? Segments/s]\u001b[A\n",
      "Aligning X3j2zQgwYgE:   0%|          | 0/256 [00:00<?, ? Segments/s]\u001b[A\n",
      "Aligning X3j2zQgwYgE:  18%|█▊        | 47/256 [00:00<00:00, 464.40 Segments/s]\u001b[A\n",
      "Aligning X3j2zQgwYgE:  37%|███▋      | 95/256 [00:00<00:00, 468.78 Segments/s]\u001b[A\n",
      "Aligning X3j2zQgwYgE:  57%|█████▋    | 146/256 [00:00<00:00, 469.24 Segments/s]\u001b[A\n",
      "Aligning X3j2zQgwYgE:  74%|███████▍  | 190/256 [00:00<00:00, 457.55 Segments/s]\u001b[A\n"
     ]
    },
    {
     "name": "stderr",
     "output_type": "stream",
     "text": [
      "Aligning X3j2zQgwYgE:  94%|█████████▍| 240/256 [00:00<00:00, 461.34 Segments/s]\u001b[A\n",
      "Overall Progress:  58%|█████▊    | 54/93 [01:10<00:49,  1.27s/ Computational Sequence Entries]\n",
      "  0%|          | 0/221 [00:00<?, ? Segments/s]\u001b[A\n",
      "Aligning ZAIRrfG22O0:   0%|          | 0/221 [00:00<?, ? Segments/s]\u001b[A\n",
      "Aligning ZAIRrfG22O0:  23%|██▎       | 51/221 [00:00<00:00, 505.80 Segments/s]\u001b[A\n",
      "Aligning ZAIRrfG22O0:  47%|████▋     | 103/221 [00:00<00:00, 509.00 Segments/s]\u001b[A\n",
      "Aligning ZAIRrfG22O0:  67%|██████▋   | 148/221 [00:00<00:00, 478.70 Segments/s]\u001b[A\n",
      "Aligning ZAIRrfG22O0:  93%|█████████▎| 205/221 [00:00<00:00, 500.86 Segments/s]\u001b[A\n",
      "Overall Progress:  59%|█████▉    | 55/93 [01:11<00:38,  1.02s/ Computational Sequence Entries]\n",
      "  0%|          | 0/539 [00:00<?, ? Segments/s]\u001b[A\n",
      "Aligning ZUXBRvtny7o:   0%|          | 0/539 [00:00<?, ? Segments/s]\u001b[A\n",
      "Aligning ZUXBRvtny7o:   7%|▋         | 39/539 [00:00<00:01, 388.46 Segments/s]\u001b[A\n",
      "Aligning ZUXBRvtny7o:  13%|█▎        | 72/539 [00:00<00:01, 364.80 Segments/s]\u001b[A\n",
      "Aligning ZUXBRvtny7o:  21%|██▏       | 115/539 [00:00<00:01, 378.03 Segments/s]\u001b[A\n",
      "Aligning ZUXBRvtny7o:  29%|██▉       | 157/539 [00:00<00:00, 385.42 Segments/s]\u001b[A\n",
      "Aligning ZUXBRvtny7o:  36%|███▌      | 195/539 [00:00<00:00, 379.16 Segments/s]\u001b[A\n",
      "Aligning ZUXBRvtny7o:  44%|████▍     | 236/539 [00:00<00:00, 383.86 Segments/s]\u001b[A\n",
      "Aligning ZUXBRvtny7o:  53%|█████▎    | 283/539 [00:00<00:00, 402.11 Segments/s]\u001b[A\n",
      "Aligning ZUXBRvtny7o:  60%|██████    | 326/539 [00:00<00:00, 397.05 Segments/s]\u001b[A\n",
      "Aligning ZUXBRvtny7o:  68%|██████▊   | 365/539 [00:00<00:00, 394.04 Segments/s]\u001b[A\n",
      "Aligning ZUXBRvtny7o:  76%|███████▌  | 407/539 [00:01<00:00, 392.42 Segments/s]\u001b[A\n",
      "Aligning ZUXBRvtny7o:  83%|████████▎ | 449/539 [00:01<00:00, 396.28 Segments/s]\u001b[A\n",
      "Aligning ZUXBRvtny7o:  92%|█████████▏| 495/539 [00:01<00:00, 404.67 Segments/s]\u001b[A\n",
      "Aligning ZUXBRvtny7o:  99%|█████████▉| 536/539 [00:01<00:00, 402.08 Segments/s]\u001b[A\n",
      "Overall Progress:  60%|██████    | 56/93 [01:12<00:41,  1.13s/ Computational Sequence Entries]\n",
      "  0%|          | 0/684 [00:00<?, ? Segments/s]\u001b[A\n",
      "Aligning _dI--eQ6qVU:   0%|          | 0/684 [00:00<?, ? Segments/s]\u001b[A\n",
      "Aligning _dI--eQ6qVU:   6%|▋         | 44/684 [00:00<00:01, 432.66 Segments/s]\u001b[A\n",
      "Aligning _dI--eQ6qVU:  13%|█▎        | 88/684 [00:00<00:01, 431.92 Segments/s]\u001b[A\n",
      "Aligning _dI--eQ6qVU:  19%|█▉        | 133/684 [00:00<00:01, 432.33 Segments/s]\u001b[A\n",
      "Aligning _dI--eQ6qVU:  25%|██▌       | 174/684 [00:00<00:01, 424.88 Segments/s]\u001b[A\n",
      "Aligning _dI--eQ6qVU:  32%|███▏      | 220/684 [00:00<00:01, 434.80 Segments/s]\u001b[A\n",
      "Aligning _dI--eQ6qVU:  39%|███▊      | 265/684 [00:00<00:00, 439.18 Segments/s]\u001b[A\n",
      "Aligning _dI--eQ6qVU:  45%|████▌     | 310/684 [00:00<00:00, 439.68 Segments/s]\u001b[A\n",
      "Aligning _dI--eQ6qVU:  52%|█████▏    | 355/684 [00:00<00:00, 434.82 Segments/s]\u001b[A\n",
      "Aligning _dI--eQ6qVU:  58%|█████▊    | 400/684 [00:00<00:00, 438.82 Segments/s]\u001b[A\n",
      "Aligning _dI--eQ6qVU:  66%|██████▌   | 449/684 [00:01<00:00, 451.07 Segments/s]\u001b[A\n",
      "Aligning _dI--eQ6qVU:  72%|███████▏  | 493/684 [00:01<00:00, 378.73 Segments/s]\u001b[A\n",
      "Aligning _dI--eQ6qVU:  78%|███████▊  | 533/684 [00:01<00:00, 376.04 Segments/s]\u001b[A\n",
      "Aligning _dI--eQ6qVU:  84%|████████▍ | 574/684 [00:01<00:00, 375.20 Segments/s]\u001b[A\n",
      "Aligning _dI--eQ6qVU:  90%|████████▉ | 613/684 [00:01<00:00, 361.92 Segments/s]\u001b[A\n",
      "Aligning _dI--eQ6qVU:  95%|█████████▌| 650/684 [00:01<00:00, 357.87 Segments/s]\u001b[A\n",
      "Overall Progress:  61%|██████▏   | 57/93 [01:14<00:46,  1.30s/ Computational Sequence Entries]\n",
      "  0%|          | 0/602 [00:00<?, ? Segments/s]\u001b[A\n",
      "Aligning aiEXnCPZubE:   0%|          | 0/602 [00:00<?, ? Segments/s]\u001b[A\n",
      "Aligning aiEXnCPZubE:   6%|▋         | 38/602 [00:00<00:01, 378.60 Segments/s]\u001b[A\n",
      "Aligning aiEXnCPZubE:  13%|█▎        | 80/602 [00:00<00:01, 389.74 Segments/s]\u001b[A\n",
      "Aligning aiEXnCPZubE:  20%|██        | 123/602 [00:00<00:01, 400.02 Segments/s]\u001b[A\n",
      "Aligning aiEXnCPZubE:  28%|██▊       | 170/602 [00:00<00:01, 416.81 Segments/s]\u001b[A\n",
      "Aligning aiEXnCPZubE:  36%|███▌      | 218/602 [00:00<00:00, 433.10 Segments/s]\u001b[A\n",
      "Aligning aiEXnCPZubE:  44%|████▍     | 266/602 [00:00<00:00, 444.96 Segments/s]\u001b[A\n",
      "Aligning aiEXnCPZubE:  52%|█████▏    | 315/602 [00:00<00:00, 455.52 Segments/s]\u001b[A\n",
      "Aligning aiEXnCPZubE:  60%|██████    | 364/602 [00:00<00:00, 458.18 Segments/s]\u001b[A\n",
      "Aligning aiEXnCPZubE:  68%|██████▊   | 408/602 [00:00<00:00, 418.59 Segments/s]\u001b[A\n",
      "Aligning aiEXnCPZubE:  76%|███████▌  | 455/602 [00:01<00:00, 431.10 Segments/s]\u001b[A\n",
      "Aligning aiEXnCPZubE:  83%|████████▎ | 502/602 [00:01<00:00, 441.86 Segments/s]\u001b[A\n",
      "Aligning aiEXnCPZubE:  91%|█████████ | 549/602 [00:01<00:00, 444.90 Segments/s]\u001b[A\n",
      "Aligning aiEXnCPZubE:  99%|█████████▉| 597/602 [00:01<00:00, 452.54 Segments/s]\u001b[A\n",
      "Overall Progress:  62%|██████▏   | 58/93 [01:15<00:46,  1.33s/ Computational Sequence Entries]\n",
      "  0%|          | 0/568 [00:00<?, ? Segments/s]\u001b[A\n",
      "Aligning atnd_PF-Lbs:   0%|          | 0/568 [00:00<?, ? Segments/s]\u001b[A\n",
      "Aligning atnd_PF-Lbs:   7%|▋         | 41/568 [00:00<00:01, 391.16 Segments/s]\u001b[A\n",
      "Aligning atnd_PF-Lbs:  13%|█▎        | 72/568 [00:00<00:01, 361.03 Segments/s]\u001b[A\n",
      "Aligning atnd_PF-Lbs:  21%|██        | 117/568 [00:00<00:01, 377.64 Segments/s]\u001b[A\n",
      "Aligning atnd_PF-Lbs:  27%|██▋       | 154/568 [00:00<00:01, 374.55 Segments/s]\u001b[A\n",
      "Aligning atnd_PF-Lbs:  33%|███▎      | 190/568 [00:00<00:01, 361.63 Segments/s]\u001b[A\n",
      "Aligning atnd_PF-Lbs:  41%|████      | 231/568 [00:00<00:00, 371.74 Segments/s]\u001b[A\n",
      "Aligning atnd_PF-Lbs:  48%|████▊     | 271/568 [00:00<00:00, 379.51 Segments/s]\u001b[A\n",
      "Aligning atnd_PF-Lbs:  56%|█████▋    | 320/568 [00:00<00:00, 406.16 Segments/s]\u001b[A\n",
      "Aligning atnd_PF-Lbs:  65%|██████▍   | 369/568 [00:00<00:00, 426.53 Segments/s]\u001b[A\n",
      "Aligning atnd_PF-Lbs:  74%|███████▍  | 419/568 [00:01<00:00, 430.09 Segments/s]\u001b[A\n",
      "Aligning atnd_PF-Lbs:  81%|████████▏ | 462/568 [00:01<00:00, 409.78 Segments/s]\u001b[A\n",
      "Aligning atnd_PF-Lbs:  89%|████████▊ | 503/568 [00:01<00:00, 389.06 Segments/s]\u001b[A\n",
      "Aligning atnd_PF-Lbs:  96%|█████████▌| 545/568 [00:01<00:00, 397.59 Segments/s]\u001b[A\n",
      "Overall Progress:  63%|██████▎   | 59/93 [01:17<00:46,  1.37s/ Computational Sequence Entries]\n",
      "  0%|          | 0/458 [00:00<?, ? Segments/s]\u001b[A\n",
      "Aligning bOL9jKpeJRs:   0%|          | 0/458 [00:00<?, ? Segments/s]\u001b[A\n",
      "Aligning bOL9jKpeJRs:  10%|▉         | 45/458 [00:00<00:00, 447.04 Segments/s]\u001b[A\n",
      "Aligning bOL9jKpeJRs:  19%|█▊        | 85/458 [00:00<00:00, 429.46 Segments/s]\u001b[A\n",
      "Aligning bOL9jKpeJRs:  28%|██▊       | 129/458 [00:00<00:00, 432.19 Segments/s]\u001b[A\n",
      "Aligning bOL9jKpeJRs:  38%|███▊      | 172/458 [00:00<00:00, 425.12 Segments/s]\u001b[A\n",
      "Aligning bOL9jKpeJRs:  48%|████▊     | 219/458 [00:00<00:00, 437.61 Segments/s]\u001b[A\n",
      "Aligning bOL9jKpeJRs:  57%|█████▋    | 260/458 [00:00<00:00, 426.18 Segments/s]\u001b[A\n",
      "Aligning bOL9jKpeJRs:  66%|██████▌   | 301/458 [00:00<00:00, 420.42 Segments/s]\u001b[A\n",
      "Aligning bOL9jKpeJRs:  75%|███████▍  | 343/458 [00:00<00:00, 418.38 Segments/s]\u001b[A\n",
      "Aligning bOL9jKpeJRs:  85%|████████▌ | 390/458 [00:00<00:00, 431.74 Segments/s]\u001b[A\n",
      "Aligning bOL9jKpeJRs:  95%|█████████▌| 437/458 [00:01<00:00, 441.12 Segments/s]\u001b[A\n",
      "Overall Progress:  65%|██████▍   | 60/93 [01:18<00:42,  1.28s/ Computational Sequence Entries]\n",
      "  0%|          | 0/615 [00:00<?, ? Segments/s]\u001b[A\n",
      "Aligning bvLlb-M3UXU:   0%|          | 0/615 [00:00<?, ? Segments/s]\u001b[A\n",
      "Aligning bvLlb-M3UXU:   7%|▋         | 46/615 [00:00<00:01, 457.43 Segments/s]\u001b[A\n",
      "Aligning bvLlb-M3UXU:  14%|█▍        | 88/615 [00:00<00:01, 445.03 Segments/s]\u001b[A\n",
      "Aligning bvLlb-M3UXU:  21%|██        | 130/615 [00:00<00:01, 435.34 Segments/s]\u001b[A\n",
      "Aligning bvLlb-M3UXU:  28%|██▊       | 173/615 [00:00<00:01, 431.62 Segments/s]\u001b[A\n",
      "Aligning bvLlb-M3UXU:  35%|███▍      | 215/615 [00:00<00:00, 428.03 Segments/s]\u001b[A\n",
      "Aligning bvLlb-M3UXU:  42%|████▏     | 258/615 [00:00<00:00, 425.19 Segments/s]\u001b[A\n",
      "Aligning bvLlb-M3UXU:  49%|████▉     | 301/615 [00:00<00:00, 423.94 Segments/s]\u001b[A\n",
      "Aligning bvLlb-M3UXU:  56%|█████▌    | 344/615 [00:00<00:00, 423.53 Segments/s]\u001b[A\n",
      "Aligning bvLlb-M3UXU:  63%|██████▎   | 385/615 [00:00<00:00, 418.78 Segments/s]\u001b[A\n",
      "Aligning bvLlb-M3UXU:  69%|██████▉   | 427/615 [00:01<00:00, 417.55 Segments/s]\u001b[A\n",
      "Aligning bvLlb-M3UXU:  77%|███████▋  | 473/615 [00:01<00:00, 429.22 Segments/s]\u001b[A\n"
     ]
    },
    {
     "name": "stderr",
     "output_type": "stream",
     "text": [
      "Aligning bvLlb-M3UXU:  84%|████████▍ | 517/615 [00:01<00:00, 430.73 Segments/s]\u001b[A\n",
      "Aligning bvLlb-M3UXU:  91%|█████████ | 560/615 [00:01<00:00, 415.33 Segments/s]\u001b[A\n",
      "Aligning bvLlb-M3UXU:  98%|█████████▊| 604/615 [00:01<00:00, 421.95 Segments/s]\u001b[A\n",
      "Overall Progress:  66%|██████▌   | 61/93 [01:19<00:42,  1.34s/ Computational Sequence Entries]\n",
      "  0%|          | 0/694 [00:00<?, ? Segments/s]\u001b[A\n",
      "Aligning c5xsKMxpXnc:   0%|          | 0/694 [00:00<?, ? Segments/s]\u001b[A\n",
      "Aligning c5xsKMxpXnc:   5%|▌         | 37/694 [00:00<00:01, 364.11 Segments/s]\u001b[A\n",
      "Aligning c5xsKMxpXnc:  11%|█         | 76/694 [00:00<00:01, 369.59 Segments/s]\u001b[A\n",
      "Aligning c5xsKMxpXnc:  17%|█▋        | 118/694 [00:00<00:01, 381.67 Segments/s]\u001b[A\n",
      "Aligning c5xsKMxpXnc:  24%|██▍       | 166/694 [00:00<00:01, 398.62 Segments/s]\u001b[A\n",
      "Aligning c5xsKMxpXnc:  31%|███       | 212/694 [00:00<00:01, 415.10 Segments/s]\u001b[A\n",
      "Aligning c5xsKMxpXnc:  38%|███▊      | 261/694 [00:00<00:00, 433.67 Segments/s]\u001b[A\n",
      "Aligning c5xsKMxpXnc:  45%|████▍     | 310/694 [00:00<00:00, 441.16 Segments/s]\u001b[A\n",
      "Aligning c5xsKMxpXnc:  51%|█████     | 353/694 [00:00<00:00, 432.18 Segments/s]\u001b[A\n",
      "Aligning c5xsKMxpXnc:  57%|█████▋    | 395/694 [00:00<00:00, 418.80 Segments/s]\u001b[A\n",
      "Aligning c5xsKMxpXnc:  63%|██████▎   | 436/694 [00:01<00:00, 412.83 Segments/s]\u001b[A\n",
      "Aligning c5xsKMxpXnc:  69%|██████▉   | 478/694 [00:01<00:00, 408.40 Segments/s]\u001b[A\n",
      "Aligning c5xsKMxpXnc:  76%|███████▌  | 525/694 [00:01<00:00, 424.67 Segments/s]\u001b[A\n",
      "Aligning c5xsKMxpXnc:  82%|████████▏ | 568/694 [00:01<00:00, 425.63 Segments/s]\u001b[A\n",
      "Aligning c5xsKMxpXnc:  88%|████████▊ | 612/694 [00:01<00:00, 425.25 Segments/s]\u001b[A\n",
      "Aligning c5xsKMxpXnc:  95%|█████████▍| 659/694 [00:01<00:00, 435.34 Segments/s]\u001b[A\n",
      "Overall Progress:  67%|██████▋   | 62/93 [01:21<00:44,  1.42s/ Computational Sequence Entries]\n",
      "  0%|          | 0/462 [00:00<?, ? Segments/s]\u001b[A\n",
      "Aligning c7UH_rxdZv4:   0%|          | 0/462 [00:00<?, ? Segments/s]\u001b[A\n",
      "Aligning c7UH_rxdZv4:  10%|█         | 48/462 [00:00<00:00, 474.64 Segments/s]\u001b[A\n",
      "Aligning c7UH_rxdZv4:  19%|█▉        | 87/462 [00:00<00:00, 443.86 Segments/s]\u001b[A\n",
      "Aligning c7UH_rxdZv4:  28%|██▊       | 129/462 [00:00<00:00, 436.37 Segments/s]\u001b[A\n",
      "Aligning c7UH_rxdZv4:  37%|███▋      | 171/462 [00:00<00:00, 429.72 Segments/s]\u001b[A\n",
      "Aligning c7UH_rxdZv4:  47%|████▋     | 219/462 [00:00<00:00, 443.25 Segments/s]\u001b[A\n",
      "Aligning c7UH_rxdZv4:  58%|█████▊    | 267/462 [00:00<00:00, 452.13 Segments/s]\u001b[A\n",
      "Aligning c7UH_rxdZv4:  68%|██████▊   | 312/462 [00:00<00:00, 451.06 Segments/s]\u001b[A\n",
      "Aligning c7UH_rxdZv4:  77%|███████▋  | 354/462 [00:00<00:00, 428.90 Segments/s]\u001b[A\n",
      "Aligning c7UH_rxdZv4:  86%|████████▋ | 399/462 [00:00<00:00, 429.81 Segments/s]\u001b[A\n",
      "Aligning c7UH_rxdZv4:  96%|█████████▌| 442/462 [00:01<00:00, 424.85 Segments/s]\u001b[A\n",
      "Overall Progress:  68%|██████▊   | 63/93 [01:22<00:39,  1.32s/ Computational Sequence Entries]\n",
      "  0%|          | 0/566 [00:00<?, ? Segments/s]\u001b[A\n",
      "Aligning cM3Yna7AavY:   0%|          | 0/566 [00:00<?, ? Segments/s]\u001b[A\n",
      "Aligning cM3Yna7AavY:   8%|▊         | 43/566 [00:00<00:01, 426.17 Segments/s]\u001b[A\n",
      "Aligning cM3Yna7AavY:  16%|█▌        | 89/566 [00:00<00:01, 435.66 Segments/s]\u001b[A\n",
      "Aligning cM3Yna7AavY:  24%|██▍       | 137/566 [00:00<00:00, 445.51 Segments/s]\u001b[A\n",
      "Aligning cM3Yna7AavY:  31%|███       | 176/566 [00:00<00:00, 415.84 Segments/s]\u001b[A\n",
      "Aligning cM3Yna7AavY:  39%|███▉      | 221/566 [00:00<00:00, 423.88 Segments/s]\u001b[A\n",
      "Aligning cM3Yna7AavY:  47%|████▋     | 265/566 [00:00<00:00, 426.63 Segments/s]\u001b[A\n",
      "Aligning cM3Yna7AavY:  54%|█████▎    | 303/566 [00:00<00:00, 410.36 Segments/s]\u001b[A\n",
      "Aligning cM3Yna7AavY:  61%|██████    | 346/566 [00:00<00:00, 406.07 Segments/s]\u001b[A\n",
      "Aligning cM3Yna7AavY:  68%|██████▊   | 386/566 [00:00<00:00, 402.30 Segments/s]\u001b[A\n",
      "Aligning cM3Yna7AavY:  75%|███████▌  | 427/566 [00:01<00:00, 401.87 Segments/s]\u001b[A\n",
      "Aligning cM3Yna7AavY:  83%|████████▎ | 467/566 [00:01<00:00, 400.61 Segments/s]\u001b[A\n",
      "Aligning cM3Yna7AavY:  90%|████████▉ | 508/566 [00:01<00:00, 401.53 Segments/s]\u001b[A\n",
      "Aligning cM3Yna7AavY:  98%|█████████▊| 557/566 [00:01<00:00, 422.71 Segments/s]\u001b[A\n",
      "Overall Progress:  69%|██████▉   | 64/93 [01:23<00:38,  1.33s/ Computational Sequence Entries]\n",
      "  0%|          | 0/506 [00:00<?, ? Segments/s]\u001b[A\n",
      "Aligning cW1FSBF59ik:   0%|          | 0/506 [00:00<?, ? Segments/s]\u001b[A\n",
      "Aligning cW1FSBF59ik:  10%|▉         | 50/506 [00:00<00:00, 490.77 Segments/s]\u001b[A\n",
      "Aligning cW1FSBF59ik:  18%|█▊        | 93/506 [00:00<00:00, 470.80 Segments/s]\u001b[A\n",
      "Aligning cW1FSBF59ik:  27%|██▋       | 138/506 [00:00<00:00, 463.53 Segments/s]\u001b[A\n",
      "Aligning cW1FSBF59ik:  35%|███▍      | 176/506 [00:00<00:00, 432.26 Segments/s]\u001b[A\n",
      "Aligning cW1FSBF59ik:  43%|████▎     | 219/506 [00:00<00:00, 423.70 Segments/s]\u001b[A\n",
      "Aligning cW1FSBF59ik:  53%|█████▎    | 268/506 [00:00<00:00, 439.82 Segments/s]\u001b[A\n",
      "Aligning cW1FSBF59ik:  64%|██████▍   | 325/506 [00:00<00:00, 460.18 Segments/s]\u001b[A\n",
      "Aligning cW1FSBF59ik:  73%|███████▎  | 368/506 [00:00<00:00, 426.67 Segments/s]\u001b[A\n",
      "Aligning cW1FSBF59ik:  81%|████████  | 409/506 [00:00<00:00, 415.93 Segments/s]\u001b[A\n",
      "Aligning cW1FSBF59ik:  89%|████████▉ | 450/506 [00:01<00:00, 386.84 Segments/s]\u001b[A\n",
      "Aligning cW1FSBF59ik:  97%|█████████▋| 489/506 [00:01<00:00, 375.19 Segments/s]\u001b[A\n",
      "Overall Progress:  70%|██████▉   | 65/93 [01:25<00:36,  1.30s/ Computational Sequence Entries]\n",
      "  0%|          | 0/730 [00:00<?, ? Segments/s]\u001b[A\n",
      "Aligning cXypl4FnoZo:   0%|          | 0/730 [00:00<?, ? Segments/s]\u001b[A\n",
      "Aligning cXypl4FnoZo:   5%|▍         | 34/730 [00:00<00:02, 338.09 Segments/s]\u001b[A\n",
      "Aligning cXypl4FnoZo:  10%|█         | 73/730 [00:00<00:01, 351.80 Segments/s]\u001b[A\n",
      "Aligning cXypl4FnoZo:  16%|█▌        | 118/730 [00:00<00:01, 375.87 Segments/s]\u001b[A\n",
      "Aligning cXypl4FnoZo:  21%|██▏       | 156/730 [00:00<00:01, 375.70 Segments/s]\u001b[A\n",
      "Aligning cXypl4FnoZo:  26%|██▋       | 192/730 [00:00<00:01, 359.37 Segments/s]\u001b[A\n",
      "Aligning cXypl4FnoZo:  31%|███▏      | 229/730 [00:00<00:01, 360.39 Segments/s]\u001b[A\n",
      "Aligning cXypl4FnoZo:  38%|███▊      | 274/730 [00:00<00:01, 377.52 Segments/s]\u001b[A\n",
      "Aligning cXypl4FnoZo:  42%|████▏     | 310/730 [00:00<00:01, 367.27 Segments/s]\u001b[A\n",
      "Aligning cXypl4FnoZo:  48%|████▊     | 353/730 [00:00<00:00, 381.09 Segments/s]\u001b[A\n",
      "Aligning cXypl4FnoZo:  54%|█████▍    | 396/730 [00:01<00:00, 389.64 Segments/s]\u001b[A\n",
      "Aligning cXypl4FnoZo:  60%|██████    | 440/730 [00:01<00:00, 399.06 Segments/s]\u001b[A\n",
      "Aligning cXypl4FnoZo:  66%|██████▋   | 484/730 [00:01<00:00, 408.73 Segments/s]\u001b[A\n",
      "Aligning cXypl4FnoZo:  72%|███████▏  | 525/730 [00:01<00:00, 398.73 Segments/s]\u001b[A\n",
      "Aligning cXypl4FnoZo:  78%|███████▊  | 569/730 [00:01<00:00, 409.95 Segments/s]\u001b[A\n",
      "Aligning cXypl4FnoZo:  84%|████████▎ | 611/730 [00:01<00:00, 388.96 Segments/s]\u001b[A\n",
      "Aligning cXypl4FnoZo:  89%|████████▉ | 651/730 [00:01<00:00, 384.43 Segments/s]\u001b[A\n",
      "Aligning cXypl4FnoZo:  95%|█████████▍| 690/730 [00:01<00:00, 384.18 Segments/s]\u001b[A\n",
      "Aligning cXypl4FnoZo: 100%|██████████| 730/730 [00:01<00:00, 384.53 Segments/s]\u001b[A\n",
      "Overall Progress:  71%|███████   | 66/93 [01:27<00:40,  1.48s/ Computational Sequence Entries]\n",
      "  0%|          | 0/599 [00:00<?, ? Segments/s]\u001b[A\n",
      "Aligning d3_k5Xpfmik:   0%|          | 0/599 [00:00<?, ? Segments/s]\u001b[A\n",
      "Aligning d3_k5Xpfmik:   6%|▌         | 33/599 [00:00<00:01, 325.80 Segments/s]\u001b[A\n",
      "Aligning d3_k5Xpfmik:  12%|█▏        | 70/599 [00:00<00:01, 337.51 Segments/s]\u001b[A\n",
      "Aligning d3_k5Xpfmik:  18%|█▊        | 110/599 [00:00<00:01, 352.07 Segments/s]\u001b[A\n",
      "Aligning d3_k5Xpfmik:  26%|██▌       | 156/599 [00:00<00:01, 375.44 Segments/s]\u001b[A\n",
      "Aligning d3_k5Xpfmik:  33%|███▎      | 200/599 [00:00<00:01, 388.93 Segments/s]\u001b[A\n",
      "Aligning d3_k5Xpfmik:  41%|████      | 246/599 [00:00<00:00, 403.09 Segments/s]\u001b[A\n",
      "Aligning d3_k5Xpfmik:  49%|████▉     | 293/599 [00:00<00:00, 412.26 Segments/s]\u001b[A\n",
      "Aligning d3_k5Xpfmik:  55%|█████▌    | 332/599 [00:00<00:00, 390.19 Segments/s]\u001b[A\n",
      "Aligning d3_k5Xpfmik:  62%|██████▏   | 370/599 [00:00<00:00, 376.33 Segments/s]\u001b[A\n",
      "Aligning d3_k5Xpfmik:  69%|██████▉   | 414/599 [00:01<00:00, 392.71 Segments/s]\u001b[A\n",
      "Aligning d3_k5Xpfmik:  77%|███████▋  | 461/599 [00:01<00:00, 411.22 Segments/s]\u001b[A\n",
      "Aligning d3_k5Xpfmik:  84%|████████▍ | 503/599 [00:01<00:00, 413.27 Segments/s]\u001b[A\n",
      "Aligning d3_k5Xpfmik:  91%|█████████▏| 548/599 [00:01<00:00, 423.41 Segments/s]\u001b[A\n"
     ]
    },
    {
     "name": "stderr",
     "output_type": "stream",
     "text": [
      "Aligning d3_k5Xpfmik:  99%|█████████▉| 594/599 [00:01<00:00, 431.68 Segments/s]\u001b[A\n",
      "Overall Progress:  72%|███████▏  | 67/93 [01:28<00:38,  1.48s/ Computational Sequence Entries]\n",
      "  0%|          | 0/493 [00:00<?, ? Segments/s]\u001b[A\n",
      "Aligning d6hH302o4v8:   0%|          | 0/493 [00:00<?, ? Segments/s]\u001b[A\n",
      "Aligning d6hH302o4v8:   9%|▉         | 45/493 [00:00<00:00, 448.52 Segments/s]\u001b[A\n",
      "Aligning d6hH302o4v8:  16%|█▌        | 79/493 [00:00<00:01, 401.61 Segments/s]\u001b[A\n",
      "Aligning d6hH302o4v8:  26%|██▌       | 127/493 [00:00<00:00, 421.01 Segments/s]\u001b[A\n",
      "Aligning d6hH302o4v8:  34%|███▍      | 167/493 [00:00<00:00, 412.78 Segments/s]\u001b[A\n",
      "Aligning d6hH302o4v8:  44%|████▍     | 216/493 [00:00<00:00, 432.03 Segments/s]\u001b[A\n",
      "Aligning d6hH302o4v8:  54%|█████▍    | 267/493 [00:00<00:00, 451.67 Segments/s]\u001b[A\n",
      "Aligning d6hH302o4v8:  64%|██████▍   | 316/493 [00:00<00:00, 457.97 Segments/s]\u001b[A\n",
      "Aligning d6hH302o4v8:  74%|███████▍  | 367/493 [00:00<00:00, 470.78 Segments/s]\u001b[A\n",
      "Aligning d6hH302o4v8:  85%|████████▍ | 417/493 [00:00<00:00, 478.99 Segments/s]\u001b[A\n",
      "Aligning d6hH302o4v8:  95%|█████████▌| 469/493 [00:01<00:00, 488.59 Segments/s]\u001b[A\n",
      "Overall Progress:  73%|███████▎  | 68/93 [01:29<00:34,  1.36s/ Computational Sequence Entries]\n",
      "  0%|          | 0/302 [00:00<?, ? Segments/s]\u001b[A\n",
      "Aligning dq3Nf_lMPnE:   0%|          | 0/302 [00:00<?, ? Segments/s]\u001b[A\n",
      "Aligning dq3Nf_lMPnE:  18%|█▊        | 54/302 [00:00<00:00, 532.88 Segments/s]\u001b[A\n",
      "Aligning dq3Nf_lMPnE:  33%|███▎      | 99/302 [00:00<00:00, 488.79 Segments/s]\u001b[A\n",
      "Aligning dq3Nf_lMPnE:  47%|████▋     | 142/302 [00:00<00:00, 468.59 Segments/s]\u001b[A\n",
      "Aligning dq3Nf_lMPnE:  65%|██████▍   | 196/302 [00:00<00:00, 473.04 Segments/s]\u001b[A\n",
      "Aligning dq3Nf_lMPnE:  81%|████████▏ | 246/302 [00:00<00:00, 479.23 Segments/s]\u001b[A\n",
      "Aligning dq3Nf_lMPnE:  98%|█████████▊| 296/302 [00:00<00:00, 483.51 Segments/s]\u001b[A\n",
      "Overall Progress:  74%|███████▍  | 69/93 [01:30<00:27,  1.15s/ Computational Sequence Entries]\n",
      "  0%|          | 0/704 [00:00<?, ? Segments/s]\u001b[A\n",
      "Aligning etzxEpPuc6I:   0%|          | 0/704 [00:00<?, ? Segments/s]\u001b[A\n",
      "Aligning etzxEpPuc6I:   5%|▍         | 32/704 [00:00<00:02, 318.32 Segments/s]\u001b[A\n",
      "Aligning etzxEpPuc6I:  11%|█         | 74/704 [00:00<00:01, 342.70 Segments/s]\u001b[A\n",
      "Aligning etzxEpPuc6I:  17%|█▋        | 119/704 [00:00<00:01, 357.00 Segments/s]\u001b[A\n",
      "Aligning etzxEpPuc6I:  22%|██▏       | 153/704 [00:00<00:01, 350.59 Segments/s]\u001b[A\n",
      "Aligning etzxEpPuc6I:  27%|██▋       | 192/704 [00:00<00:01, 359.98 Segments/s]\u001b[A\n",
      "Aligning etzxEpPuc6I:  33%|███▎      | 233/704 [00:00<00:01, 364.14 Segments/s]\u001b[A\n",
      "Aligning etzxEpPuc6I:  38%|███▊      | 270/704 [00:00<00:01, 360.73 Segments/s]\u001b[A\n",
      "Aligning etzxEpPuc6I:  44%|████▍     | 311/704 [00:00<00:01, 373.55 Segments/s]\u001b[A\n",
      "Aligning etzxEpPuc6I:  50%|█████     | 355/704 [00:00<00:00, 389.68 Segments/s]\u001b[A\n",
      "Aligning etzxEpPuc6I:  56%|█████▋    | 396/704 [00:01<00:00, 390.73 Segments/s]\u001b[A\n",
      "Aligning etzxEpPuc6I:  62%|██████▏   | 438/704 [00:01<00:00, 397.24 Segments/s]\u001b[A\n",
      "Aligning etzxEpPuc6I:  68%|██████▊   | 478/704 [00:01<00:00, 357.17 Segments/s]\u001b[A\n",
      "Aligning etzxEpPuc6I:  73%|███████▎  | 515/704 [00:01<00:00, 342.53 Segments/s]\u001b[A\n",
      "Aligning etzxEpPuc6I:  78%|███████▊  | 550/704 [00:01<00:00, 278.93 Segments/s]\u001b[A\n",
      "Aligning etzxEpPuc6I:  83%|████████▎ | 583/704 [00:01<00:00, 292.04 Segments/s]\u001b[A\n",
      "Aligning etzxEpPuc6I:  89%|████████▊ | 624/704 [00:01<00:00, 318.28 Segments/s]\u001b[A\n",
      "Aligning etzxEpPuc6I:  95%|█████████▍| 666/704 [00:01<00:00, 342.46 Segments/s]\u001b[A\n",
      "Overall Progress:  75%|███████▌  | 70/93 [01:32<00:32,  1.40s/ Computational Sequence Entries]\n",
      "  0%|          | 0/507 [00:00<?, ? Segments/s]\u001b[A\n",
      "Aligning f9O3YtZ2VfI:   0%|          | 0/507 [00:00<?, ? Segments/s]\u001b[A\n",
      "Aligning f9O3YtZ2VfI:  10%|█         | 51/507 [00:00<00:00, 504.37 Segments/s]\u001b[A\n",
      "Aligning f9O3YtZ2VfI:  20%|█▉        | 100/507 [00:00<00:00, 494.61 Segments/s]\u001b[A\n",
      "Aligning f9O3YtZ2VfI:  28%|██▊       | 143/507 [00:00<00:00, 472.98 Segments/s]\u001b[A\n",
      "Aligning f9O3YtZ2VfI:  36%|███▋      | 185/507 [00:00<00:00, 455.72 Segments/s]\u001b[A\n",
      "Aligning f9O3YtZ2VfI:  44%|████▍     | 224/507 [00:00<00:00, 433.52 Segments/s]\u001b[A\n",
      "Aligning f9O3YtZ2VfI:  52%|█████▏    | 263/507 [00:00<00:00, 417.59 Segments/s]\u001b[A\n",
      "Aligning f9O3YtZ2VfI:  59%|█████▉    | 301/507 [00:00<00:00, 402.73 Segments/s]\u001b[A\n",
      "Aligning f9O3YtZ2VfI:  68%|██████▊   | 343/507 [00:00<00:00, 407.50 Segments/s]\u001b[A\n",
      "Aligning f9O3YtZ2VfI:  77%|███████▋  | 388/507 [00:00<00:00, 417.38 Segments/s]\u001b[A\n",
      "Aligning f9O3YtZ2VfI:  85%|████████▍ | 430/507 [00:01<00:00, 417.03 Segments/s]\u001b[A\n",
      "Aligning f9O3YtZ2VfI:  94%|█████████▎| 475/507 [00:01<00:00, 425.22 Segments/s]\u001b[A\n",
      "Overall Progress:  76%|███████▋  | 71/93 [01:33<00:29,  1.34s/ Computational Sequence Entries]\n",
      "  0%|          | 0/468 [00:00<?, ? Segments/s]\u001b[A\n",
      "Aligning f_pcplsH_V0:   0%|          | 0/468 [00:00<?, ? Segments/s]\u001b[A\n",
      "Aligning f_pcplsH_V0:   8%|▊         | 39/468 [00:00<00:01, 389.14 Segments/s]\u001b[A\n",
      "Aligning f_pcplsH_V0:  15%|█▌        | 72/468 [00:00<00:01, 364.90 Segments/s]\u001b[A\n",
      "Aligning f_pcplsH_V0:  25%|██▌       | 119/468 [00:00<00:00, 389.07 Segments/s]\u001b[A\n",
      "Aligning f_pcplsH_V0:  34%|███▍      | 158/468 [00:00<00:00, 389.01 Segments/s]\u001b[A\n",
      "Aligning f_pcplsH_V0:  42%|████▏     | 198/468 [00:00<00:00, 390.45 Segments/s]\u001b[A\n",
      "Aligning f_pcplsH_V0:  51%|█████     | 239/468 [00:00<00:00, 394.37 Segments/s]\u001b[A\n",
      "Aligning f_pcplsH_V0:  59%|█████▉    | 275/468 [00:00<00:00, 338.15 Segments/s]\u001b[A\n",
      "Aligning f_pcplsH_V0:  66%|██████▌   | 309/468 [00:00<00:00, 338.42 Segments/s]\u001b[A\n",
      "Aligning f_pcplsH_V0:  73%|███████▎  | 342/468 [00:00<00:00, 320.73 Segments/s]\u001b[A\n",
      "Aligning f_pcplsH_V0:  80%|███████▉  | 374/468 [00:01<00:00, 319.55 Segments/s]\u001b[A\n",
      "Aligning f_pcplsH_V0:  88%|████████▊ | 413/468 [00:01<00:00, 334.51 Segments/s]\u001b[A\n",
      "Aligning f_pcplsH_V0:  96%|█████████▌| 449/468 [00:01<00:00, 341.63 Segments/s]\u001b[A\n",
      "Overall Progress:  77%|███████▋  | 72/93 [01:34<00:28,  1.34s/ Computational Sequence Entries]\n",
      "  0%|          | 0/666 [00:00<?, ? Segments/s]\u001b[A\n",
      "Aligning fvVhgmXxadc:   0%|          | 0/666 [00:00<?, ? Segments/s]\u001b[A\n",
      "Aligning fvVhgmXxadc:   4%|▎         | 24/666 [00:00<00:02, 239.95 Segments/s]\u001b[A\n",
      "Aligning fvVhgmXxadc:   8%|▊         | 54/666 [00:00<00:02, 253.56 Segments/s]\u001b[A\n",
      "Aligning fvVhgmXxadc:  14%|█▍        | 92/666 [00:00<00:02, 280.60 Segments/s]\u001b[A\n",
      "Aligning fvVhgmXxadc:  19%|█▉        | 128/666 [00:00<00:01, 287.74 Segments/s]\u001b[A\n",
      "Aligning fvVhgmXxadc:  25%|██▌       | 167/666 [00:00<00:01, 311.80 Segments/s]\u001b[A\n",
      "Aligning fvVhgmXxadc:  30%|███       | 203/666 [00:00<00:01, 320.54 Segments/s]\u001b[A\n",
      "Aligning fvVhgmXxadc:  35%|███▌      | 236/666 [00:00<00:01, 321.15 Segments/s]\u001b[A\n",
      "Aligning fvVhgmXxadc:  41%|████      | 271/666 [00:00<00:01, 324.86 Segments/s]\u001b[A\n",
      "Aligning fvVhgmXxadc:  47%|████▋     | 310/666 [00:00<00:01, 339.98 Segments/s]\u001b[A\n",
      "Aligning fvVhgmXxadc:  52%|█████▏    | 344/666 [00:01<00:00, 331.78 Segments/s]\u001b[A\n",
      "Aligning fvVhgmXxadc:  57%|█████▋    | 380/666 [00:01<00:00, 337.56 Segments/s]\u001b[A\n",
      "Aligning fvVhgmXxadc:  63%|██████▎   | 419/666 [00:01<00:00, 348.66 Segments/s]\u001b[A\n",
      "Aligning fvVhgmXxadc:  68%|██████▊   | 454/666 [00:01<00:00, 342.31 Segments/s]\u001b[A\n",
      "Aligning fvVhgmXxadc:  74%|███████▍  | 492/666 [00:01<00:00, 351.54 Segments/s]\u001b[A\n",
      "Aligning fvVhgmXxadc:  80%|████████  | 533/666 [00:01<00:00, 355.56 Segments/s]\u001b[A\n",
      "Aligning fvVhgmXxadc:  86%|████████▋ | 576/666 [00:01<00:00, 373.20 Segments/s]\u001b[A\n",
      "Aligning fvVhgmXxadc:  93%|█████████▎| 620/666 [00:01<00:00, 385.09 Segments/s]\u001b[A\n",
      "Aligning fvVhgmXxadc:  99%|█████████▉| 659/666 [00:01<00:00, 377.94 Segments/s]\u001b[A\n",
      "Overall Progress:  78%|███████▊  | 73/93 [01:36<00:30,  1.51s/ Computational Sequence Entries]\n",
      "  0%|          | 0/316 [00:00<?, ? Segments/s]\u001b[A\n",
      "Aligning iiK8YX8oH1E:   0%|          | 0/316 [00:00<?, ? Segments/s]\u001b[A\n",
      "Aligning iiK8YX8oH1E:  15%|█▌        | 48/316 [00:00<00:00, 479.45 Segments/s]\u001b[A\n",
      "Aligning iiK8YX8oH1E:  29%|██▉       | 91/316 [00:00<00:00, 455.80 Segments/s]\u001b[A\n",
      "Aligning iiK8YX8oH1E:  45%|████▍     | 141/316 [00:00<00:00, 458.00 Segments/s]\u001b[A\n",
      "Aligning iiK8YX8oH1E:  58%|█████▊    | 183/316 [00:00<00:00, 439.99 Segments/s]\u001b[A\n",
      "Aligning iiK8YX8oH1E:  70%|██████▉   | 220/316 [00:00<00:00, 399.18 Segments/s]\u001b[A\n"
     ]
    },
    {
     "name": "stderr",
     "output_type": "stream",
     "text": [
      "Aligning iiK8YX8oH1E:  82%|████████▏ | 260/316 [00:00<00:00, 396.20 Segments/s]\u001b[A\n",
      "Aligning iiK8YX8oH1E:  97%|█████████▋| 306/316 [00:00<00:00, 404.35 Segments/s]\u001b[A\n",
      "Overall Progress:  80%|███████▉  | 74/93 [01:37<00:24,  1.29s/ Computational Sequence Entries]\n",
      "  0%|          | 0/650 [00:00<?, ? Segments/s]\u001b[A\n",
      "Aligning jUzDDGyPkXU:   0%|          | 0/650 [00:00<?, ? Segments/s]\u001b[A\n",
      "Aligning jUzDDGyPkXU:   6%|▌         | 36/650 [00:00<00:01, 351.76 Segments/s]\u001b[A\n",
      "Aligning jUzDDGyPkXU:  12%|█▏        | 76/650 [00:00<00:01, 362.76 Segments/s]\u001b[A\n",
      "Aligning jUzDDGyPkXU:  18%|█▊        | 119/650 [00:00<00:01, 360.44 Segments/s]\u001b[A\n",
      "Aligning jUzDDGyPkXU:  25%|██▍       | 161/650 [00:00<00:01, 374.43 Segments/s]\u001b[A\n",
      "Aligning jUzDDGyPkXU:  30%|██▉       | 194/650 [00:00<00:01, 352.77 Segments/s]\u001b[A\n",
      "Aligning jUzDDGyPkXU:  34%|███▍      | 224/650 [00:00<00:01, 320.17 Segments/s]\u001b[A\n",
      "Aligning jUzDDGyPkXU:  41%|████      | 264/650 [00:00<00:01, 339.00 Segments/s]\u001b[A\n",
      "Aligning jUzDDGyPkXU:  47%|████▋     | 303/650 [00:00<00:00, 351.91 Segments/s]\u001b[A\n",
      "Aligning jUzDDGyPkXU:  54%|█████▍    | 350/650 [00:00<00:00, 376.09 Segments/s]\u001b[A\n",
      "Aligning jUzDDGyPkXU:  61%|██████    | 397/650 [00:01<00:00, 399.81 Segments/s]\u001b[A\n",
      "Aligning jUzDDGyPkXU:  67%|██████▋   | 438/650 [00:01<00:00, 386.64 Segments/s]\u001b[A\n",
      "Aligning jUzDDGyPkXU:  73%|███████▎  | 477/650 [00:01<00:00, 329.47 Segments/s]\u001b[A\n",
      "Aligning jUzDDGyPkXU:  79%|███████▉  | 513/650 [00:01<00:00, 337.52 Segments/s]\u001b[A\n",
      "Aligning jUzDDGyPkXU:  86%|████████▌ | 556/650 [00:01<00:00, 353.52 Segments/s]\u001b[A\n",
      "Aligning jUzDDGyPkXU:  92%|█████████▏| 598/650 [00:01<00:00, 370.38 Segments/s]\u001b[A\n",
      "Aligning jUzDDGyPkXU:  98%|█████████▊| 640/650 [00:01<00:00, 382.50 Segments/s]\u001b[A\n",
      "Overall Progress:  81%|████████  | 75/93 [01:39<00:25,  1.44s/ Computational Sequence Entries]\n",
      "  0%|          | 0/650 [00:00<?, ? Segments/s]\u001b[A\n",
      "Aligning k5Y_838nuGo:   0%|          | 0/650 [00:00<?, ? Segments/s]\u001b[A\n",
      "Aligning k5Y_838nuGo:   6%|▌         | 36/650 [00:00<00:01, 357.16 Segments/s]\u001b[A\n",
      "Aligning k5Y_838nuGo:  10%|▉         | 63/650 [00:00<00:01, 324.26 Segments/s]\u001b[A\n",
      "Aligning k5Y_838nuGo:  15%|█▌        | 99/650 [00:00<00:01, 330.88 Segments/s]\u001b[A\n",
      "Aligning k5Y_838nuGo:  22%|██▏       | 143/650 [00:00<00:01, 355.96 Segments/s]\u001b[A\n",
      "Aligning k5Y_838nuGo:  28%|██▊       | 181/650 [00:00<00:01, 356.02 Segments/s]\u001b[A\n",
      "Aligning k5Y_838nuGo:  34%|███▍      | 223/650 [00:00<00:01, 370.84 Segments/s]\u001b[A\n",
      "Aligning k5Y_838nuGo:  40%|████      | 262/650 [00:00<00:01, 370.31 Segments/s]\u001b[A\n",
      "Aligning k5Y_838nuGo:  46%|████▌     | 300/650 [00:00<00:00, 372.94 Segments/s]\u001b[A\n",
      "Aligning k5Y_838nuGo:  52%|█████▏    | 340/650 [00:00<00:00, 380.60 Segments/s]\u001b[A\n",
      "Aligning k5Y_838nuGo:  58%|█████▊    | 378/650 [00:01<00:00, 378.02 Segments/s]\u001b[A\n",
      "Aligning k5Y_838nuGo:  65%|██████▍   | 421/650 [00:01<00:00, 382.21 Segments/s]\u001b[A\n",
      "Aligning k5Y_838nuGo:  71%|███████   | 462/650 [00:01<00:00, 381.73 Segments/s]\u001b[A\n",
      "Aligning k5Y_838nuGo:  78%|███████▊  | 507/650 [00:01<00:00, 395.40 Segments/s]\u001b[A\n",
      "Aligning k5Y_838nuGo:  84%|████████▍ | 547/650 [00:01<00:00, 392.12 Segments/s]\u001b[A\n",
      "Aligning k5Y_838nuGo:  90%|█████████ | 587/650 [00:01<00:00, 375.02 Segments/s]\u001b[A\n",
      "Aligning k5Y_838nuGo:  96%|█████████▋| 626/650 [00:01<00:00, 378.84 Segments/s]\u001b[A\n",
      "Overall Progress:  82%|████████▏ | 76/93 [01:41<00:26,  1.53s/ Computational Sequence Entries]\n",
      "  0%|          | 0/662 [00:00<?, ? Segments/s]\u001b[A\n",
      "Aligning lXPQBPVc5Cw:   0%|          | 0/662 [00:00<?, ? Segments/s]\u001b[A\n",
      "Aligning lXPQBPVc5Cw:   5%|▍         | 30/662 [00:00<00:02, 281.29 Segments/s]\u001b[A\n",
      "Aligning lXPQBPVc5Cw:  11%|█▏        | 75/662 [00:00<00:01, 316.17 Segments/s]\u001b[A\n",
      "Aligning lXPQBPVc5Cw:  18%|█▊        | 120/662 [00:00<00:01, 346.03 Segments/s]\u001b[A\n",
      "Aligning lXPQBPVc5Cw:  24%|██▎       | 157/662 [00:00<00:01, 347.42 Segments/s]\u001b[A\n",
      "Aligning lXPQBPVc5Cw:  29%|██▉       | 193/662 [00:00<00:01, 351.04 Segments/s]\u001b[A\n",
      "Aligning lXPQBPVc5Cw:  35%|███▌      | 235/662 [00:00<00:01, 369.04 Segments/s]\u001b[A\n",
      "Aligning lXPQBPVc5Cw:  42%|████▏     | 276/662 [00:00<00:01, 379.94 Segments/s]\u001b[A\n",
      "Aligning lXPQBPVc5Cw:  48%|████▊     | 321/662 [00:00<00:00, 398.35 Segments/s]\u001b[A\n",
      "Aligning lXPQBPVc5Cw:  55%|█████▌    | 367/662 [00:00<00:00, 413.85 Segments/s]\u001b[A\n",
      "Aligning lXPQBPVc5Cw:  63%|██████▎   | 414/662 [00:01<00:00, 422.37 Segments/s]\u001b[A\n",
      "Aligning lXPQBPVc5Cw:  69%|██████▉   | 459/662 [00:01<00:00, 429.97 Segments/s]\u001b[A\n",
      "Aligning lXPQBPVc5Cw:  76%|███████▌  | 502/662 [00:01<00:00, 414.13 Segments/s]\u001b[A\n",
      "Aligning lXPQBPVc5Cw:  83%|████████▎ | 549/662 [00:01<00:00, 428.17 Segments/s]\u001b[A\n",
      "Aligning lXPQBPVc5Cw:  90%|█████████ | 599/662 [00:01<00:00, 444.97 Segments/s]\u001b[A\n",
      "Aligning lXPQBPVc5Cw:  99%|█████████▉| 654/662 [00:01<00:00, 467.22 Segments/s]\u001b[A\n",
      "Overall Progress:  83%|████████▎ | 77/93 [01:42<00:24,  1.54s/ Computational Sequence Entries]\n",
      "  0%|          | 0/616 [00:00<?, ? Segments/s]\u001b[A\n",
      "Aligning nbWiPyCm4g0:   0%|          | 0/616 [00:00<?, ? Segments/s]\u001b[A\n",
      "Aligning nbWiPyCm4g0:   8%|▊         | 51/616 [00:00<00:01, 509.66 Segments/s]\u001b[A\n",
      "Aligning nbWiPyCm4g0:  17%|█▋        | 104/616 [00:00<00:00, 514.24 Segments/s]\u001b[A\n",
      "Aligning nbWiPyCm4g0:  25%|██▍       | 153/616 [00:00<00:00, 505.29 Segments/s]\u001b[A\n",
      "Aligning nbWiPyCm4g0:  33%|███▎      | 203/616 [00:00<00:00, 492.10 Segments/s]\u001b[A\n",
      "Aligning nbWiPyCm4g0:  40%|███▉      | 245/616 [00:00<00:00, 465.40 Segments/s]\u001b[A\n",
      "Aligning nbWiPyCm4g0:  47%|████▋     | 287/616 [00:00<00:00, 442.27 Segments/s]\u001b[A\n",
      "Aligning nbWiPyCm4g0:  54%|█████▎    | 331/616 [00:00<00:00, 440.82 Segments/s]\u001b[A\n",
      "Aligning nbWiPyCm4g0:  61%|██████    | 374/616 [00:00<00:00, 427.38 Segments/s]\u001b[A\n",
      "Aligning nbWiPyCm4g0:  67%|██████▋   | 415/616 [00:00<00:00, 421.87 Segments/s]\u001b[A\n",
      "Aligning nbWiPyCm4g0:  75%|███████▍  | 460/616 [00:01<00:00, 428.39 Segments/s]\u001b[A\n",
      "Aligning nbWiPyCm4g0:  82%|████████▏ | 507/616 [00:01<00:00, 432.41 Segments/s]\u001b[A\n",
      "Aligning nbWiPyCm4g0:  90%|████████▉ | 553/616 [00:01<00:00, 439.78 Segments/s]\u001b[A\n",
      "Aligning nbWiPyCm4g0:  97%|█████████▋| 600/616 [00:01<00:00, 443.49 Segments/s]\u001b[A\n",
      "Overall Progress:  84%|████████▍ | 78/93 [01:44<00:22,  1.50s/ Computational Sequence Entries]\n",
      "  0%|          | 0/582 [00:00<?, ? Segments/s]\u001b[A\n",
      "Aligning nzpVDcQ0ywM:   0%|          | 0/582 [00:00<?, ? Segments/s]\u001b[A\n",
      "Aligning nzpVDcQ0ywM:   6%|▌         | 36/582 [00:00<00:01, 353.32 Segments/s]\u001b[A\n",
      "Aligning nzpVDcQ0ywM:  13%|█▎        | 77/582 [00:00<00:01, 368.03 Segments/s]\u001b[A\n",
      "Aligning nzpVDcQ0ywM:  19%|█▉        | 113/582 [00:00<00:01, 365.50 Segments/s]\u001b[A\n",
      "Aligning nzpVDcQ0ywM:  27%|██▋       | 158/582 [00:00<00:01, 386.00 Segments/s]\u001b[A\n",
      "Aligning nzpVDcQ0ywM:  33%|███▎      | 190/582 [00:00<00:01, 361.91 Segments/s]\u001b[A\n",
      "Aligning nzpVDcQ0ywM:  39%|███▉      | 228/582 [00:00<00:00, 365.88 Segments/s]\u001b[A\n",
      "Aligning nzpVDcQ0ywM:  46%|████▌     | 265/582 [00:00<00:00, 363.17 Segments/s]\u001b[A\n",
      "Aligning nzpVDcQ0ywM:  52%|█████▏    | 301/582 [00:00<00:00, 357.30 Segments/s]\u001b[A\n",
      "Aligning nzpVDcQ0ywM:  60%|█████▉    | 348/582 [00:00<00:00, 383.77 Segments/s]\u001b[A\n",
      "Aligning nzpVDcQ0ywM:  67%|██████▋   | 389/582 [00:01<00:00, 391.12 Segments/s]\u001b[A\n",
      "Aligning nzpVDcQ0ywM:  75%|███████▍  | 434/582 [00:01<00:00, 404.68 Segments/s]\u001b[A\n",
      "Aligning nzpVDcQ0ywM:  82%|████████▏ | 475/582 [00:01<00:00, 403.82 Segments/s]\u001b[A\n",
      "Aligning nzpVDcQ0ywM:  90%|████████▉ | 522/582 [00:01<00:00, 419.69 Segments/s]\u001b[A\n",
      "Aligning nzpVDcQ0ywM:  98%|█████████▊| 569/582 [00:01<00:00, 427.97 Segments/s]\u001b[A\n",
      "Overall Progress:  85%|████████▍ | 79/93 [01:45<00:20,  1.49s/ Computational Sequence Entries]\n",
      "  0%|          | 0/419 [00:00<?, ? Segments/s]\u001b[A\n",
      "Aligning ob23OKe5a9Q:   0%|          | 0/419 [00:00<?, ? Segments/s]\u001b[A\n",
      "Aligning ob23OKe5a9Q:   9%|▉         | 39/419 [00:00<00:00, 387.04 Segments/s]\u001b[A\n",
      "Aligning ob23OKe5a9Q:  21%|██        | 87/419 [00:00<00:00, 409.09 Segments/s]\u001b[A\n",
      "Aligning ob23OKe5a9Q:  32%|███▏      | 136/419 [00:00<00:00, 424.43 Segments/s]\u001b[A\n",
      "Aligning ob23OKe5a9Q:  42%|████▏     | 175/419 [00:00<00:00, 412.61 Segments/s]\u001b[A\n",
      "Aligning ob23OKe5a9Q:  50%|█████     | 210/419 [00:00<00:00, 389.97 Segments/s]\u001b[A\n",
      "Aligning ob23OKe5a9Q:  59%|█████▉    | 249/419 [00:00<00:00, 388.38 Segments/s]\u001b[A\n",
      "Aligning ob23OKe5a9Q:  70%|██████▉   | 292/419 [00:00<00:00, 398.92 Segments/s]\u001b[A\n"
     ]
    },
    {
     "name": "stderr",
     "output_type": "stream",
     "text": [
      "Aligning ob23OKe5a9Q:  80%|███████▉  | 335/419 [00:00<00:00, 406.03 Segments/s]\u001b[A\n",
      "Aligning ob23OKe5a9Q:  92%|█████████▏| 386/419 [00:00<00:00, 430.47 Segments/s]\u001b[A\n",
      "Overall Progress:  86%|████████▌ | 80/93 [01:46<00:17,  1.35s/ Computational Sequence Entries]\n",
      "  0%|          | 0/502 [00:00<?, ? Segments/s]\u001b[A\n",
      "Aligning pLTX3ipuDJI:   0%|          | 0/502 [00:00<?, ? Segments/s]\u001b[A\n",
      "Aligning pLTX3ipuDJI:  10%|▉         | 49/502 [00:00<00:00, 488.56 Segments/s]\u001b[A\n",
      "Aligning pLTX3ipuDJI:  20%|█▉        | 100/502 [00:00<00:00, 494.58 Segments/s]\u001b[A\n",
      "Aligning pLTX3ipuDJI:  29%|██▉       | 145/502 [00:00<00:00, 477.49 Segments/s]\u001b[A\n",
      "Aligning pLTX3ipuDJI:  35%|███▌      | 177/502 [00:00<00:00, 415.48 Segments/s]\u001b[A\n",
      "Aligning pLTX3ipuDJI:  45%|████▍     | 225/502 [00:00<00:00, 426.29 Segments/s]\u001b[A\n",
      "Aligning pLTX3ipuDJI:  55%|█████▍    | 276/502 [00:00<00:00, 448.33 Segments/s]\u001b[A\n",
      "Aligning pLTX3ipuDJI:  65%|██████▌   | 327/502 [00:00<00:00, 464.97 Segments/s]\u001b[A\n",
      "Aligning pLTX3ipuDJI:  74%|███████▍  | 371/502 [00:00<00:00, 423.04 Segments/s]\u001b[A\n",
      "Aligning pLTX3ipuDJI:  82%|████████▏ | 412/502 [00:00<00:00, 412.35 Segments/s]\u001b[A\n",
      "Aligning pLTX3ipuDJI:  92%|█████████▏| 461/502 [00:01<00:00, 423.09 Segments/s]\u001b[A\n",
      "Overall Progress:  87%|████████▋ | 81/93 [01:47<00:15,  1.28s/ Computational Sequence Entries]\n",
      "  0%|          | 0/729 [00:00<?, ? Segments/s]\u001b[A\n",
      "Aligning phBUpBr1hSo:   0%|          | 0/729 [00:00<?, ? Segments/s]\u001b[A\n",
      "Aligning phBUpBr1hSo:   6%|▋         | 47/729 [00:00<00:01, 467.10 Segments/s]\u001b[A\n",
      "Aligning phBUpBr1hSo:  13%|█▎        | 92/729 [00:00<00:01, 461.38 Segments/s]\u001b[A\n",
      "Aligning phBUpBr1hSo:  18%|█▊        | 134/729 [00:00<00:01, 446.90 Segments/s]\u001b[A\n",
      "Aligning phBUpBr1hSo:  23%|██▎       | 167/729 [00:00<00:01, 401.04 Segments/s]\u001b[A\n",
      "Aligning phBUpBr1hSo:  29%|██▉       | 213/729 [00:00<00:01, 415.36 Segments/s]\u001b[A\n",
      "Aligning phBUpBr1hSo:  35%|███▍      | 253/729 [00:00<00:01, 408.94 Segments/s]\u001b[A\n",
      "Aligning phBUpBr1hSo:  40%|████      | 295/729 [00:00<00:01, 410.22 Segments/s]\u001b[A\n",
      "Aligning phBUpBr1hSo:  46%|████▌     | 334/729 [00:00<00:00, 401.48 Segments/s]\u001b[A\n",
      "Aligning phBUpBr1hSo:  52%|█████▏    | 380/729 [00:00<00:00, 414.89 Segments/s]\u001b[A\n",
      "Aligning phBUpBr1hSo:  58%|█████▊    | 420/729 [00:01<00:00, 392.63 Segments/s]\u001b[A\n",
      "Aligning phBUpBr1hSo:  63%|██████▎   | 459/729 [00:01<00:00, 381.68 Segments/s]\u001b[A\n",
      "Aligning phBUpBr1hSo:  68%|██████▊   | 497/729 [00:01<00:00, 379.98 Segments/s]\u001b[A\n",
      "Aligning phBUpBr1hSo:  74%|███████▍  | 540/729 [00:01<00:00, 393.31 Segments/s]\u001b[A\n",
      "Aligning phBUpBr1hSo:  80%|████████  | 584/729 [00:01<00:00, 400.81 Segments/s]\u001b[A\n",
      "Aligning phBUpBr1hSo:  86%|████████▋ | 629/729 [00:01<00:00, 413.80 Segments/s]\u001b[A\n",
      "Aligning phBUpBr1hSo:  92%|█████████▏| 671/729 [00:01<00:00, 389.29 Segments/s]\u001b[A\n",
      "Aligning phBUpBr1hSo:  98%|█████████▊| 711/729 [00:01<00:00, 376.04 Segments/s]\u001b[A\n",
      "Overall Progress:  88%|████████▊ | 82/93 [01:49<00:15,  1.45s/ Computational Sequence Entries]\n",
      "  0%|          | 0/716 [00:00<?, ? Segments/s]\u001b[A\n",
      "Aligning rnaNMUZpvvg:   0%|          | 0/716 [00:00<?, ? Segments/s]\u001b[A\n",
      "Aligning rnaNMUZpvvg:   5%|▍         | 35/716 [00:00<00:01, 349.29 Segments/s]\u001b[A\n",
      "Aligning rnaNMUZpvvg:   9%|▉         | 65/716 [00:00<00:02, 324.82 Segments/s]\u001b[A\n",
      "Aligning rnaNMUZpvvg:  13%|█▎        | 96/716 [00:00<00:01, 317.98 Segments/s]\u001b[A\n",
      "Aligning rnaNMUZpvvg:  18%|█▊        | 128/716 [00:00<00:01, 318.48 Segments/s]\u001b[A\n",
      "Aligning rnaNMUZpvvg:  23%|██▎       | 166/716 [00:00<00:01, 334.71 Segments/s]\u001b[A\n",
      "Aligning rnaNMUZpvvg:  30%|███       | 215/716 [00:00<00:01, 368.93 Segments/s]\u001b[A\n",
      "Aligning rnaNMUZpvvg:  37%|███▋      | 264/716 [00:00<00:01, 398.21 Segments/s]\u001b[A\n",
      "Aligning rnaNMUZpvvg:  43%|████▎     | 308/716 [00:00<00:01, 396.62 Segments/s]\u001b[A\n",
      "Aligning rnaNMUZpvvg:  48%|████▊     | 347/716 [00:00<00:00, 384.61 Segments/s]\u001b[A\n",
      "Aligning rnaNMUZpvvg:  55%|█████▍    | 393/716 [00:01<00:00, 402.09 Segments/s]\u001b[A\n",
      "Aligning rnaNMUZpvvg:  61%|██████    | 436/716 [00:01<00:00, 399.53 Segments/s]\u001b[A\n",
      "Aligning rnaNMUZpvvg:  66%|██████▋   | 476/716 [00:01<00:00, 391.67 Segments/s]\u001b[A\n",
      "Aligning rnaNMUZpvvg:  72%|███████▏  | 516/716 [00:01<00:00, 372.19 Segments/s]\u001b[A\n",
      "Aligning rnaNMUZpvvg:  78%|███████▊  | 557/716 [00:01<00:00, 380.65 Segments/s]\u001b[A\n",
      "Aligning rnaNMUZpvvg:  83%|████████▎ | 596/716 [00:01<00:00, 356.44 Segments/s]\u001b[A\n",
      "Aligning rnaNMUZpvvg:  89%|████████▊ | 634/716 [00:01<00:00, 361.79 Segments/s]\u001b[A\n",
      "Aligning rnaNMUZpvvg:  94%|█████████▎| 671/716 [00:01<00:00, 363.02 Segments/s]\u001b[A\n",
      "Aligning rnaNMUZpvvg: 100%|█████████▉| 714/716 [00:01<00:00, 379.59 Segments/s]\u001b[A\n",
      "Overall Progress:  89%|████████▉ | 83/93 [01:51<00:15,  1.59s/ Computational Sequence Entries]\n",
      "  0%|          | 0/599 [00:00<?, ? Segments/s]\u001b[A\n",
      "Aligning tIrG4oNLFzE:   0%|          | 0/599 [00:00<?, ? Segments/s]\u001b[A\n",
      "Aligning tIrG4oNLFzE:   7%|▋         | 44/599 [00:00<00:01, 432.69 Segments/s]\u001b[A\n",
      "Aligning tIrG4oNLFzE:  15%|█▌        | 90/599 [00:00<00:01, 440.21 Segments/s]\u001b[A\n",
      "Aligning tIrG4oNLFzE:  22%|██▏       | 134/599 [00:00<00:01, 440.03 Segments/s]\u001b[A\n",
      "Aligning tIrG4oNLFzE:  29%|██▉       | 176/599 [00:00<00:00, 432.47 Segments/s]\u001b[A\n",
      "Aligning tIrG4oNLFzE:  36%|███▌      | 217/599 [00:00<00:00, 424.83 Segments/s]\u001b[A\n",
      "Aligning tIrG4oNLFzE:  43%|████▎     | 260/599 [00:00<00:00, 425.91 Segments/s]\u001b[A\n",
      "Aligning tIrG4oNLFzE:  51%|█████▏    | 308/599 [00:00<00:00, 438.54 Segments/s]\u001b[A\n",
      "Aligning tIrG4oNLFzE:  60%|█████▉    | 357/599 [00:00<00:00, 450.64 Segments/s]\u001b[A\n",
      "Aligning tIrG4oNLFzE:  69%|██████▉   | 415/599 [00:00<00:00, 481.28 Segments/s]\u001b[A\n",
      "Aligning tIrG4oNLFzE:  79%|███████▊  | 471/599 [00:01<00:00, 493.30 Segments/s]\u001b[A\n",
      "Aligning tIrG4oNLFzE:  87%|████████▋ | 520/599 [00:01<00:00, 417.22 Segments/s]\u001b[A\n",
      "Aligning tIrG4oNLFzE:  94%|█████████▍| 564/599 [00:01<00:00, 421.94 Segments/s]\u001b[A\n",
      "Overall Progress:  90%|█████████ | 84/93 [01:52<00:13,  1.52s/ Computational Sequence Entries]\n",
      "  0%|          | 0/432 [00:00<?, ? Segments/s]\u001b[A\n",
      "Aligning tStelxIAHjw:   0%|          | 0/432 [00:00<?, ? Segments/s]\u001b[A\n",
      "Aligning tStelxIAHjw:  11%|█         | 47/432 [00:00<00:00, 464.05 Segments/s]\u001b[A\n",
      "Aligning tStelxIAHjw:  22%|██▏       | 96/432 [00:00<00:00, 469.07 Segments/s]\u001b[A\n",
      "Aligning tStelxIAHjw:  30%|██▉       | 128/432 [00:00<00:00, 401.18 Segments/s]\u001b[A\n",
      "Aligning tStelxIAHjw:  41%|████      | 176/432 [00:00<00:00, 409.03 Segments/s]\u001b[A\n",
      "Aligning tStelxIAHjw:  50%|████▉     | 215/432 [00:00<00:00, 403.00 Segments/s]\u001b[A\n",
      "Aligning tStelxIAHjw:  60%|██████    | 260/432 [00:00<00:00, 415.98 Segments/s]\u001b[A\n",
      "Aligning tStelxIAHjw:  71%|███████▏  | 308/432 [00:00<00:00, 432.18 Segments/s]\u001b[A\n",
      "Aligning tStelxIAHjw:  81%|████████  | 349/432 [00:00<00:00, 391.17 Segments/s]\u001b[A\n",
      "Aligning tStelxIAHjw:  91%|█████████ | 392/432 [00:00<00:00, 401.31 Segments/s]\u001b[A\n",
      "Overall Progress:  91%|█████████▏| 85/93 [01:53<00:11,  1.38s/ Computational Sequence Entries]\n",
      "  0%|          | 0/384 [00:00<?, ? Segments/s]\u001b[A\n",
      "Aligning tmZoasNr4rU:   0%|          | 0/384 [00:00<?, ? Segments/s]\u001b[A\n",
      "Aligning tmZoasNr4rU:   7%|▋         | 27/384 [00:00<00:01, 255.56 Segments/s]\u001b[A\n",
      "Aligning tmZoasNr4rU:  16%|█▌        | 62/384 [00:00<00:01, 275.25 Segments/s]\u001b[A\n",
      "Aligning tmZoasNr4rU:  23%|██▎       | 89/384 [00:00<00:01, 272.42 Segments/s]\u001b[A\n",
      "Aligning tmZoasNr4rU:  33%|███▎      | 127/384 [00:00<00:00, 295.30 Segments/s]\u001b[A\n",
      "Aligning tmZoasNr4rU:  43%|████▎     | 165/384 [00:00<00:00, 313.94 Segments/s]\u001b[A\n",
      "Aligning tmZoasNr4rU:  52%|█████▏    | 201/384 [00:00<00:00, 322.78 Segments/s]\u001b[A\n",
      "Aligning tmZoasNr4rU:  64%|██████▍   | 245/384 [00:00<00:00, 347.70 Segments/s]\u001b[A\n",
      "Aligning tmZoasNr4rU:  75%|███████▌  | 288/384 [00:00<00:00, 365.20 Segments/s]\u001b[A\n",
      "Aligning tmZoasNr4rU:  85%|████████▌ | 328/384 [00:00<00:00, 371.88 Segments/s]\u001b[A\n",
      "Aligning tmZoasNr4rU:  96%|█████████▌| 369/384 [00:01<00:00, 369.09 Segments/s]\u001b[A\n",
      "Overall Progress:  92%|█████████▏| 86/93 [01:54<00:09,  1.30s/ Computational Sequence Entries]\n",
      "  0%|          | 0/491 [00:00<?, ? Segments/s]\u001b[A\n",
      "Aligning v0zCBqDeKcE:   0%|          | 0/491 [00:00<?, ? Segments/s]\u001b[A\n",
      "Aligning v0zCBqDeKcE:   7%|▋         | 36/491 [00:00<00:01, 357.07 Segments/s]\u001b[A\n",
      "Aligning v0zCBqDeKcE:  14%|█▍        | 69/491 [00:00<00:01, 343.60 Segments/s]\u001b[A\n"
     ]
    },
    {
     "name": "stderr",
     "output_type": "stream",
     "text": [
      "Aligning v0zCBqDeKcE:  23%|██▎       | 111/491 [00:00<00:01, 361.13 Segments/s]\u001b[A\n",
      "Aligning v0zCBqDeKcE:  32%|███▏      | 156/491 [00:00<00:00, 378.58 Segments/s]\u001b[A\n",
      "Aligning v0zCBqDeKcE:  39%|███▉      | 191/491 [00:00<00:00, 365.94 Segments/s]\u001b[A\n",
      "Aligning v0zCBqDeKcE:  46%|████▌     | 225/491 [00:00<00:00, 352.19 Segments/s]\u001b[A\n",
      "Aligning v0zCBqDeKcE:  53%|█████▎    | 262/491 [00:00<00:00, 355.42 Segments/s]\u001b[A\n",
      "Aligning v0zCBqDeKcE:  60%|██████    | 296/491 [00:00<00:00, 344.19 Segments/s]\u001b[A\n",
      "Aligning v0zCBqDeKcE:  68%|██████▊   | 334/491 [00:00<00:00, 354.13 Segments/s]\u001b[A\n",
      "Aligning v0zCBqDeKcE:  76%|███████▋  | 375/491 [00:01<00:00, 367.35 Segments/s]\u001b[A\n",
      "Aligning v0zCBqDeKcE:  84%|████████▍ | 414/491 [00:01<00:00, 373.86 Segments/s]\u001b[A\n",
      "Aligning v0zCBqDeKcE:  92%|█████████▏| 454/491 [00:01<00:00, 379.66 Segments/s]\u001b[A\n",
      "Overall Progress:  94%|█████████▎| 87/93 [01:56<00:07,  1.31s/ Computational Sequence Entries]\n",
      "  0%|          | 0/613 [00:00<?, ? Segments/s]\u001b[A\n",
      "Aligning vvZ4IcEtiZc:   0%|          | 0/613 [00:00<?, ? Segments/s]\u001b[A\n",
      "Aligning vvZ4IcEtiZc:   7%|▋         | 42/613 [00:00<00:01, 417.62 Segments/s]\u001b[A\n",
      "Aligning vvZ4IcEtiZc:  15%|█▌        | 94/613 [00:00<00:01, 443.66 Segments/s]\u001b[A\n",
      "Aligning vvZ4IcEtiZc:  21%|██        | 129/613 [00:00<00:01, 402.23 Segments/s]\u001b[A\n",
      "Aligning vvZ4IcEtiZc:  28%|██▊       | 174/613 [00:00<00:01, 410.06 Segments/s]\u001b[A\n",
      "Aligning vvZ4IcEtiZc:  36%|███▌      | 220/613 [00:00<00:00, 418.96 Segments/s]\u001b[A\n",
      "Aligning vvZ4IcEtiZc:  43%|████▎     | 265/613 [00:00<00:00, 423.16 Segments/s]\u001b[A\n",
      "Aligning vvZ4IcEtiZc:  51%|█████     | 312/613 [00:00<00:00, 431.31 Segments/s]\u001b[A\n",
      "Aligning vvZ4IcEtiZc:  58%|█████▊    | 353/613 [00:00<00:00, 416.89 Segments/s]\u001b[A\n",
      "Aligning vvZ4IcEtiZc:  64%|██████▍   | 395/613 [00:00<00:00, 416.63 Segments/s]\u001b[A\n",
      "Aligning vvZ4IcEtiZc:  71%|███████   | 436/613 [00:01<00:00, 400.90 Segments/s]\u001b[A\n",
      "Aligning vvZ4IcEtiZc:  78%|███████▊  | 476/613 [00:01<00:00, 399.82 Segments/s]\u001b[A\n",
      "Aligning vvZ4IcEtiZc:  84%|████████▍ | 517/613 [00:01<00:00, 401.18 Segments/s]\u001b[A\n",
      "Aligning vvZ4IcEtiZc:  91%|█████████ | 559/613 [00:01<00:00, 404.01 Segments/s]\u001b[A\n",
      "Aligning vvZ4IcEtiZc:  98%|█████████▊| 601/613 [00:01<00:00, 407.96 Segments/s]\u001b[A\n",
      "Overall Progress:  95%|█████████▍| 88/93 [01:57<00:06,  1.36s/ Computational Sequence Entries]\n",
      "  0%|          | 0/600 [00:00<?, ? Segments/s]\u001b[A\n",
      "Aligning vyB00TXsimI:   0%|          | 0/600 [00:00<?, ? Segments/s]\u001b[A\n",
      "Aligning vyB00TXsimI:   8%|▊         | 48/600 [00:00<00:01, 471.44 Segments/s]\u001b[A\n",
      "Aligning vyB00TXsimI:  16%|█▌        | 94/600 [00:00<00:01, 467.21 Segments/s]\u001b[A\n",
      "Aligning vyB00TXsimI:  23%|██▎       | 136/600 [00:00<00:01, 451.90 Segments/s]\u001b[A\n",
      "Aligning vyB00TXsimI:  30%|███       | 181/600 [00:00<00:00, 448.14 Segments/s]\u001b[A\n",
      "Aligning vyB00TXsimI:  37%|███▋      | 222/600 [00:00<00:00, 422.47 Segments/s]\u001b[A\n",
      "Aligning vyB00TXsimI:  43%|████▎     | 260/600 [00:00<00:00, 405.46 Segments/s]\u001b[A\n",
      "Aligning vyB00TXsimI:  49%|████▉     | 296/600 [00:00<00:00, 379.88 Segments/s]\u001b[A\n",
      "Aligning vyB00TXsimI:  56%|█████▌    | 333/600 [00:00<00:00, 366.02 Segments/s]\u001b[A\n",
      "Aligning vyB00TXsimI:  62%|██████▎   | 375/600 [00:00<00:00, 380.16 Segments/s]\u001b[A\n",
      "Aligning vyB00TXsimI:  69%|██████▉   | 414/600 [00:01<00:00, 381.47 Segments/s]\u001b[A\n",
      "Aligning vyB00TXsimI:  75%|███████▌  | 452/600 [00:01<00:00, 372.68 Segments/s]\u001b[A\n",
      "Aligning vyB00TXsimI:  82%|████████▏ | 494/600 [00:01<00:00, 384.68 Segments/s]\u001b[A\n",
      "Aligning vyB00TXsimI:  89%|████████▉ | 533/600 [00:01<00:00, 366.30 Segments/s]\u001b[A\n",
      "Aligning vyB00TXsimI:  97%|█████████▋| 581/600 [00:01<00:00, 393.01 Segments/s]\u001b[A\n",
      "Overall Progress:  96%|█████████▌| 89/93 [01:59<00:05,  1.41s/ Computational Sequence Entries]\n",
      "  0%|          | 0/701 [00:00<?, ? Segments/s]\u001b[A\n",
      "Aligning wMbj6ajWbic:   0%|          | 0/701 [00:00<?, ? Segments/s]\u001b[A\n",
      "Aligning wMbj6ajWbic:   6%|▌         | 41/701 [00:00<00:01, 409.45 Segments/s]\u001b[A\n",
      "Aligning wMbj6ajWbic:  12%|█▏        | 85/701 [00:00<00:01, 417.29 Segments/s]\u001b[A\n",
      "Aligning wMbj6ajWbic:  19%|█▉        | 133/701 [00:00<00:01, 432.22 Segments/s]\u001b[A\n",
      "Aligning wMbj6ajWbic:  26%|██▌       | 181/701 [00:00<00:01, 443.12 Segments/s]\u001b[A\n",
      "Aligning wMbj6ajWbic:  33%|███▎      | 229/701 [00:00<00:01, 452.50 Segments/s]\u001b[A\n",
      "Aligning wMbj6ajWbic:  39%|███▉      | 276/701 [00:00<00:00, 457.53 Segments/s]\u001b[A\n",
      "Aligning wMbj6ajWbic:  45%|████▌     | 318/701 [00:00<00:00, 425.45 Segments/s]\u001b[A\n",
      "Aligning wMbj6ajWbic:  51%|█████     | 358/701 [00:00<00:00, 401.54 Segments/s]\u001b[A\n",
      "Aligning wMbj6ajWbic:  57%|█████▋    | 400/701 [00:00<00:00, 404.39 Segments/s]\u001b[A\n",
      "Aligning wMbj6ajWbic:  63%|██████▎   | 441/701 [00:01<00:00, 398.10 Segments/s]\u001b[A\n",
      "Aligning wMbj6ajWbic:  69%|██████▉   | 482/701 [00:01<00:00, 397.42 Segments/s]\u001b[A\n",
      "Aligning wMbj6ajWbic:  75%|███████▍  | 524/701 [00:01<00:00, 394.32 Segments/s]\u001b[A\n",
      "Aligning wMbj6ajWbic:  80%|████████  | 564/701 [00:01<00:00, 374.39 Segments/s]\u001b[A\n",
      "Aligning wMbj6ajWbic:  86%|████████▋ | 606/701 [00:01<00:00, 385.79 Segments/s]\u001b[A\n",
      "Aligning wMbj6ajWbic:  93%|█████████▎| 654/701 [00:01<00:00, 408.46 Segments/s]\u001b[A\n",
      "Overall Progress:  97%|█████████▋| 90/93 [02:00<00:04,  1.49s/ Computational Sequence Entries]\n",
      "  0%|          | 0/586 [00:00<?, ? Segments/s]\u001b[A\n",
      "Aligning yDtzw_Y-7RU:   0%|          | 0/586 [00:00<?, ? Segments/s]\u001b[A\n",
      "Aligning yDtzw_Y-7RU:   7%|▋         | 41/586 [00:00<00:01, 403.74 Segments/s]\u001b[A\n",
      "Aligning yDtzw_Y-7RU:  13%|█▎        | 78/586 [00:00<00:01, 391.80 Segments/s]\u001b[A\n",
      "Aligning yDtzw_Y-7RU:  22%|██▏       | 129/586 [00:00<00:01, 420.27 Segments/s]\u001b[A\n",
      "Aligning yDtzw_Y-7RU:  31%|███       | 180/586 [00:00<00:00, 443.03 Segments/s]\u001b[A\n",
      "Aligning yDtzw_Y-7RU:  38%|███▊      | 223/586 [00:00<00:00, 436.56 Segments/s]\u001b[A\n",
      "Aligning yDtzw_Y-7RU:  46%|████▌     | 270/586 [00:00<00:00, 443.96 Segments/s]\u001b[A\n",
      "Aligning yDtzw_Y-7RU:  56%|█████▋    | 331/586 [00:00<00:00, 482.03 Segments/s]\u001b[A\n",
      "Aligning yDtzw_Y-7RU:  65%|██████▌   | 382/586 [00:00<00:00, 488.89 Segments/s]\u001b[A\n",
      "Aligning yDtzw_Y-7RU:  75%|███████▍  | 437/586 [00:00<00:00, 502.60 Segments/s]\u001b[A\n",
      "Aligning yDtzw_Y-7RU:  83%|████████▎ | 487/586 [00:01<00:00, 470.43 Segments/s]\u001b[A\n",
      "Aligning yDtzw_Y-7RU:  91%|█████████ | 534/586 [00:01<00:00, 441.55 Segments/s]\u001b[A\n",
      "Aligning yDtzw_Y-7RU:  99%|█████████▉| 579/586 [00:01<00:00, 439.85 Segments/s]\u001b[A\n",
      "Overall Progress:  98%|█████████▊| 91/93 [02:02<00:02,  1.44s/ Computational Sequence Entries]\n",
      "  0%|          | 0/625 [00:00<?, ? Segments/s]\u001b[A\n",
      "Aligning yvsjCA6Y5Fc:   0%|          | 0/625 [00:00<?, ? Segments/s]\u001b[A\n",
      "Aligning yvsjCA6Y5Fc:   4%|▍         | 28/625 [00:00<00:02, 279.09 Segments/s]\u001b[A\n",
      "Aligning yvsjCA6Y5Fc:   9%|▉         | 58/625 [00:00<00:01, 284.70 Segments/s]\u001b[A\n",
      "Aligning yvsjCA6Y5Fc:  14%|█▍        | 90/625 [00:00<00:01, 288.11 Segments/s]\u001b[A\n",
      "Aligning yvsjCA6Y5Fc:  21%|██        | 131/625 [00:00<00:01, 315.31 Segments/s]\u001b[A\n",
      "Aligning yvsjCA6Y5Fc:  28%|██▊       | 173/625 [00:00<00:01, 339.76 Segments/s]\u001b[A\n",
      "Aligning yvsjCA6Y5Fc:  34%|███▍      | 215/625 [00:00<00:01, 358.64 Segments/s]\u001b[A\n",
      "Aligning yvsjCA6Y5Fc:  41%|████▏     | 259/625 [00:00<00:00, 378.12 Segments/s]\u001b[A\n",
      "Aligning yvsjCA6Y5Fc:  48%|████▊     | 297/625 [00:00<00:00, 372.17 Segments/s]\u001b[A\n",
      "Aligning yvsjCA6Y5Fc:  55%|█████▍    | 341/625 [00:00<00:00, 385.99 Segments/s]\u001b[A\n",
      "Aligning yvsjCA6Y5Fc:  61%|██████    | 382/625 [00:01<00:00, 389.07 Segments/s]\u001b[A\n",
      "Aligning yvsjCA6Y5Fc:  67%|██████▋   | 421/625 [00:01<00:00, 382.15 Segments/s]\u001b[A\n",
      "Aligning yvsjCA6Y5Fc:  75%|███████▍  | 466/625 [00:01<00:00, 398.83 Segments/s]\u001b[A\n",
      "Aligning yvsjCA6Y5Fc:  81%|████████  | 506/625 [00:01<00:00, 380.13 Segments/s]\u001b[A\n",
      "Aligning yvsjCA6Y5Fc:  88%|████████▊ | 547/625 [00:01<00:00, 388.46 Segments/s]\u001b[A\n",
      "Aligning yvsjCA6Y5Fc:  94%|█████████▍| 587/625 [00:01<00:00, 383.57 Segments/s]\u001b[A\n",
      "Overall Progress:  99%|█████████▉| 92/93 [02:03<00:01,  1.50s/ Computational Sequence Entries]\n",
      "  0%|          | 0/688 [00:00<?, ? Segments/s]\u001b[A\n",
      "Aligning zhpQhgha_KU:   0%|          | 0/688 [00:00<?, ? Segments/s]\u001b[A\n",
      "Aligning zhpQhgha_KU:   7%|▋         | 46/688 [00:00<00:01, 455.33 Segments/s]\u001b[A\n",
      "Aligning zhpQhgha_KU:  12%|█▎        | 86/688 [00:00<00:01, 434.86 Segments/s]\u001b[A\n",
      "Aligning zhpQhgha_KU:  18%|█▊        | 122/688 [00:00<00:01, 402.27 Segments/s]\u001b[A\n"
     ]
    },
    {
     "name": "stderr",
     "output_type": "stream",
     "text": [
      "Aligning zhpQhgha_KU:  24%|██▍       | 165/688 [00:00<00:01, 410.00 Segments/s]\u001b[A\n",
      "Aligning zhpQhgha_KU:  29%|██▉       | 202/688 [00:00<00:01, 394.50 Segments/s]\u001b[A\n",
      "Aligning zhpQhgha_KU:  35%|███▌      | 242/688 [00:00<00:01, 393.68 Segments/s]\u001b[A\n",
      "Aligning zhpQhgha_KU:  41%|████      | 282/688 [00:00<00:01, 393.44 Segments/s]\u001b[A\n",
      "Aligning zhpQhgha_KU:  47%|████▋     | 323/688 [00:00<00:00, 397.08 Segments/s]\u001b[A\n",
      "Aligning zhpQhgha_KU:  54%|█████▎    | 369/688 [00:00<00:00, 412.75 Segments/s]\u001b[A\n",
      "Aligning zhpQhgha_KU:  60%|██████    | 416/688 [00:01<00:00, 427.95 Segments/s]\u001b[A\n",
      "Aligning zhpQhgha_KU:  67%|██████▋   | 463/688 [00:01<00:00, 437.36 Segments/s]\u001b[A\n",
      "Aligning zhpQhgha_KU:  74%|███████▎  | 507/688 [00:01<00:00, 435.22 Segments/s]\u001b[A\n",
      "Aligning zhpQhgha_KU:  80%|████████  | 553/688 [00:01<00:00, 437.53 Segments/s]\u001b[A\n",
      "Aligning zhpQhgha_KU:  87%|████████▋ | 597/688 [00:01<00:00, 427.84 Segments/s]\u001b[A\n",
      "Aligning zhpQhgha_KU:  93%|█████████▎| 643/688 [00:01<00:00, 432.28 Segments/s]\u001b[A\n",
      "  0%|          | 0/51022 [00:00<?, ? Computational Sequence Entries/s]                        "
     ]
    },
    {
     "name": "stdout",
     "output_type": "stream",
     "text": [
      "\u001b[92m\u001b[1m<Success>: \u001b[0mAlignment to <CMU_MOSI_ModifiedTimestampedWords> complete.\n",
      "\u001b[94m\u001b[1m<Status>: \u001b[0mReplacing dataset content with aligned computational sequences\n",
      "\u001b[92m\u001b[1m<Success>: \u001b[0mInitialized empty <CMU_MOSI_ModifiedTimestampedWords> computational sequence.\n",
      "\u001b[94m\u001b[1m<Status>: \u001b[0mChecking the integrity of the data in <CMU_MOSI_ModifiedTimestampedWords> computational sequence ...\n",
      "\u001b[92m\u001b[1m<Success>: \u001b[0m<CMU_MOSI_ModifiedTimestampedWords> computational sequence data in correct format.\n",
      "\u001b[94m\u001b[1m<Status>: \u001b[0mChecking the integrity of the metadata in <CMU_MOSI_ModifiedTimestampedWords> computational sequence ...\n",
      "\u001b[92m\u001b[1m<Success>: \u001b[0m<CMU_MOSI_ModifiedTimestampedWords> computational sequence metadata in correct format\n",
      "\u001b[92m\u001b[1m<Success>: \u001b[0mInitialized empty <CMU_MOSI_VisualFacet_4.1> computational sequence.\n",
      "\u001b[94m\u001b[1m<Status>: \u001b[0mChecking the integrity of the data in <CMU_MOSI_VisualFacet_4.1> computational sequence ...\n"
     ]
    },
    {
     "name": "stderr",
     "output_type": "stream",
     "text": [
      "                                                                                      "
     ]
    },
    {
     "name": "stdout",
     "output_type": "stream",
     "text": [
      "\u001b[92m\u001b[1m<Success>: \u001b[0m<CMU_MOSI_VisualFacet_4.1> computational sequence data in correct format.\n",
      "\u001b[94m\u001b[1m<Status>: \u001b[0mChecking the integrity of the metadata in <CMU_MOSI_VisualFacet_4.1> computational sequence ...\n",
      "\u001b[92m\u001b[1m<Success>: \u001b[0m<CMU_MOSI_VisualFacet_4.1> computational sequence metadata in correct format\n",
      "\u001b[92m\u001b[1m<Success>: \u001b[0mInitialized empty <CMU_MOSI_COVAREP> computational sequence.\n",
      "\u001b[94m\u001b[1m<Status>: \u001b[0mChecking the integrity of the data in <CMU_MOSI_COVAREP> computational sequence ...\n",
      "\u001b[92m\u001b[1m<Success>: \u001b[0m<CMU_MOSI_COVAREP> computational sequence data in correct format.\n",
      "\u001b[94m\u001b[1m<Status>: \u001b[0mChecking the integrity of the metadata in <CMU_MOSI_COVAREP> computational sequence ...\n",
      "\u001b[92m\u001b[1m<Success>: \u001b[0m<CMU_MOSI_COVAREP> computational sequence metadata in correct format\n"
     ]
    },
    {
     "name": "stderr",
     "output_type": "stream",
     "text": [
      "\r"
     ]
    }
   ],
   "source": [
    "# we define a simple averaging function that does not depend on intervals\n",
    "def avg(intervals: np.array, features: np.array) -> np.array:\n",
    "    try:\n",
    "        return np.average(features, axis=0)\n",
    "    except:\n",
    "        return features\n",
    "\n",
    "# first we align to words with averaging, collapse_function receives a list of functions\n",
    "dataset.align(text_field, collapse_functions=[avg])"
   ]
  },
  {
   "cell_type": "markdown",
   "metadata": {},
   "source": [
    "## Append annotations to the dataset and get the data points\n",
    "\n",
    "Now that we have a preprocessed dataset, all we need to do is to apply annotations to the data. Annotations are also computational sequences, since they are also just some values distributed on different time spans (e.g 1-3s is 'angry', 12-26s is 'neutral'). Hence, we just add the label computational sequence to the dataset and then align to the labels. Since we (may) want to preserve the whole sequences, this time we don't specify any collapse functions when aligning. \n",
    "\n",
    "Note that after alignment, the keys in the dataset changes from `video_id` to `video_id[segment_no]`, because alignment will segment each datapoint based on the segmentation of the pivot modality (in this case, it is segmented based on labels, which is what we need, and yes, one code block ago they are segmented to word level, which I didn't show you).\n",
    "\n",
    "***Important: DO NOT add the labels together at the beginning, the labels will be segmented during the first alignment to words. This also holds for any situation where you want to do multiple levels of alignment.***"
   ]
  },
  {
   "cell_type": "code",
   "execution_count": 6,
   "metadata": {},
   "outputs": [
    {
     "name": "stderr",
     "output_type": "stream",
     "text": [
      "                                                                   "
     ]
    },
    {
     "name": "stdout",
     "output_type": "stream",
     "text": [
      "\u001b[92m\u001b[1m<Success>: \u001b[0mComputational sequence read from file ./data/CMU_MOSI_Opinion_Labels.csd ...\n",
      "\u001b[94m\u001b[1m<Status>: \u001b[0mChecking the integrity of the data in <Opinion Segment Labels> computational sequence ...\n",
      "\u001b[92m\u001b[1m<Success>: \u001b[0m<Opinion Segment Labels> computational sequence data in correct format.\n",
      "\u001b[94m\u001b[1m<Status>: \u001b[0mChecking the integrity of the metadata in <Opinion Segment Labels> computational sequence ...\n",
      "\u001b[92m\u001b[1m<Success>: \u001b[0m<Opinion Segment Labels> computational sequence metadata in correct format\n",
      "\u001b[94m\u001b[1m<Status>: \u001b[0mUnify was called ...\n"
     ]
    },
    {
     "name": "stderr",
     "output_type": "stream",
     "text": [
      "\r"
     ]
    },
    {
     "name": "stdout",
     "output_type": "stream",
     "text": [
      "\u001b[92m\u001b[1m<Success>: \u001b[0mUnify finished, dataset is compatible for alignment ...\n",
      "\u001b[94m\u001b[1m<Status>: \u001b[0mAlignment based on <CMU_MOSI_Opinion_Labels> computational sequence will start shortly ...\n"
     ]
    },
    {
     "name": "stderr",
     "output_type": "stream",
     "text": [
      "Overall Progress:   0%|          | 0/93 [00:00<?, ? Computational Sequence Entries/s]\n",
      "  0%|          | 0/13 [00:00<?, ? Segments/s]\u001b[A\n",
      "Aligning 03bSnISJMiM:   0%|          | 0/13 [00:00<?, ? Segments/s]\u001b[A\n",
      "                                                                   \u001b[A\n",
      "  0%|          | 0/25 [00:00<?, ? Segments/s]\u001b[A\n",
      "Aligning 0h-zjBukYpk:   0%|          | 0/25 [00:00<?, ? Segments/s]\u001b[A\n",
      "Overall Progress:   2%|▏         | 2/93 [00:00<00:06, 14.14 Computational Sequence Entries/s]\n",
      "  0%|          | 0/14 [00:00<?, ? Segments/s]\u001b[A\n",
      "Aligning 1DmNV9C1hbY:   0%|          | 0/14 [00:00<?, ? Segments/s]\u001b[A\n",
      "                                                                   \u001b[A\n",
      "  0%|          | 0/30 [00:00<?, ? Segments/s]\u001b[A\n",
      "Aligning 1iG0909rllw:   0%|          | 0/30 [00:00<?, ? Segments/s]\u001b[A\n",
      "Overall Progress:   4%|▍         | 4/93 [00:00<00:05, 14.97 Computational Sequence Entries/s]\n",
      "  0%|          | 0/63 [00:00<?, ? Segments/s]\u001b[A\n",
      "Aligning 2WGyTLYerpo:   0%|          | 0/63 [00:00<?, ? Segments/s]\u001b[A\n",
      "                                                                   \u001b[A\n",
      "  0%|          | 0/30 [00:00<?, ? Segments/s]\u001b[A\n",
      "Aligning 2iD-tVS8NPw:   0%|          | 0/30 [00:00<?, ? Segments/s]\u001b[A\n",
      "Overall Progress:   6%|▋         | 6/93 [00:00<00:06, 13.90 Computational Sequence Entries/s]\n",
      "  0%|          | 0/24 [00:00<?, ? Segments/s]\u001b[A\n",
      "Aligning 5W7Z1C_fDaE:   0%|          | 0/24 [00:00<?, ? Segments/s]\u001b[A\n",
      "                                                                   \u001b[A\n",
      "  0%|          | 0/12 [00:00<?, ? Segments/s]\u001b[A\n",
      "Aligning 6Egk_28TtTM:   0%|          | 0/12 [00:00<?, ? Segments/s]\u001b[A\n",
      "                                                                   \u001b[A\n",
      "  0%|          | 0/14 [00:00<?, ? Segments/s]\u001b[A\n",
      "Aligning 6_0THN4chvY:   0%|          | 0/14 [00:00<?, ? Segments/s]\u001b[A\n",
      "Overall Progress:  10%|▉         | 9/93 [00:00<00:05, 16.26 Computational Sequence Entries/s]\n",
      "  0%|          | 0/19 [00:00<?, ? Segments/s]\u001b[A\n",
      "Aligning 73jzhE8R1TQ:   0%|          | 0/19 [00:00<?, ? Segments/s]\u001b[A\n",
      "                                                                   \u001b[A\n",
      "  0%|          | 0/39 [00:00<?, ? Segments/s]\u001b[A\n",
      "Aligning 7JsX8y1ysxY:   0%|          | 0/39 [00:00<?, ? Segments/s]\u001b[A\n",
      "Overall Progress:  12%|█▏        | 11/93 [00:00<00:04, 16.53 Computational Sequence Entries/s]\n",
      "  0%|          | 0/23 [00:00<?, ? Segments/s]\u001b[A\n",
      "Aligning 8OtFthrtaJM:   0%|          | 0/23 [00:00<?, ? Segments/s]\u001b[A\n",
      "                                                                   \u001b[A\n",
      "  0%|          | 0/30 [00:00<?, ? Segments/s]\u001b[A\n",
      "Aligning 8d-gEyoeBzc:   0%|          | 0/30 [00:00<?, ? Segments/s]\u001b[A\n",
      "Overall Progress:  14%|█▍        | 13/93 [00:00<00:04, 16.82 Computational Sequence Entries/s]\n",
      "  0%|          | 0/26 [00:00<?, ? Segments/s]\u001b[A\n",
      "Aligning 8qrpnFRGt2A:   0%|          | 0/26 [00:00<?, ? Segments/s]\u001b[A\n",
      "                                                                   \u001b[A\n",
      "  0%|          | 0/25 [00:00<?, ? Segments/s]\u001b[A\n",
      "Aligning 9J25DZhivz8:   0%|          | 0/25 [00:00<?, ? Segments/s]\u001b[A\n",
      "Overall Progress:  16%|█▌        | 15/93 [00:00<00:04, 16.77 Computational Sequence Entries/s]\n",
      "  0%|          | 0/25 [00:00<?, ? Segments/s]\u001b[A\n",
      "Aligning 9T9Hf74oK10:   0%|          | 0/25 [00:00<?, ? Segments/s]\u001b[A\n",
      "                                                                   \u001b[A\n",
      "  0%|          | 0/12 [00:00<?, ? Segments/s]\u001b[A\n",
      "Aligning 9c67fiY0wGQ:   0%|          | 0/12 [00:00<?, ? Segments/s]\u001b[A\n",
      "                                                                   \u001b[A\n",
      "  0%|          | 0/33 [00:00<?, ? Segments/s]\u001b[A\n",
      "Aligning 9qR7uwkblbs:   0%|          | 0/33 [00:00<?, ? Segments/s]\u001b[A\n",
      "Overall Progress:  19%|█▉        | 18/93 [00:01<00:04, 17.27 Computational Sequence Entries/s]\n",
      "  0%|          | 0/31 [00:00<?, ? Segments/s]\u001b[A\n",
      "Aligning Af8D0E4ZXaw:   0%|          | 0/31 [00:00<?, ? Segments/s]\u001b[A\n",
      "                                                                   \u001b[A\n",
      "  0%|          | 0/31 [00:00<?, ? Segments/s]\u001b[A\n",
      "Aligning BI97DNYfe5I:   0%|          | 0/31 [00:00<?, ? Segments/s]\u001b[A\n",
      "Overall Progress:  22%|██▏       | 20/93 [00:01<00:04, 16.13 Computational Sequence Entries/s]\n",
      "  0%|          | 0/31 [00:00<?, ? Segments/s]\u001b[A\n",
      "Aligning BXuRRbG0Ugk:   0%|          | 0/31 [00:00<?, ? Segments/s]\u001b[A\n",
      "                                                                   \u001b[A\n",
      "  0%|          | 0/22 [00:00<?, ? Segments/s]\u001b[A\n",
      "Aligning Bfr499ggo-0:   0%|          | 0/22 [00:00<?, ? Segments/s]\u001b[A\n",
      "Overall Progress:  24%|██▎       | 22/93 [00:01<00:04, 16.70 Computational Sequence Entries/s]\n",
      "  0%|          | 0/30 [00:00<?, ? Segments/s]\u001b[A\n",
      "Aligning BioHAh1qJAQ:   0%|          | 0/30 [00:00<?, ? Segments/s]\u001b[A\n",
      "                                                                   \u001b[A\n",
      "  0%|          | 0/26 [00:00<?, ? Segments/s]\u001b[A\n",
      "Aligning BvYR0L6f2Ig:   0%|          | 0/26 [00:00<?, ? Segments/s]\u001b[A\n",
      "Overall Progress:  26%|██▌       | 24/93 [00:01<00:04, 17.07 Computational Sequence Entries/s]\n",
      "  0%|          | 0/44 [00:00<?, ? Segments/s]\u001b[A\n",
      "Aligning Ci-AH39fi3Y:   0%|          | 0/44 [00:00<?, ? Segments/s]\u001b[A\n",
      "                                                                   \u001b[A\n",
      "  0%|          | 0/31 [00:00<?, ? Segments/s]\u001b[A\n",
      "Aligning Clx4VXItLTE:   0%|          | 0/31 [00:00<?, ? Segments/s]\u001b[A\n",
      "Overall Progress:  28%|██▊       | 26/93 [00:01<00:04, 15.43 Computational Sequence Entries/s]\n",
      "  0%|          | 0/18 [00:00<?, ? Segments/s]\u001b[A\n",
      "Aligning Dg_0XKD0Mf4:   0%|          | 0/18 [00:00<?, ? Segments/s]\u001b[A\n",
      "                                                                   \u001b[A\n",
      "  0%|          | 0/21 [00:00<?, ? Segments/s]\u001b[A\n",
      "Aligning G-xst2euQUc:   0%|          | 0/21 [00:00<?, ? Segments/s]\u001b[A\n",
      "                                                                   \u001b[A\n",
      "  0%|          | 0/29 [00:00<?, ? Segments/s]\u001b[A\n",
      "Aligning G6GlGvlkxAQ:   0%|          | 0/29 [00:00<?, ? Segments/s]\u001b[A\n",
      "Overall Progress:  31%|███       | 29/93 [00:01<00:03, 16.05 Computational Sequence Entries/s]\n",
      "  0%|          | 0/18 [00:00<?, ? Segments/s]\u001b[A\n",
      "Aligning GWuJjcEuzt8:   0%|          | 0/18 [00:00<?, ? Segments/s]\u001b[A\n",
      "                                                                   \u001b[A\n",
      "  0%|          | 0/34 [00:00<?, ? Segments/s]\u001b[A\n",
      "Aligning HEsqda8_d0Q:   0%|          | 0/34 [00:00<?, ? Segments/s]\u001b[A\n",
      "Overall Progress:  33%|███▎      | 31/93 [00:01<00:03, 15.62 Computational Sequence Entries/s]\n",
      "  0%|          | 0/39 [00:00<?, ? Segments/s]\u001b[A\n",
      "Aligning I5y0__X72p0:   0%|          | 0/39 [00:00<?, ? Segments/s]\u001b[A\n",
      "                                                                   \u001b[A\n",
      "  0%|          | 0/16 [00:00<?, ? Segments/s]\u001b[A\n",
      "Aligning Iu2PFX3z_1s:   0%|          | 0/16 [00:00<?, ? Segments/s]\u001b[A\n",
      "Overall Progress:  35%|███▌      | 33/93 [00:02<00:03, 15.04 Computational Sequence Entries/s]\n",
      "  0%|          | 0/22 [00:00<?, ? Segments/s]\u001b[A\n",
      "Aligning IumbAb8q2dM:   0%|          | 0/22 [00:00<?, ? Segments/s]\u001b[A\n",
      "                                                                   \u001b[A\n",
      "  0%|          | 0/20 [00:00<?, ? Segments/s]\u001b[A\n",
      "Aligning Jkswaaud0hk:   0%|          | 0/20 [00:00<?, ? Segments/s]\u001b[A\n",
      "Overall Progress:  38%|███▊      | 35/93 [00:02<00:03, 15.66 Computational Sequence Entries/s]\n",
      "  0%|          | 0/29 [00:00<?, ? Segments/s]\u001b[A\n",
      "Aligning LSi-o-IrDMs:   0%|          | 0/29 [00:00<?, ? Segments/s]\u001b[A\n",
      "                                                                   \u001b[A\n",
      "  0%|          | 0/18 [00:00<?, ? Segments/s]\u001b[A\n",
      "Aligning MLal-t_vJPM:   0%|          | 0/18 [00:00<?, ? Segments/s]\u001b[A\n",
      "                                                                   \u001b[A\n",
      "  0%|          | 0/13 [00:00<?, ? Segments/s]\u001b[A\n",
      "Aligning Njd1F0vZSm4:   0%|          | 0/13 [00:00<?, ? Segments/s]\u001b[A\n",
      "Overall Progress:  41%|████      | 38/93 [00:02<00:03, 17.75 Computational Sequence Entries/s]\n",
      "  0%|          | 0/32 [00:00<?, ? Segments/s]\u001b[A\n",
      "Aligning Nzq88NnDkEk:   0%|          | 0/32 [00:00<?, ? Segments/s]\u001b[A\n",
      "                                                                   \u001b[A\n",
      "  0%|          | 0/16 [00:00<?, ? Segments/s]\u001b[A\n",
      "Aligning OQvJTdtJ2H4:   0%|          | 0/16 [00:00<?, ? Segments/s]\u001b[A\n",
      "                                                                   \u001b[A\n",
      "  0%|          | 0/24 [00:00<?, ? Segments/s]\u001b[A\n"
     ]
    },
    {
     "name": "stderr",
     "output_type": "stream",
     "text": [
      "Aligning OtBXNcAL_lE:   0%|          | 0/24 [00:00<?, ? Segments/s]\u001b[A\n",
      "Overall Progress:  44%|████▍     | 41/93 [00:02<00:02, 18.99 Computational Sequence Entries/s]\n",
      "  0%|          | 0/25 [00:00<?, ? Segments/s]\u001b[A\n",
      "Aligning Oz06ZWiO20M:   0%|          | 0/25 [00:00<?, ? Segments/s]\u001b[A\n",
      "                                                                   \u001b[A\n",
      "  0%|          | 0/13 [00:00<?, ? Segments/s]\u001b[A\n",
      "Aligning POKffnXeBds:   0%|          | 0/13 [00:00<?, ? Segments/s]\u001b[A\n",
      "                                                                   \u001b[A\n",
      "  0%|          | 0/12 [00:00<?, ? Segments/s]\u001b[A\n",
      "Aligning PZ-lDQFboO8:   0%|          | 0/12 [00:00<?, ? Segments/s]\u001b[A\n",
      "Overall Progress:  47%|████▋     | 44/93 [00:02<00:02, 21.04 Computational Sequence Entries/s]\n",
      "  0%|          | 0/18 [00:00<?, ? Segments/s]\u001b[A\n",
      "Aligning QN9ZIUWUXsY:   0%|          | 0/18 [00:00<?, ? Segments/s]\u001b[A\n",
      "                                                                   \u001b[A\n",
      "  0%|          | 0/14 [00:00<?, ? Segments/s]\u001b[A\n",
      "Aligning Qr1Ca94K55A:   0%|          | 0/14 [00:00<?, ? Segments/s]\u001b[A\n",
      "                                                                   \u001b[A\n",
      "  0%|          | 0/22 [00:00<?, ? Segments/s]\u001b[A\n",
      "Aligning Sqr0AcuoNnk:   0%|          | 0/22 [00:00<?, ? Segments/s]\u001b[A\n",
      "Overall Progress:  51%|█████     | 47/93 [00:02<00:02, 21.83 Computational Sequence Entries/s]\n",
      "  0%|          | 0/15 [00:00<?, ? Segments/s]\u001b[A\n",
      "Aligning TvyZBvOMOTc:   0%|          | 0/15 [00:00<?, ? Segments/s]\u001b[A\n",
      "                                                                   \u001b[A\n",
      "  0%|          | 0/17 [00:00<?, ? Segments/s]\u001b[A\n",
      "Aligning VCslbP0mgZI:   0%|          | 0/17 [00:00<?, ? Segments/s]\u001b[A\n",
      "                                                                   \u001b[A\n",
      "  0%|          | 0/55 [00:00<?, ? Segments/s]\u001b[A\n",
      "Aligning VbQk4H8hgr0:   0%|          | 0/55 [00:00<?, ? Segments/s]\u001b[A\n",
      "Overall Progress:  54%|█████▍    | 50/93 [00:02<00:02, 19.84 Computational Sequence Entries/s]\n",
      "  0%|          | 0/9 [00:00<?, ? Segments/s]\u001b[A\n",
      "Aligning Vj1wYRQjB-o:   0%|          | 0/9 [00:00<?, ? Segments/s]\u001b[A\n",
      "                                                                  \u001b[A\n",
      "  0%|          | 0/32 [00:00<?, ? Segments/s]\u001b[A\n",
      "Aligning W8NXH0Djyww:   0%|          | 0/32 [00:00<?, ? Segments/s]\u001b[A\n",
      "                                                                   \u001b[A\n",
      "  0%|          | 0/22 [00:00<?, ? Segments/s]\u001b[A\n",
      "Aligning WKA5OygbEKI:   0%|          | 0/22 [00:00<?, ? Segments/s]\u001b[A\n",
      "Overall Progress:  57%|█████▋    | 53/93 [00:02<00:01, 20.76 Computational Sequence Entries/s]\n",
      "  0%|          | 0/11 [00:00<?, ? Segments/s]\u001b[A\n",
      "Aligning X3j2zQgwYgE:   0%|          | 0/11 [00:00<?, ? Segments/s]\u001b[A\n",
      "                                                                   \u001b[A\n",
      "  0%|          | 0/9 [00:00<?, ? Segments/s]\u001b[A\n",
      "Aligning ZAIRrfG22O0:   0%|          | 0/9 [00:00<?, ? Segments/s]\u001b[A\n",
      "                                                                  \u001b[A\n",
      "  0%|          | 0/34 [00:00<?, ? Segments/s]\u001b[A\n",
      "Aligning ZUXBRvtny7o:   0%|          | 0/34 [00:00<?, ? Segments/s]\u001b[A\n",
      "Overall Progress:  60%|██████    | 56/93 [00:03<00:01, 22.33 Computational Sequence Entries/s]\n",
      "  0%|          | 0/28 [00:00<?, ? Segments/s]\u001b[A\n",
      "Aligning _dI--eQ6qVU:   0%|          | 0/28 [00:00<?, ? Segments/s]\u001b[A\n",
      "                                                                   \u001b[A\n",
      "  0%|          | 0/30 [00:00<?, ? Segments/s]\u001b[A\n",
      "Aligning aiEXnCPZubE:   0%|          | 0/30 [00:00<?, ? Segments/s]\u001b[A\n",
      "                                                                   \u001b[A\n",
      "  0%|          | 0/21 [00:00<?, ? Segments/s]\u001b[A\n",
      "Aligning atnd_PF-Lbs:   0%|          | 0/21 [00:00<?, ? Segments/s]\u001b[A\n",
      "Overall Progress:  63%|██████▎   | 59/93 [00:03<00:01, 20.41 Computational Sequence Entries/s]\n",
      "  0%|          | 0/34 [00:00<?, ? Segments/s]\u001b[A\n",
      "Aligning bOL9jKpeJRs:   0%|          | 0/34 [00:00<?, ? Segments/s]\u001b[A\n",
      "                                                                   \u001b[A\n",
      "  0%|          | 0/25 [00:00<?, ? Segments/s]\u001b[A\n",
      "Aligning bvLlb-M3UXU:   0%|          | 0/25 [00:00<?, ? Segments/s]\u001b[A\n",
      "                                                                   \u001b[A\n",
      "  0%|          | 0/15 [00:00<?, ? Segments/s]\u001b[A\n",
      "Aligning c5xsKMxpXnc:   0%|          | 0/15 [00:00<?, ? Segments/s]\u001b[A\n",
      "Overall Progress:  67%|██████▋   | 62/93 [00:03<00:01, 19.54 Computational Sequence Entries/s]\n",
      "  0%|          | 0/33 [00:00<?, ? Segments/s]\u001b[A\n",
      "Aligning c7UH_rxdZv4:   0%|          | 0/33 [00:00<?, ? Segments/s]\u001b[A\n",
      "                                                                   \u001b[A\n",
      "  0%|          | 0/16 [00:00<?, ? Segments/s]\u001b[A\n",
      "Aligning cM3Yna7AavY:   0%|          | 0/16 [00:00<?, ? Segments/s]\u001b[A\n",
      "                                                                   \u001b[A\n",
      "  0%|          | 0/24 [00:00<?, ? Segments/s]\u001b[A\n",
      "Aligning cW1FSBF59ik:   0%|          | 0/24 [00:00<?, ? Segments/s]\u001b[A\n",
      "Overall Progress:  70%|██████▉   | 65/93 [00:03<00:01, 18.32 Computational Sequence Entries/s]\n",
      "  0%|          | 0/29 [00:00<?, ? Segments/s]\u001b[A\n",
      "Aligning cXypl4FnoZo:   0%|          | 0/29 [00:00<?, ? Segments/s]\u001b[A\n",
      "                                                                   \u001b[A\n",
      "  0%|          | 0/19 [00:00<?, ? Segments/s]\u001b[A\n",
      "Aligning d3_k5Xpfmik:   0%|          | 0/19 [00:00<?, ? Segments/s]\u001b[A\n",
      "Overall Progress:  72%|███████▏  | 67/93 [00:03<00:01, 18.08 Computational Sequence Entries/s]\n",
      "  0%|          | 0/43 [00:00<?, ? Segments/s]\u001b[A\n",
      "Aligning d6hH302o4v8:   0%|          | 0/43 [00:00<?, ? Segments/s]\u001b[A\n",
      "                                                                   \u001b[A\n",
      "  0%|          | 0/15 [00:00<?, ? Segments/s]\u001b[A\n",
      "Aligning dq3Nf_lMPnE:   0%|          | 0/15 [00:00<?, ? Segments/s]\u001b[A\n",
      "                                                                   \u001b[A\n",
      "  0%|          | 0/19 [00:00<?, ? Segments/s]\u001b[A\n",
      "Aligning etzxEpPuc6I:   0%|          | 0/19 [00:00<?, ? Segments/s]\u001b[A\n",
      "Overall Progress:  75%|███████▌  | 70/93 [00:03<00:01, 19.50 Computational Sequence Entries/s]\n",
      "  0%|          | 0/30 [00:00<?, ? Segments/s]\u001b[A\n",
      "Aligning f9O3YtZ2VfI:   0%|          | 0/30 [00:00<?, ? Segments/s]\u001b[A\n",
      "                                                                   \u001b[A\n",
      "  0%|          | 0/15 [00:00<?, ? Segments/s]\u001b[A\n",
      "Aligning f_pcplsH_V0:   0%|          | 0/15 [00:00<?, ? Segments/s]\u001b[A\n",
      "                                                                   \u001b[A\n",
      "  0%|          | 0/14 [00:00<?, ? Segments/s]\u001b[A\n",
      "Aligning fvVhgmXxadc:   0%|          | 0/14 [00:00<?, ? Segments/s]\u001b[A\n",
      "                                                                   \u001b[A\n",
      "  0%|          | 0/18 [00:00<?, ? Segments/s]\u001b[A\n",
      "Aligning iiK8YX8oH1E:   0%|          | 0/18 [00:00<?, ? Segments/s]\u001b[A\n",
      "Overall Progress:  80%|███████▉  | 74/93 [00:03<00:00, 21.72 Computational Sequence Entries/s]\n",
      "  0%|          | 0/27 [00:00<?, ? Segments/s]\u001b[A\n",
      "Aligning jUzDDGyPkXU:   0%|          | 0/27 [00:00<?, ? Segments/s]\u001b[A\n",
      "                                                                   \u001b[A\n",
      "  0%|          | 0/31 [00:00<?, ? Segments/s]\u001b[A\n",
      "Aligning k5Y_838nuGo:   0%|          | 0/31 [00:00<?, ? Segments/s]\u001b[A\n",
      "                                                                   \u001b[A\n",
      "  0%|          | 0/30 [00:00<?, ? Segments/s]\u001b[A\n",
      "Aligning lXPQBPVc5Cw:   0%|          | 0/30 [00:00<?, ? Segments/s]\u001b[A\n",
      "Overall Progress:  83%|████████▎ | 77/93 [00:04<00:00, 19.45 Computational Sequence Entries/s]\n",
      "  0%|          | 0/10 [00:00<?, ? Segments/s]\u001b[A\n",
      "Aligning nbWiPyCm4g0:   0%|          | 0/10 [00:00<?, ? Segments/s]\u001b[A\n",
      "                                                                   \u001b[A\n",
      "  0%|          | 0/24 [00:00<?, ? Segments/s]\u001b[A\n",
      "Aligning nzpVDcQ0ywM:   0%|          | 0/24 [00:00<?, ? Segments/s]\u001b[A\n",
      "                                                                   \u001b[A\n",
      "  0%|          | 0/14 [00:00<?, ? Segments/s]\u001b[A\n",
      "Aligning ob23OKe5a9Q:   0%|          | 0/14 [00:00<?, ? Segments/s]\u001b[A\n",
      "                                                                   \u001b[A\n",
      "  0%|          | 0/16 [00:00<?, ? Segments/s]\u001b[A\n",
      "Aligning pLTX3ipuDJI:   0%|          | 0/16 [00:00<?, ? Segments/s]\u001b[A\n",
      "Overall Progress:  87%|████████▋ | 81/93 [00:04<00:00, 22.53 Computational Sequence Entries/s]\n",
      "  0%|          | 0/21 [00:00<?, ? Segments/s]\u001b[A\n"
     ]
    },
    {
     "name": "stderr",
     "output_type": "stream",
     "text": [
      "Aligning phBUpBr1hSo:   0%|          | 0/21 [00:00<?, ? Segments/s]\u001b[A\n",
      "                                                                   \u001b[A\n",
      "  0%|          | 0/22 [00:00<?, ? Segments/s]\u001b[A\n",
      "Aligning rnaNMUZpvvg:   0%|          | 0/22 [00:00<?, ? Segments/s]\u001b[A\n",
      "                                                                   \u001b[A\n",
      "  0%|          | 0/18 [00:00<?, ? Segments/s]\u001b[A\n",
      "Aligning tIrG4oNLFzE:   0%|          | 0/18 [00:00<?, ? Segments/s]\u001b[A\n",
      "Overall Progress:  90%|█████████ | 84/93 [00:04<00:00, 20.70 Computational Sequence Entries/s]\n",
      "  0%|          | 0/16 [00:00<?, ? Segments/s]\u001b[A\n",
      "Aligning tStelxIAHjw:   0%|          | 0/16 [00:00<?, ? Segments/s]\u001b[A\n",
      "                                                                   \u001b[A\n",
      "  0%|          | 0/20 [00:00<?, ? Segments/s]\u001b[A\n",
      "Aligning tmZoasNr4rU:   0%|          | 0/20 [00:00<?, ? Segments/s]\u001b[A\n",
      "                                                                   \u001b[A\n",
      "  0%|          | 0/16 [00:00<?, ? Segments/s]\u001b[A\n",
      "Aligning v0zCBqDeKcE:   0%|          | 0/16 [00:00<?, ? Segments/s]\u001b[A\n",
      "Overall Progress:  94%|█████████▎| 87/93 [00:04<00:00, 20.93 Computational Sequence Entries/s]\n",
      "  0%|          | 0/12 [00:00<?, ? Segments/s]\u001b[A\n",
      "Aligning vvZ4IcEtiZc:   0%|          | 0/12 [00:00<?, ? Segments/s]\u001b[A\n",
      "                                                                   \u001b[A\n",
      "  0%|          | 0/22 [00:00<?, ? Segments/s]\u001b[A\n",
      "Aligning vyB00TXsimI:   0%|          | 0/22 [00:00<?, ? Segments/s]\u001b[A\n",
      "                                                                   \u001b[A\n",
      "  0%|          | 0/30 [00:00<?, ? Segments/s]\u001b[A\n",
      "Aligning wMbj6ajWbic:   0%|          | 0/30 [00:00<?, ? Segments/s]\u001b[A\n",
      "Overall Progress:  97%|█████████▋| 90/93 [00:04<00:00, 20.38 Computational Sequence Entries/s]\n",
      "  0%|          | 0/24 [00:00<?, ? Segments/s]\u001b[A\n",
      "Aligning yDtzw_Y-7RU:   0%|          | 0/24 [00:00<?, ? Segments/s]\u001b[A\n",
      "                                                                   \u001b[A\n",
      "  0%|          | 0/23 [00:00<?, ? Segments/s]\u001b[A\n",
      "Aligning yvsjCA6Y5Fc:   0%|          | 0/23 [00:00<?, ? Segments/s]\u001b[A\n",
      "                                                                   \u001b[A\n",
      "  0%|          | 0/35 [00:00<?, ? Segments/s]\u001b[A\n",
      "Aligning zhpQhgha_KU:   0%|          | 0/35 [00:00<?, ? Segments/s]\u001b[A\n",
      "                                                                                              \r"
     ]
    },
    {
     "name": "stdout",
     "output_type": "stream",
     "text": [
      "\u001b[92m\u001b[1m<Success>: \u001b[0mAlignment to <CMU_MOSI_Opinion_Labels> complete.\n",
      "\u001b[94m\u001b[1m<Status>: \u001b[0mReplacing dataset content with aligned computational sequences\n"
     ]
    },
    {
     "name": "stderr",
     "output_type": "stream",
     "text": [
      "                                                                     "
     ]
    },
    {
     "name": "stdout",
     "output_type": "stream",
     "text": [
      "\u001b[92m\u001b[1m<Success>: \u001b[0mInitialized empty <CMU_MOSI_ModifiedTimestampedWords> computational sequence.\n",
      "\u001b[94m\u001b[1m<Status>: \u001b[0mChecking the integrity of the data in <CMU_MOSI_ModifiedTimestampedWords> computational sequence ...\n",
      "\u001b[92m\u001b[1m<Success>: \u001b[0m<CMU_MOSI_ModifiedTimestampedWords> computational sequence data in correct format.\n",
      "\u001b[94m\u001b[1m<Status>: \u001b[0mChecking the integrity of the metadata in <CMU_MOSI_ModifiedTimestampedWords> computational sequence ...\n",
      "\u001b[92m\u001b[1m<Success>: \u001b[0m<CMU_MOSI_ModifiedTimestampedWords> computational sequence metadata in correct format\n",
      "\u001b[92m\u001b[1m<Success>: \u001b[0mInitialized empty <CMU_MOSI_VisualFacet_4.1> computational sequence.\n",
      "\u001b[94m\u001b[1m<Status>: \u001b[0mChecking the integrity of the data in <CMU_MOSI_VisualFacet_4.1> computational sequence ...\n",
      "\u001b[92m\u001b[1m<Success>: \u001b[0m<CMU_MOSI_VisualFacet_4.1> computational sequence data in correct format.\n",
      "\u001b[94m\u001b[1m<Status>: \u001b[0mChecking the integrity of the metadata in <CMU_MOSI_VisualFacet_4.1> computational sequence ...\n",
      "\u001b[92m\u001b[1m<Success>: \u001b[0m<CMU_MOSI_VisualFacet_4.1> computational sequence metadata in correct format\n",
      "\u001b[92m\u001b[1m<Success>: \u001b[0mInitialized empty <CMU_MOSI_COVAREP> computational sequence.\n",
      "\u001b[94m\u001b[1m<Status>: \u001b[0mChecking the integrity of the data in <CMU_MOSI_COVAREP> computational sequence ...\n",
      "\u001b[92m\u001b[1m<Success>: \u001b[0m<CMU_MOSI_COVAREP> computational sequence data in correct format.\n",
      "\u001b[94m\u001b[1m<Status>: \u001b[0mChecking the integrity of the metadata in <CMU_MOSI_COVAREP> computational sequence ...\n",
      "\u001b[92m\u001b[1m<Success>: \u001b[0m<CMU_MOSI_COVAREP> computational sequence metadata in correct format\n",
      "\u001b[92m\u001b[1m<Success>: \u001b[0mInitialized empty <CMU_MOSI_Opinion_Labels> computational sequence.\n",
      "\u001b[94m\u001b[1m<Status>: \u001b[0mChecking the integrity of the data in <CMU_MOSI_Opinion_Labels> computational sequence ...\n",
      "\u001b[92m\u001b[1m<Success>: \u001b[0m<CMU_MOSI_Opinion_Labels> computational sequence data in correct format.\n",
      "\u001b[94m\u001b[1m<Status>: \u001b[0mChecking the integrity of the metadata in <CMU_MOSI_Opinion_Labels> computational sequence ...\n",
      "\u001b[92m\u001b[1m<Success>: \u001b[0m<CMU_MOSI_Opinion_Labels> computational sequence metadata in correct format\n"
     ]
    },
    {
     "name": "stderr",
     "output_type": "stream",
     "text": [
      "\r"
     ]
    }
   ],
   "source": [
    "label_field = 'CMU_MOSI_Opinion_Labels'\n",
    "\n",
    "# we add and align to lables to obtain labeled segments\n",
    "# this time we don't apply collapse functions so that the temporal sequences are preserved\n",
    "label_recipe = {label_field: os.path.join(DATA_PATH, label_field + '.csd')}\n",
    "dataset.add_computational_sequences(label_recipe, destination=None)\n",
    "dataset.align(label_field)"
   ]
  },
  {
   "cell_type": "code",
   "execution_count": 7,
   "metadata": {},
   "outputs": [
    {
     "name": "stdout",
     "output_type": "stream",
     "text": [
      "1iG0909rllw[3]\n"
     ]
    }
   ],
   "source": [
    "# check out what the keys look like now\n",
    "print(list(dataset[text_field].keys())[55])"
   ]
  },
  {
   "cell_type": "markdown",
   "metadata": {},
   "source": [
    "## Splitting the dataset\n",
    "\n",
    "Now it comes to our final step: splitting the dataset into train/dev/test splits. This code block is a bit long in itself, so be patience and step through carefully with the explanatory comments.\n",
    "\n",
    "The SDK provides the splits in terms of video IDs (which video belong to which split), however, after alignment our dataset keys already changed from `video_id` to `video_id[segment_no]`. Hence, we need to extract the video ID when looping through the data to determine which split each data point belongs to.\n",
    "\n",
    "In the following data processing, I also include instance-wise Z-normalization (subtract by mean and divide by standard dev) and converted words to unique IDs.\n",
    "\n",
    "This example is based on PyTorch so I am using PyTorch related utils, but the same procedure should be easy to adapt to other frameworks."
   ]
  },
  {
   "cell_type": "code",
   "execution_count": 8,
   "metadata": {},
   "outputs": [
    {
     "name": "stdout",
     "output_type": "stream",
     "text": [
      "['tmZoasNr4rU', 'zhpQhgha_KU', 'lXPQBPVc5Cw', 'iiK8YX8oH1E', 'tStelxIAHjw', 'nzpVDcQ0ywM', 'etzxEpPuc6I', 'cW1FSBF59ik', 'd6hH302o4v8', 'k5Y_838nuGo', 'pLTX3ipuDJI', 'jUzDDGyPkXU', 'f_pcplsH_V0', 'yvsjCA6Y5Fc', 'nbWiPyCm4g0', 'rnaNMUZpvvg', 'wMbj6ajWbic', 'cM3Yna7AavY', 'yDtzw_Y-7RU', 'vyB00TXsimI', 'dq3Nf_lMPnE', 'phBUpBr1hSo', 'd3_k5Xpfmik', 'v0zCBqDeKcE', 'tIrG4oNLFzE', 'fvVhgmXxadc', 'ob23OKe5a9Q', 'cXypl4FnoZo', 'vvZ4IcEtiZc', 'f9O3YtZ2VfI', 'c7UH_rxdZv4']\n"
     ]
    }
   ],
   "source": [
    "# obtain the train/dev/test splits - these splits are based on video IDs\n",
    "train_split = DATASET.standard_folds.standard_train_fold\n",
    "dev_split = DATASET.standard_folds.standard_valid_fold\n",
    "test_split = DATASET.standard_folds.standard_test_fold\n",
    "\n",
    "# inspect the splits: they only contain video IDs\n",
    "print(test_split)"
   ]
  },
  {
   "cell_type": "code",
   "execution_count": 21,
   "metadata": {},
   "outputs": [
    {
     "name": "stderr",
     "output_type": "stream",
     "text": [
      "/media/bighdd7/zhun/anaconda3/lib/python3.7/site-packages/ipykernel_launcher.py:67: RuntimeWarning: invalid value encountered in true_divide\n",
      "/media/bighdd7/zhun/anaconda3/lib/python3.7/site-packages/ipykernel_launcher.py:66: RuntimeWarning: invalid value encountered in true_divide\n"
     ]
    },
    {
     "name": "stdout",
     "output_type": "stream",
     "text": [
      "Encountered datapoint 5W7Z1C_fDaE with text shape (7, 1), visual shape (6, 47), acoustic shape (7, 74)\n",
      "Encountered datapoint BioHAh1qJAQ with text shape (50, 1), visual shape (49, 47), acoustic shape (50, 74)\n",
      "Encountered datapoint lXPQBPVc5Cw with text shape (27, 1), visual shape (26, 47), acoustic shape (27, 74)\n",
      "Total number of 3 datapoints have been dropped.\n"
     ]
    },
    {
     "name": "stderr",
     "output_type": "stream",
     "text": [
      "/media/bighdd7/zhun/anaconda3/lib/python3.7/site-packages/ipykernel_launcher.py:67: RuntimeWarning: divide by zero encountered in true_divide\n",
      "/media/bighdd7/zhun/anaconda3/lib/python3.7/site-packages/numpy/core/_methods.py:75: RuntimeWarning: overflow encountered in reduce\n",
      "  ret = umr_sum(arr, axis, dtype, out, keepdims)\n",
      "/media/bighdd7/zhun/anaconda3/lib/python3.7/site-packages/numpy/core/_methods.py:107: RuntimeWarning: overflow encountered in reduce\n",
      "  arrmean = umr_sum(arr, axis, dtype, keepdims=True)\n",
      "/media/bighdd7/zhun/anaconda3/lib/python3.7/site-packages/numpy/core/_methods.py:121: RuntimeWarning: overflow encountered in multiply\n",
      "  x = um.multiply(x, x, out=x)\n"
     ]
    }
   ],
   "source": [
    "# we can see they are in the format of 'video_id[segment_no]', but the splits was specified with video_id only\n",
    "# we need to use regex or something to match the video IDs...\n",
    "import torch\n",
    "import torch.nn as nn\n",
    "\n",
    "from torch.nn.utils.rnn import pad_sequence, pack_padded_sequence, pad_packed_sequence\n",
    "from torch.utils.data import DataLoader, Dataset\n",
    "from tqdm import tqdm_notebook\n",
    "from collections import defaultdict\n",
    "\n",
    "# a sentinel epsilon for safe division, without it we will replace illegal values with a constant\n",
    "EPS = 0\n",
    "\n",
    "# construct a word2id mapping that automatically takes increment when new words are encountered\n",
    "word2id = defaultdict(lambda: len(word2id))\n",
    "UNK = word2id['<unk>']\n",
    "PAD = word2id['<pad>']\n",
    "\n",
    "# place holders for the final train/dev/test dataset\n",
    "train = []\n",
    "dev = []\n",
    "test = []\n",
    "\n",
    "# define a regular expression to extract the video ID out of the keys\n",
    "pattern = re.compile('(.*)\\[.*\\]')\n",
    "num_drop = 0 # a counter to count how many data points went into some processing issues\n",
    "\n",
    "for segment in dataset[label_field].keys():\n",
    "    \n",
    "    # get the video ID and the features out of the aligned dataset\n",
    "    vid = re.search(pattern, segment).group(1)\n",
    "    label = dataset[label_field][segment]['features']\n",
    "    _words = dataset[text_field][segment]['features']\n",
    "    _visual = dataset[visual_field][segment]['features']\n",
    "    _acoustic = dataset[acoustic_field][segment]['features']\n",
    "\n",
    "    # if the sequences are not same length after alignment, there must be some problem with some modalities\n",
    "    # we should drop it or inspect the data again\n",
    "    if not _words.shape[0] == _visual.shape[0] == _acoustic.shape[0]:\n",
    "        print(f\"Encountered datapoint {vid} with text shape {_words.shape}, visual shape {_visual.shape}, acoustic shape {_acoustic.shape}\")\n",
    "        num_drop += 1\n",
    "        continue\n",
    "\n",
    "    # remove nan values\n",
    "    label = np.nan_to_num(label)\n",
    "    _visual = np.nan_to_num(_visual)\n",
    "    _acoustic = np.nan_to_num(_acoustic)\n",
    "\n",
    "    # remove speech pause tokens - this is in general helpful\n",
    "    # we should remove speech pauses and corresponding visual/acoustic features together\n",
    "    # otherwise modalities would no longer be aligned\n",
    "    words = []\n",
    "    visual = []\n",
    "    acoustic = []\n",
    "    for i, word in enumerate(_words):\n",
    "        if word[0] != b'sp':\n",
    "            words.append(word2id[word[0].decode('utf-8')]) # SDK stores strings as bytes, decode into strings here\n",
    "            visual.append(_visual[i, :])\n",
    "            acoustic.append(_acoustic[i, :])\n",
    "\n",
    "    words = np.asarray(words)\n",
    "    visual = np.asarray(visual)\n",
    "    acoustic = np.asarray(acoustic)\n",
    "\n",
    "    # z-normalization per instance and remove nan/infs\n",
    "    visual = np.nan_to_num((visual - visual.mean(0, keepdims=True)) / (EPS + np.std(visual, axis=0, keepdims=True)))\n",
    "    acoustic = np.nan_to_num((acoustic - acoustic.mean(0, keepdims=True)) / (EPS + np.std(acoustic, axis=0, keepdims=True)))\n",
    "\n",
    "    if vid in train_split:\n",
    "        train.append(((words, visual, acoustic), label, segment))\n",
    "    elif vid in dev_split:\n",
    "        dev.append(((words, visual, acoustic), label, segment))\n",
    "    elif vid in test_split:\n",
    "        test.append(((words, visual, acoustic), label, segment))\n",
    "    else:\n",
    "        print(f\"Found video that doesn't belong to any splits: {vid}\")\n",
    "\n",
    "print(f\"Total number of {num_drop} datapoints have been dropped.\")\n",
    "\n",
    "# turn off the word2id - define a named function here to allow for pickling\n",
    "def return_unk():\n",
    "    return UNK\n",
    "word2id.default_factory = return_unk"
   ]
  },
  {
   "cell_type": "markdown",
   "metadata": {},
   "source": [
    "## Inspect the dataset\n",
    "\n",
    "Now that we have loaded the data, we can check the sizes of each split, data point shapes, vocabulary size, etc."
   ]
  },
  {
   "cell_type": "code",
   "execution_count": 22,
   "metadata": {
    "scrolled": true
   },
   "outputs": [
    {
     "name": "stdout",
     "output_type": "stream",
     "text": [
      "1281\n",
      "229\n",
      "685\n",
      "(5, 47)\n",
      "(1, 1)\n",
      "[[2.4]]\n",
      "Total vocab size: 3117\n"
     ]
    }
   ],
   "source": [
    "# let's see the size of each set and shape of data\n",
    "print(len(train))\n",
    "print(len(dev))\n",
    "print(len(test))\n",
    "\n",
    "print(train[0][0][1].shape)\n",
    "print(train[0][1].shape)\n",
    "print(train[0][1])\n",
    "\n",
    "print(f\"Total vocab size: {len(word2id)}\")"
   ]
  },
  {
   "cell_type": "markdown",
   "metadata": {},
   "source": [
    "## Collate function in PyTorch\n",
    "\n",
    "Collate functions are functions used by PyTorch dataloader to gather batched data from dataset. It loads multiple data points from an iterable dataset object and put them in a certain format. Here we just use the lists we've constructed as the dataset and assume PyTorch dataloader will operate on that."
   ]
  },
  {
   "cell_type": "code",
   "execution_count": 29,
   "metadata": {},
   "outputs": [
    {
     "name": "stdout",
     "output_type": "stream",
     "text": [
      "torch.Size([28, 8])\n",
      "torch.Size([28, 8, 47])\n",
      "torch.Size([28, 8, 74])\n",
      "tensor([[ 1.4000],\n",
      "        [ 0.2000],\n",
      "        [ 0.4000],\n",
      "        [-0.8000],\n",
      "        [-2.0000],\n",
      "        [-2.0000],\n",
      "        [-1.0000],\n",
      "        [-0.6000]])\n",
      "tensor([28, 19, 14, 13, 10,  6,  6,  6])\n"
     ]
    }
   ],
   "source": [
    "def multi_collate(batch):\n",
    "    '''\n",
    "    Collate functions assume batch = [Dataset[i] for i in index_set]\n",
    "    '''\n",
    "    # for later use we sort the batch in descending order of length\n",
    "    batch = sorted(batch, key=lambda x: x[0][0].shape[0], reverse=True)\n",
    "    \n",
    "    # get the data out of the batch - use pad sequence util functions from PyTorch to pad things\n",
    "    labels = torch.cat([torch.from_numpy(sample[1]) for sample in batch], dim=0)\n",
    "    sentences = pad_sequence([torch.LongTensor(sample[0][0]) for sample in batch], padding_value=PAD)\n",
    "    visual = pad_sequence([torch.FloatTensor(sample[0][1]) for sample in batch])\n",
    "    acoustic = pad_sequence([torch.FloatTensor(sample[0][2]) for sample in batch])\n",
    "    \n",
    "    # lengths are useful later in using RNNs\n",
    "    lengths = torch.LongTensor([sample[0][0].shape[0] for sample in batch])\n",
    "    return sentences, visual, acoustic, labels, lengths\n",
    "\n",
    "# construct dataloaders, dev and test could use around ~X3 times batch size since no_grad is used during eval\n",
    "batch_sz = 56\n",
    "train_loader = DataLoader(train, shuffle=True, batch_size=batch_sz, collate_fn=multi_collate)\n",
    "dev_loader = DataLoader(dev, shuffle=False, batch_size=batch_sz*3, collate_fn=multi_collate)\n",
    "test_loader = DataLoader(test, shuffle=False, batch_size=batch_sz*3, collate_fn=multi_collate)\n",
    "\n",
    "# let's create a temporary dataloader just to see how the batch looks like\n",
    "temp_loader = iter(DataLoader(test, shuffle=True, batch_size=8, collate_fn=multi_collate))\n",
    "batch = next(temp_loader)\n",
    "\n",
    "print(batch[0].shape) # word vectors, padded to maxlen\n",
    "print(batch[1].shape) # visual features\n",
    "print(batch[2].shape) # acoustic features\n",
    "print(batch[3]) # labels\n",
    "print(batch[4]) # lengths"
   ]
  },
  {
   "cell_type": "code",
   "execution_count": 30,
   "metadata": {},
   "outputs": [
    {
     "name": "stdout",
     "output_type": "stream",
     "text": [
      "hes funny\n",
      "[[2.]]\n",
      "7JsX8y1ysxY[9]\n"
     ]
    }
   ],
   "source": [
    "# Let's actually inspect the transcripts to ensure it's correct\n",
    "id2word = {v:k for k, v in word2id.items()}\n",
    "examine_target = train\n",
    "idx = np.random.randint(0, len(examine_target))\n",
    "print(' '.join(list(map(lambda x: id2word[x], examine_target[idx][0][0].tolist()))))\n",
    "# print(' '.join(examine_target[idx][0]))\n",
    "print(examine_target[idx][1])\n",
    "print(examine_target[idx][2])"
   ]
  },
  {
   "cell_type": "markdown",
   "metadata": {},
   "source": [
    "## Define a multimodal model\n",
    "\n",
    "Here we show a simple example of late-fusion LSTM. Late-fusion refers to combining the features from different modalities at the final prediction stage, without introducing any interactions between them before that."
   ]
  },
  {
   "cell_type": "code",
   "execution_count": 31,
   "metadata": {},
   "outputs": [],
   "source": [
    "# let's define a simple model that can deal with multimodal variable length sequence\n",
    "class LFLSTM(nn.Module):\n",
    "    def __init__(self, input_sizes, hidden_sizes, fc1_size, output_size, dropout_rate):\n",
    "        super(LFLSTM, self).__init__()\n",
    "        self.input_size = input_sizes\n",
    "        self.hidden_size = hidden_sizes\n",
    "        self.fc1_size = fc1_size\n",
    "        self.output_size = output_size\n",
    "        self.dropout_rate = dropout_rate\n",
    "        \n",
    "        # defining modules - two layer bidirectional LSTM with layer norm in between\n",
    "        self.embed = nn.Embedding(len(word2id), input_sizes[0])\n",
    "        self.trnn1 = nn.LSTM(input_sizes[0], hidden_sizes[0], bidirectional=True)\n",
    "        self.trnn2 = nn.LSTM(2*hidden_sizes[0], hidden_sizes[0], bidirectional=True)\n",
    "        \n",
    "        self.vrnn1 = nn.LSTM(input_sizes[1], hidden_sizes[1], bidirectional=True)\n",
    "        self.vrnn2 = nn.LSTM(2*hidden_sizes[1], hidden_sizes[1], bidirectional=True)\n",
    "        \n",
    "        self.arnn1 = nn.LSTM(input_sizes[2], hidden_sizes[2], bidirectional=True)\n",
    "        self.arnn2 = nn.LSTM(2*hidden_sizes[2], hidden_sizes[2], bidirectional=True)\n",
    "\n",
    "        self.fc1 = nn.Linear(sum(hidden_sizes)*4, fc1_size)\n",
    "        self.fc2 = nn.Linear(fc1_size, output_size)\n",
    "        self.relu = nn.ReLU()\n",
    "        self.dropout = nn.Dropout(dropout_rate)\n",
    "        self.tlayer_norm = nn.LayerNorm((hidden_sizes[0]*2,))\n",
    "        self.vlayer_norm = nn.LayerNorm((hidden_sizes[1]*2,))\n",
    "        self.alayer_norm = nn.LayerNorm((hidden_sizes[2]*2,))\n",
    "        self.bn = nn.BatchNorm1d(sum(hidden_sizes)*4)\n",
    "\n",
    "        \n",
    "    def extract_features(self, sequence, lengths, rnn1, rnn2, layer_norm):\n",
    "        packed_sequence = pack_padded_sequence(sequence, lengths)\n",
    "        packed_h1, (final_h1, _) = rnn1(packed_sequence)\n",
    "        padded_h1, _ = pad_packed_sequence(packed_h1)\n",
    "        normed_h1 = layer_norm(padded_h1)\n",
    "        packed_normed_h1 = pack_padded_sequence(normed_h1, lengths)\n",
    "        _, (final_h2, _) = rnn2(packed_normed_h1)\n",
    "        return final_h1, final_h2\n",
    "\n",
    "        \n",
    "    def fusion(self, sentences, visual, acoustic, lengths):\n",
    "        batch_size = lengths.size(0)\n",
    "        sentences = self.embed(sentences)\n",
    "        \n",
    "        # extract features from text modality\n",
    "        final_h1t, final_h2t = self.extract_features(sentences, lengths, self.trnn1, self.trnn2, self.tlayer_norm)\n",
    "        \n",
    "        # extract features from visual modality\n",
    "        final_h1v, final_h2v = self.extract_features(visual, lengths, self.vrnn1, self.vrnn2, self.vlayer_norm)\n",
    "        \n",
    "        # extract features from acoustic modality\n",
    "        final_h1a, final_h2a = self.extract_features(acoustic, lengths, self.arnn1, self.arnn2, self.alayer_norm)\n",
    "\n",
    "        \n",
    "        # simple late fusion -- concatenation + normalization\n",
    "        h = torch.cat((final_h1t, final_h2t, final_h1v, final_h2v, final_h1a, final_h2a),\n",
    "                       dim=2).permute(1, 0, 2).contiguous().view(batch_size, -1)\n",
    "        return self.bn(h)\n",
    "\n",
    "    def forward(self, sentences, visual, acoustic, lengths):\n",
    "        batch_size = lengths.size(0)\n",
    "        h = self.fusion(sentences, visual, acoustic, lengths)\n",
    "        h = self.fc1(h)\n",
    "        h = self.dropout(h)\n",
    "        h = self.relu(h)\n",
    "        o = self.fc2(h)\n",
    "        return o"
   ]
  },
  {
   "cell_type": "markdown",
   "metadata": {},
   "source": [
    "## Load pretrained embeddings\n",
    "\n",
    "We define a function for loading pretrained word embeddings stored in GloVe-style file. Contextualized embeddings obviously cannot be stored and loaded this way, though."
   ]
  },
  {
   "cell_type": "code",
   "execution_count": 32,
   "metadata": {},
   "outputs": [],
   "source": [
    "# define a function that loads data from GloVe-like embedding files\n",
    "# we will add tutorials for loading contextualized embeddings later\n",
    "# 2196017 is the vocab size of GloVe here.\n",
    "\n",
    "def load_emb(w2i, path_to_embedding, embedding_size=300, embedding_vocab=2196017, init_emb=None):\n",
    "    if init_emb is None:\n",
    "        emb_mat = np.random.randn(len(w2i), embedding_size)\n",
    "    else:\n",
    "        emb_mat = init_emb\n",
    "    f = open(path_to_embedding, 'r')\n",
    "    found = 0\n",
    "    for line in tqdm_notebook(f, total=embedding_vocab):\n",
    "        content = line.strip().split()\n",
    "        vector = np.asarray(list(map(lambda x: float(x), content[-300:])))\n",
    "        word = ' '.join(content[:-300])\n",
    "        if word in w2i:\n",
    "            idx = w2i[word]\n",
    "            emb_mat[idx, :] = vector\n",
    "            found += 1\n",
    "    print(f\"Found {found} words in the embedding file.\")\n",
    "    return torch.tensor(emb_mat).float()"
   ]
  },
  {
   "cell_type": "markdown",
   "metadata": {},
   "source": [
    "## Training a model\n",
    "\n",
    "Next we train a model. We use Adam with gradient clipping and weight decay for training, and our loss here is Mean Absolute Error (MOSI is a regression dataset). We exclude the embeddings from trainable computation graph to prevent overfitting. We also apply a early-stopping scheme with learning rate annealing based on validation loss."
   ]
  },
  {
   "cell_type": "code",
   "execution_count": 34,
   "metadata": {
    "scrolled": true
   },
   "outputs": [
    {
     "data": {
      "application/vnd.jupyter.widget-view+json": {
       "model_id": "1776dd6725104aee8d69a3a51bc1f125",
       "version_major": 2,
       "version_minor": 0
      },
      "text/plain": [
       "HBox(children=(IntProgress(value=0, max=23), HTML(value='')))"
      ]
     },
     "metadata": {},
     "output_type": "display_data"
    },
    {
     "name": "stdout",
     "output_type": "stream",
     "text": [
      "Training loss: 1.1386\n",
      "Validation loss: 1.371\n",
      "Current patience: 8, current trial: 3.\n",
      "Found new best model on dev set!\n"
     ]
    },
    {
     "data": {
      "application/vnd.jupyter.widget-view+json": {
       "model_id": "006124110b404defa70fba36dc69e107",
       "version_major": 2,
       "version_minor": 0
      },
      "text/plain": [
       "HBox(children=(IntProgress(value=0, max=23), HTML(value='')))"
      ]
     },
     "metadata": {},
     "output_type": "display_data"
    },
    {
     "name": "stdout",
     "output_type": "stream",
     "text": [
      "Training loss: 0.8447\n",
      "Validation loss: 1.2764\n",
      "Current patience: 8, current trial: 3.\n",
      "Found new best model on dev set!\n"
     ]
    },
    {
     "data": {
      "application/vnd.jupyter.widget-view+json": {
       "model_id": "6d83b5d754de485b8600d79e0391bfea",
       "version_major": 2,
       "version_minor": 0
      },
      "text/plain": [
       "HBox(children=(IntProgress(value=0, max=23), HTML(value='')))"
      ]
     },
     "metadata": {},
     "output_type": "display_data"
    },
    {
     "name": "stdout",
     "output_type": "stream",
     "text": [
      "Training loss: 0.7315\n",
      "Validation loss: 1.1768\n",
      "Current patience: 8, current trial: 3.\n",
      "Found new best model on dev set!\n"
     ]
    },
    {
     "data": {
      "application/vnd.jupyter.widget-view+json": {
       "model_id": "b5c4b111b648449f96fb73e5cdae9117",
       "version_major": 2,
       "version_minor": 0
      },
      "text/plain": [
       "HBox(children=(IntProgress(value=0, max=23), HTML(value='')))"
      ]
     },
     "metadata": {},
     "output_type": "display_data"
    },
    {
     "name": "stdout",
     "output_type": "stream",
     "text": [
      "Training loss: 0.6246\n",
      "Validation loss: 1.2723\n",
      "Current patience: 8, current trial: 3.\n"
     ]
    },
    {
     "data": {
      "application/vnd.jupyter.widget-view+json": {
       "model_id": "0a8e8456352c4da3a665978d3a425709",
       "version_major": 2,
       "version_minor": 0
      },
      "text/plain": [
       "HBox(children=(IntProgress(value=0, max=23), HTML(value='')))"
      ]
     },
     "metadata": {},
     "output_type": "display_data"
    },
    {
     "name": "stdout",
     "output_type": "stream",
     "text": [
      "Training loss: 0.5839\n",
      "Validation loss: 1.1591\n",
      "Current patience: 7, current trial: 3.\n",
      "Found new best model on dev set!\n"
     ]
    },
    {
     "data": {
      "application/vnd.jupyter.widget-view+json": {
       "model_id": "390ef9e360204aada617d4710b490170",
       "version_major": 2,
       "version_minor": 0
      },
      "text/plain": [
       "HBox(children=(IntProgress(value=0, max=23), HTML(value='')))"
      ]
     },
     "metadata": {},
     "output_type": "display_data"
    },
    {
     "name": "stdout",
     "output_type": "stream",
     "text": [
      "Training loss: 0.5475\n",
      "Validation loss: 1.0939\n",
      "Current patience: 8, current trial: 3.\n",
      "Found new best model on dev set!\n"
     ]
    },
    {
     "data": {
      "application/vnd.jupyter.widget-view+json": {
       "model_id": "de6b61e9a66a488096107d8c9380b2e2",
       "version_major": 2,
       "version_minor": 0
      },
      "text/plain": [
       "HBox(children=(IntProgress(value=0, max=23), HTML(value='')))"
      ]
     },
     "metadata": {},
     "output_type": "display_data"
    },
    {
     "name": "stdout",
     "output_type": "stream",
     "text": [
      "Training loss: 0.4957\n",
      "Validation loss: 1.115\n",
      "Current patience: 8, current trial: 3.\n"
     ]
    },
    {
     "data": {
      "application/vnd.jupyter.widget-view+json": {
       "model_id": "8e95171ce2c147d18aaef064f7c498a8",
       "version_major": 2,
       "version_minor": 0
      },
      "text/plain": [
       "HBox(children=(IntProgress(value=0, max=23), HTML(value='')))"
      ]
     },
     "metadata": {},
     "output_type": "display_data"
    },
    {
     "name": "stdout",
     "output_type": "stream",
     "text": [
      "Training loss: 0.4584\n",
      "Validation loss: 1.0815\n",
      "Current patience: 7, current trial: 3.\n",
      "Found new best model on dev set!\n"
     ]
    },
    {
     "data": {
      "application/vnd.jupyter.widget-view+json": {
       "model_id": "86670ce55198413e8d70152dcb67ee53",
       "version_major": 2,
       "version_minor": 0
      },
      "text/plain": [
       "HBox(children=(IntProgress(value=0, max=23), HTML(value='')))"
      ]
     },
     "metadata": {},
     "output_type": "display_data"
    },
    {
     "name": "stdout",
     "output_type": "stream",
     "text": [
      "Training loss: 0.427\n",
      "Validation loss: 1.0937\n",
      "Current patience: 8, current trial: 3.\n"
     ]
    },
    {
     "data": {
      "application/vnd.jupyter.widget-view+json": {
       "model_id": "ea97e40e4bf544fbbc2ec69a72b2084e",
       "version_major": 2,
       "version_minor": 0
      },
      "text/plain": [
       "HBox(children=(IntProgress(value=0, max=23), HTML(value='')))"
      ]
     },
     "metadata": {},
     "output_type": "display_data"
    },
    {
     "name": "stdout",
     "output_type": "stream",
     "text": [
      "Training loss: 0.4032\n",
      "Validation loss: 1.1297\n",
      "Current patience: 7, current trial: 3.\n"
     ]
    },
    {
     "data": {
      "application/vnd.jupyter.widget-view+json": {
       "model_id": "7375a34b178c44f2a5bdeb95c05e09a5",
       "version_major": 2,
       "version_minor": 0
      },
      "text/plain": [
       "HBox(children=(IntProgress(value=0, max=23), HTML(value='')))"
      ]
     },
     "metadata": {},
     "output_type": "display_data"
    },
    {
     "name": "stdout",
     "output_type": "stream",
     "text": [
      "Training loss: 0.4028\n",
      "Validation loss: 1.0685\n",
      "Current patience: 6, current trial: 3.\n",
      "Found new best model on dev set!\n"
     ]
    },
    {
     "data": {
      "application/vnd.jupyter.widget-view+json": {
       "model_id": "a832076cf24c4cf6a0bb7c7425bae2ef",
       "version_major": 2,
       "version_minor": 0
      },
      "text/plain": [
       "HBox(children=(IntProgress(value=0, max=23), HTML(value='')))"
      ]
     },
     "metadata": {},
     "output_type": "display_data"
    },
    {
     "name": "stdout",
     "output_type": "stream",
     "text": [
      "Training loss: 0.4014\n",
      "Validation loss: 1.0524\n",
      "Current patience: 8, current trial: 3.\n",
      "Found new best model on dev set!\n"
     ]
    },
    {
     "data": {
      "application/vnd.jupyter.widget-view+json": {
       "model_id": "93e58ace9166489081c560fc20f7813b",
       "version_major": 2,
       "version_minor": 0
      },
      "text/plain": [
       "HBox(children=(IntProgress(value=0, max=23), HTML(value='')))"
      ]
     },
     "metadata": {},
     "output_type": "display_data"
    },
    {
     "name": "stdout",
     "output_type": "stream",
     "text": [
      "Training loss: 0.4073\n",
      "Validation loss: 1.0986\n",
      "Current patience: 8, current trial: 3.\n"
     ]
    },
    {
     "data": {
      "application/vnd.jupyter.widget-view+json": {
       "model_id": "5fffd1094b534ac487a51baad9181d99",
       "version_major": 2,
       "version_minor": 0
      },
      "text/plain": [
       "HBox(children=(IntProgress(value=0, max=23), HTML(value='')))"
      ]
     },
     "metadata": {},
     "output_type": "display_data"
    },
    {
     "name": "stdout",
     "output_type": "stream",
     "text": [
      "Training loss: 0.3845\n",
      "Validation loss: 1.1033\n",
      "Current patience: 7, current trial: 3.\n"
     ]
    },
    {
     "data": {
      "application/vnd.jupyter.widget-view+json": {
       "model_id": "73d8cd06000a4154b0cbc37419d0634b",
       "version_major": 2,
       "version_minor": 0
      },
      "text/plain": [
       "HBox(children=(IntProgress(value=0, max=23), HTML(value='')))"
      ]
     },
     "metadata": {},
     "output_type": "display_data"
    },
    {
     "name": "stdout",
     "output_type": "stream",
     "text": [
      "Training loss: 0.3848\n",
      "Validation loss: 1.0728\n",
      "Current patience: 6, current trial: 3.\n"
     ]
    },
    {
     "data": {
      "application/vnd.jupyter.widget-view+json": {
       "model_id": "1bc3e1051b6c4afd80b9da493d662ccf",
       "version_major": 2,
       "version_minor": 0
      },
      "text/plain": [
       "HBox(children=(IntProgress(value=0, max=23), HTML(value='')))"
      ]
     },
     "metadata": {},
     "output_type": "display_data"
    },
    {
     "name": "stdout",
     "output_type": "stream",
     "text": [
      "Training loss: 0.3926\n",
      "Validation loss: 1.1008\n",
      "Current patience: 5, current trial: 3.\n"
     ]
    },
    {
     "data": {
      "application/vnd.jupyter.widget-view+json": {
       "model_id": "32bad5e20455433baae057f85fcc5297",
       "version_major": 2,
       "version_minor": 0
      },
      "text/plain": [
       "HBox(children=(IntProgress(value=0, max=23), HTML(value='')))"
      ]
     },
     "metadata": {},
     "output_type": "display_data"
    },
    {
     "name": "stdout",
     "output_type": "stream",
     "text": [
      "Training loss: 0.3858\n",
      "Validation loss: 1.094\n",
      "Current patience: 4, current trial: 3.\n"
     ]
    },
    {
     "data": {
      "application/vnd.jupyter.widget-view+json": {
       "model_id": "272b85fae6e14cd7bb3f6ec701d9d3da",
       "version_major": 2,
       "version_minor": 0
      },
      "text/plain": [
       "HBox(children=(IntProgress(value=0, max=23), HTML(value='')))"
      ]
     },
     "metadata": {},
     "output_type": "display_data"
    },
    {
     "name": "stdout",
     "output_type": "stream",
     "text": [
      "Training loss: 0.3794\n",
      "Validation loss: 1.1458\n",
      "Current patience: 3, current trial: 3.\n"
     ]
    },
    {
     "data": {
      "application/vnd.jupyter.widget-view+json": {
       "model_id": "2fc8fd82384f4a098908715cf3b8f700",
       "version_major": 2,
       "version_minor": 0
      },
      "text/plain": [
       "HBox(children=(IntProgress(value=0, max=23), HTML(value='')))"
      ]
     },
     "metadata": {},
     "output_type": "display_data"
    },
    {
     "name": "stdout",
     "output_type": "stream",
     "text": [
      "Training loss: 0.3848\n",
      "Validation loss: 1.0925\n",
      "Current patience: 2, current trial: 3.\n"
     ]
    },
    {
     "data": {
      "application/vnd.jupyter.widget-view+json": {
       "model_id": "8ecf71919604473eb0979c33492c32ce",
       "version_major": 2,
       "version_minor": 0
      },
      "text/plain": [
       "HBox(children=(IntProgress(value=0, max=23), HTML(value='')))"
      ]
     },
     "metadata": {},
     "output_type": "display_data"
    },
    {
     "name": "stdout",
     "output_type": "stream",
     "text": [
      "Training loss: 0.3872\n",
      "Validation loss: 1.1394\n",
      "Current patience: 1, current trial: 3.\n"
     ]
    },
    {
     "data": {
      "application/vnd.jupyter.widget-view+json": {
       "model_id": "a2d2b2a289d54467b2fcc67e0df8d188",
       "version_major": 2,
       "version_minor": 0
      },
      "text/plain": [
       "HBox(children=(IntProgress(value=0, max=23), HTML(value='')))"
      ]
     },
     "metadata": {},
     "output_type": "display_data"
    },
    {
     "name": "stdout",
     "output_type": "stream",
     "text": [
      "Training loss: 0.3716\n",
      "Validation loss: 1.1504\n",
      "Current patience: 0, current trial: 3.\n",
      "Running out of patience, loading previous best model.\n",
      "Current learning rate: 0.0001\n"
     ]
    },
    {
     "data": {
      "application/vnd.jupyter.widget-view+json": {
       "model_id": "8a1c4114b8a444bbbbec42ba28227455",
       "version_major": 2,
       "version_minor": 0
      },
      "text/plain": [
       "HBox(children=(IntProgress(value=0, max=23), HTML(value='')))"
      ]
     },
     "metadata": {},
     "output_type": "display_data"
    },
    {
     "name": "stdout",
     "output_type": "stream",
     "text": [
      "Training loss: 0.3474\n",
      "Validation loss: 1.0385\n",
      "Current patience: 8, current trial: 2.\n",
      "Found new best model on dev set!\n"
     ]
    },
    {
     "data": {
      "application/vnd.jupyter.widget-view+json": {
       "model_id": "77618b96991543febe93129e36650e92",
       "version_major": 2,
       "version_minor": 0
      },
      "text/plain": [
       "HBox(children=(IntProgress(value=0, max=23), HTML(value='')))"
      ]
     },
     "metadata": {},
     "output_type": "display_data"
    },
    {
     "name": "stdout",
     "output_type": "stream",
     "text": [
      "Training loss: 0.2987\n",
      "Validation loss: 1.037\n",
      "Current patience: 8, current trial: 2.\n",
      "Found new best model on dev set!\n"
     ]
    },
    {
     "data": {
      "application/vnd.jupyter.widget-view+json": {
       "model_id": "fc71bb04b33e40fcaab2b80a2dba13fa",
       "version_major": 2,
       "version_minor": 0
      },
      "text/plain": [
       "HBox(children=(IntProgress(value=0, max=23), HTML(value='')))"
      ]
     },
     "metadata": {},
     "output_type": "display_data"
    },
    {
     "name": "stdout",
     "output_type": "stream",
     "text": [
      "Training loss: 0.2694\n",
      "Validation loss: 1.0471\n",
      "Current patience: 8, current trial: 2.\n"
     ]
    },
    {
     "data": {
      "application/vnd.jupyter.widget-view+json": {
       "model_id": "67b06c93355b4d2b935f6360cbe9a9a7",
       "version_major": 2,
       "version_minor": 0
      },
      "text/plain": [
       "HBox(children=(IntProgress(value=0, max=23), HTML(value='')))"
      ]
     },
     "metadata": {},
     "output_type": "display_data"
    },
    {
     "name": "stdout",
     "output_type": "stream",
     "text": [
      "Training loss: 0.2567\n",
      "Validation loss: 1.0351\n",
      "Current patience: 7, current trial: 2.\n",
      "Found new best model on dev set!\n"
     ]
    },
    {
     "data": {
      "application/vnd.jupyter.widget-view+json": {
       "model_id": "2e690223607148bdaf3f9a5abb057b32",
       "version_major": 2,
       "version_minor": 0
      },
      "text/plain": [
       "HBox(children=(IntProgress(value=0, max=23), HTML(value='')))"
      ]
     },
     "metadata": {},
     "output_type": "display_data"
    },
    {
     "name": "stdout",
     "output_type": "stream",
     "text": [
      "Training loss: 0.2306\n",
      "Validation loss: 1.0464\n",
      "Current patience: 8, current trial: 2.\n"
     ]
    },
    {
     "data": {
      "application/vnd.jupyter.widget-view+json": {
       "model_id": "3aedf3a77ccc4346bf2d3244b5ef6b7b",
       "version_major": 2,
       "version_minor": 0
      },
      "text/plain": [
       "HBox(children=(IntProgress(value=0, max=23), HTML(value='')))"
      ]
     },
     "metadata": {},
     "output_type": "display_data"
    },
    {
     "name": "stdout",
     "output_type": "stream",
     "text": [
      "Training loss: 0.2383\n",
      "Validation loss: 1.0647\n",
      "Current patience: 7, current trial: 2.\n"
     ]
    },
    {
     "data": {
      "application/vnd.jupyter.widget-view+json": {
       "model_id": "4b505d7f8cf84ca88697386769181d50",
       "version_major": 2,
       "version_minor": 0
      },
      "text/plain": [
       "HBox(children=(IntProgress(value=0, max=23), HTML(value='')))"
      ]
     },
     "metadata": {},
     "output_type": "display_data"
    },
    {
     "name": "stdout",
     "output_type": "stream",
     "text": [
      "Training loss: 0.2395\n",
      "Validation loss: 1.0512\n",
      "Current patience: 6, current trial: 2.\n"
     ]
    },
    {
     "data": {
      "application/vnd.jupyter.widget-view+json": {
       "model_id": "32e5b4e8fbe8439ea27aa8e668df08fd",
       "version_major": 2,
       "version_minor": 0
      },
      "text/plain": [
       "HBox(children=(IntProgress(value=0, max=23), HTML(value='')))"
      ]
     },
     "metadata": {},
     "output_type": "display_data"
    },
    {
     "name": "stdout",
     "output_type": "stream",
     "text": [
      "Training loss: 0.224\n",
      "Validation loss: 1.0518\n",
      "Current patience: 5, current trial: 2.\n"
     ]
    },
    {
     "data": {
      "application/vnd.jupyter.widget-view+json": {
       "model_id": "a0780ec753db4db083a5bceaa91c9f82",
       "version_major": 2,
       "version_minor": 0
      },
      "text/plain": [
       "HBox(children=(IntProgress(value=0, max=23), HTML(value='')))"
      ]
     },
     "metadata": {},
     "output_type": "display_data"
    },
    {
     "name": "stdout",
     "output_type": "stream",
     "text": [
      "Training loss: 0.2209\n",
      "Validation loss: 1.0604\n",
      "Current patience: 4, current trial: 2.\n"
     ]
    },
    {
     "data": {
      "application/vnd.jupyter.widget-view+json": {
       "model_id": "04deceb4c37246429538b469f4e6d6bc",
       "version_major": 2,
       "version_minor": 0
      },
      "text/plain": [
       "HBox(children=(IntProgress(value=0, max=23), HTML(value='')))"
      ]
     },
     "metadata": {},
     "output_type": "display_data"
    },
    {
     "name": "stdout",
     "output_type": "stream",
     "text": [
      "Training loss: 0.2029\n",
      "Validation loss: 1.0552\n",
      "Current patience: 3, current trial: 2.\n"
     ]
    },
    {
     "data": {
      "application/vnd.jupyter.widget-view+json": {
       "model_id": "a0e10873f5744dada6e0824b06960466",
       "version_major": 2,
       "version_minor": 0
      },
      "text/plain": [
       "HBox(children=(IntProgress(value=0, max=23), HTML(value='')))"
      ]
     },
     "metadata": {},
     "output_type": "display_data"
    },
    {
     "name": "stdout",
     "output_type": "stream",
     "text": [
      "Training loss: 0.2093\n",
      "Validation loss: 1.0569\n",
      "Current patience: 2, current trial: 2.\n"
     ]
    },
    {
     "data": {
      "application/vnd.jupyter.widget-view+json": {
       "model_id": "07aa9d339def4e5388a716a30b0f7050",
       "version_major": 2,
       "version_minor": 0
      },
      "text/plain": [
       "HBox(children=(IntProgress(value=0, max=23), HTML(value='')))"
      ]
     },
     "metadata": {},
     "output_type": "display_data"
    },
    {
     "name": "stdout",
     "output_type": "stream",
     "text": [
      "Training loss: 0.2015\n",
      "Validation loss: 1.0552\n",
      "Current patience: 1, current trial: 2.\n"
     ]
    },
    {
     "data": {
      "application/vnd.jupyter.widget-view+json": {
       "model_id": "59bf26bd5827411e812d8b0e2cfd3ec0",
       "version_major": 2,
       "version_minor": 0
      },
      "text/plain": [
       "HBox(children=(IntProgress(value=0, max=23), HTML(value='')))"
      ]
     },
     "metadata": {},
     "output_type": "display_data"
    },
    {
     "name": "stdout",
     "output_type": "stream",
     "text": [
      "Training loss: 0.2096\n",
      "Validation loss: 1.0622\n",
      "Current patience: 0, current trial: 2.\n",
      "Running out of patience, loading previous best model.\n",
      "Current learning rate: 1.0000000000000003e-05\n"
     ]
    },
    {
     "data": {
      "application/vnd.jupyter.widget-view+json": {
       "model_id": "2485a53aa74e4e2db0ba56ad95b87fbe",
       "version_major": 2,
       "version_minor": 0
      },
      "text/plain": [
       "HBox(children=(IntProgress(value=0, max=23), HTML(value='')))"
      ]
     },
     "metadata": {},
     "output_type": "display_data"
    },
    {
     "name": "stdout",
     "output_type": "stream",
     "text": [
      "Training loss: 0.2436\n",
      "Validation loss: 1.0393\n",
      "Current patience: 8, current trial: 1.\n"
     ]
    },
    {
     "data": {
      "application/vnd.jupyter.widget-view+json": {
       "model_id": "7003eb39dfb24e279945e2626c959a52",
       "version_major": 2,
       "version_minor": 0
      },
      "text/plain": [
       "HBox(children=(IntProgress(value=0, max=23), HTML(value='')))"
      ]
     },
     "metadata": {},
     "output_type": "display_data"
    },
    {
     "name": "stdout",
     "output_type": "stream",
     "text": [
      "Training loss: 0.2258\n",
      "Validation loss: 1.0402\n",
      "Current patience: 7, current trial: 1.\n"
     ]
    },
    {
     "data": {
      "application/vnd.jupyter.widget-view+json": {
       "model_id": "b333b96e403d4e5d91656643cdc8642d",
       "version_major": 2,
       "version_minor": 0
      },
      "text/plain": [
       "HBox(children=(IntProgress(value=0, max=23), HTML(value='')))"
      ]
     },
     "metadata": {},
     "output_type": "display_data"
    },
    {
     "name": "stdout",
     "output_type": "stream",
     "text": [
      "Training loss: 0.2464\n",
      "Validation loss: 1.0353\n",
      "Current patience: 6, current trial: 1.\n"
     ]
    },
    {
     "data": {
      "application/vnd.jupyter.widget-view+json": {
       "model_id": "1c940ab618644e8e843fe613ec66ac99",
       "version_major": 2,
       "version_minor": 0
      },
      "text/plain": [
       "HBox(children=(IntProgress(value=0, max=23), HTML(value='')))"
      ]
     },
     "metadata": {},
     "output_type": "display_data"
    },
    {
     "name": "stdout",
     "output_type": "stream",
     "text": [
      "Training loss: 0.2323\n",
      "Validation loss: 1.0411\n",
      "Current patience: 5, current trial: 1.\n"
     ]
    },
    {
     "data": {
      "application/vnd.jupyter.widget-view+json": {
       "model_id": "0088b4a26d6c4d15a83daceff5cf7cb3",
       "version_major": 2,
       "version_minor": 0
      },
      "text/plain": [
       "HBox(children=(IntProgress(value=0, max=23), HTML(value='')))"
      ]
     },
     "metadata": {},
     "output_type": "display_data"
    },
    {
     "name": "stdout",
     "output_type": "stream",
     "text": [
      "Training loss: 0.2406\n",
      "Validation loss: 1.0407\n",
      "Current patience: 4, current trial: 1.\n"
     ]
    },
    {
     "data": {
      "application/vnd.jupyter.widget-view+json": {
       "model_id": "b3529d31911343dd9a3205db81a6949d",
       "version_major": 2,
       "version_minor": 0
      },
      "text/plain": [
       "HBox(children=(IntProgress(value=0, max=23), HTML(value='')))"
      ]
     },
     "metadata": {},
     "output_type": "display_data"
    },
    {
     "name": "stdout",
     "output_type": "stream",
     "text": [
      "Training loss: 0.2243\n",
      "Validation loss: 1.0435\n",
      "Current patience: 3, current trial: 1.\n"
     ]
    },
    {
     "data": {
      "application/vnd.jupyter.widget-view+json": {
       "model_id": "d7e6536dfc154d1a85fd62af7d4f569d",
       "version_major": 2,
       "version_minor": 0
      },
      "text/plain": [
       "HBox(children=(IntProgress(value=0, max=23), HTML(value='')))"
      ]
     },
     "metadata": {},
     "output_type": "display_data"
    },
    {
     "name": "stdout",
     "output_type": "stream",
     "text": [
      "Training loss: 0.2372\n",
      "Validation loss: 1.0399\n",
      "Current patience: 2, current trial: 1.\n"
     ]
    },
    {
     "data": {
      "application/vnd.jupyter.widget-view+json": {
       "model_id": "320c2a946d344e259065b8262637522d",
       "version_major": 2,
       "version_minor": 0
      },
      "text/plain": [
       "HBox(children=(IntProgress(value=0, max=23), HTML(value='')))"
      ]
     },
     "metadata": {},
     "output_type": "display_data"
    },
    {
     "name": "stdout",
     "output_type": "stream",
     "text": [
      "Training loss: 0.2314\n",
      "Validation loss: 1.0417\n",
      "Current patience: 1, current trial: 1.\n"
     ]
    },
    {
     "data": {
      "application/vnd.jupyter.widget-view+json": {
       "model_id": "7fbc1a08a63c40b08c71706913ff6a6e",
       "version_major": 2,
       "version_minor": 0
      },
      "text/plain": [
       "HBox(children=(IntProgress(value=0, max=23), HTML(value='')))"
      ]
     },
     "metadata": {},
     "output_type": "display_data"
    },
    {
     "name": "stdout",
     "output_type": "stream",
     "text": [
      "Training loss: 0.2231\n",
      "Validation loss: 1.0375\n",
      "Current patience: 0, current trial: 1.\n",
      "Running out of patience, loading previous best model.\n",
      "Current learning rate: 1.0000000000000002e-06\n",
      "Running out of patience, early stopping.\n",
      "Test set performance: 1.0627462150406664\n",
      "Test set accuracy is 0.7167883211678832\n"
     ]
    }
   ],
   "source": [
    "from tqdm import tqdm_notebook\n",
    "from torch.optim import Adam, SGD\n",
    "from sklearn.metrics import accuracy_score\n",
    "\n",
    "torch.manual_seed(123)\n",
    "torch.cuda.manual_seed_all(123)\n",
    "\n",
    "CUDA = torch.cuda.is_available()\n",
    "MAX_EPOCH = 1000\n",
    "\n",
    "text_size = 300\n",
    "visual_size = 47\n",
    "acoustic_size = 74\n",
    "\n",
    "# define some model settings and hyper-parameters\n",
    "input_sizes = [text_size, visual_size, acoustic_size]\n",
    "hidden_sizes = [int(text_size * 1.5), int(visual_size * 1.5), int(acoustic_size * 1.5)]\n",
    "fc1_size = sum(hidden_sizes) // 2\n",
    "dropout = 0.25\n",
    "output_size = 1\n",
    "curr_patience = patience = 8\n",
    "num_trials = 3\n",
    "grad_clip_value = 1.0\n",
    "weight_decay = 0.1\n",
    "\n",
    "if os.path.exists(CACHE_PATH):\n",
    "    pretrained_emb, word2id = torch.load(CACHE_PATH)\n",
    "elif WORD_EMB_PATH is not None:\n",
    "    pretrained_emb = load_emb(word2id, WORD_EMB_PATH)\n",
    "    torch.save((pretrained_emb, word2id), CACHE_PATH)\n",
    "else:\n",
    "    pretrained_emb = None\n",
    "\n",
    "model = LFLSTM(input_sizes, hidden_sizes, fc1_size, output_size, dropout)\n",
    "if pretrained_emb is not None:\n",
    "    model.embed.weight.data = pretrained_emb\n",
    "model.embed.requires_grad = False\n",
    "optimizer = Adam([param for param in model.parameters() if param.requires_grad], weight_decay=weight_decay)\n",
    "\n",
    "if CUDA:\n",
    "    model.cuda()\n",
    "criterion = nn.L1Loss(reduction='sum')\n",
    "criterion_test = nn.L1Loss(reduction='sum')\n",
    "best_valid_loss = float('inf')\n",
    "lr_scheduler = torch.optim.lr_scheduler.StepLR(optimizer, step_size=1, gamma=0.1)\n",
    "lr_scheduler.step() # for some reason it seems the StepLR needs to be stepped once first\n",
    "train_losses = []\n",
    "valid_losses = []\n",
    "for e in range(MAX_EPOCH):\n",
    "    model.train()\n",
    "    train_iter = tqdm_notebook(train_loader)\n",
    "    train_loss = 0.0\n",
    "    for batch in train_iter:\n",
    "        model.zero_grad()\n",
    "        t, v, a, y, l = batch\n",
    "        batch_size = t.size(0)\n",
    "        if CUDA:\n",
    "            t = t.cuda()\n",
    "            v = v.cuda()\n",
    "            a = a.cuda()\n",
    "            y = y.cuda()\n",
    "            l = l.cuda()\n",
    "        y_tilde = model(t, v, a, l)\n",
    "        loss = criterion(y_tilde, y)\n",
    "        loss.backward()\n",
    "        torch.nn.utils.clip_grad_value_([param for param in model.parameters() if param.requires_grad], grad_clip_value)\n",
    "        optimizer.step()\n",
    "        train_iter.set_description(f\"Epoch {e}/{MAX_EPOCH}, current batch loss: {round(loss.item()/batch_size, 4)}\")\n",
    "        train_loss += loss.item()\n",
    "    train_loss = train_loss / len(train)\n",
    "    train_losses.append(train_loss)\n",
    "    print(f\"Training loss: {round(train_loss, 4)}\")\n",
    "\n",
    "    model.eval()\n",
    "    with torch.no_grad():\n",
    "        valid_loss = 0.0\n",
    "        for batch in dev_loader:\n",
    "            model.zero_grad()\n",
    "            t, v, a, y, l = batch\n",
    "            if CUDA:\n",
    "                t = t.cuda()\n",
    "                v = v.cuda()\n",
    "                a = a.cuda()\n",
    "                y = y.cuda()\n",
    "                l = l.cuda()\n",
    "            y_tilde = model(t, v, a, l)\n",
    "            loss = criterion(y_tilde, y)\n",
    "            valid_loss += loss.item()\n",
    "    \n",
    "    valid_loss = valid_loss/len(dev)\n",
    "    valid_losses.append(valid_loss)\n",
    "    print(f\"Validation loss: {round(valid_loss, 4)}\")\n",
    "    print(f\"Current patience: {curr_patience}, current trial: {num_trials}.\")\n",
    "    if valid_loss <= best_valid_loss:\n",
    "        best_valid_loss = valid_loss\n",
    "        print(\"Found new best model on dev set!\")\n",
    "        torch.save(model.state_dict(), 'model.std')\n",
    "        torch.save(optimizer.state_dict(), 'optim.std')\n",
    "        curr_patience = patience\n",
    "    else:\n",
    "        curr_patience -= 1\n",
    "        if curr_patience <= -1:\n",
    "            print(\"Running out of patience, loading previous best model.\")\n",
    "            num_trials -= 1\n",
    "            curr_patience = patience\n",
    "            model.load_state_dict(torch.load('model.std'))\n",
    "            optimizer.load_state_dict(torch.load('optim.std'))\n",
    "            lr_scheduler.step()\n",
    "            print(f\"Current learning rate: {optimizer.state_dict()['param_groups'][0]['lr']}\")\n",
    "    \n",
    "    if num_trials <= 0:\n",
    "        print(\"Running out of patience, early stopping.\")\n",
    "        break\n",
    "\n",
    "model.load_state_dict(torch.load('model.std'))\n",
    "y_true = []\n",
    "y_pred = []\n",
    "model.eval()\n",
    "with torch.no_grad():\n",
    "    test_loss = 0.0\n",
    "    for batch in test_loader:\n",
    "        model.zero_grad()\n",
    "        t, v, a, y, l = batch\n",
    "        if CUDA:\n",
    "            t = t.cuda()\n",
    "            v = v.cuda()\n",
    "            a = a.cuda()\n",
    "            y = y.cuda()\n",
    "            l = l.cuda()\n",
    "        y_tilde = model(t, v, a, l)\n",
    "        loss = criterion_test(y_tilde, y)\n",
    "        y_true.append(y_tilde.detach().cpu().numpy())\n",
    "        y_pred.append(y.detach().cpu().numpy())\n",
    "        test_loss += loss.item()\n",
    "print(f\"Test set performance: {test_loss/len(test)}\")\n",
    "y_true = np.concatenate(y_true, axis=0)\n",
    "y_pred = np.concatenate(y_pred, axis=0)\n",
    "                  \n",
    "y_true_bin = y_true >= 0\n",
    "y_pred_bin = y_pred >= 0\n",
    "bin_acc = accuracy_score(y_true_bin, y_pred_bin)\n",
    "print(f\"Test set accuracy is {bin_acc}\")"
   ]
  },
  {
   "cell_type": "code",
   "execution_count": null,
   "metadata": {},
   "outputs": [],
   "source": []
  }
 ],
 "metadata": {
  "kernelspec": {
   "display_name": "Python 3",
   "language": "python",
   "name": "python3"
  },
  "language_info": {
   "codemirror_mode": {
    "name": "ipython",
    "version": 3
   },
   "file_extension": ".py",
   "mimetype": "text/x-python",
   "name": "python",
   "nbconvert_exporter": "python",
   "pygments_lexer": "ipython3",
   "version": "3.7.1"
  }
 },
 "nbformat": 4,
 "nbformat_minor": 2
}
